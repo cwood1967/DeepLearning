{
 "cells": [
  {
   "cell_type": "code",
   "execution_count": null,
   "metadata": {},
   "outputs": [],
   "source": [
    "import os\n",
    "import numpy as np\n",
    "import tensorflow as tf\n",
    "from matplotlib import pyplot as plt\n",
    "import pandas as pd\n",
    "import seaborn as sns\n",
    "import umap\n",
    "from sklearn.cluster import AgglomerativeClustering, KMeans\n",
    "from sklearn.preprocessing import LabelBinarizer\n",
    "from sklearn import metrics\n"
   ]
  },
  {
   "cell_type": "code",
   "execution_count": null,
   "metadata": {},
   "outputs": [],
   "source": [
    "\n",
    "cpdir = 'Checkpoints/Snail_Redo_for_metrics/best-2019-08-16-10-24/'\n",
    "checkpoint = 'best-checkpoint-9200'\n",
    "if not cpdir.endswith('/'):\n",
    "    cpdir += '/'"
   ]
  },
  {
   "cell_type": "code",
   "execution_count": null,
   "metadata": {},
   "outputs": [],
   "source": [
    "sval = cpdir.split(\"/\")\n",
    "valdir = \"/\".join(sval[0:-2]) + \"/\"\n",
    "val_images = np.load(valdir + 'validation_images.npy')\n",
    "val_labels = np.load(valdir + 'validation_labels.npy')\n",
    "val_nums = val_labels.argmax(axis=1)"
   ]
  },
  {
   "cell_type": "code",
   "execution_count": null,
   "metadata": {},
   "outputs": [],
   "source": [
    "### load the Image 3C clusters into a dataframe\n",
    "df = pd.read_csv('Data/Snail/ClusterIDs.csv')\n",
    "#print(df.head())\n",
    "\n",
    "# map classes to zero based ids\n",
    "rmin = df.ClusterID.min()\n",
    "rmax = df.ClusterID.max()\n",
    "rmap = {}\n",
    "for i, rc in enumerate(np.arange(rmin, rmax + 1, 1)):\n",
    "    rmap[rc] = i\n",
    "    \n",
    "df['Image3C_Cluster'] = df.ClusterID.map(rmap)\n",
    "### read in the fdl coordinates, not all of the cells have fdl coords\n",
    "fdl = pd.read_csv('Data/Snail/FDL_coords.csv', delimiter=';')\n",
    "fdl['Y'] = -fdl['Y']\n",
    "#print(fdl.head())\n",
    "\n",
    "### join the fdl and df for a dataframe\n",
    "\n",
    "#res.head()\n"
   ]
  },
  {
   "cell_type": "code",
   "execution_count": null,
   "metadata": {},
   "outputs": [],
   "source": []
  },
  {
   "cell_type": "code",
   "execution_count": null,
   "metadata": {},
   "outputs": [],
   "source": [
    "flatui = [\"#9b59b6\", \"#3498db\", \"#95a5a6\", \"#e74c3c\", \"#34495e\", \"#2ecc71\", \"orange\", \"yellow\", \"green\"]\n",
    "#sns.palplot(sns.color_palette(flatui))\n",
    "\n",
    "def scatter(df, hue=None, legend_title=None):\n",
    "\n",
    "    #hue = 'Image3C_Cluster'\n",
    "    fig =plt.figure(figsize=(8,8))\n",
    "    ax = fig.add_subplot(1,1,1)\n",
    "    g = sns.scatterplot(x='X', y='Y', hue=hue, s=4,\n",
    "                    alpha=.9, edgecolor=None,\n",
    "                    palette='Set1',\n",
    "                    legend='full', data=df, ax=ax)\n",
    "\n",
    "    plt.legend(loc='upper left', prop={'size':10}, bbox_to_anchor=(1,1), frameon=False)\n",
    "    #plt.legend(frameon=False)\n",
    "       \n",
    "    "
   ]
  },
  {
   "cell_type": "code",
   "execution_count": null,
   "metadata": {},
   "outputs": [],
   "source": []
  },
  {
   "cell_type": "code",
   "execution_count": null,
   "metadata": {},
   "outputs": [],
   "source": [
    "mm_images = np.memmap('Data/images.mm', dtype=np.float32, mode='r')\n",
    "images = mm_images.reshape((-1, 64, 64, 5))\n",
    "images = images[:,16:48,16:48,[0,2,4]]\n",
    "del mm_images\n",
    "images.shape"
   ]
  },
  {
   "cell_type": "code",
   "execution_count": null,
   "metadata": {},
   "outputs": [],
   "source": [
    "mm_labels = np.memmap('Data/labels.mm', dtype=np.float32, mode='r')\n",
    "labels = mm_labels.reshape((images.shape[0], -1))\n",
    "del mm_labels\n",
    "labels.shape"
   ]
  },
  {
   "cell_type": "code",
   "execution_count": null,
   "metadata": {},
   "outputs": [],
   "source": [
    "imean = images.mean(axis=(1,2), keepdims=True)\n",
    "istd = images.std(axis=(1,2), keepdims=True)\n",
    "images =(images - imean)/istd"
   ]
  },
  {
   "cell_type": "code",
   "execution_count": null,
   "metadata": {},
   "outputs": [],
   "source": [
    "cpdir = 'Checkpoints/Snail_Redo_for_metrics/best-2019-08-16-09-02/'\n",
    "checkpoint = 'best-checkpoint-10800'"
   ]
  },
  {
   "cell_type": "code",
   "execution_count": null,
   "metadata": {},
   "outputs": [],
   "source": [
    "sess = tf.Session()\n",
    "saver = tf.train.import_meta_graph(cpdir + checkpoint + '.meta')\n",
    "saver.restore(sess, cpdir + checkpoint)\n",
    "\n",
    "softmax = sess.graph.get_tensor_by_name('Softmax:0')\n",
    "batch = sess.graph.get_tensor_by_name('Placeholder:0')"
   ]
  },
  {
   "cell_type": "code",
   "execution_count": null,
   "metadata": {},
   "outputs": [],
   "source": [
    "vsm = sess.run(softmax, feed_dict={batch:images})\n",
    "vsm_nums = vsm.argmax(axis=1)\n",
    "\n",
    "df['predicted'] = vsm_nums"
   ]
  },
  {
   "cell_type": "code",
   "execution_count": null,
   "metadata": {},
   "outputs": [],
   "source": [
    "nums = labels.argmax(axis=1)\n",
    "\n",
    "metrics.accuracy_score(nums, vsm_nums), metrics.accuracy_score(nums, df['Image3C_Cluster'])\n"
   ]
  },
  {
   "cell_type": "code",
   "execution_count": null,
   "metadata": {},
   "outputs": [],
   "source": [
    "print(metrics.classification_report(nums, vsm_nums))"
   ]
  },
  {
   "cell_type": "code",
   "execution_count": null,
   "metadata": {},
   "outputs": [],
   "source": [
    "max_sm = vsm.max(axis=1)\n",
    "df['max_sm'] = max_sm"
   ]
  },
  {
   "cell_type": "code",
   "execution_count": null,
   "metadata": {},
   "outputs": [],
   "source": [
    "df['match'] = df.predicted == df['Image3C_Cluster']"
   ]
  },
  {
   "cell_type": "code",
   "execution_count": null,
   "metadata": {},
   "outputs": [],
   "source": [
    "def cbin(x):\n",
    "    return(int(10*x))\n",
    "\n",
    "df['cbin'] = df.max_sm.map(cbin)/10"
   ]
  },
  {
   "cell_type": "code",
   "execution_count": null,
   "metadata": {},
   "outputs": [],
   "source": [
    "res = fdl.set_index('EventID').join(df.set_index('EventID'))"
   ]
  },
  {
   "cell_type": "code",
   "execution_count": null,
   "metadata": {},
   "outputs": [],
   "source": [
    "plt.figure(figsize=(8,8))\n",
    "scatter(res, hue='predicted')\n",
    "plt.savefig('C9-plots/predicted.svg', bbox_inches='tight')"
   ]
  },
  {
   "cell_type": "code",
   "execution_count": null,
   "metadata": {},
   "outputs": [],
   "source": [
    "res0 = res[res.max_sm > .8]\n",
    "resx = res[res.max_sm < .5]\n",
    "len(res0), len(resx)"
   ]
  },
  {
   "cell_type": "code",
   "execution_count": null,
   "metadata": {},
   "outputs": [],
   "source": [
    "scatter(res0, hue='predicted')\n",
    "plt.savefig('C9-plots/predicted_high_prob.svg', bbox_inches='tight')"
   ]
  },
  {
   "cell_type": "code",
   "execution_count": null,
   "metadata": {},
   "outputs": [],
   "source": [
    "scatter(resx, hue='predicted')\n",
    "plt.savefig('C9-plots/predicted_low_prob.svg', bbox_inches='tight')"
   ]
  },
  {
   "cell_type": "code",
   "execution_count": null,
   "metadata": {},
   "outputs": [],
   "source": [
    "fig =plt.figure(figsize=(8,8))\n",
    "\n",
    "sns.scatterplot(x='X', y='Y', hue='cbin',s=6, #size='max_sm',\n",
    "                data=res[res.match == True], alpha=.9, legend='full',\n",
    "                palette=sns.color_palette(\"Blues\", len(res.cbin.unique())),\n",
    "                edgecolor=None)\n",
    "\n",
    "plt.legend(loc='upper left', prop={'size':10}, bbox_to_anchor=(1,1), frameon=False)\n",
    "\n",
    "plt.savefig('C9-plots/matched_true_prob.svg', bbox_inches='tight')\n"
   ]
  },
  {
   "cell_type": "code",
   "execution_count": null,
   "metadata": {},
   "outputs": [],
   "source": [
    "fig =plt.figure(figsize=(8,8))\n",
    "\n",
    "sns.scatterplot(x='X', y='Y', hue='cbin',s=6, #size='max_sm',\n",
    "                data=res[res.match == False], alpha=.9, legend='full',\n",
    "                palette=sns.color_palette(\"Greens\", len(res.cbin.unique())),\n",
    "                edgecolor=None)\n",
    "\n",
    "plt.legend(loc='upper left', prop={'size':10}, bbox_to_anchor=(1,1), frameon=False)\n",
    "\n",
    "plt.savefig('C9-plots/matched_false_prob.svg', bbox_inches='tight')\n"
   ]
  },
  {
   "cell_type": "code",
   "execution_count": null,
   "metadata": {},
   "outputs": [],
   "source": [
    "fig =plt.figure(figsize=(8,8))\n",
    "\n",
    "sns.scatterplot(x='X', y='Y', hue='predicted',s=6, #size='max_sm',\n",
    "                data=res[res.match == True], alpha=.9, legend='full',\n",
    "                palette='Set1',\n",
    "                edgecolor=None)\n",
    "\n",
    "plt.legend(loc='upper left', prop={'size':10}, bbox_to_anchor=(1,1), frameon=False)\n",
    "\n",
    "plt.savefig('C9-plots/matched_true_class.svg', bbox_inches='tight')\n"
   ]
  },
  {
   "cell_type": "code",
   "execution_count": null,
   "metadata": {},
   "outputs": [],
   "source": [
    "fig =plt.figure(figsize=(8,8))\n",
    "\n",
    "sns.scatterplot(x='X', y='Y', hue='predicted',s=6, #size='max_sm',\n",
    "                data=res[res.match == False], alpha=.9, legend='full',\n",
    "                palette='Set1',\n",
    "                edgecolor=None)\n",
    "\n",
    "plt.legend(loc='upper left', prop={'size':10}, bbox_to_anchor=(1,1), frameon=False)\n",
    "\n",
    "plt.savefig('C9-plots/matched_false_class.svg', bbox_inches='tight')\n"
   ]
  },
  {
   "cell_type": "code",
   "execution_count": null,
   "metadata": {},
   "outputs": [],
   "source": [
    "testlossdf = pd.read_csv('Loss_acc_plots/Snail9-2/run-test-tag-loss.csv')\n",
    "trainlossdf = pd.read_csv('Loss_acc_plots/Snail9-2/run-train-tag-loss.csv')\n",
    "testaccdf = pd.read_csv('Loss_acc_plots/Snail9-2/run-test-tag-accuracy_1.csv')\n",
    "trainaccdf = pd.read_csv('Loss_acc_plots/Snail9-2/run-train-tag-accuracy_1.csv')"
   ]
  },
  {
   "cell_type": "code",
   "execution_count": null,
   "metadata": {},
   "outputs": [],
   "source": [
    "plt.plot(trainlossdf['Step'], trainlossdf['Value'], label=\"Training\", color='C0')\n",
    "plt.plot(testlossdf['Step'], testlossdf['Value'], label=\"Test\", color='C1')\n",
    "\n",
    "plt.xlim(-200, 12000)\n",
    "plt.xlabel(\"Iteration step\")\n",
    "plt.ylabel(\"Loss\")\n",
    "legend = plt.legend(loc='upper left', prop={'size':10},\n",
    "                    bbox_to_anchor=(.25,1), framealpha=0.0)\n",
    "sns.despine()\n",
    "plt.savefig('C9-plots/training_loss.svg', bbox_inches='tight')\n"
   ]
  },
  {
   "cell_type": "code",
   "execution_count": null,
   "metadata": {},
   "outputs": [],
   "source": [
    "plt.plot(testaccdf['Step'], testaccdf['Value'], label='Test')\n",
    "plt.plot(trainaccdf['Step'], trainaccdf['Value'], label='Training')\n",
    "plt.xlim(-200, 12000)\n",
    "plt.xlabel(\"Iteration step\")\n",
    "plt.ylabel(\"Accuracy\")\n",
    "plt.legend(framealpha=0.0)\n",
    "sns.despine()\n",
    "plt.savefig('C9-plots/training_accuracy.svg', bbox_inches='tight')\n"
   ]
  },
  {
   "cell_type": "code",
   "execution_count": null,
   "metadata": {},
   "outputs": [],
   "source": []
  }
 ],
 "metadata": {
  "kernelspec": {
   "display_name": "Environment (conda_deep)",
   "language": "python",
   "name": "conda_deep"
  },
  "language_info": {
   "codemirror_mode": {
    "name": "ipython",
    "version": 3
   },
   "file_extension": ".py",
   "mimetype": "text/x-python",
   "name": "python",
   "nbconvert_exporter": "python",
   "pygments_lexer": "ipython3",
   "version": "3.6.8"
  }
 },
 "nbformat": 4,
 "nbformat_minor": 2
}
