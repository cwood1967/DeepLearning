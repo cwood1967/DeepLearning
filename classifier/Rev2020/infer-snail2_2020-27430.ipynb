{
 "cells": [
  {
   "cell_type": "code",
   "execution_count": 1,
   "metadata": {},
   "outputs": [],
   "source": [
    "import pickle\n",
    "\n",
    "import numpy as np\n",
    "import tensorflow as tf\n",
    "from matplotlib import pyplot as plt\n",
    "import pandas as pd\n",
    "import seaborn as sns"
   ]
  },
  {
   "cell_type": "code",
   "execution_count": 2,
   "metadata": {},
   "outputs": [
    {
     "output_type": "execute_result",
     "data": {
      "text/plain": "'1.15.0'"
     },
     "metadata": {},
     "execution_count": 2
    }
   ],
   "source": [
    "tf.__version__"
   ]
  },
  {
   "cell_type": "code",
   "execution_count": 3,
   "metadata": {},
   "outputs": [],
   "source": [
    "\n",
    "datadir = 'Data/27430/'"
   ]
  },
  {
   "cell_type": "code",
   "execution_count": 4,
   "metadata": {
    "tags": []
   },
   "outputs": [
    {
     "output_type": "stream",
     "name": "stdout",
     "text": "Data/27430/27430_Snail2.mm (91, 64, 64, 3)\nData/27430/27430_Snail4.mm (29, 64, 64, 3)\nData/27430/27430_Snail1.mm (62, 64, 64, 3)\nData/27430/27430_Snail5.mm (38, 64, 64, 3)\n"
    }
   ],
   "source": [
    "import glob\n",
    "\n",
    "def read_mm(mfile):\n",
    "    hm=np.memmap(mfile, dtype=np.int32, shape=(4,))\n",
    "    shape = tuple(hm)\n",
    "    del hm\n",
    "\n",
    "    mm = np.memmap(mfile, dtype=np.float32, shape=shape)\n",
    "    mm.shape\n",
    "    #del mm\n",
    "    amm = mm[:,:,:,[2, 0, 4, 0, 1]]\n",
    "    amm = amm[:,:,:, [0,2,4]]\n",
    "    del mm\n",
    "    return amm\n",
    "\n",
    "def read_data(globpattern):\n",
    "    ifiles = glob.glob(globpattern) \n",
    "    ammdict = dict()\n",
    "    for i in ifiles:\n",
    "        amm = read_mm(i)\n",
    "        amm_m = amm.mean(axis=(1,2), keepdims=True)\n",
    "        amm_std = amm.std(axis=(1,2), keepdims=True)\n",
    "        amm = (amm - amm_m)/amm_std\n",
    "        print(i, amm.shape)\n",
    "        ammdict[i.split('/')[-1]] = amm\n",
    "   \n",
    "    return ammdict\n",
    "\n",
    "ammdict = read_data('Data/27430/*.mm')"
   ]
  },
  {
   "cell_type": "code",
   "execution_count": 5,
   "metadata": {},
   "outputs": [
    {
     "output_type": "execute_result",
     "data": {
      "text/plain": "dict_keys(['27430_Snail2.mm', '27430_Snail4.mm', '27430_Snail1.mm', '27430_Snail5.mm'])"
     },
     "metadata": {},
     "execution_count": 5
    }
   ],
   "source": [
    "ammdict.keys()"
   ]
  },
  {
   "cell_type": "code",
   "execution_count": 6,
   "metadata": {},
   "outputs": [],
   "source": [
    "tf.reset_default_graph()\n",
    "#dud = tf.get_variable('v1', shape=[2])\n",
    "sess = tf.Session()\n"
   ]
  },
  {
   "cell_type": "code",
   "execution_count": 7,
   "metadata": {
    "tags": []
   },
   "outputs": [
    {
     "output_type": "execute_result",
     "data": {
      "text/plain": "['27430_Snail1.mm', '27430_Snail2.mm', '27430_Snail4.mm', '27430_Snail5.mm']"
     },
     "metadata": {},
     "execution_count": 7
    }
   ],
   "source": [
    "mmkeys = sorted(list(ammdict.keys()))\n",
    "mmkeys\n",
    "#plt.imshow(ammdict[mmkeys[0]][4,:,:,0], cmap='gray')"
   ]
  },
  {
   "cell_type": "code",
   "execution_count": 8,
   "metadata": {
    "tags": []
   },
   "outputs": [
    {
     "output_type": "stream",
     "name": "stdout",
     "text": "WARNING:tensorflow:The saved meta_graph is possibly from an older release:\n'metric_variables' collection should be of type 'byte_list', but instead is of type 'node_list'.\nINFO:tensorflow:Restoring parameters from ../Checkpoints/Snail_Redo_for_metrics_7_classes/best-2019-08-16-10-46/best-checkpoint-21300\n"
    }
   ],
   "source": [
    "cpdir = '../Checkpoints/Snail_Redo_for_metrics_7_classes/best-2019-08-16-10-46/'\n",
    "checkpoint = 'best-checkpoint-21300'\n",
    "if not cpdir.endswith('/'):\n",
    "    cpdir += '/'\n",
    "\n",
    "cpmeta = cpdir + checkpoint + '.meta'\n",
    "saver = tf.train.import_meta_graph(cpmeta)\n",
    "saver.restore(sess, cpdir + checkpoint)"
   ]
  },
  {
   "cell_type": "code",
   "execution_count": 9,
   "metadata": {
    "scrolled": true,
    "tags": []
   },
   "outputs": [
    {
     "output_type": "stream",
     "name": "stdout",
     "text": "dense_1/biasadd\ndense_1/BiasAdd [<tf.Tensor 'dense_1/BiasAdd:0' shape=(?, 128) dtype=float32>]\ngradients/dense_1/BiasAdd_grad/BiasAddGrad [<tf.Tensor 'gradients/dense_1/BiasAdd_grad/BiasAddGrad:0' shape=(128,) dtype=float32>]\ngradients/dense_1/BiasAdd_grad/tuple/group_deps []\ngradients/dense_1/BiasAdd_grad/tuple/control_dependency [<tf.Tensor 'gradients/dense_1/BiasAdd_grad/tuple/control_dependency:0' shape=(?, 128) dtype=float32>]\ngradients/dense_1/BiasAdd_grad/tuple/control_dependency_1 [<tf.Tensor 'gradients/dense_1/BiasAdd_grad/tuple/control_dependency_1:0' shape=(128,) dtype=float32>]\n"
    }
   ],
   "source": [
    "pq = 'dense_1/BiasAdd'.lower()\n",
    "print(pq)\n",
    "g = tf.get_default_graph()\n",
    "ops = g.get_operations()\n",
    "for op in ops:\n",
    "    if pq in op.name.lower():\n",
    "        print(op.name, op.outputs)"
   ]
  },
  {
   "cell_type": "code",
   "execution_count": 10,
   "metadata": {},
   "outputs": [],
   "source": [
    "a = sess.graph.get_tensor_by_name('dense_1/BiasAdd:0')\n",
    "b = sess.graph.get_tensor_by_name('LeakyRelu_13:0') #'dense_1/BiasAdd:0')\n",
    "sm = sess.graph.get_tensor_by_name('Softmax:0')\n",
    "\n",
    "softmax = sess.graph.get_tensor_by_name('Softmax:0')\n",
    "batch = sess.graph.get_tensor_by_name('Placeholder:0')"
   ]
  },
  {
   "cell_type": "code",
   "execution_count": 11,
   "metadata": {},
   "outputs": [
    {
     "output_type": "execute_result",
     "data": {
      "text/plain": "(<tf.Tensor 'dense_1/BiasAdd:0' shape=(?, 128) dtype=float32>,\n <tf.Tensor 'LeakyRelu_13:0' shape=(?, 128) dtype=float32>,\n <tf.Tensor 'Softmax:0' shape=(?, 7) dtype=float32>)"
     },
     "metadata": {},
     "execution_count": 11
    }
   ],
   "source": [
    "a, b, sm"
   ]
  },
  {
   "cell_type": "code",
   "execution_count": 12,
   "metadata": {},
   "outputs": [],
   "source": [
    "#data.max(axis=(0,1,2)), data.min(axis=(0,1,2))"
   ]
  },
  {
   "cell_type": "code",
   "execution_count": 13,
   "metadata": {
    "tags": []
   },
   "outputs": [
    {
     "output_type": "stream",
     "name": "stdout",
     "text": "91\n91\n29\n29\n62\n62\n38\n38\n"
    }
   ],
   "source": [
    "for k, v in ammdict.items():\n",
    "    #print(k, v.shape)\n",
    "    amm = ammdict[k]\n",
    "    print(len(amm))\n",
    "    mask = np.any(np.isnan(amm), axis=(1,2,3))\n",
    "    amm = amm[~mask]\n",
    "    print(len(amm))\n",
    "    ammdict[k] = amm"
   ]
  },
  {
   "cell_type": "code",
   "execution_count": 14,
   "metadata": {
    "tags": []
   },
   "outputs": [
    {
     "output_type": "stream",
     "name": "stdout",
     "text": "Data/Snail1_Phago_16_Nuc_processed.csv\n   ClusterID  EventID                       FileName  index_in_file\n0      27439    28963  Snail1_Phago_16_Nuc_processed              0\n1      27439    28964  Snail1_Phago_16_Nuc_processed              1\n2      27445    28965  Snail1_Phago_16_Nuc_processed              2\n3      27444    28966  Snail1_Phago_16_Nuc_processed              3\n4      27426    28967  Snail1_Phago_16_Nuc_processed              4\nData/Snail4_Phago_19_Nuc_processed.csv\n   ClusterID  EventID                       FileName  index_in_file\n0      27433   132567  Snail4_Phago_19_Nuc_processed              0\n1      27439   132568  Snail4_Phago_19_Nuc_processed              1\n2      27435   132569  Snail4_Phago_19_Nuc_processed              2\n3      27439   132570  Snail4_Phago_19_Nuc_processed              3\n4      27435   132571  Snail4_Phago_19_Nuc_processed              4\nData/Snail2_Phago_17_Nuc_processed.csv\n   ClusterID  EventID                       FileName  index_in_file\n0      27439    67240  Snail2_Phago_17_Nuc_processed              0\n1      27426    67241  Snail2_Phago_17_Nuc_processed              1\n2      27426    67242  Snail2_Phago_17_Nuc_processed              2\n3      27445    67243  Snail2_Phago_17_Nuc_processed              3\n4      27435    67244  Snail2_Phago_17_Nuc_processed              4\nData/Snail5_Phago_20_Nuc_processed.csv\n   ClusterID  EventID                       FileName  index_in_file\n0      27439   171914  Snail5_Phago_20_Nuc_processed              0\n1      27426   171915  Snail5_Phago_20_Nuc_processed              1\n2      27439   171916  Snail5_Phago_20_Nuc_processed              2\n3      27441   171917  Snail5_Phago_20_Nuc_processed              3\n4      27426   171918  Snail5_Phago_20_Nuc_processed              4\n"
    }
   ],
   "source": [
    "csvs = glob.glob('Data/Snail*.csv')\n",
    "\n",
    "cluster_list = list()\n",
    "for csv in csvs:\n",
    "    print(csv)\n",
    "    _clusters = pd.read_csv(csv, usecols=[0,1,2,3])\n",
    "    _clusters.columns = ['ClusterID', 'EventID', 'FileName', 'index_in_file']\n",
    "    print(_clusters.head())\n",
    "    cluster_list.append(_clusters)\n",
    "\n",
    "clustdf = pd.concat(cluster_list)\n"
   ]
  },
  {
   "cell_type": "code",
   "execution_count": 15,
   "metadata": {
    "tags": []
   },
   "outputs": [
    {
     "output_type": "execute_result",
     "data": {
      "text/plain": "(220, 4)"
     },
     "metadata": {},
     "execution_count": 15
    }
   ],
   "source": [
    "pkls = glob.glob(\"Data/*.pkl\")\n",
    "map_list = list()\n",
    "for pf in pkls:\n",
    "    with open(pf, 'rb') as pkl:\n",
    "        _p = pickle.load(pkl)\n",
    "        _map = pd.DataFrame.from_dict(_p, orient='index').reset_index()\n",
    "        _map.columns = ['mmindex', 'index_in_file']\n",
    "        _map['pkl'] = pf\n",
    "        _map['replicate'] = pf.split('_')[1]\n",
    "        map_list.append(_map)\n",
    "\n",
    "mapdf = pd.concat(map_list)\n",
    "mapdf.shape"
   ]
  },
  {
   "cell_type": "code",
   "execution_count": 17,
   "metadata": {},
   "outputs": [
    {
     "output_type": "execute_result",
     "data": {
      "text/plain": "((39206, 5), (228, 5))"
     },
     "metadata": {},
     "execution_count": 17
    }
   ],
   "source": [
    "clustdf['replicate'] = clustdf.FileName.map(lambda x: x.split('_')[0])\n",
    "clustdf.shape, clustdf[clustdf.ClusterID == 27430].shape"
   ]
  },
  {
   "cell_type": "code",
   "execution_count": 229,
   "metadata": {},
   "outputs": [
    {
     "output_type": "execute_result",
     "data": {
      "text/plain": "(20,)"
     },
     "metadata": {},
     "execution_count": 229
    }
   ],
   "source": [
    "clustdf.ClusterID.unique().shape"
   ]
  },
  {
   "cell_type": "code",
   "execution_count": 19,
   "metadata": {},
   "outputs": [],
   "source": [
    "rmap = {p[6:12]:p for p in list(ammdict.keys())}\n",
    "clustdf['mmfile'] = clustdf.replicate.map(rmap)\n"
   ]
  },
  {
   "cell_type": "code",
   "execution_count": 38,
   "metadata": {},
   "outputs": [
    {
     "output_type": "execute_result",
     "data": {
      "text/plain": "(220, 8)"
     },
     "metadata": {},
     "execution_count": 38
    }
   ],
   "source": [
    "df = clustdf.merge(mapdf, on=['index_in_file', 'replicate'])\n",
    "df.shape"
   ]
  },
  {
   "cell_type": "code",
   "execution_count": 39,
   "metadata": {},
   "outputs": [
    {
     "output_type": "execute_result",
     "data": {
      "text/plain": "     ClusterID  EventID                       FileName  index_in_file  \\\n215      27430   180527  Snail5_Phago_20_Nuc_processed           8613   \n216      27430   181243  Snail5_Phago_20_Nuc_processed           9329   \n217      27430   181327  Snail5_Phago_20_Nuc_processed           9413   \n218      27430   181711  Snail5_Phago_20_Nuc_processed           9797   \n219      27430   181778  Snail5_Phago_20_Nuc_processed           9864   \n\n    replicate           mmfile  mmindex                          pkl  \n215    Snail5  27430_Snail5.mm       33  Data/27430_Snail5_index.pkl  \n216    Snail5  27430_Snail5.mm       34  Data/27430_Snail5_index.pkl  \n217    Snail5  27430_Snail5.mm       35  Data/27430_Snail5_index.pkl  \n218    Snail5  27430_Snail5.mm       36  Data/27430_Snail5_index.pkl  \n219    Snail5  27430_Snail5.mm       37  Data/27430_Snail5_index.pkl  ",
      "text/html": "<div>\n<style scoped>\n    .dataframe tbody tr th:only-of-type {\n        vertical-align: middle;\n    }\n\n    .dataframe tbody tr th {\n        vertical-align: top;\n    }\n\n    .dataframe thead th {\n        text-align: right;\n    }\n</style>\n<table border=\"1\" class=\"dataframe\">\n  <thead>\n    <tr style=\"text-align: right;\">\n      <th></th>\n      <th>ClusterID</th>\n      <th>EventID</th>\n      <th>FileName</th>\n      <th>index_in_file</th>\n      <th>replicate</th>\n      <th>mmfile</th>\n      <th>mmindex</th>\n      <th>pkl</th>\n    </tr>\n  </thead>\n  <tbody>\n    <tr>\n      <th>215</th>\n      <td>27430</td>\n      <td>180527</td>\n      <td>Snail5_Phago_20_Nuc_processed</td>\n      <td>8613</td>\n      <td>Snail5</td>\n      <td>27430_Snail5.mm</td>\n      <td>33</td>\n      <td>Data/27430_Snail5_index.pkl</td>\n    </tr>\n    <tr>\n      <th>216</th>\n      <td>27430</td>\n      <td>181243</td>\n      <td>Snail5_Phago_20_Nuc_processed</td>\n      <td>9329</td>\n      <td>Snail5</td>\n      <td>27430_Snail5.mm</td>\n      <td>34</td>\n      <td>Data/27430_Snail5_index.pkl</td>\n    </tr>\n    <tr>\n      <th>217</th>\n      <td>27430</td>\n      <td>181327</td>\n      <td>Snail5_Phago_20_Nuc_processed</td>\n      <td>9413</td>\n      <td>Snail5</td>\n      <td>27430_Snail5.mm</td>\n      <td>35</td>\n      <td>Data/27430_Snail5_index.pkl</td>\n    </tr>\n    <tr>\n      <th>218</th>\n      <td>27430</td>\n      <td>181711</td>\n      <td>Snail5_Phago_20_Nuc_processed</td>\n      <td>9797</td>\n      <td>Snail5</td>\n      <td>27430_Snail5.mm</td>\n      <td>36</td>\n      <td>Data/27430_Snail5_index.pkl</td>\n    </tr>\n    <tr>\n      <th>219</th>\n      <td>27430</td>\n      <td>181778</td>\n      <td>Snail5_Phago_20_Nuc_processed</td>\n      <td>9864</td>\n      <td>Snail5</td>\n      <td>27430_Snail5.mm</td>\n      <td>37</td>\n      <td>Data/27430_Snail5_index.pkl</td>\n    </tr>\n  </tbody>\n</table>\n</div>"
     },
     "metadata": {},
     "execution_count": 39
    }
   ],
   "source": [
    "df.tail()"
   ]
  },
  {
   "cell_type": "code",
   "execution_count": 40,
   "metadata": {},
   "outputs": [
    {
     "output_type": "execute_result",
     "data": {
      "text/plain": "(220, 128)"
     },
     "metadata": {},
     "execution_count": 40
    }
   ],
   "source": [
    "images = sess.graph.get_tensor_by_name('Placeholder:0')\n",
    "adflist = list()\n",
    "d2list = list()\n",
    "for k, v in ammdict.items():\n",
    "    d2, r2, p2 = sess.run([a, b, sm], feed_dict={images:v[:, 16:48, 16:48, :]})\n",
    "    d2list.append(d2)\n",
    "    p2x = np.argmax(p2, axis=-1)\n",
    "    s = k.split('_')\n",
    "    mmfile = k #\"{} {} {}\".format(s[1], s[2], s[3][0])\n",
    "    xdf = pd.DataFrame({'sm':p2x, 'smmax':p2.max(axis=-1), 'mmfile':mmfile})\n",
    "    adflist.append(xdf)\n",
    "\n",
    "adf = pd.concat(adflist, axis=0).reset_index()\n",
    "adf = adf.rename(columns={'index':'mmindex'})\n",
    "d2array = np.concatenate(d2list)\n",
    "d2array.shape"
   ]
  },
  {
   "cell_type": "code",
   "execution_count": 41,
   "metadata": {},
   "outputs": [
    {
     "output_type": "execute_result",
     "data": {
      "text/plain": "   mmindex  sm     smmax           mmfile\n0        0   0  0.976930  27430_Snail2.mm\n1        1   2  0.993478  27430_Snail2.mm\n2        2   0  0.998402  27430_Snail2.mm\n3        3   4  0.878664  27430_Snail2.mm\n4        4   0  0.999467  27430_Snail2.mm",
      "text/html": "<div>\n<style scoped>\n    .dataframe tbody tr th:only-of-type {\n        vertical-align: middle;\n    }\n\n    .dataframe tbody tr th {\n        vertical-align: top;\n    }\n\n    .dataframe thead th {\n        text-align: right;\n    }\n</style>\n<table border=\"1\" class=\"dataframe\">\n  <thead>\n    <tr style=\"text-align: right;\">\n      <th></th>\n      <th>mmindex</th>\n      <th>sm</th>\n      <th>smmax</th>\n      <th>mmfile</th>\n    </tr>\n  </thead>\n  <tbody>\n    <tr>\n      <th>0</th>\n      <td>0</td>\n      <td>0</td>\n      <td>0.976930</td>\n      <td>27430_Snail2.mm</td>\n    </tr>\n    <tr>\n      <th>1</th>\n      <td>1</td>\n      <td>2</td>\n      <td>0.993478</td>\n      <td>27430_Snail2.mm</td>\n    </tr>\n    <tr>\n      <th>2</th>\n      <td>2</td>\n      <td>0</td>\n      <td>0.998402</td>\n      <td>27430_Snail2.mm</td>\n    </tr>\n    <tr>\n      <th>3</th>\n      <td>3</td>\n      <td>4</td>\n      <td>0.878664</td>\n      <td>27430_Snail2.mm</td>\n    </tr>\n    <tr>\n      <th>4</th>\n      <td>4</td>\n      <td>0</td>\n      <td>0.999467</td>\n      <td>27430_Snail2.mm</td>\n    </tr>\n  </tbody>\n</table>\n</div>"
     },
     "metadata": {},
     "execution_count": 41
    }
   ],
   "source": [
    "adf.head()\n"
   ]
  },
  {
   "cell_type": "code",
   "execution_count": 42,
   "metadata": {},
   "outputs": [
    {
     "output_type": "execute_result",
     "data": {
      "text/plain": "(220, 10)"
     },
     "metadata": {},
     "execution_count": 42
    }
   ],
   "source": [
    "df = df.merge(adf, on=['mmfile', 'mmindex'])\n",
    "df.shape"
   ]
  },
  {
   "cell_type": "code",
   "execution_count": 43,
   "metadata": {},
   "outputs": [
    {
     "output_type": "execute_result",
     "data": {
      "text/plain": "array([126,   1,   2,  20,  37,  12,  22])"
     },
     "metadata": {},
     "execution_count": 43
    }
   ],
   "source": [
    "np.histogram(df['sm'], bins=[0,.5, 1.5, 2.5, 3.5, 4.5, 5.5, 6.5])[0]"
   ]
  },
  {
   "cell_type": "code",
   "execution_count": 44,
   "metadata": {},
   "outputs": [
    {
     "output_type": "execute_result",
     "data": {
      "text/plain": "     ClusterID  EventID                       FileName  index_in_file  \\\n0        27430    29057  Snail1_Phago_16_Nuc_processed             94   \n1        27430    29156  Snail1_Phago_16_Nuc_processed            193   \n2        27430    29164  Snail1_Phago_16_Nuc_processed            201   \n3        27430    29177  Snail1_Phago_16_Nuc_processed            214   \n4        27430    29422  Snail1_Phago_16_Nuc_processed            459   \n..         ...      ...                            ...            ...   \n215      27430   180527  Snail5_Phago_20_Nuc_processed           8613   \n216      27430   181243  Snail5_Phago_20_Nuc_processed           9329   \n217      27430   181327  Snail5_Phago_20_Nuc_processed           9413   \n218      27430   181711  Snail5_Phago_20_Nuc_processed           9797   \n219      27430   181778  Snail5_Phago_20_Nuc_processed           9864   \n\n    replicate           mmfile  mmindex                          pkl  sm  \\\n0      Snail1  27430_Snail1.mm        0  Data/27430_Snail1_index.pkl   5   \n1      Snail1  27430_Snail1.mm        1  Data/27430_Snail1_index.pkl   0   \n2      Snail1  27430_Snail1.mm        2  Data/27430_Snail1_index.pkl   0   \n3      Snail1  27430_Snail1.mm        3  Data/27430_Snail1_index.pkl   3   \n4      Snail1  27430_Snail1.mm        4  Data/27430_Snail1_index.pkl   0   \n..        ...              ...      ...                          ...  ..   \n215    Snail5  27430_Snail5.mm       33  Data/27430_Snail5_index.pkl   4   \n216    Snail5  27430_Snail5.mm       34  Data/27430_Snail5_index.pkl   4   \n217    Snail5  27430_Snail5.mm       35  Data/27430_Snail5_index.pkl   4   \n218    Snail5  27430_Snail5.mm       36  Data/27430_Snail5_index.pkl   0   \n219    Snail5  27430_Snail5.mm       37  Data/27430_Snail5_index.pkl   4   \n\n        smmax  \n0    0.580609  \n1    0.982766  \n2    0.977967  \n3    0.997315  \n4    0.998600  \n..        ...  \n215  0.904769  \n216  0.983111  \n217  0.879519  \n218  0.683564  \n219  0.966462  \n\n[220 rows x 10 columns]",
      "text/html": "<div>\n<style scoped>\n    .dataframe tbody tr th:only-of-type {\n        vertical-align: middle;\n    }\n\n    .dataframe tbody tr th {\n        vertical-align: top;\n    }\n\n    .dataframe thead th {\n        text-align: right;\n    }\n</style>\n<table border=\"1\" class=\"dataframe\">\n  <thead>\n    <tr style=\"text-align: right;\">\n      <th></th>\n      <th>ClusterID</th>\n      <th>EventID</th>\n      <th>FileName</th>\n      <th>index_in_file</th>\n      <th>replicate</th>\n      <th>mmfile</th>\n      <th>mmindex</th>\n      <th>pkl</th>\n      <th>sm</th>\n      <th>smmax</th>\n    </tr>\n  </thead>\n  <tbody>\n    <tr>\n      <th>0</th>\n      <td>27430</td>\n      <td>29057</td>\n      <td>Snail1_Phago_16_Nuc_processed</td>\n      <td>94</td>\n      <td>Snail1</td>\n      <td>27430_Snail1.mm</td>\n      <td>0</td>\n      <td>Data/27430_Snail1_index.pkl</td>\n      <td>5</td>\n      <td>0.580609</td>\n    </tr>\n    <tr>\n      <th>1</th>\n      <td>27430</td>\n      <td>29156</td>\n      <td>Snail1_Phago_16_Nuc_processed</td>\n      <td>193</td>\n      <td>Snail1</td>\n      <td>27430_Snail1.mm</td>\n      <td>1</td>\n      <td>Data/27430_Snail1_index.pkl</td>\n      <td>0</td>\n      <td>0.982766</td>\n    </tr>\n    <tr>\n      <th>2</th>\n      <td>27430</td>\n      <td>29164</td>\n      <td>Snail1_Phago_16_Nuc_processed</td>\n      <td>201</td>\n      <td>Snail1</td>\n      <td>27430_Snail1.mm</td>\n      <td>2</td>\n      <td>Data/27430_Snail1_index.pkl</td>\n      <td>0</td>\n      <td>0.977967</td>\n    </tr>\n    <tr>\n      <th>3</th>\n      <td>27430</td>\n      <td>29177</td>\n      <td>Snail1_Phago_16_Nuc_processed</td>\n      <td>214</td>\n      <td>Snail1</td>\n      <td>27430_Snail1.mm</td>\n      <td>3</td>\n      <td>Data/27430_Snail1_index.pkl</td>\n      <td>3</td>\n      <td>0.997315</td>\n    </tr>\n    <tr>\n      <th>4</th>\n      <td>27430</td>\n      <td>29422</td>\n      <td>Snail1_Phago_16_Nuc_processed</td>\n      <td>459</td>\n      <td>Snail1</td>\n      <td>27430_Snail1.mm</td>\n      <td>4</td>\n      <td>Data/27430_Snail1_index.pkl</td>\n      <td>0</td>\n      <td>0.998600</td>\n    </tr>\n    <tr>\n      <th>...</th>\n      <td>...</td>\n      <td>...</td>\n      <td>...</td>\n      <td>...</td>\n      <td>...</td>\n      <td>...</td>\n      <td>...</td>\n      <td>...</td>\n      <td>...</td>\n      <td>...</td>\n    </tr>\n    <tr>\n      <th>215</th>\n      <td>27430</td>\n      <td>180527</td>\n      <td>Snail5_Phago_20_Nuc_processed</td>\n      <td>8613</td>\n      <td>Snail5</td>\n      <td>27430_Snail5.mm</td>\n      <td>33</td>\n      <td>Data/27430_Snail5_index.pkl</td>\n      <td>4</td>\n      <td>0.904769</td>\n    </tr>\n    <tr>\n      <th>216</th>\n      <td>27430</td>\n      <td>181243</td>\n      <td>Snail5_Phago_20_Nuc_processed</td>\n      <td>9329</td>\n      <td>Snail5</td>\n      <td>27430_Snail5.mm</td>\n      <td>34</td>\n      <td>Data/27430_Snail5_index.pkl</td>\n      <td>4</td>\n      <td>0.983111</td>\n    </tr>\n    <tr>\n      <th>217</th>\n      <td>27430</td>\n      <td>181327</td>\n      <td>Snail5_Phago_20_Nuc_processed</td>\n      <td>9413</td>\n      <td>Snail5</td>\n      <td>27430_Snail5.mm</td>\n      <td>35</td>\n      <td>Data/27430_Snail5_index.pkl</td>\n      <td>4</td>\n      <td>0.879519</td>\n    </tr>\n    <tr>\n      <th>218</th>\n      <td>27430</td>\n      <td>181711</td>\n      <td>Snail5_Phago_20_Nuc_processed</td>\n      <td>9797</td>\n      <td>Snail5</td>\n      <td>27430_Snail5.mm</td>\n      <td>36</td>\n      <td>Data/27430_Snail5_index.pkl</td>\n      <td>0</td>\n      <td>0.683564</td>\n    </tr>\n    <tr>\n      <th>219</th>\n      <td>27430</td>\n      <td>181778</td>\n      <td>Snail5_Phago_20_Nuc_processed</td>\n      <td>9864</td>\n      <td>Snail5</td>\n      <td>27430_Snail5.mm</td>\n      <td>37</td>\n      <td>Data/27430_Snail5_index.pkl</td>\n      <td>4</td>\n      <td>0.966462</td>\n    </tr>\n  </tbody>\n</table>\n<p>220 rows × 10 columns</p>\n</div>"
     },
     "metadata": {},
     "execution_count": 44
    }
   ],
   "source": [
    "df"
   ]
  },
  {
   "cell_type": "code",
   "execution_count": 57,
   "metadata": {
    "tags": []
   },
   "outputs": [
    {
     "output_type": "execute_result",
     "data": {
      "text/plain": "     ClusterID  EventID                       FileName  index_in_file  \\\n0        27430    29057  Snail1_Phago_16_Nuc_processed             94   \n1        27430    29156  Snail1_Phago_16_Nuc_processed            193   \n2        27430    29164  Snail1_Phago_16_Nuc_processed            201   \n3        27430    29177  Snail1_Phago_16_Nuc_processed            214   \n4        27430    29422  Snail1_Phago_16_Nuc_processed            459   \n..         ...      ...                            ...            ...   \n215      27430   180527  Snail5_Phago_20_Nuc_processed           8613   \n216      27430   181243  Snail5_Phago_20_Nuc_processed           9329   \n217      27430   181327  Snail5_Phago_20_Nuc_processed           9413   \n218      27430   181711  Snail5_Phago_20_Nuc_processed           9797   \n219      27430   181778  Snail5_Phago_20_Nuc_processed           9864   \n\n    replicate           mmfile  mmindex                          pkl  sm  \\\n0      Snail1  27430_Snail1.mm        0  Data/27430_Snail1_index.pkl   5   \n1      Snail1  27430_Snail1.mm        1  Data/27430_Snail1_index.pkl   0   \n2      Snail1  27430_Snail1.mm        2  Data/27430_Snail1_index.pkl   0   \n3      Snail1  27430_Snail1.mm        3  Data/27430_Snail1_index.pkl   3   \n4      Snail1  27430_Snail1.mm        4  Data/27430_Snail1_index.pkl   0   \n..        ...              ...      ...                          ...  ..   \n215    Snail5  27430_Snail5.mm       33  Data/27430_Snail5_index.pkl   4   \n216    Snail5  27430_Snail5.mm       34  Data/27430_Snail5_index.pkl   4   \n217    Snail5  27430_Snail5.mm       35  Data/27430_Snail5_index.pkl   4   \n218    Snail5  27430_Snail5.mm       36  Data/27430_Snail5_index.pkl   0   \n219    Snail5  27430_Snail5.mm       37  Data/27430_Snail5_index.pkl   4   \n\n        smmax                                    odir  \n0    0.580609  /Users/cjw/Dropbox/phago/Snail_Phago_1  \n1    0.982766  /Users/cjw/Dropbox/phago/Snail_Phago_1  \n2    0.977967  /Users/cjw/Dropbox/phago/Snail_Phago_1  \n3    0.997315  /Users/cjw/Dropbox/phago/Snail_Phago_1  \n4    0.998600  /Users/cjw/Dropbox/phago/Snail_Phago_1  \n..        ...                                     ...  \n215  0.904769  /Users/cjw/Dropbox/phago/Snail_Phago_5  \n216  0.983111  /Users/cjw/Dropbox/phago/Snail_Phago_5  \n217  0.879519  /Users/cjw/Dropbox/phago/Snail_Phago_5  \n218  0.683564  /Users/cjw/Dropbox/phago/Snail_Phago_5  \n219  0.966462  /Users/cjw/Dropbox/phago/Snail_Phago_5  \n\n[220 rows x 11 columns]",
      "text/html": "<div>\n<style scoped>\n    .dataframe tbody tr th:only-of-type {\n        vertical-align: middle;\n    }\n\n    .dataframe tbody tr th {\n        vertical-align: top;\n    }\n\n    .dataframe thead th {\n        text-align: right;\n    }\n</style>\n<table border=\"1\" class=\"dataframe\">\n  <thead>\n    <tr style=\"text-align: right;\">\n      <th></th>\n      <th>ClusterID</th>\n      <th>EventID</th>\n      <th>FileName</th>\n      <th>index_in_file</th>\n      <th>replicate</th>\n      <th>mmfile</th>\n      <th>mmindex</th>\n      <th>pkl</th>\n      <th>sm</th>\n      <th>smmax</th>\n      <th>odir</th>\n    </tr>\n  </thead>\n  <tbody>\n    <tr>\n      <th>0</th>\n      <td>27430</td>\n      <td>29057</td>\n      <td>Snail1_Phago_16_Nuc_processed</td>\n      <td>94</td>\n      <td>Snail1</td>\n      <td>27430_Snail1.mm</td>\n      <td>0</td>\n      <td>Data/27430_Snail1_index.pkl</td>\n      <td>5</td>\n      <td>0.580609</td>\n      <td>/Users/cjw/Dropbox/phago/Snail_Phago_1</td>\n    </tr>\n    <tr>\n      <th>1</th>\n      <td>27430</td>\n      <td>29156</td>\n      <td>Snail1_Phago_16_Nuc_processed</td>\n      <td>193</td>\n      <td>Snail1</td>\n      <td>27430_Snail1.mm</td>\n      <td>1</td>\n      <td>Data/27430_Snail1_index.pkl</td>\n      <td>0</td>\n      <td>0.982766</td>\n      <td>/Users/cjw/Dropbox/phago/Snail_Phago_1</td>\n    </tr>\n    <tr>\n      <th>2</th>\n      <td>27430</td>\n      <td>29164</td>\n      <td>Snail1_Phago_16_Nuc_processed</td>\n      <td>201</td>\n      <td>Snail1</td>\n      <td>27430_Snail1.mm</td>\n      <td>2</td>\n      <td>Data/27430_Snail1_index.pkl</td>\n      <td>0</td>\n      <td>0.977967</td>\n      <td>/Users/cjw/Dropbox/phago/Snail_Phago_1</td>\n    </tr>\n    <tr>\n      <th>3</th>\n      <td>27430</td>\n      <td>29177</td>\n      <td>Snail1_Phago_16_Nuc_processed</td>\n      <td>214</td>\n      <td>Snail1</td>\n      <td>27430_Snail1.mm</td>\n      <td>3</td>\n      <td>Data/27430_Snail1_index.pkl</td>\n      <td>3</td>\n      <td>0.997315</td>\n      <td>/Users/cjw/Dropbox/phago/Snail_Phago_1</td>\n    </tr>\n    <tr>\n      <th>4</th>\n      <td>27430</td>\n      <td>29422</td>\n      <td>Snail1_Phago_16_Nuc_processed</td>\n      <td>459</td>\n      <td>Snail1</td>\n      <td>27430_Snail1.mm</td>\n      <td>4</td>\n      <td>Data/27430_Snail1_index.pkl</td>\n      <td>0</td>\n      <td>0.998600</td>\n      <td>/Users/cjw/Dropbox/phago/Snail_Phago_1</td>\n    </tr>\n    <tr>\n      <th>...</th>\n      <td>...</td>\n      <td>...</td>\n      <td>...</td>\n      <td>...</td>\n      <td>...</td>\n      <td>...</td>\n      <td>...</td>\n      <td>...</td>\n      <td>...</td>\n      <td>...</td>\n      <td>...</td>\n    </tr>\n    <tr>\n      <th>215</th>\n      <td>27430</td>\n      <td>180527</td>\n      <td>Snail5_Phago_20_Nuc_processed</td>\n      <td>8613</td>\n      <td>Snail5</td>\n      <td>27430_Snail5.mm</td>\n      <td>33</td>\n      <td>Data/27430_Snail5_index.pkl</td>\n      <td>4</td>\n      <td>0.904769</td>\n      <td>/Users/cjw/Dropbox/phago/Snail_Phago_5</td>\n    </tr>\n    <tr>\n      <th>216</th>\n      <td>27430</td>\n      <td>181243</td>\n      <td>Snail5_Phago_20_Nuc_processed</td>\n      <td>9329</td>\n      <td>Snail5</td>\n      <td>27430_Snail5.mm</td>\n      <td>34</td>\n      <td>Data/27430_Snail5_index.pkl</td>\n      <td>4</td>\n      <td>0.983111</td>\n      <td>/Users/cjw/Dropbox/phago/Snail_Phago_5</td>\n    </tr>\n    <tr>\n      <th>217</th>\n      <td>27430</td>\n      <td>181327</td>\n      <td>Snail5_Phago_20_Nuc_processed</td>\n      <td>9413</td>\n      <td>Snail5</td>\n      <td>27430_Snail5.mm</td>\n      <td>35</td>\n      <td>Data/27430_Snail5_index.pkl</td>\n      <td>4</td>\n      <td>0.879519</td>\n      <td>/Users/cjw/Dropbox/phago/Snail_Phago_5</td>\n    </tr>\n    <tr>\n      <th>218</th>\n      <td>27430</td>\n      <td>181711</td>\n      <td>Snail5_Phago_20_Nuc_processed</td>\n      <td>9797</td>\n      <td>Snail5</td>\n      <td>27430_Snail5.mm</td>\n      <td>36</td>\n      <td>Data/27430_Snail5_index.pkl</td>\n      <td>0</td>\n      <td>0.683564</td>\n      <td>/Users/cjw/Dropbox/phago/Snail_Phago_5</td>\n    </tr>\n    <tr>\n      <th>219</th>\n      <td>27430</td>\n      <td>181778</td>\n      <td>Snail5_Phago_20_Nuc_processed</td>\n      <td>9864</td>\n      <td>Snail5</td>\n      <td>27430_Snail5.mm</td>\n      <td>37</td>\n      <td>Data/27430_Snail5_index.pkl</td>\n      <td>4</td>\n      <td>0.966462</td>\n      <td>/Users/cjw/Dropbox/phago/Snail_Phago_5</td>\n    </tr>\n  </tbody>\n</table>\n<p>220 rows × 11 columns</p>\n</div>"
     },
     "metadata": {},
     "execution_count": 57
    }
   ],
   "source": [
    "odir = '/Users/cjw/Dropbox/phago/'\n",
    "pmap = {'Snail1':f\"{odir}Snail_Phago_1\", 'Snail2':f\"{odir}Snail_Phago_2\",\n",
    "        'Snail4':f\"{odir}Snail_Phago_4\", 'Snail5':f\"{odir}Snail_Phago_5\"}\n",
    "\n",
    "df['odir'] = df.replicate.map(pmap)\n",
    "df       "
   ]
  },
  {
   "cell_type": "code",
   "execution_count": 228,
   "metadata": {
    "tags": []
   },
   "outputs": [
    {
     "output_type": "stream",
     "name": "stderr",
     "text": "TiffTag 266: 0 is not a valid FILLORDER\nTiffTag 266: 0 is not a valid FILLORDER\nTiffTag 266: 0 is not a valid FILLORDER\n"
    },
    {
     "output_type": "execute_result",
     "data": {
      "text/plain": "(6, 0.9943159, '27430_Snail2.mm', 29)"
     },
     "metadata": {},
     "execution_count": 228
    },
    {
     "output_type": "display_data",
     "data": {
      "text/plain": "<Figure size 432x288 with 6 Axes>",
      "image/svg+xml": "<?xml version=\"1.0\" encoding=\"utf-8\" standalone=\"no\"?>\n<!DOCTYPE svg PUBLIC \"-//W3C//DTD SVG 1.1//EN\"\n  \"http://www.w3.org/Graphics/SVG/1.1/DTD/svg11.dtd\">\n<!-- Created with matplotlib (https://matplotlib.org/) -->\n<svg height=\"251.365155pt\" version=\"1.1\" viewBox=\"0 0 368.925 251.365155\" width=\"368.925pt\" xmlns=\"http://www.w3.org/2000/svg\" xmlns:xlink=\"http://www.w3.org/1999/xlink\">\n <metadata>\n  <rdf:RDF xmlns:cc=\"http://creativecommons.org/ns#\" xmlns:dc=\"http://purl.org/dc/elements/1.1/\" xmlns:rdf=\"http://www.w3.org/1999/02/22-rdf-syntax-ns#\">\n   <cc:Work>\n    <dc:type rdf:resource=\"http://purl.org/dc/dcmitype/StillImage\"/>\n    <dc:date>2020-09-24T11:31:34.730171</dc:date>\n    <dc:format>image/svg+xml</dc:format>\n    <dc:creator>\n     <cc:Agent>\n      <dc:title>Matplotlib v3.3.2, https://matplotlib.org/</dc:title>\n     </cc:Agent>\n    </dc:creator>\n   </cc:Work>\n  </rdf:RDF>\n </metadata>\n <defs>\n  <style type=\"text/css\">*{stroke-linecap:butt;stroke-linejoin:round;}</style>\n </defs>\n <g id=\"figure_1\">\n  <g id=\"patch_1\">\n   <path d=\"M -0 251.365155 \nL 368.925 251.365155 \nL 368.925 0 \nL -0 0 \nz\n\" style=\"fill:none;\"/>\n  </g>\n  <g id=\"axes_1\">\n   <g id=\"patch_2\">\n    <path d=\"M 26.925 108.700506 \nL 125.395588 108.700506 \nL 125.395588 10.229917 \nL 26.925 10.229917 \nz\n\" style=\"fill:#ffffff;\"/>\n   </g>\n   <g clip-path=\"url(#p5d3851988e)\">\n    <image height=\"99\" id=\"image584039ff1c\" transform=\"scale(1 -1)translate(0 -99)\" width=\"99\" x=\"26.925\" xlink:href=\"data:image/png;base64,\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\" y=\"-9.700506\"/>\n   </g>\n   <g id=\"matplotlib.axis_1\">\n    <g id=\"xtick_1\">\n     <g id=\"line2d_1\">\n      <defs>\n       <path d=\"M 0 0 \nL 0 3.5 \n\" id=\"mf42be03941\" style=\"stroke:#000000;stroke-width:0.8;\"/>\n      </defs>\n      <g>\n       <use style=\"stroke:#000000;stroke-width:0.8;\" x=\"27.694301\" xlink:href=\"#mf42be03941\" y=\"108.700506\"/>\n      </g>\n     </g>\n     <g id=\"text_1\">\n      <!-- 0 -->\n      <g transform=\"translate(24.513051 123.298943)scale(0.1 -0.1)\">\n       <defs>\n        <path d=\"M 31.78125 66.40625 \nQ 24.171875 66.40625 20.328125 58.90625 \nQ 16.5 51.421875 16.5 36.375 \nQ 16.5 21.390625 20.328125 13.890625 \nQ 24.171875 6.390625 31.78125 6.390625 \nQ 39.453125 6.390625 43.28125 13.890625 \nQ 47.125 21.390625 47.125 36.375 \nQ 47.125 51.421875 43.28125 58.90625 \nQ 39.453125 66.40625 31.78125 66.40625 \nz\nM 31.78125 74.21875 \nQ 44.046875 74.21875 50.515625 64.515625 \nQ 56.984375 54.828125 56.984375 36.375 \nQ 56.984375 17.96875 50.515625 8.265625 \nQ 44.046875 -1.421875 31.78125 -1.421875 \nQ 19.53125 -1.421875 13.0625 8.265625 \nQ 6.59375 17.96875 6.59375 36.375 \nQ 6.59375 54.828125 13.0625 64.515625 \nQ 19.53125 74.21875 31.78125 74.21875 \nz\n\" id=\"DejaVuSans-48\"/>\n       </defs>\n       <use xlink:href=\"#DejaVuSans-48\"/>\n      </g>\n     </g>\n    </g>\n    <g id=\"xtick_2\">\n     <g id=\"line2d_2\">\n      <g>\n       <use style=\"stroke:#000000;stroke-width:0.8;\" x=\"66.159375\" xlink:href=\"#mf42be03941\" y=\"108.700506\"/>\n      </g>\n     </g>\n     <g id=\"text_2\">\n      <!-- 25 -->\n      <g transform=\"translate(59.796875 123.298943)scale(0.1 -0.1)\">\n       <defs>\n        <path d=\"M 19.1875 8.296875 \nL 53.609375 8.296875 \nL 53.609375 0 \nL 7.328125 0 \nL 7.328125 8.296875 \nQ 12.9375 14.109375 22.625 23.890625 \nQ 32.328125 33.6875 34.8125 36.53125 \nQ 39.546875 41.84375 41.421875 45.53125 \nQ 43.3125 49.21875 43.3125 52.78125 \nQ 43.3125 58.59375 39.234375 62.25 \nQ 35.15625 65.921875 28.609375 65.921875 \nQ 23.96875 65.921875 18.8125 64.3125 \nQ 13.671875 62.703125 7.8125 59.421875 \nL 7.8125 69.390625 \nQ 13.765625 71.78125 18.9375 73 \nQ 24.125 74.21875 28.421875 74.21875 \nQ 39.75 74.21875 46.484375 68.546875 \nQ 53.21875 62.890625 53.21875 53.421875 \nQ 53.21875 48.921875 51.53125 44.890625 \nQ 49.859375 40.875 45.40625 35.40625 \nQ 44.1875 33.984375 37.640625 27.21875 \nQ 31.109375 20.453125 19.1875 8.296875 \nz\n\" id=\"DejaVuSans-50\"/>\n        <path d=\"M 10.796875 72.90625 \nL 49.515625 72.90625 \nL 49.515625 64.59375 \nL 19.828125 64.59375 \nL 19.828125 46.734375 \nQ 21.96875 47.46875 24.109375 47.828125 \nQ 26.265625 48.1875 28.421875 48.1875 \nQ 40.625 48.1875 47.75 41.5 \nQ 54.890625 34.8125 54.890625 23.390625 \nQ 54.890625 11.625 47.5625 5.09375 \nQ 40.234375 -1.421875 26.90625 -1.421875 \nQ 22.3125 -1.421875 17.546875 -0.640625 \nQ 12.796875 0.140625 7.71875 1.703125 \nL 7.71875 11.625 \nQ 12.109375 9.234375 16.796875 8.0625 \nQ 21.484375 6.890625 26.703125 6.890625 \nQ 35.15625 6.890625 40.078125 11.328125 \nQ 45.015625 15.765625 45.015625 23.390625 \nQ 45.015625 31 40.078125 35.4375 \nQ 35.15625 39.890625 26.703125 39.890625 \nQ 22.75 39.890625 18.8125 39.015625 \nQ 14.890625 38.140625 10.796875 36.28125 \nz\n\" id=\"DejaVuSans-53\"/>\n       </defs>\n       <use xlink:href=\"#DejaVuSans-50\"/>\n       <use x=\"63.623047\" xlink:href=\"#DejaVuSans-53\"/>\n      </g>\n     </g>\n    </g>\n    <g id=\"xtick_3\">\n     <g id=\"line2d_3\">\n      <g>\n       <use style=\"stroke:#000000;stroke-width:0.8;\" x=\"104.624449\" xlink:href=\"#mf42be03941\" y=\"108.700506\"/>\n      </g>\n     </g>\n     <g id=\"text_3\">\n      <!-- 50 -->\n      <g transform=\"translate(98.261949 123.298943)scale(0.1 -0.1)\">\n       <use xlink:href=\"#DejaVuSans-53\"/>\n       <use x=\"63.623047\" xlink:href=\"#DejaVuSans-48\"/>\n      </g>\n     </g>\n    </g>\n   </g>\n   <g id=\"matplotlib.axis_2\">\n    <g id=\"ytick_1\">\n     <g id=\"line2d_4\">\n      <defs>\n       <path d=\"M 0 0 \nL -3.5 0 \n\" id=\"m8147ddce8c\" style=\"stroke:#000000;stroke-width:0.8;\"/>\n      </defs>\n      <g>\n       <use style=\"stroke:#000000;stroke-width:0.8;\" x=\"26.925\" xlink:href=\"#m8147ddce8c\" y=\"10.999219\"/>\n      </g>\n     </g>\n     <g id=\"text_4\">\n      <!-- 0 -->\n      <g transform=\"translate(13.5625 14.798437)scale(0.1 -0.1)\">\n       <use xlink:href=\"#DejaVuSans-48\"/>\n      </g>\n     </g>\n    </g>\n    <g id=\"ytick_2\">\n     <g id=\"line2d_5\">\n      <g>\n       <use style=\"stroke:#000000;stroke-width:0.8;\" x=\"26.925\" xlink:href=\"#m8147ddce8c\" y=\"41.771278\"/>\n      </g>\n     </g>\n     <g id=\"text_5\">\n      <!-- 20 -->\n      <g transform=\"translate(7.2 45.570496)scale(0.1 -0.1)\">\n       <use xlink:href=\"#DejaVuSans-50\"/>\n       <use x=\"63.623047\" xlink:href=\"#DejaVuSans-48\"/>\n      </g>\n     </g>\n    </g>\n    <g id=\"ytick_3\">\n     <g id=\"line2d_6\">\n      <g>\n       <use style=\"stroke:#000000;stroke-width:0.8;\" x=\"26.925\" xlink:href=\"#m8147ddce8c\" y=\"72.543336\"/>\n      </g>\n     </g>\n     <g id=\"text_6\">\n      <!-- 40 -->\n      <g transform=\"translate(7.2 76.342555)scale(0.1 -0.1)\">\n       <defs>\n        <path d=\"M 37.796875 64.3125 \nL 12.890625 25.390625 \nL 37.796875 25.390625 \nz\nM 35.203125 72.90625 \nL 47.609375 72.90625 \nL 47.609375 25.390625 \nL 58.015625 25.390625 \nL 58.015625 17.1875 \nL 47.609375 17.1875 \nL 47.609375 0 \nL 37.796875 0 \nL 37.796875 17.1875 \nL 4.890625 17.1875 \nL 4.890625 26.703125 \nz\n\" id=\"DejaVuSans-52\"/>\n       </defs>\n       <use xlink:href=\"#DejaVuSans-52\"/>\n       <use x=\"63.623047\" xlink:href=\"#DejaVuSans-48\"/>\n      </g>\n     </g>\n    </g>\n    <g id=\"ytick_4\">\n     <g id=\"line2d_7\">\n      <g>\n       <use style=\"stroke:#000000;stroke-width:0.8;\" x=\"26.925\" xlink:href=\"#m8147ddce8c\" y=\"103.315395\"/>\n      </g>\n     </g>\n     <g id=\"text_7\">\n      <!-- 60 -->\n      <g transform=\"translate(7.2 107.114614)scale(0.1 -0.1)\">\n       <defs>\n        <path d=\"M 33.015625 40.375 \nQ 26.375 40.375 22.484375 35.828125 \nQ 18.609375 31.296875 18.609375 23.390625 \nQ 18.609375 15.53125 22.484375 10.953125 \nQ 26.375 6.390625 33.015625 6.390625 \nQ 39.65625 6.390625 43.53125 10.953125 \nQ 47.40625 15.53125 47.40625 23.390625 \nQ 47.40625 31.296875 43.53125 35.828125 \nQ 39.65625 40.375 33.015625 40.375 \nz\nM 52.59375 71.296875 \nL 52.59375 62.3125 \nQ 48.875 64.0625 45.09375 64.984375 \nQ 41.3125 65.921875 37.59375 65.921875 \nQ 27.828125 65.921875 22.671875 59.328125 \nQ 17.53125 52.734375 16.796875 39.40625 \nQ 19.671875 43.65625 24.015625 45.921875 \nQ 28.375 48.1875 33.59375 48.1875 \nQ 44.578125 48.1875 50.953125 41.515625 \nQ 57.328125 34.859375 57.328125 23.390625 \nQ 57.328125 12.15625 50.6875 5.359375 \nQ 44.046875 -1.421875 33.015625 -1.421875 \nQ 20.359375 -1.421875 13.671875 8.265625 \nQ 6.984375 17.96875 6.984375 36.375 \nQ 6.984375 53.65625 15.1875 63.9375 \nQ 23.390625 74.21875 37.203125 74.21875 \nQ 40.921875 74.21875 44.703125 73.484375 \nQ 48.484375 72.75 52.59375 71.296875 \nz\n\" id=\"DejaVuSans-54\"/>\n       </defs>\n       <use xlink:href=\"#DejaVuSans-54\"/>\n       <use x=\"63.623047\" xlink:href=\"#DejaVuSans-48\"/>\n      </g>\n     </g>\n    </g>\n   </g>\n   <g id=\"patch_3\">\n    <path d=\"M 26.925 108.700506 \nL 26.925 10.229917 \n\" style=\"fill:none;stroke:#000000;stroke-linecap:square;stroke-linejoin:miter;stroke-width:0.8;\"/>\n   </g>\n   <g id=\"patch_4\">\n    <path d=\"M 125.395588 108.700506 \nL 125.395588 10.229917 \n\" style=\"fill:none;stroke:#000000;stroke-linecap:square;stroke-linejoin:miter;stroke-width:0.8;\"/>\n   </g>\n   <g id=\"patch_5\">\n    <path d=\"M 26.925 108.700506 \nL 125.395588 108.700506 \n\" style=\"fill:none;stroke:#000000;stroke-linecap:square;stroke-linejoin:miter;stroke-width:0.8;\"/>\n   </g>\n   <g id=\"patch_6\">\n    <path d=\"M 26.925 10.229917 \nL 125.395588 10.229917 \n\" style=\"fill:none;stroke:#000000;stroke-linecap:square;stroke-linejoin:miter;stroke-width:0.8;\"/>\n   </g>\n  </g>\n  <g id=\"axes_2\">\n   <g id=\"patch_7\">\n    <path d=\"M 145.089706 108.700506 \nL 243.560294 108.700506 \nL 243.560294 10.229917 \nL 145.089706 10.229917 \nz\n\" style=\"fill:#ffffff;\"/>\n   </g>\n   <g clip-path=\"url(#pb047f6cde0)\">\n    <image height=\"99\" id=\"imagec7d722cbd4\" transform=\"scale(1 -1)translate(0 -99)\" width=\"99\" x=\"145.089706\" xlink:href=\"data:image/png;base64,\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\" y=\"-9.700506\"/>\n   </g>\n   <g id=\"matplotlib.axis_3\">\n    <g id=\"xtick_4\">\n     <g id=\"line2d_8\">\n      <g>\n       <use style=\"stroke:#000000;stroke-width:0.8;\" x=\"145.859007\" xlink:href=\"#mf42be03941\" y=\"108.700506\"/>\n      </g>\n     </g>\n     <g id=\"text_8\">\n      <!-- 0 -->\n      <g transform=\"translate(142.677757 123.298943)scale(0.1 -0.1)\">\n       <use xlink:href=\"#DejaVuSans-48\"/>\n      </g>\n     </g>\n    </g>\n    <g id=\"xtick_5\">\n     <g id=\"line2d_9\">\n      <g>\n       <use style=\"stroke:#000000;stroke-width:0.8;\" x=\"184.324081\" xlink:href=\"#mf42be03941\" y=\"108.700506\"/>\n      </g>\n     </g>\n     <g id=\"text_9\">\n      <!-- 25 -->\n      <g transform=\"translate(177.961581 123.298943)scale(0.1 -0.1)\">\n       <use xlink:href=\"#DejaVuSans-50\"/>\n       <use x=\"63.623047\" xlink:href=\"#DejaVuSans-53\"/>\n      </g>\n     </g>\n    </g>\n    <g id=\"xtick_6\">\n     <g id=\"line2d_10\">\n      <g>\n       <use style=\"stroke:#000000;stroke-width:0.8;\" x=\"222.789154\" xlink:href=\"#mf42be03941\" y=\"108.700506\"/>\n      </g>\n     </g>\n     <g id=\"text_10\">\n      <!-- 50 -->\n      <g transform=\"translate(216.426654 123.298943)scale(0.1 -0.1)\">\n       <use xlink:href=\"#DejaVuSans-53\"/>\n       <use x=\"63.623047\" xlink:href=\"#DejaVuSans-48\"/>\n      </g>\n     </g>\n    </g>\n   </g>\n   <g id=\"matplotlib.axis_4\">\n    <g id=\"ytick_5\">\n     <g id=\"line2d_11\">\n      <g>\n       <use style=\"stroke:#000000;stroke-width:0.8;\" x=\"145.089706\" xlink:href=\"#m8147ddce8c\" y=\"10.999219\"/>\n      </g>\n     </g>\n     <g id=\"text_11\">\n      <!-- 0 -->\n      <g transform=\"translate(131.727206 14.798437)scale(0.1 -0.1)\">\n       <use xlink:href=\"#DejaVuSans-48\"/>\n      </g>\n     </g>\n    </g>\n    <g id=\"ytick_6\">\n     <g id=\"line2d_12\">\n      <g>\n       <use style=\"stroke:#000000;stroke-width:0.8;\" x=\"145.089706\" xlink:href=\"#m8147ddce8c\" y=\"41.771278\"/>\n      </g>\n     </g>\n     <g id=\"text_12\">\n      <!-- 20 -->\n      <g transform=\"translate(125.364706 45.570496)scale(0.1 -0.1)\">\n       <use xlink:href=\"#DejaVuSans-50\"/>\n       <use x=\"63.623047\" xlink:href=\"#DejaVuSans-48\"/>\n      </g>\n     </g>\n    </g>\n    <g id=\"ytick_7\">\n     <g id=\"line2d_13\">\n      <g>\n       <use style=\"stroke:#000000;stroke-width:0.8;\" x=\"145.089706\" xlink:href=\"#m8147ddce8c\" y=\"72.543336\"/>\n      </g>\n     </g>\n     <g id=\"text_13\">\n      <!-- 40 -->\n      <g transform=\"translate(125.364706 76.342555)scale(0.1 -0.1)\">\n       <use xlink:href=\"#DejaVuSans-52\"/>\n       <use x=\"63.623047\" xlink:href=\"#DejaVuSans-48\"/>\n      </g>\n     </g>\n    </g>\n    <g id=\"ytick_8\">\n     <g id=\"line2d_14\">\n      <g>\n       <use style=\"stroke:#000000;stroke-width:0.8;\" x=\"145.089706\" xlink:href=\"#m8147ddce8c\" y=\"103.315395\"/>\n      </g>\n     </g>\n     <g id=\"text_14\">\n      <!-- 60 -->\n      <g transform=\"translate(125.364706 107.114614)scale(0.1 -0.1)\">\n       <use xlink:href=\"#DejaVuSans-54\"/>\n       <use x=\"63.623047\" xlink:href=\"#DejaVuSans-48\"/>\n      </g>\n     </g>\n    </g>\n   </g>\n   <g id=\"patch_8\">\n    <path d=\"M 145.089706 108.700506 \nL 145.089706 10.229917 \n\" style=\"fill:none;stroke:#000000;stroke-linecap:square;stroke-linejoin:miter;stroke-width:0.8;\"/>\n   </g>\n   <g id=\"patch_9\">\n    <path d=\"M 243.560294 108.700506 \nL 243.560294 10.229917 \n\" style=\"fill:none;stroke:#000000;stroke-linecap:square;stroke-linejoin:miter;stroke-width:0.8;\"/>\n   </g>\n   <g id=\"patch_10\">\n    <path d=\"M 145.089706 108.700506 \nL 243.560294 108.700506 \n\" style=\"fill:none;stroke:#000000;stroke-linecap:square;stroke-linejoin:miter;stroke-width:0.8;\"/>\n   </g>\n   <g id=\"patch_11\">\n    <path d=\"M 145.089706 10.229917 \nL 243.560294 10.229917 \n\" style=\"fill:none;stroke:#000000;stroke-linecap:square;stroke-linejoin:miter;stroke-width:0.8;\"/>\n   </g>\n  </g>\n  <g id=\"axes_3\">\n   <g id=\"patch_12\">\n    <path d=\"M 263.254412 108.700506 \nL 361.725 108.700506 \nL 361.725 10.229917 \nL 263.254412 10.229917 \nz\n\" style=\"fill:#ffffff;\"/>\n   </g>\n   <g clip-path=\"url(#pef340a8129)\">\n    <image height=\"99\" id=\"image598d227b83\" transform=\"scale(1 -1)translate(0 -99)\" width=\"99\" x=\"263.254412\" xlink:href=\"data:image/png;base64,\niVBORw0KGgoAAAANSUhEUgAAAGMAAABjCAYAAACPO76VAAAHhklEQVR4nO2by3IjtxVAzwX6wYeGGinlGo8rLjuLeJXPyCfkn7NKqlKVZbaekuMZjSiT6m40gJtFNylKQ3nGD0noCc5GKhbYTeLUvRcXaMpf5W9KJgnMc3+AzC1ZRkJkGQmRZSRElpEQWUZCZBkJkWUkRJaREFlGQmQZCZFlJESWkRBZRkJkGQmRZSRElpEQWUZCZBkJkWUkRJaREFlGQmQZCZFlJESWkRBZRkJkGQmRZSRElpEQWUZCFM/9AZ4FkQ9f0+f/ZcT/h4xjk58gn7eMXyJhN/YZI+TzkvF7RMAzSvl8ZPycCDlYp2j89Os9sZDpy3hIgjywUPwlYp5YyHRlHJMwTrQY+eC1PaMAjfrrIuYRmaaMB0TsJYiB8X85GKuqgIWoiDmQsnvPMSFPGB3TlHHIYTSMEkQEjAERxNrbsaoQAkhEVfZSPknIIY8kZ1oy7k/KPRFSFmAtUhRQlcPf4laG+IC6HrwH5yAEVAUhAAep6+dS1iNGybRkHGEvwpph8ssCqSp0OUfLAq3Gr6iKdB7pHHRueMl7pO/RUYAY+TQhj8R0ZByJCjEyRMIYDbKYw3yGLmb05wvC3OIXBhXBeKW4CZTXDnPjkPUG2na4rnNo4K6AZxAyHRmH7FZBYgYRVQl1ja5OiKs57nzG5quSfim41TDUOqjWlsVbS3ldUQNSWLRph6ihRwN3a8jRez9eQZ+mDA6Wr9ZCUSBlSVzU9Kua9qzg5pXQv1D6lxEiGCeEyiDRokYoNhXWB8QHsB0a7VjgebZ0NVkZh3VCZjN0Ocedz7l5VbL5o2H7nWN51vDn80saX3LVzLi8OCVWJX5usd2M2ggWoHMIgOog4WP145G2TKYnY1crxnpBVUJVovOKfmXpToXuTFn9Ycs3Z+/5y+oNV37BRfWCbVPjfrKY3uBeWGxTYtoKU1eoRghxWPrGXMAf5kiTt+slxBi0LIiVpZ8b+hPBrwKvV9d8u3zHd/MLfuhPKSTw5uSUH5Yz+lboF0I1N8RZgSkLxBfDklcENTCudp+Uaci4j5g7/YTOSsKyxK0Ed6qYM8c3J5d8O3vHl8UaQySo4cvlT7x/ucAFoT0vsM4iocZs5sORZ4jQeyQEVMxtMX+i2jEtGff3mcwQHVoYYmnwMyHWSj1zrIqWE9syk56VbTkvNryaX/P98pRLZ4eU1hhMD+W6RmJEXA99gcKHxfwJmJaMHaMEALUGtYZYCLGGMIss6p7TomFlGmbS88I0hMLwVb3m+5OXdN6yOa2xjWB6YbYsMK7ENiW0FkJERPbN4FMxTRn3GIQIoQStlGXlWBjHwnScmo5zafnCbpkZR6+WReH4V1fSsEALQ70uMUExTY80LURFYxyiI44F5AnETP7pEBlTiBqGb2MUayK16ceoiJwbODeeL+xPvK6u+Gq+ZrVs0aXHL5RQDz2IFsPmIubugkHMA2cmvzPTjwxVZFzvqwBGKSSyNB0r03JuKmopiCiRhq/Ld3Sx5D8nX7BezgmbglALsTSotcNyebdSE0E5qBePHB3TjIyoEHc9QUR8xPSK8YA3uDjs1JYSKMUSUXoNBIWl6Ti1N7ysGooyoFZBQQ6kPsgjp6lpRYbG2xWV6iAljDJcxHZgWsO6mfHGnfHS3nBuLrACrQqXYc5VWHITa9pQ4L1BesF4EH8g+IPb5tXULap3Gz+NECOqiniPdD1FU1FdK/2V4eryhH+efc17v+BqscAQiRi2sWbtF7z3C942J/TbimorlNtI0Qak80PhDrfXf0qmIeMIqjo0Z94jTYddW5YXFaiFWPOP8C3/fvGav6/+RF14ChlSjIuWrav48b8rqjcliwth9s5TrDuk7VDvUe/HFKi3qSk3fUfQyO4cG4nDFkbnkMJSXfeEaijGYVbitpY3NxWmChhRxCgxGEJvsG8rZpfC7H2k2DikceD6fR166qiAKck4SFW6O7tWgd6DdIgq5YXF3swpNzXltqRfGtxpTRgDRo1SeKFyMH+rLH701G8d9nKDbBu07YZj2Rj3UfFgvXgEWdORcYwQho097wGQbYOJkVkfkDAnzC1ubQjVuPmnYPuIdVBf9lRrh7lukM0N2jnUOfQgPe1F3E9R+XCJ2+jQiMZhK11DHE7pYgRrkBCQEKlEiLMC2xTEarcCA9tFjAsU1y1m00Ln0LZF99vn+iT14RjTkgEfCIEwTF4Yti/UOqTtsDcNtigoywK141MkIYIP4D3a90OxDhH6fqgRH4uIR2Z6Mg4Z+459Dek9EuOQakLYH8nuh++lDWOHXiUOQg6fNNxd++g986M6dznsO/aTOJ4/+LExjONkjg+z7d93uFI6SEl3CvUziICpyoDbiTmQooGxQw8fTTGfNPnH7veITFfGQxxEyqeOTYXpy7gfIfvXf+NE56bvN/CQlF9zjWfi85Gx45dISeAXrod8fjJ2JDbRn8I0D5c+U7KMhMgyEiLLSIgsIyGyjITIMhIiy0iILCMhsoyEyDISIstIiCwjIbKMhMgyEiLLSIgsIyGyjITIMhIiy0iILCMhsoyEyDISIstIiCwjIbKMhMgyEiLLSIj/AfXcw5R3GcMLAAAAAElFTkSuQmCC\" y=\"-9.700506\"/>\n   </g>\n   <g id=\"matplotlib.axis_5\">\n    <g id=\"xtick_7\">\n     <g id=\"line2d_15\">\n      <g>\n       <use style=\"stroke:#000000;stroke-width:0.8;\" x=\"264.023713\" xlink:href=\"#mf42be03941\" y=\"108.700506\"/>\n      </g>\n     </g>\n     <g id=\"text_15\">\n      <!-- 0 -->\n      <g transform=\"translate(260.842463 123.298943)scale(0.1 -0.1)\">\n       <use xlink:href=\"#DejaVuSans-48\"/>\n      </g>\n     </g>\n    </g>\n    <g id=\"xtick_8\">\n     <g id=\"line2d_16\">\n      <g>\n       <use style=\"stroke:#000000;stroke-width:0.8;\" x=\"302.488787\" xlink:href=\"#mf42be03941\" y=\"108.700506\"/>\n      </g>\n     </g>\n     <g id=\"text_16\">\n      <!-- 25 -->\n      <g transform=\"translate(296.126287 123.298943)scale(0.1 -0.1)\">\n       <use xlink:href=\"#DejaVuSans-50\"/>\n       <use x=\"63.623047\" xlink:href=\"#DejaVuSans-53\"/>\n      </g>\n     </g>\n    </g>\n    <g id=\"xtick_9\">\n     <g id=\"line2d_17\">\n      <g>\n       <use style=\"stroke:#000000;stroke-width:0.8;\" x=\"340.95386\" xlink:href=\"#mf42be03941\" y=\"108.700506\"/>\n      </g>\n     </g>\n     <g id=\"text_17\">\n      <!-- 50 -->\n      <g transform=\"translate(334.59136 123.298943)scale(0.1 -0.1)\">\n       <use xlink:href=\"#DejaVuSans-53\"/>\n       <use x=\"63.623047\" xlink:href=\"#DejaVuSans-48\"/>\n      </g>\n     </g>\n    </g>\n   </g>\n   <g id=\"matplotlib.axis_6\">\n    <g id=\"ytick_9\">\n     <g id=\"line2d_18\">\n      <g>\n       <use style=\"stroke:#000000;stroke-width:0.8;\" x=\"263.254412\" xlink:href=\"#m8147ddce8c\" y=\"10.999219\"/>\n      </g>\n     </g>\n     <g id=\"text_18\">\n      <!-- 0 -->\n      <g transform=\"translate(249.891912 14.798437)scale(0.1 -0.1)\">\n       <use xlink:href=\"#DejaVuSans-48\"/>\n      </g>\n     </g>\n    </g>\n    <g id=\"ytick_10\">\n     <g id=\"line2d_19\">\n      <g>\n       <use style=\"stroke:#000000;stroke-width:0.8;\" x=\"263.254412\" xlink:href=\"#m8147ddce8c\" y=\"41.771278\"/>\n      </g>\n     </g>\n     <g id=\"text_19\">\n      <!-- 20 -->\n      <g transform=\"translate(243.529412 45.570496)scale(0.1 -0.1)\">\n       <use xlink:href=\"#DejaVuSans-50\"/>\n       <use x=\"63.623047\" xlink:href=\"#DejaVuSans-48\"/>\n      </g>\n     </g>\n    </g>\n    <g id=\"ytick_11\">\n     <g id=\"line2d_20\">\n      <g>\n       <use style=\"stroke:#000000;stroke-width:0.8;\" x=\"263.254412\" xlink:href=\"#m8147ddce8c\" y=\"72.543336\"/>\n      </g>\n     </g>\n     <g id=\"text_20\">\n      <!-- 40 -->\n      <g transform=\"translate(243.529412 76.342555)scale(0.1 -0.1)\">\n       <use xlink:href=\"#DejaVuSans-52\"/>\n       <use x=\"63.623047\" xlink:href=\"#DejaVuSans-48\"/>\n      </g>\n     </g>\n    </g>\n    <g id=\"ytick_12\">\n     <g id=\"line2d_21\">\n      <g>\n       <use style=\"stroke:#000000;stroke-width:0.8;\" x=\"263.254412\" xlink:href=\"#m8147ddce8c\" y=\"103.315395\"/>\n      </g>\n     </g>\n     <g id=\"text_21\">\n      <!-- 60 -->\n      <g transform=\"translate(243.529412 107.114614)scale(0.1 -0.1)\">\n       <use xlink:href=\"#DejaVuSans-54\"/>\n       <use x=\"63.623047\" xlink:href=\"#DejaVuSans-48\"/>\n      </g>\n     </g>\n    </g>\n   </g>\n   <g id=\"patch_13\">\n    <path d=\"M 263.254412 108.700506 \nL 263.254412 10.229917 \n\" style=\"fill:none;stroke:#000000;stroke-linecap:square;stroke-linejoin:miter;stroke-width:0.8;\"/>\n   </g>\n   <g id=\"patch_14\">\n    <path d=\"M 361.725 108.700506 \nL 361.725 10.229917 \n\" style=\"fill:none;stroke:#000000;stroke-linecap:square;stroke-linejoin:miter;stroke-width:0.8;\"/>\n   </g>\n   <g id=\"patch_15\">\n    <path d=\"M 263.254412 108.700506 \nL 361.725 108.700506 \n\" style=\"fill:none;stroke:#000000;stroke-linecap:square;stroke-linejoin:miter;stroke-width:0.8;\"/>\n   </g>\n   <g id=\"patch_16\">\n    <path d=\"M 263.254412 10.229917 \nL 361.725 10.229917 \n\" style=\"fill:none;stroke:#000000;stroke-linecap:square;stroke-linejoin:miter;stroke-width:0.8;\"/>\n   </g>\n  </g>\n  <g id=\"axes_4\">\n   <g id=\"patch_17\">\n    <path d=\"M 40.307888 227.48703 \nL 112.012701 227.48703 \nL 112.012701 128.650666 \nL 40.307888 128.650666 \nz\n\" style=\"fill:#ffffff;\"/>\n   </g>\n   <g clip-path=\"url(#p277cacec2a)\">\n    <image height=\"99\" id=\"image3a67cc6533\" transform=\"scale(1 -1)translate(0 -99)\" width=\"72\" x=\"40.307888\" xlink:href=\"data:image/png;base64,\niVBORw0KGgoAAAANSUhEUgAAAEgAAABjCAYAAAA4hkayAAAYpElEQVR4nK1dyY4kOXJ9RtI9IiNyqayl10HPjNAtCJqDzqNPEKCDbgIE6AP0HTroK/QrOgpzGECHgTBCSz1rdVV1d3blFpER4U6aDlzcSCcjs0ciUMgIOmk0Go1mz4z0KPrsX/+FIQuFP8pXc3hKFD5zaMChLfH8OfHsezYEZV/TGGCa6ELQVqI/E9hR/pwqNGol8EsEsA3t4nwUZ/OJ9aZBahqwVSSx/89CR57xsYePPC8fxe9yCjxvaFKDFu0wKMeGYQVKSSeBxuctxmmiE+up0JjUTWhF0kapYUE7Z89m41d4I67PuZCHqjSpT0zUZeocJ8I0F1ZkpEbzMW2QXdJ4xYOWBh/R7NnOeIQNMxNRIkCZxJMQHAAi30zao6xfWFwltEXQKAUsbUk2iVKIDU1LdSRogHN7JLYPc0FDDlOQnmxQsWXS55KZmgqXg8TuPDfIOWOca17J3Z9q48T2BWGueRVbM/XNv5pIMHktYOYJMu+lKhNUBQepP80njUJTiAEbVS4wqOYaJQXddCDsxyNQbiflHKS2VzSyXNC5F8sM6tSpyVTTDjTat0phNKnxOetSbsmagyjHgNCsVDcvkaaZba1IQwlvVW67SFtxep7hpUJr0kRcayuJvxJDlf2lbSKe2a7MphX26ymeMuPNFTgo0xDpSiPRlo2BcMEtY9soqZ3irP9MELGuMOpNT1iprwk8Z6ayaAyYXDvyQRiTyiYb5XLq6XvCIFGVwkc5KSqYj54n2IXMTiQmKXfzhLlnLccunUtBkxk5OkdjUQkw3m3nlbkEGqoaiUV1LtUcXExu8lbZdpbtWmECidmVWlYrtRAkjYdJSC17JeZskOKaQFiJVZATDAPLvZy2lyCcCa3ESQVDaYtKLUTRVnpYFx5LLW75iBLbJG1m/1nlO2SGvZKRztw2MNu/rf0uV70spYqX2Klm48qtJceOXxPvBc4JbauYK2vHeZ+Cdg4go5Em5J1qq1do0kww5X7H/DmRWPkC58y5Rf153DoRXzm/tZM3LRehQXfGcxBkZj4CAVOTZm2FqQxJKuBK4pGJFuXPhHA5M+oMqMmg51uk8F7HSk2rw85q98lhSjQfQImDarYifZ5vtRKtxpWN9eyoPqk4CRXdUtCMInZLggx0ZvbvKZOV8yjsZTOmE6WIxWr2pEJj5h1yLckTa4KRwuCXOaXkWcQiRLtA0o65+pavJekScHU0X3wWoVBajFyweaiRQfECU8QVEIYveqGstIx2Ns40XgkbpPstXTkRg2fOYiKYGe84hyi4GU8lMxMtuSjzWKwCxQn5CFJD4gpkUL7iCZORlmsQ05xu3t6zSoXAfP/J1lV4lguY4APNPWkUSCk5IThmIaBj4cEstyzRa2svx+dZBrJYXQpaUcIL4VHneKYifCWEkiZdaIYqtLVclIYRN61A8KhneqzI5FW5uiAR5EatKAGnaF8EymVMRsr/S4JJ2iKCXsJsK89KI3GYb7EKtok2ZhatH0mZJmYUT3aDRV+hiVVms/itaCu0NxluAlImiPJFpUJrZ5qTMT6HJ6asmBpjMsrIjTERpgg8dq94KGppXYmNavXl5ArasR25PN6bufjq9o8LUKmPmhcgh6oympipEJEpjUoYEle1JhwJA+qag2l7PUVDI81ym9ZSF08sKXsRNNSwrWkO+eS85D2uDI7EYKkxgrpHYXKiOwtM5QQor2+5/JqWsKPMG7KqxGYxgK55wYZWz8/Fwv5unahmpwVH1biYePlM/oVoVzqXzHiXXvCJjqO1oMG71ftEG9SIsR7NlQjhtA4KOeaaHCbtqWGPJ4zPsl+p9LUDB6YJFRPPEmGRpwmOoCpwlVbiyIrMsIiYzNFjHclsY3KZlj22OJIHmW8K/WuYaRb2tOg1imnhnrT/FeegUBJkmsaMNCRT0RMl+qGjiNonJucQY4aIo+eUiTMSn2XALTQ9w43BNsXcWS6ouQCblxeaJRJm8TkKBhWNkv0mTlJdwknEyLKbsV1t1aW9lGFQKRwuGsvFRBGo1jSc+LiAWOy6bC9LBqSQkLfNEvgyag+TyrwcKrKIWlcwPc1ZeJ6IoGMbyV858dBv5gVF3/jMzOxOmZyS31t7uFadtY9aEr4W6Yp5riafmETH1UMDOR5VaEiefmAxGeIs4p5s8FgkVFeYHZ9EOgmXOJphqpib4XJ1jfMC0X6vJO8UDXCxeKSQLWR+IFlsvdi/zFY0Qo/pZPX/WloBZWQs8Jr3qdSFvl7bEMKMaYvmBOt8zE5ZMtoTndmRT03bZrGYGAgoVDl6CMksIb+mlzBOWCUFIGiC6hxUCFxz1EpgJrhBBY0LtG3wjuS3jDJOeMeJn+jFnnqSK6P9yUCjkDtl9aa2tx/FIUAd7wDprh+pyfCxJTieCJPiyRkywCOlEwo5G7Yqy/XMMoPRSz1mW54yn7KkLTaqyTNI4DcLQHnSFGk4Iy5xBOodVOdA5LVl2HTAQQFWhysunp49cV67Aj29UQADdu28gFUYZ6AJ9iiGMg4xWT/LHpQ56ZrMjglKGvc4T/ypOKgB8JjhwwsVThxGBbVXIOcHZQU/+YTcJ6bIEWgksAHQhb0WTjN4JEADnABmoU3HAmc5+WOlhATJzZe01JTgyh9EpBzoSe2JDFqCc3oifqth7glsGKyB4dyBewdaOJB2IOUFyvcaZAG9UXA9Q10cQMphVB14JNBegxXDsc9GknZe2JGXo0kwTBnHlmAirI5CIqQgNuGg6Zy8PVYUVLZiCsAIv9oxdWIY0AzWDNcDrgNcx+ClAy1sSn84S2BLUApgzWAFcM8wnYVSDs4pOKXA0QzEhZFO44hgssU81k5qQ0F2Oll18SCOMg/VpEsAlMctPGjQXkENAI2E8dwCxsGuHVxP4LWF6i3OT3fojcXN/RJ21OAHb5tYM9gAfGKhFhZnqx20cth3IwarsVULsKNw+Tv8zZipeN5owIG5MFtGXWJCRBtU4oFqx0LCwdWS5rQl1YGg94DeEeyaAM2g0yFj+uGhxwMxhvseGBT0RoFGApTXMHVp0S8GXCx3cEzY7HtYq1LQHOO2JCAB/Oq34RoCqKWXG3M22cUoKcGalAmeSQTbowGtHZwD9A5YXBO6O8bhkqAXIz55foNXJ/f4r+8+wGazxPj9EuqBsNgS1EAwW4AcMJ4A4xpYrHd4dbrBT06/x2bs8cerZ7BWgRlQitH1I6xVGA/aa1QwB1PsF4UkhCDB6mNbrZoPkhIL/+RpQVY4gLtobyI+cQRlCeQCfwowxuKi3+GDxT1Ol3uYbgTHMEQBrAFnpn+s/RCOCZ2yAABrFexewz0Y2IOGMRZ9P6JfjjC9FRpcEYic+FPLsXRHftDPU4SdIcuwapZAo/LeKXgyGhHwkDe4i27EJ6sbfL56h99vL7EbDPbqxJMygFXssRMDdsmwvadlnYIKs7R7Dew09EbBrgnLVyO0clDE2O573G2WYEtgq8KhT2Oix4RUhG+lPI68zEK5qqICwqJGLR32LwiuJ9gTAneM3aHD19sLGLJwTFh2I/TZAKsZNoDGITLVe7d/OBhcuRV+6X6Ezb6HvupgtoTFFWFcK3zbXcCsRry8vINSDn0/Yhw02IaNULr7sAhVoVR2h5TSdD8o1UefSEkIVVQqYxcmOEvQpwPU+R77sx6HrQYMY//Q4Q+3F9iMPRQYq27A82f3GE41Buv308XqAb226JXF3hr8/u1zHG4X2L5bQ+0UVm8V+lvGxVd7DOcGQI/dKwN+do9OO2BxwF513k653Lul+IyA2T1MKZBM22LcNdVPsViU3DGIngRG3p44gEflP5O3S2ogsNPgncKNZjin8Gz1gHV3wMVyh8FqvLs5wzBoHA4aSjFWy4MX2m0HvfeImizgesAuCFAEs7F49iXw8F7hG/MCfDri8sU9iDxusqOGHSeTmqU+jnlqieiB2SmHibFVeU8mIwDktzNicQQcCI7Y53AsgQaC3gLKKux0j1tHOFvusdQDVuYAx4Svry5gNx3s6McazgzYEbprBb2ntOJ2yV7gBHR3A1Zffof1RxdgWmP7qYK9VFDE6PsRe0ew0JOGEz1uoEtHlBzUBBdMkmoGklqCEirsfAjhg06fslAHDxZVsDF6q2DR4bvlGoNTWJoR1inYtyc4+V5h+S1DWWD7oYHrAL33w9oTDxzHE4btgevPe/R3Hc4WGrZXOLlycAuF26s19NLiZLVHvMjAybsKzYguvmaQM/MRDyGmeZpaPjm/7Vl4OEY+WDj14EFBDQR9oCRfvSPQqPFwsgAzYdkP3mB/o7B+w7j89QbqYcDtn5/jcKqwf06wC685rmfw2YhxpXBPBt0tQY09zI5x8t0Au+ixveowXhCw2k8nMDZooKIYP00aUaaTa4IrtmDmxeS59NHzegYohAgAprSq8is+njLc0kHtvNDUTYf9vcFu6QAGLt8zltcW5ptb4GGH/qM1WBO2C8K4ZthVSIeMygfAC8ZwDtz8mUJ3B5wR4DTQ3RBYa+zPOziZ0JPAMeO9mFQpnEqp33IthFS7lU4WIA7xW8BGTAB3gDu16M/3OLxfgqyC2XjcZJcKIKC/Y3R3Fvz+BvzwgO7+I4wrDbvw2wrLAJEPPk/EHcN2DHsK2KXC8r0CK6C7B+wJYRh0ykElh1GajKeUiiwyATVfGEknBhzyOTQdvDkCDQpqR9APBL0jjCuFYeGV0y38SpL1CTFWjLsfG+wvFzg7/QLqwLj+vMP+ElA/u8XHp1t8dvYe27HHf379Eca9Ae4MWDPU2YCD7nA7Gg9O2WcKoidN2cdWtrMllGhmZDjSBIpZ7CLARBxUCWJAQNHevesdwewAtVewB5+i4C5gNcfghQU0Y/dSYTglOGNAFrj/jGGfjfj5x6/xk9UV/uLka7wbL/C760vcMcGxARSwXB1w0Iwd+zH0A8F1DMSEWmsuUhgtIVHRJgarEzHKhFM79E91msFd0IxRQe2D9uy9JzJbgusNcDGgOxnQ9yOMcikaf1h3cFZh82MFIsbnH32LT1c3+NsX/4FX+hZn6oCvhl0y6vzZHh+f3eEff/TvuLNL/GrzI3x5+wpf/uFD77ViOrc8mZWeqnQ0pRfjso908zVpS6GkL1GLvJDIEWD99lEDUmo1fmfjsD7Z43L1gBMz4GHsYJ3Csh8AAOf9Hutuj58//wqfdNf4q/4t1oqwY8aK9h7jGIsXqw1+dvEGf7d+gy0P+GLxFv/W/SVe31xgt+tg77u6a0flc+17q3D12KcQSA0vKPZZwz1B7xTU6Ku3nzjY5yNOznd4udrhMGowE77frOCYcHe9Au90AoK3H2zwbP2A1+tLbO0Cfzw8x51d4hdXP8Hb2zMcfnUB7oDbny5hlMOblwfcuQ5f7j/C690z7B56v5XjjX7TmHwt9pKuHph2UGbU6fGk/XS5QNYh3eEj50EjMWBPHV5+cItX63s8X2zx29vnuN0tcDgYjKMGve9gHnwYwRrYnfa40w43g4/y74YlrvZr/M/rV8D7Hs9eey91+2KBb05P8daucO1WeDM8w9V+DTcoDwVCbmo2eXnboyK4+TG2mF8QVnHTfiKectRH8BBrhjMMpUKFZizMiA9P7vDp8hr/ff0Sm7sl1NdL9LeE1VtGv2HYjuA64NYtcX/R49eLD3Cx2AEArncn0G8WWHxPuPjNAawJat/h7vUr/NPwD1DkMwWHnQHuzbRYESjGCZaXtSoGO3/Zb3ogb/Ea2aGU6tESth9r+ARYMAGWCTYQP4wabq/Rbwj9HbC4Y3Qbi3GpYBd+e9ol+a3YE7Ty+EeNgD4AZmfBRFjcaLhO4fbdaQptMBLUGMCqfgL/DS2qJv9F8s1Uk/PC9qTEWXblJZyDdw4OwEgKrAF1r/Huq5d4d3qBbjnicLMA7fxRzuHC4yNyCsNpQNwf7nFytsff//SX+GLxDq/0Lf4wvMA/7/4Gt9+uAHcCcsBwFgBkEIzHQPE4if2lByW2RuGRE99FXbq3LdtJIdEjB4fNe85RiAqAceCO4KwPP2hLcNzhsPcnHTQSWAO2Z4yrMMdnFlhYnF1u8Xz1gB/33+ET8x7P1AEbd4/V4oCHVY/DRedz1iuG6+TQId5TPJ3EZuBQCOIHAOlaMeXFoXBrwEfGNakKAVGwQ9w5WEVeQHGF9woUElh2wcAS6D7d4PJsi7/+4Df4dHGNjnzu+dvxHL87vMQv3v8Ubzfn+PZ3l1B75WM6w3Cn1p9qGM6S9VEwFI+xywsWwJTfkama0Lb6mlThtfNovpSIRNDpRkZln8eIXhBO3UMOixXDGIdVN+Dc7HCqd9i7Djs2eL27xM1wgi+vXmGzXUBvvXBdHwBp59I5HSmk7HN656MstcteNbjyWBgCkQ9Kl5FqF6nix5knCLZIBSLhhDT9mlO4SRa32vbNKb76Zo3fvn0BpRj2oMEjQd0b0EAwD4Dh6SDRLXxUX75kN7tkUfKV5c0p32ox6VgTTEWIJntQCGTWnypCCgyn/EukFw29DARjKvW+g1PsT2NH8tG+JajRD+86TBcdxD3uFuQ4+g58dSKBqdrWip+DUTdk4p3ayisGcqViVYyYOcdI5W+eZRPoHNhM3ocsBWF5Ju0CAIJHUoDrvVdC76Z4sPBM2a9CSO8lJ9kQjnzPpLwflWEjpC1W+eWDoNatq73l+2Vp/JqWKQDOaxkzh5CJAsAjgal4uplW3D/MJl7anceu3x0pR3ETAJPOlERl3rAQ0hNc50xIFMBcjHXiOkRvElU92q5iFSMN0hWBie+zay4NEFhb9FY/c9RY1YiWmlPxIrMrvsAknJJ+PEsXocKMgYrGPHr9pSzFws7SOOlB7qDmQFHGM1IYnMcoibj4rY/sFQSJUh+bjFBi2a/1kkyrlPZjdloTvWFpz0ptF+PIk7Z2eSyve4zxFh5JtzGK5j/AjsgX82aTjGNJLa9uOfGvbJOiecZ0y7RmBFGpi17A5So5A55y8JL+McZR0YjQJ2l3vEVbbFkqxyBMv7yZ2oW/8kZdZYfPonlZZtusnNRTTwwaCnb0vVJRaj8UVzRou/X4vMZPPAE5YocFUOT26krNKFF2AoINrasZQGngH7O1ARIkepJGBkn833SAGPpmc4htBb5LLyfXhEgcjn3KbSHTHTHOarnPcoLyUQm+sonnbwQ2y8yGSfvyAzxZRM8FQKwGuGIck1t3iJWYMEl6LYofAWPiooNc7ey1o+jpIj0guYqmQIVnBFB/BbMmK+HaZ69zlfZG2rYcB0nbMnWcfgygYkiP4JDqopY0GgIoBfPoEbjkOxtnoluGEhOMKN2n+HkxodEm27vE04srLnwPQnvKWzS598BcELV+cmunyU8d81UNHkloZvYrC1H+8kdNwljpNXGaAG/1glght+TmqzgiMiWNnJxgOWdpUAUDMZWSvdhb2h5Bf37fGbl2JLs5vRM7a/9UpC1NjKzOvFiNIE2CyV7JbpXaNuFJ+8rf0ACELXF17alph3+AavtpzHIucz7To2QvUU2bzE9WOfRqeackuAqzYjWP7fX00c3r5ASaNuhYEi+xMn+QBCDConQjv5H+mG53RC2JiFoX7rA28ScIabaNWnAhdJ3NsxRSJmBh9EsNI6TclfRMU9AtvDbgE34V7RUv9Qo8UEj/aa9658xlVaUgy37FFi5VvZoQg+SzqA+/KRQBcHoFnKk9l0KTEqlsMJr+ykBwes5ze0DiXxqswkXLxcu6KKgW3kqofvJimZZGwx3femwB0KeESGEcU7rKqGoStB09hi5tUoQLTduASctSWoRmWlQmtlppkNwEVDSEKXMCzdTszOZ6wiYNHo2T/C3D0hhmxlQQ5eK7YC7RKoAoGNOPV1aezZJqEJ6wlQUoEnJc1dojmlwppnrtLgw+e5appgBjjX09/+HIyraNNATJpF2qfC4EwHN4kLQnXoeJdLRY4NJuPWIfi9+TnhupcjWPwn/RPktl0PSw+rNbT8gUZjnxcrz4QGzt/L374rc6WnyLMrn5Uh5HaBwNngU/KT0bPpc2oxnB12CBHFeEG/4BzwUm51H2F5+51JjS8wbtVLOUY9aqvX2q5RizeETzgAw/PSWTcbQN0+xNn6MJulpqlgGD1lEKUH1vNfMatQhf2oHiZ5Gz1SsxSbIRdW8l+00VucedTRiEmHcqE2W1jESWlgmAWWVYooxRssEapYaV5ASa/WiOtUp6lT75v0fGCDFWk+axeUU3X4Xx0tgR8vRB1j6jWK/ninGsJNKAubCyqzkiMZYOCAkznFNqFBe7IM84TE6pha3EsU/F1cvGZeyCR+oh6hqrXEuQzfhp9G9G95V2R09RS1pFMaUdKfdoFkcR8v8UgIrRjgkJNH9eQoYCkWfpELEIbCvOQ4wjf/Rbamv1+k5LOJkXa5XKHn30qKZFr+Uln9K31qa1GKVdqvH51GQaA/8LCWaWWygKldYAAAAASUVORK5CYII=\" y=\"-128.48703\"/>\n   </g>\n   <g id=\"matplotlib.axis_7\">\n    <g id=\"xtick_10\">\n     <g id=\"line2d_22\">\n      <g>\n       <use style=\"stroke:#000000;stroke-width:0.8;\" x=\"41.276872\" xlink:href=\"#mf42be03941\" y=\"227.48703\"/>\n      </g>\n     </g>\n     <g id=\"text_22\">\n      <!-- 0 -->\n      <g transform=\"translate(38.095622 242.085467)scale(0.1 -0.1)\">\n       <use xlink:href=\"#DejaVuSans-48\"/>\n      </g>\n     </g>\n    </g>\n    <g id=\"xtick_11\">\n     <g id=\"line2d_23\">\n      <g>\n       <use style=\"stroke:#000000;stroke-width:0.8;\" x=\"80.03623\" xlink:href=\"#mf42be03941\" y=\"227.48703\"/>\n      </g>\n     </g>\n     <g id=\"text_23\">\n      <!-- 20 -->\n      <g transform=\"translate(73.67373 242.085467)scale(0.1 -0.1)\">\n       <use xlink:href=\"#DejaVuSans-50\"/>\n       <use x=\"63.623047\" xlink:href=\"#DejaVuSans-48\"/>\n      </g>\n     </g>\n    </g>\n   </g>\n   <g id=\"matplotlib.axis_8\">\n    <g id=\"ytick_13\">\n     <g id=\"line2d_24\">\n      <g>\n       <use style=\"stroke:#000000;stroke-width:0.8;\" x=\"40.307888\" xlink:href=\"#m8147ddce8c\" y=\"129.61965\"/>\n      </g>\n     </g>\n     <g id=\"text_24\">\n      <!-- 0 -->\n      <g transform=\"translate(26.945388 133.418869)scale(0.1 -0.1)\">\n       <use xlink:href=\"#DejaVuSans-48\"/>\n      </g>\n     </g>\n    </g>\n    <g id=\"ytick_14\">\n     <g id=\"line2d_25\">\n      <g>\n       <use style=\"stroke:#000000;stroke-width:0.8;\" x=\"40.307888\" xlink:href=\"#m8147ddce8c\" y=\"168.379008\"/>\n      </g>\n     </g>\n     <g id=\"text_25\">\n      <!-- 20 -->\n      <g transform=\"translate(20.582888 172.178227)scale(0.1 -0.1)\">\n       <use xlink:href=\"#DejaVuSans-50\"/>\n       <use x=\"63.623047\" xlink:href=\"#DejaVuSans-48\"/>\n      </g>\n     </g>\n    </g>\n    <g id=\"ytick_15\">\n     <g id=\"line2d_26\">\n      <g>\n       <use style=\"stroke:#000000;stroke-width:0.8;\" x=\"40.307888\" xlink:href=\"#m8147ddce8c\" y=\"207.138366\"/>\n      </g>\n     </g>\n     <g id=\"text_26\">\n      <!-- 40 -->\n      <g transform=\"translate(20.582888 210.937585)scale(0.1 -0.1)\">\n       <use xlink:href=\"#DejaVuSans-52\"/>\n       <use x=\"63.623047\" xlink:href=\"#DejaVuSans-48\"/>\n      </g>\n     </g>\n    </g>\n   </g>\n   <g id=\"patch_18\">\n    <path d=\"M 40.307888 227.48703 \nL 40.307888 128.650666 \n\" style=\"fill:none;stroke:#000000;stroke-linecap:square;stroke-linejoin:miter;stroke-width:0.8;\"/>\n   </g>\n   <g id=\"patch_19\">\n    <path d=\"M 112.012701 227.48703 \nL 112.012701 128.650666 \n\" style=\"fill:none;stroke:#000000;stroke-linecap:square;stroke-linejoin:miter;stroke-width:0.8;\"/>\n   </g>\n   <g id=\"patch_20\">\n    <path d=\"M 40.307888 227.48703 \nL 112.012701 227.48703 \n\" style=\"fill:none;stroke:#000000;stroke-linecap:square;stroke-linejoin:miter;stroke-width:0.8;\"/>\n   </g>\n   <g id=\"patch_21\">\n    <path d=\"M 40.307888 128.650666 \nL 112.012701 128.650666 \n\" style=\"fill:none;stroke:#000000;stroke-linecap:square;stroke-linejoin:miter;stroke-width:0.8;\"/>\n   </g>\n  </g>\n  <g id=\"axes_5\">\n   <g id=\"patch_22\">\n    <path d=\"M 158.472594 227.48703 \nL 230.177406 227.48703 \nL 230.177406 128.650666 \nL 158.472594 128.650666 \nz\n\" style=\"fill:#ffffff;\"/>\n   </g>\n   <g clip-path=\"url(#pbce18f6f27)\">\n    <image height=\"99\" id=\"image3b4d74f191\" transform=\"scale(1 -1)translate(0 -99)\" width=\"72\" x=\"158.472594\" xlink:href=\"data:image/png;base64,\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\" y=\"-128.48703\"/>\n   </g>\n   <g id=\"matplotlib.axis_9\">\n    <g id=\"xtick_12\">\n     <g id=\"line2d_27\">\n      <g>\n       <use style=\"stroke:#000000;stroke-width:0.8;\" x=\"159.441578\" xlink:href=\"#mf42be03941\" y=\"227.48703\"/>\n      </g>\n     </g>\n     <g id=\"text_27\">\n      <!-- 0 -->\n      <g transform=\"translate(156.260328 242.085467)scale(0.1 -0.1)\">\n       <use xlink:href=\"#DejaVuSans-48\"/>\n      </g>\n     </g>\n    </g>\n    <g id=\"xtick_13\">\n     <g id=\"line2d_28\">\n      <g>\n       <use style=\"stroke:#000000;stroke-width:0.8;\" x=\"198.200936\" xlink:href=\"#mf42be03941\" y=\"227.48703\"/>\n      </g>\n     </g>\n     <g id=\"text_28\">\n      <!-- 20 -->\n      <g transform=\"translate(191.838436 242.085467)scale(0.1 -0.1)\">\n       <use xlink:href=\"#DejaVuSans-50\"/>\n       <use x=\"63.623047\" xlink:href=\"#DejaVuSans-48\"/>\n      </g>\n     </g>\n    </g>\n   </g>\n   <g id=\"matplotlib.axis_10\">\n    <g id=\"ytick_16\">\n     <g id=\"line2d_29\">\n      <g>\n       <use style=\"stroke:#000000;stroke-width:0.8;\" x=\"158.472594\" xlink:href=\"#m8147ddce8c\" y=\"129.61965\"/>\n      </g>\n     </g>\n     <g id=\"text_29\">\n      <!-- 0 -->\n      <g transform=\"translate(145.110094 133.418869)scale(0.1 -0.1)\">\n       <use xlink:href=\"#DejaVuSans-48\"/>\n      </g>\n     </g>\n    </g>\n    <g id=\"ytick_17\">\n     <g id=\"line2d_30\">\n      <g>\n       <use style=\"stroke:#000000;stroke-width:0.8;\" x=\"158.472594\" xlink:href=\"#m8147ddce8c\" y=\"168.379008\"/>\n      </g>\n     </g>\n     <g id=\"text_30\">\n      <!-- 20 -->\n      <g transform=\"translate(138.747594 172.178227)scale(0.1 -0.1)\">\n       <use xlink:href=\"#DejaVuSans-50\"/>\n       <use x=\"63.623047\" xlink:href=\"#DejaVuSans-48\"/>\n      </g>\n     </g>\n    </g>\n    <g id=\"ytick_18\">\n     <g id=\"line2d_31\">\n      <g>\n       <use style=\"stroke:#000000;stroke-width:0.8;\" x=\"158.472594\" xlink:href=\"#m8147ddce8c\" y=\"207.138366\"/>\n      </g>\n     </g>\n     <g id=\"text_31\">\n      <!-- 40 -->\n      <g transform=\"translate(138.747594 210.937585)scale(0.1 -0.1)\">\n       <use xlink:href=\"#DejaVuSans-52\"/>\n       <use x=\"63.623047\" xlink:href=\"#DejaVuSans-48\"/>\n      </g>\n     </g>\n    </g>\n   </g>\n   <g id=\"patch_23\">\n    <path d=\"M 158.472594 227.48703 \nL 158.472594 128.650666 \n\" style=\"fill:none;stroke:#000000;stroke-linecap:square;stroke-linejoin:miter;stroke-width:0.8;\"/>\n   </g>\n   <g id=\"patch_24\">\n    <path d=\"M 230.177406 227.48703 \nL 230.177406 128.650666 \n\" style=\"fill:none;stroke:#000000;stroke-linecap:square;stroke-linejoin:miter;stroke-width:0.8;\"/>\n   </g>\n   <g id=\"patch_25\">\n    <path d=\"M 158.472594 227.48703 \nL 230.177406 227.48703 \n\" style=\"fill:none;stroke:#000000;stroke-linecap:square;stroke-linejoin:miter;stroke-width:0.8;\"/>\n   </g>\n   <g id=\"patch_26\">\n    <path d=\"M 158.472594 128.650666 \nL 230.177406 128.650666 \n\" style=\"fill:none;stroke:#000000;stroke-linecap:square;stroke-linejoin:miter;stroke-width:0.8;\"/>\n   </g>\n  </g>\n  <g id=\"axes_6\">\n   <g id=\"patch_27\">\n    <path d=\"M 276.637299 227.48703 \nL 348.342112 227.48703 \nL 348.342112 128.650666 \nL 276.637299 128.650666 \nz\n\" style=\"fill:#ffffff;\"/>\n   </g>\n   <g clip-path=\"url(#pcffd46d252)\">\n    <image height=\"99\" id=\"image2dde142992\" transform=\"scale(1 -1)translate(0 -99)\" width=\"72\" x=\"276.637299\" xlink:href=\"data:image/png;base64,\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\" y=\"-128.48703\"/>\n   </g>\n   <g id=\"matplotlib.axis_11\">\n    <g id=\"xtick_14\">\n     <g id=\"line2d_32\">\n      <g>\n       <use style=\"stroke:#000000;stroke-width:0.8;\" x=\"277.606283\" xlink:href=\"#mf42be03941\" y=\"227.48703\"/>\n      </g>\n     </g>\n     <g id=\"text_32\">\n      <!-- 0 -->\n      <g transform=\"translate(274.425033 242.085467)scale(0.1 -0.1)\">\n       <use xlink:href=\"#DejaVuSans-48\"/>\n      </g>\n     </g>\n    </g>\n    <g id=\"xtick_15\">\n     <g id=\"line2d_33\">\n      <g>\n       <use style=\"stroke:#000000;stroke-width:0.8;\" x=\"316.365642\" xlink:href=\"#mf42be03941\" y=\"227.48703\"/>\n      </g>\n     </g>\n     <g id=\"text_33\">\n      <!-- 20 -->\n      <g transform=\"translate(310.003142 242.085467)scale(0.1 -0.1)\">\n       <use xlink:href=\"#DejaVuSans-50\"/>\n       <use x=\"63.623047\" xlink:href=\"#DejaVuSans-48\"/>\n      </g>\n     </g>\n    </g>\n   </g>\n   <g id=\"matplotlib.axis_12\">\n    <g id=\"ytick_19\">\n     <g id=\"line2d_34\">\n      <g>\n       <use style=\"stroke:#000000;stroke-width:0.8;\" x=\"276.637299\" xlink:href=\"#m8147ddce8c\" y=\"129.61965\"/>\n      </g>\n     </g>\n     <g id=\"text_34\">\n      <!-- 0 -->\n      <g transform=\"translate(263.274799 133.418869)scale(0.1 -0.1)\">\n       <use xlink:href=\"#DejaVuSans-48\"/>\n      </g>\n     </g>\n    </g>\n    <g id=\"ytick_20\">\n     <g id=\"line2d_35\">\n      <g>\n       <use style=\"stroke:#000000;stroke-width:0.8;\" x=\"276.637299\" xlink:href=\"#m8147ddce8c\" y=\"168.379008\"/>\n      </g>\n     </g>\n     <g id=\"text_35\">\n      <!-- 20 -->\n      <g transform=\"translate(256.912299 172.178227)scale(0.1 -0.1)\">\n       <use xlink:href=\"#DejaVuSans-50\"/>\n       <use x=\"63.623047\" xlink:href=\"#DejaVuSans-48\"/>\n      </g>\n     </g>\n    </g>\n    <g id=\"ytick_21\">\n     <g id=\"line2d_36\">\n      <g>\n       <use style=\"stroke:#000000;stroke-width:0.8;\" x=\"276.637299\" xlink:href=\"#m8147ddce8c\" y=\"207.138366\"/>\n      </g>\n     </g>\n     <g id=\"text_36\">\n      <!-- 40 -->\n      <g transform=\"translate(256.912299 210.937585)scale(0.1 -0.1)\">\n       <use xlink:href=\"#DejaVuSans-52\"/>\n       <use x=\"63.623047\" xlink:href=\"#DejaVuSans-48\"/>\n      </g>\n     </g>\n    </g>\n   </g>\n   <g id=\"patch_28\">\n    <path d=\"M 276.637299 227.48703 \nL 276.637299 128.650666 \n\" style=\"fill:none;stroke:#000000;stroke-linecap:square;stroke-linejoin:miter;stroke-width:0.8;\"/>\n   </g>\n   <g id=\"patch_29\">\n    <path d=\"M 348.342112 227.48703 \nL 348.342112 128.650666 \n\" style=\"fill:none;stroke:#000000;stroke-linecap:square;stroke-linejoin:miter;stroke-width:0.8;\"/>\n   </g>\n   <g id=\"patch_30\">\n    <path d=\"M 276.637299 227.48703 \nL 348.342112 227.48703 \n\" style=\"fill:none;stroke:#000000;stroke-linecap:square;stroke-linejoin:miter;stroke-width:0.8;\"/>\n   </g>\n   <g id=\"patch_31\">\n    <path d=\"M 276.637299 128.650666 \nL 348.342112 128.650666 \n\" style=\"fill:none;stroke:#000000;stroke-linecap:square;stroke-linejoin:miter;stroke-width:0.8;\"/>\n   </g>\n  </g>\n </g>\n <defs>\n  <clipPath id=\"p5d3851988e\">\n   <rect height=\"98.470588\" width=\"98.470588\" x=\"26.925\" y=\"10.229917\"/>\n  </clipPath>\n  <clipPath id=\"pb047f6cde0\">\n   <rect height=\"98.470588\" width=\"98.470588\" x=\"145.089706\" y=\"10.229917\"/>\n  </clipPath>\n  <clipPath id=\"pef340a8129\">\n   <rect height=\"98.470588\" width=\"98.470588\" x=\"263.254412\" y=\"10.229917\"/>\n  </clipPath>\n  <clipPath id=\"p277cacec2a\">\n   <rect height=\"98.836364\" width=\"71.704813\" x=\"40.307888\" y=\"128.650666\"/>\n  </clipPath>\n  <clipPath id=\"pbce18f6f27\">\n   <rect height=\"98.836364\" width=\"71.704813\" x=\"158.472594\" y=\"128.650666\"/>\n  </clipPath>\n  <clipPath id=\"pcffd46d252\">\n   <rect height=\"98.836364\" width=\"71.704813\" x=\"276.637299\" y=\"128.650666\"/>\n  </clipPath>\n </defs>\n</svg>\n",
      "image/png": "[encoded data removed]"
     },
     "metadata": {
      "needs_background": "light"
     }
    }
   ],
   "source": [
    "\n",
    "\n",
    "import tifffile\n",
    "samp = df[(df.sm == 6) & (df.smmax > .96)].sample().iloc[0]\n",
    "plt.subplot(2,3,1)\n",
    "plt.imshow(ammdict[samp.mmfile][samp.mmindex][:,:,0])\n",
    "plt.subplot(2,3,2)\n",
    "plt.imshow(ammdict[samp.mmfile][samp.mmindex][:,:,1])\n",
    "plt.subplot(2,3,3)\n",
    "plt.imshow(ammdict[samp.mmfile][samp.mmindex][:,:,2])\n",
    "\n",
    "opre = samp.odir.split(\"/\")[-1]\n",
    "if \"Phago_1\" in opre:\n",
    "    opre = \"Snail_Phago1\"\n",
    "plt.subplot(2,3,4)\n",
    "ofile = f\"{samp.odir}/{opre}_{samp.index_in_file}_Ch1.ome.tif\"\n",
    "ox = tifffile.imread(ofile)\n",
    "plt.imshow(ox)\n",
    "plt.subplot(2,3,5)\n",
    "ofile = f\"{samp.odir}/{opre}_{samp.index_in_file}_Ch6.ome.tif\"\n",
    "ox = tifffile.imread(ofile)\n",
    "plt.imshow(ox)\n",
    "plt.subplot(2,3,6)\n",
    "ofile = f\"{samp.odir}/{opre}_{samp.index_in_file}_Ch11.ome.tif\"\n",
    "ox = tifffile.imread(ofile)\n",
    "plt.imshow(ox)\n",
    "samp.sm, samp.smmax, samp.mmfile, samp.mmindex\n",
    "#ammdict[samp.mmfile][samp.mmindex].shape"
   ]
  },
  {
   "cell_type": "code",
   "execution_count": 230,
   "metadata": {},
   "outputs": [],
   "source": [
    "df.to_csv(\"Data/27430_class.csv\")"
   ]
  },
  {
   "cell_type": "code",
   "execution_count": 69,
   "metadata": {
    "tags": []
   },
   "outputs": [
    {
     "data": {
      "text/html": [
       "<div>\n",
       "<style scoped>\n",
       "    .dataframe tbody tr th:only-of-type {\n",
       "        vertical-align: middle;\n",
       "    }\n",
       "\n",
       "    .dataframe tbody tr th {\n",
       "        vertical-align: top;\n",
       "    }\n",
       "\n",
       "    .dataframe thead th {\n",
       "        text-align: right;\n",
       "    }\n",
       "</style>\n",
       "<table border=\"1\" class=\"dataframe\">\n",
       "  <thead>\n",
       "    <tr style=\"text-align: right;\">\n",
       "      <th></th>\n",
       "      <th>index</th>\n",
       "      <th>cell_id</th>\n",
       "      <th>directory</th>\n",
       "      <th>channel</th>\n",
       "    </tr>\n",
       "  </thead>\n",
       "  <tbody>\n",
       "    <tr>\n",
       "      <th>0</th>\n",
       "      <td>0</td>\n",
       "      <td>158</td>\n",
       "      <td>PhagoOnly_R4</td>\n",
       "      <td>1</td>\n",
       "    </tr>\n",
       "    <tr>\n",
       "      <th>1</th>\n",
       "      <td>1</td>\n",
       "      <td>413</td>\n",
       "      <td>PhagoOnly_R4</td>\n",
       "      <td>1</td>\n",
       "    </tr>\n",
       "    <tr>\n",
       "      <th>2</th>\n",
       "      <td>2</td>\n",
       "      <td>503</td>\n",
       "      <td>PhagoOnly_R4</td>\n",
       "      <td>1</td>\n",
       "    </tr>\n",
       "    <tr>\n",
       "      <th>3</th>\n",
       "      <td>3</td>\n",
       "      <td>553</td>\n",
       "      <td>PhagoOnly_R4</td>\n",
       "      <td>1</td>\n",
       "    </tr>\n",
       "    <tr>\n",
       "      <th>4</th>\n",
       "      <td>4</td>\n",
       "      <td>606</td>\n",
       "      <td>PhagoOnly_R4</td>\n",
       "      <td>1</td>\n",
       "    </tr>\n",
       "  </tbody>\n",
       "</table>\n",
       "</div>"
      ],
      "text/plain": [
       "   index  cell_id     directory  channel\n",
       "0      0      158  PhagoOnly_R4        1\n",
       "1      1      413  PhagoOnly_R4        1\n",
       "2      2      503  PhagoOnly_R4        1\n",
       "3      3      553  PhagoOnly_R4        1\n",
       "4      4      606  PhagoOnly_R4        1"
      ]
     },
     "execution_count": 69,
     "metadata": {},
     "output_type": "execute_result"
    }
   ],
   "source": [
    "rdir = \"/n/core/cyto/_Data/Rohner/ROP/Imagestream Assay Data/Deep Learning_Feature_Analysis/Snail/Data for Classifier Analysis/phago only\"\n",
    "dirs = os.listdir(rdir)\n",
    "\n",
    "glist = list()\n",
    "for d in dirs:\n",
    "    dd = rdir + '/' + d\n",
    "    files = glob.glob(dd + '/*Ch1.*.tif')\n",
    "    files = sorted(files, key=lambda x: int(os.path.basename(x).split(\"_\")[2]))\n",
    "    fdict = dict()\n",
    "    #print(files[0:5])\n",
    "    \n",
    "    for index, f in enumerate(files):\n",
    "        bf = os.path.basename(f)\n",
    "        _sp = bf.split(\"_\")\n",
    "        cid = int(_sp[2])\n",
    "        channel = int(_sp[3][2:].split(\".\")[0])\n",
    "        glist.append({'index':index, 'cell_id':cid, 'directory':d, 'channel':channel})\n",
    "\n",
    "gdf = pd.DataFrame(glist)\n",
    "\n",
    "gdf.head()\n",
    "\n",
    "    \n"
   ]
  },
  {
   "cell_type": "code",
   "execution_count": 75,
   "metadata": {},
   "outputs": [],
   "source": [
    "def mapdataset(x):\n",
    "    #phago_only_PhagoOnly_R3.mm\n",
    "    return \"_\".join(x.split(\"_\")[2:])[:-3]\n",
    "\n",
    "radf['directory'] = radf['dataset'].map(mapdataset)"
   ]
  },
  {
   "cell_type": "code",
   "execution_count": 78,
   "metadata": {},
   "outputs": [],
   "source": [
    "merge_df = radf.merge(gdf, on=[\"index\", \"directory\"])"
   ]
  },
  {
   "cell_type": "code",
   "execution_count": 81,
   "metadata": {},
   "outputs": [
    {
     "data": {
      "text/html": [
       "<div>\n",
       "<style scoped>\n",
       "    .dataframe tbody tr th:only-of-type {\n",
       "        vertical-align: middle;\n",
       "    }\n",
       "\n",
       "    .dataframe tbody tr th {\n",
       "        vertical-align: top;\n",
       "    }\n",
       "\n",
       "    .dataframe thead th {\n",
       "        text-align: right;\n",
       "    }\n",
       "</style>\n",
       "<table border=\"1\" class=\"dataframe\">\n",
       "  <thead>\n",
       "    <tr style=\"text-align: right;\">\n",
       "      <th></th>\n",
       "      <th>index</th>\n",
       "      <th>sm</th>\n",
       "      <th>smmax</th>\n",
       "      <th>dataset</th>\n",
       "      <th>directory</th>\n",
       "      <th>cell_id</th>\n",
       "      <th>channel</th>\n",
       "    </tr>\n",
       "  </thead>\n",
       "  <tbody>\n",
       "    <tr>\n",
       "      <th>72</th>\n",
       "      <td>0</td>\n",
       "      <td>0</td>\n",
       "      <td>0.402429</td>\n",
       "      <td>phago_only_PhagoOnly_R2.mm</td>\n",
       "      <td>PhagoOnly_R2</td>\n",
       "      <td>146</td>\n",
       "      <td>1</td>\n",
       "    </tr>\n",
       "    <tr>\n",
       "      <th>73</th>\n",
       "      <td>1</td>\n",
       "      <td>4</td>\n",
       "      <td>0.897734</td>\n",
       "      <td>phago_only_PhagoOnly_R2.mm</td>\n",
       "      <td>PhagoOnly_R2</td>\n",
       "      <td>320</td>\n",
       "      <td>1</td>\n",
       "    </tr>\n",
       "    <tr>\n",
       "      <th>74</th>\n",
       "      <td>2</td>\n",
       "      <td>0</td>\n",
       "      <td>0.377605</td>\n",
       "      <td>phago_only_PhagoOnly_R2.mm</td>\n",
       "      <td>PhagoOnly_R2</td>\n",
       "      <td>652</td>\n",
       "      <td>1</td>\n",
       "    </tr>\n",
       "    <tr>\n",
       "      <th>75</th>\n",
       "      <td>3</td>\n",
       "      <td>0</td>\n",
       "      <td>0.999063</td>\n",
       "      <td>phago_only_PhagoOnly_R2.mm</td>\n",
       "      <td>PhagoOnly_R2</td>\n",
       "      <td>724</td>\n",
       "      <td>1</td>\n",
       "    </tr>\n",
       "    <tr>\n",
       "      <th>76</th>\n",
       "      <td>4</td>\n",
       "      <td>0</td>\n",
       "      <td>0.904339</td>\n",
       "      <td>phago_only_PhagoOnly_R2.mm</td>\n",
       "      <td>PhagoOnly_R2</td>\n",
       "      <td>804</td>\n",
       "      <td>1</td>\n",
       "    </tr>\n",
       "    <tr>\n",
       "      <th>...</th>\n",
       "      <td>...</td>\n",
       "      <td>...</td>\n",
       "      <td>...</td>\n",
       "      <td>...</td>\n",
       "      <td>...</td>\n",
       "      <td>...</td>\n",
       "      <td>...</td>\n",
       "    </tr>\n",
       "    <tr>\n",
       "      <th>151</th>\n",
       "      <td>79</td>\n",
       "      <td>0</td>\n",
       "      <td>0.835413</td>\n",
       "      <td>phago_only_PhagoOnly_R2.mm</td>\n",
       "      <td>PhagoOnly_R2</td>\n",
       "      <td>9237</td>\n",
       "      <td>1</td>\n",
       "    </tr>\n",
       "    <tr>\n",
       "      <th>152</th>\n",
       "      <td>80</td>\n",
       "      <td>0</td>\n",
       "      <td>0.999468</td>\n",
       "      <td>phago_only_PhagoOnly_R2.mm</td>\n",
       "      <td>PhagoOnly_R2</td>\n",
       "      <td>9266</td>\n",
       "      <td>1</td>\n",
       "    </tr>\n",
       "    <tr>\n",
       "      <th>153</th>\n",
       "      <td>81</td>\n",
       "      <td>0</td>\n",
       "      <td>0.999452</td>\n",
       "      <td>phago_only_PhagoOnly_R2.mm</td>\n",
       "      <td>PhagoOnly_R2</td>\n",
       "      <td>9586</td>\n",
       "      <td>1</td>\n",
       "    </tr>\n",
       "    <tr>\n",
       "      <th>154</th>\n",
       "      <td>82</td>\n",
       "      <td>0</td>\n",
       "      <td>0.999712</td>\n",
       "      <td>phago_only_PhagoOnly_R2.mm</td>\n",
       "      <td>PhagoOnly_R2</td>\n",
       "      <td>9692</td>\n",
       "      <td>1</td>\n",
       "    </tr>\n",
       "    <tr>\n",
       "      <th>155</th>\n",
       "      <td>83</td>\n",
       "      <td>4</td>\n",
       "      <td>0.988199</td>\n",
       "      <td>phago_only_PhagoOnly_R2.mm</td>\n",
       "      <td>PhagoOnly_R2</td>\n",
       "      <td>9919</td>\n",
       "      <td>1</td>\n",
       "    </tr>\n",
       "  </tbody>\n",
       "</table>\n",
       "<p>84 rows × 7 columns</p>\n",
       "</div>"
      ],
      "text/plain": [
       "     index  sm     smmax                     dataset     directory  cell_id  \\\n",
       "72       0   0  0.402429  phago_only_PhagoOnly_R2.mm  PhagoOnly_R2      146   \n",
       "73       1   4  0.897734  phago_only_PhagoOnly_R2.mm  PhagoOnly_R2      320   \n",
       "74       2   0  0.377605  phago_only_PhagoOnly_R2.mm  PhagoOnly_R2      652   \n",
       "75       3   0  0.999063  phago_only_PhagoOnly_R2.mm  PhagoOnly_R2      724   \n",
       "76       4   0  0.904339  phago_only_PhagoOnly_R2.mm  PhagoOnly_R2      804   \n",
       "..     ...  ..       ...                         ...           ...      ...   \n",
       "151     79   0  0.835413  phago_only_PhagoOnly_R2.mm  PhagoOnly_R2     9237   \n",
       "152     80   0  0.999468  phago_only_PhagoOnly_R2.mm  PhagoOnly_R2     9266   \n",
       "153     81   0  0.999452  phago_only_PhagoOnly_R2.mm  PhagoOnly_R2     9586   \n",
       "154     82   0  0.999712  phago_only_PhagoOnly_R2.mm  PhagoOnly_R2     9692   \n",
       "155     83   4  0.988199  phago_only_PhagoOnly_R2.mm  PhagoOnly_R2     9919   \n",
       "\n",
       "     channel  \n",
       "72         1  \n",
       "73         1  \n",
       "74         1  \n",
       "75         1  \n",
       "76         1  \n",
       "..       ...  \n",
       "151        1  \n",
       "152        1  \n",
       "153        1  \n",
       "154        1  \n",
       "155        1  \n",
       "\n",
       "[84 rows x 7 columns]"
      ]
     },
     "execution_count": 81,
     "metadata": {},
     "output_type": "execute_result"
    }
   ],
   "source": [
    "merge_df[merge_df.directory == 'PhagoOnly_R2']"
   ]
  },
  {
   "cell_type": "code",
   "execution_count": 82,
   "metadata": {},
   "outputs": [],
   "source": [
    "merge_df.to_csv(\"snail_phago_classes.csv\")"
   ]
  },
  {
   "cell_type": "code",
   "execution_count": 83,
   "metadata": {},
   "outputs": [
    {
     "data": {
      "text/plain": [
       "'/home/cjw/Code/DeepLearning/classifier'"
      ]
     },
     "execution_count": 83,
     "metadata": {},
     "output_type": "execute_result"
    }
   ],
   "source": [
    "%pwd"
   ]
  },
  {
   "cell_type": "code",
   "execution_count": null,
   "metadata": {},
   "outputs": [],
   "source": []
  }
 ],
 "metadata": {
  "kernelspec": {
   "name": "Python 3.7.9 64-bit ('tf115': conda)",
   "display_name": "Python 3.7.9 64-bit ('tf115': conda)",
   "metadata": {
    "interpreter": {
     "hash": "3a723ba7c417e395ba6570155bd3def3f4733f1b5cd919721bbb9c8bfe469a04"
    }
   }
  },
  "language_info": {
   "codemirror_mode": {
    "name": "ipython",
    "version": 3
   },
   "file_extension": ".py",
   "mimetype": "text/x-python",
   "name": "python",
   "nbconvert_exporter": "python",
   "pygments_lexer": "ipython3",
   "version": "3.7.9-final"
  }
 },
 "nbformat": 4,
 "nbformat_minor": 2
}