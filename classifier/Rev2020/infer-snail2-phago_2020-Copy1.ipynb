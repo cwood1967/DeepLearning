{
 "cells": [
  {
   "cell_type": "code",
   "execution_count": 1,
   "metadata": {},
   "outputs": [],
   "source": [
    "import numpy as np\n",
    "import tensorflow as tf\n",
    "from matplotlib import pyplot as plt\n",
    "import pandas as pd\n",
    "import seaborn as sns"
   ]
  },
  {
   "cell_type": "code",
   "execution_count": 2,
   "metadata": {},
   "outputs": [
    {
     "data": {
      "text/plain": [
       "'1.15.0'"
      ]
     },
     "execution_count": 2,
     "metadata": {},
     "output_type": "execute_result"
    }
   ],
   "source": [
    "tf.__version__"
   ]
  },
  {
   "cell_type": "code",
   "execution_count": 3,
   "metadata": {},
   "outputs": [],
   "source": [
    "\n",
    "datadir = '../Data/phago/'"
   ]
  },
  {
   "cell_type": "code",
   "execution_count": 4,
   "metadata": {
    "tags": []
   },
   "outputs": [
    {
     "name": "stdout",
     "output_type": "stream",
     "text": [
      "(7959, 64, 64, 3)\n",
      "(7882, 64, 64, 3)\n",
      "(8383, 64, 64, 3)\n",
      "(7874, 64, 64, 3)\n",
      "(8407, 64, 64, 3)\n"
     ]
    }
   ],
   "source": [
    "import glob\n",
    "\n",
    "def read_mm(mfile):\n",
    "    hm=np.memmap(mfile, dtype=np.int32, shape=(4,))\n",
    "    shape = tuple(hm)\n",
    "    del hm\n",
    "\n",
    "    mm = np.memmap(mfile, dtype=np.float32, shape=shape)\n",
    "    mm.shape\n",
    "    #del mm\n",
    "    amm = mm[:,:,:,[2, 0, 4, 0, 1]]\n",
    "    amm = amm[:,:,:, [0,2,4]]\n",
    "    del mm\n",
    "    return amm\n",
    "\n",
    "def read_data(globpattern):\n",
    "    ifiles = glob.glob(globpattern) #'Data/AAI/tiffs_FSS_24h*.mm')\n",
    "    ammdict = dict()\n",
    "    for i in ifiles:\n",
    "        amm = read_mm(i)\n",
    "        amm_m = amm.mean(axis=(1,2), keepdims=True)\n",
    "        amm_std = amm.std(axis=(1,2), keepdims=True)\n",
    "        amm = (amm - amm_m)/amm_std\n",
    "        print(amm.shape)\n",
    "        ammdict[i.split('/')[-1]] = amm\n",
    "   \n",
    "    return ammdict\n",
    "\n",
    "ammdict = read_data('../Data/phago/*.mm')"
   ]
  },
  {
   "cell_type": "code",
   "execution_count": 5,
   "metadata": {},
   "outputs": [
    {
     "data": {
      "text/plain": [
       "dict_keys(['phago_Snail_Phago_R3.mm', 'phago_Snail_Phago_R1.mm', 'phago_Snail_Phago_R5.mm', 'phago_Snail_Phago_R4.mm', 'phago_Snail_Phago_R2.mm'])"
      ]
     },
     "execution_count": 5,
     "metadata": {},
     "output_type": "execute_result"
    }
   ],
   "source": [
    "ammdict.keys()"
   ]
  },
  {
   "cell_type": "code",
   "execution_count": 6,
   "metadata": {},
   "outputs": [],
   "source": [
    "tf.reset_default_graph()\n",
    "#dud = tf.get_variable('v1', shape=[2])\n",
    "sess = tf.Session()\n"
   ]
  },
  {
   "cell_type": "code",
   "execution_count": 7,
   "metadata": {
    "tags": []
   },
   "outputs": [
    {
     "data": {
      "text/plain": [
       "<matplotlib.image.AxesImage at 0x7faf68169fd0>"
      ]
     },
     "execution_count": 7,
     "metadata": {},
     "output_type": "execute_result"
    },
    {
     "data": {
      "image/png": "[encoded data removed]",
      "text/plain": [
       "<Figure size 432x288 with 1 Axes>"
      ]
     },
     "metadata": {
      "needs_background": "light"
     },
     "output_type": "display_data"
    }
   ],
   "source": [
    "mmkeys = sorted(list(ammdict.keys()))\n",
    "plt.imshow(ammdict[mmkeys[0]][4,:,:,0], cmap='gray')"
   ]
  },
  {
   "cell_type": "code",
   "execution_count": 8,
   "metadata": {
    "tags": []
   },
   "outputs": [
    {
     "name": "stderr",
     "output_type": "stream",
     "text": [
      "WARNING: Logging before flag parsing goes to stderr.\n",
      "W0916 16:38:52.554813 140394442676032 meta_graph.py:887] The saved meta_graph is possibly from an older release:\n",
      "'metric_variables' collection should be of type 'byte_list', but instead is of type 'node_list'.\n"
     ]
    }
   ],
   "source": [
    "cpdir = '../Checkpoints/Snail_Redo_for_metrics_7_classes/best-2019-08-16-10-46/'\n",
    "checkpoint = 'best-checkpoint-21300'\n",
    "if not cpdir.endswith('/'):\n",
    "    cpdir += '/'\n",
    "\n",
    "cpmeta = cpdir + checkpoint + '.meta'\n",
    "saver = tf.train.import_meta_graph(cpmeta)\n",
    "saver.restore(sess, cpdir + checkpoint)"
   ]
  },
  {
   "cell_type": "code",
   "execution_count": 9,
   "metadata": {
    "scrolled": true,
    "tags": []
   },
   "outputs": [
    {
     "name": "stdout",
     "output_type": "stream",
     "text": [
      "dense_1/biasadd\n",
      "dense_1/BiasAdd [<tf.Tensor 'dense_1/BiasAdd:0' shape=(?, 128) dtype=float32>]\n",
      "gradients/dense_1/BiasAdd_grad/BiasAddGrad [<tf.Tensor 'gradients/dense_1/BiasAdd_grad/BiasAddGrad:0' shape=(128,) dtype=float32>]\n",
      "gradients/dense_1/BiasAdd_grad/tuple/group_deps []\n",
      "gradients/dense_1/BiasAdd_grad/tuple/control_dependency [<tf.Tensor 'gradients/dense_1/BiasAdd_grad/tuple/control_dependency:0' shape=(?, 128) dtype=float32>]\n",
      "gradients/dense_1/BiasAdd_grad/tuple/control_dependency_1 [<tf.Tensor 'gradients/dense_1/BiasAdd_grad/tuple/control_dependency_1:0' shape=(128,) dtype=float32>]\n"
     ]
    }
   ],
   "source": [
    "pq = 'dense_1/BiasAdd'.lower()\n",
    "print(pq)\n",
    "g = tf.get_default_graph()\n",
    "ops = g.get_operations()\n",
    "for op in ops:\n",
    "    if pq in op.name.lower():\n",
    "        print(op.name, op.outputs)"
   ]
  },
  {
   "cell_type": "code",
   "execution_count": 10,
   "metadata": {},
   "outputs": [],
   "source": [
    "a = sess.graph.get_tensor_by_name('dense_1/BiasAdd:0')\n",
    "b = sess.graph.get_tensor_by_name('LeakyRelu_13:0') #'dense_1/BiasAdd:0')\n",
    "sm = sess.graph.get_tensor_by_name('Softmax:0')\n",
    "\n",
    "softmax = sess.graph.get_tensor_by_name('Softmax:0')\n",
    "batch = sess.graph.get_tensor_by_name('Placeholder:0')"
   ]
  },
  {
   "cell_type": "code",
   "execution_count": 11,
   "metadata": {},
   "outputs": [
    {
     "data": {
      "text/plain": [
       "(<tf.Tensor 'dense_1/BiasAdd:0' shape=(?, 128) dtype=float32>,\n",
       " <tf.Tensor 'LeakyRelu_13:0' shape=(?, 128) dtype=float32>,\n",
       " <tf.Tensor 'Softmax:0' shape=(?, 7) dtype=float32>)"
      ]
     },
     "execution_count": 11,
     "metadata": {},
     "output_type": "execute_result"
    }
   ],
   "source": [
    "a, b, sm"
   ]
  },
  {
   "cell_type": "code",
   "execution_count": 12,
   "metadata": {},
   "outputs": [],
   "source": [
    "#data.max(axis=(0,1,2)), data.min(axis=(0,1,2))"
   ]
  },
  {
   "cell_type": "code",
   "execution_count": 13,
   "metadata": {},
   "outputs": [
    {
     "name": "stdout",
     "output_type": "stream",
     "text": [
      "7959\n",
      "7959\n",
      "7882\n",
      "7882\n",
      "8383\n",
      "8383\n",
      "7874\n",
      "7874\n",
      "8407\n",
      "8407\n"
     ]
    }
   ],
   "source": [
    "for k, v in ammdict.items():\n",
    "    #print(k, v.shape)\n",
    "    amm = ammdict[k]\n",
    "    print(len(amm))\n",
    "    mask = np.any(np.isnan(amm), axis=(1,2,3))\n",
    "    amm = amm[~mask]\n",
    "    print(len(amm))\n",
    "    ammdict[k] = amm"
   ]
  },
  {
   "cell_type": "code",
   "execution_count": 14,
   "metadata": {},
   "outputs": [
    {
     "data": {
      "text/html": [
       "<div>\n",
       "<style scoped>\n",
       "    .dataframe tbody tr th:only-of-type {\n",
       "        vertical-align: middle;\n",
       "    }\n",
       "\n",
       "    .dataframe tbody tr th {\n",
       "        vertical-align: top;\n",
       "    }\n",
       "\n",
       "    .dataframe thead th {\n",
       "        text-align: right;\n",
       "    }\n",
       "</style>\n",
       "<table border=\"1\" class=\"dataframe\">\n",
       "  <thead>\n",
       "    <tr style=\"text-align: right;\">\n",
       "      <th></th>\n",
       "      <th>ClusterID</th>\n",
       "      <th>EventID</th>\n",
       "      <th>File Name</th>\n",
       "      <th>Index in File</th>\n",
       "      <th>Event Name</th>\n",
       "      <th>Comment</th>\n",
       "      <th>:Area_Intensity_DHR</th>\n",
       "      <th>:Bright.Detail.Intensity.R3_AdaptiveErode_BF_Ch02</th>\n",
       "      <th>:Bright.Detail.Intensity.R3_AdaptiveErode_BF_Ch11</th>\n",
       "      <th>:Circularity_AdaptiveErode_BF</th>\n",
       "      <th>...</th>\n",
       "      <th>:Intensity_AdaptiveErode_BF_Ch07</th>\n",
       "      <th>:Intensity_AdaptiveErode_BF_Ch11</th>\n",
       "      <th>:Lobe.Count_Morphology_DNA_Ch11</th>\n",
       "      <th>:Max.Pixel_Intensity_Bac_Ch07</th>\n",
       "      <th>:Max.Pixel_Intensity_SSC_Ch06</th>\n",
       "      <th>:Std.Dev_AdaptiveErode_BF_Ch01</th>\n",
       "      <th>FDL-X</th>\n",
       "      <th>FDL-Y</th>\n",
       "      <th>MST-X</th>\n",
       "      <th>MST-Y</th>\n",
       "    </tr>\n",
       "  </thead>\n",
       "  <tbody>\n",
       "    <tr>\n",
       "      <th>0</th>\n",
       "      <td>27426</td>\n",
       "      <td>599</td>\n",
       "      <td>Snail1_EDTA_22_Nuc_processed</td>\n",
       "      <td>599</td>\n",
       "      <td>NaN</td>\n",
       "      <td>NaN</td>\n",
       "      <td>0.0</td>\n",
       "      <td>0.421276</td>\n",
       "      <td>0.996727</td>\n",
       "      <td>2.845171</td>\n",
       "      <td>...</td>\n",
       "      <td>2.269315</td>\n",
       "      <td>-1.312300</td>\n",
       "      <td>1.019241</td>\n",
       "      <td>0.000000</td>\n",
       "      <td>0.000000</td>\n",
       "      <td>1.355595</td>\n",
       "      <td>-4015.461400</td>\n",
       "      <td>6501.4126</td>\n",
       "      <td>2.99067</td>\n",
       "      <td>3.649607</td>\n",
       "    </tr>\n",
       "    <tr>\n",
       "      <th>1</th>\n",
       "      <td>27426</td>\n",
       "      <td>1005</td>\n",
       "      <td>Snail1_EDTA_22_Nuc_processed</td>\n",
       "      <td>1005</td>\n",
       "      <td>NaN</td>\n",
       "      <td>NaN</td>\n",
       "      <td>0.0</td>\n",
       "      <td>0.713405</td>\n",
       "      <td>1.342746</td>\n",
       "      <td>2.066545</td>\n",
       "      <td>...</td>\n",
       "      <td>1.575389</td>\n",
       "      <td>-0.567669</td>\n",
       "      <td>1.019241</td>\n",
       "      <td>0.000000</td>\n",
       "      <td>0.000000</td>\n",
       "      <td>2.879183</td>\n",
       "      <td>-3268.807400</td>\n",
       "      <td>5862.5650</td>\n",
       "      <td>2.99067</td>\n",
       "      <td>3.649607</td>\n",
       "    </tr>\n",
       "    <tr>\n",
       "      <th>2</th>\n",
       "      <td>27426</td>\n",
       "      <td>1709</td>\n",
       "      <td>Snail1_EDTA_22_Nuc_processed</td>\n",
       "      <td>1709</td>\n",
       "      <td>NaN</td>\n",
       "      <td>NaN</td>\n",
       "      <td>0.0</td>\n",
       "      <td>1.753186</td>\n",
       "      <td>1.317332</td>\n",
       "      <td>0.724890</td>\n",
       "      <td>...</td>\n",
       "      <td>0.414718</td>\n",
       "      <td>1.588493</td>\n",
       "      <td>1.019241</td>\n",
       "      <td>1.062898</td>\n",
       "      <td>9.158837</td>\n",
       "      <td>4.650456</td>\n",
       "      <td>9.861165</td>\n",
       "      <td>-5145.9120</td>\n",
       "      <td>2.99067</td>\n",
       "      <td>3.649607</td>\n",
       "    </tr>\n",
       "    <tr>\n",
       "      <th>3</th>\n",
       "      <td>27426</td>\n",
       "      <td>2267</td>\n",
       "      <td>Snail1_EDTA_22_Nuc_processed</td>\n",
       "      <td>2267</td>\n",
       "      <td>NaN</td>\n",
       "      <td>NaN</td>\n",
       "      <td>0.0</td>\n",
       "      <td>1.361206</td>\n",
       "      <td>1.402883</td>\n",
       "      <td>1.066349</td>\n",
       "      <td>...</td>\n",
       "      <td>1.609419</td>\n",
       "      <td>1.140282</td>\n",
       "      <td>1.019241</td>\n",
       "      <td>1.191142</td>\n",
       "      <td>0.682324</td>\n",
       "      <td>4.177154</td>\n",
       "      <td>-3590.194000</td>\n",
       "      <td>1424.3973</td>\n",
       "      <td>2.99067</td>\n",
       "      <td>3.649607</td>\n",
       "    </tr>\n",
       "    <tr>\n",
       "      <th>4</th>\n",
       "      <td>27426</td>\n",
       "      <td>2750</td>\n",
       "      <td>Snail1_EDTA_22_Nuc_processed</td>\n",
       "      <td>2750</td>\n",
       "      <td>NaN</td>\n",
       "      <td>NaN</td>\n",
       "      <td>0.0</td>\n",
       "      <td>0.414675</td>\n",
       "      <td>2.169115</td>\n",
       "      <td>2.065630</td>\n",
       "      <td>...</td>\n",
       "      <td>0.449730</td>\n",
       "      <td>-2.939040</td>\n",
       "      <td>1.019241</td>\n",
       "      <td>0.000000</td>\n",
       "      <td>11.793864</td>\n",
       "      <td>4.773194</td>\n",
       "      <td>-0.557998</td>\n",
       "      <td>-5210.2144</td>\n",
       "      <td>2.99067</td>\n",
       "      <td>3.649607</td>\n",
       "    </tr>\n",
       "  </tbody>\n",
       "</table>\n",
       "<p>5 rows × 32 columns</p>\n",
       "</div>"
      ],
      "text/plain": [
       "   ClusterID  EventID                     File Name  Index in File  \\\n",
       "0      27426      599  Snail1_EDTA_22_Nuc_processed            599   \n",
       "1      27426     1005  Snail1_EDTA_22_Nuc_processed           1005   \n",
       "2      27426     1709  Snail1_EDTA_22_Nuc_processed           1709   \n",
       "3      27426     2267  Snail1_EDTA_22_Nuc_processed           2267   \n",
       "4      27426     2750  Snail1_EDTA_22_Nuc_processed           2750   \n",
       "\n",
       "   Event Name  Comment  :Area_Intensity_DHR  \\\n",
       "0         NaN      NaN                  0.0   \n",
       "1         NaN      NaN                  0.0   \n",
       "2         NaN      NaN                  0.0   \n",
       "3         NaN      NaN                  0.0   \n",
       "4         NaN      NaN                  0.0   \n",
       "\n",
       "   :Bright.Detail.Intensity.R3_AdaptiveErode_BF_Ch02  \\\n",
       "0                                           0.421276   \n",
       "1                                           0.713405   \n",
       "2                                           1.753186   \n",
       "3                                           1.361206   \n",
       "4                                           0.414675   \n",
       "\n",
       "   :Bright.Detail.Intensity.R3_AdaptiveErode_BF_Ch11  \\\n",
       "0                                           0.996727   \n",
       "1                                           1.342746   \n",
       "2                                           1.317332   \n",
       "3                                           1.402883   \n",
       "4                                           2.169115   \n",
       "\n",
       "   :Circularity_AdaptiveErode_BF  ...  :Intensity_AdaptiveErode_BF_Ch07  \\\n",
       "0                       2.845171  ...                          2.269315   \n",
       "1                       2.066545  ...                          1.575389   \n",
       "2                       0.724890  ...                          0.414718   \n",
       "3                       1.066349  ...                          1.609419   \n",
       "4                       2.065630  ...                          0.449730   \n",
       "\n",
       "   :Intensity_AdaptiveErode_BF_Ch11  :Lobe.Count_Morphology_DNA_Ch11  \\\n",
       "0                         -1.312300                         1.019241   \n",
       "1                         -0.567669                         1.019241   \n",
       "2                          1.588493                         1.019241   \n",
       "3                          1.140282                         1.019241   \n",
       "4                         -2.939040                         1.019241   \n",
       "\n",
       "   :Max.Pixel_Intensity_Bac_Ch07  :Max.Pixel_Intensity_SSC_Ch06  \\\n",
       "0                       0.000000                       0.000000   \n",
       "1                       0.000000                       0.000000   \n",
       "2                       1.062898                       9.158837   \n",
       "3                       1.191142                       0.682324   \n",
       "4                       0.000000                      11.793864   \n",
       "\n",
       "   :Std.Dev_AdaptiveErode_BF_Ch01        FDL-X      FDL-Y    MST-X     MST-Y  \n",
       "0                        1.355595 -4015.461400  6501.4126  2.99067  3.649607  \n",
       "1                        2.879183 -3268.807400  5862.5650  2.99067  3.649607  \n",
       "2                        4.650456     9.861165 -5145.9120  2.99067  3.649607  \n",
       "3                        4.177154 -3590.194000  1424.3973  2.99067  3.649607  \n",
       "4                        4.773194    -0.557998 -5210.2144  2.99067  3.649607  \n",
       "\n",
       "[5 rows x 32 columns]"
      ]
     },
     "execution_count": 14,
     "metadata": {},
     "output_type": "execute_result"
    }
   ],
   "source": [
    "clusters = pd.read_csv(\"../Data/Snail2020/AllData.csv\")\n",
    "clusters.head()"
   ]
  },
  {
   "cell_type": "code",
   "execution_count": 15,
   "metadata": {},
   "outputs": [
    {
     "data": {
      "text/plain": [
       "array(['Snail1_EDTA_22_Nuc_processed', 'Snail1_Ice_10_Nuc_processed',\n",
       "       'Snail1_NoBact_3_Nuc_processed', 'Snail1_Phago_16_Nuc_processed',\n",
       "       'Snail2_EDTA_23_Nuc_processed', 'Snail2_Ice_11_Nuc_processed',\n",
       "       'Snail2_NoBact_4_Nuc_processed', 'Snail2_Phago_17_Nuc_processed',\n",
       "       'Snail3_EDTA_24_Nuc_processed', 'Snail3_Ice_12_Nuc_processed',\n",
       "       'Snail3_NoBact_5_Nuc_processed', 'Snail4_EDTA_25_Nuc_processed',\n",
       "       'Snail4_Ice_13_Nuc_processed', 'Snail4_NoBact_6_Nuc_processed',\n",
       "       'Snail4_Phago_19_Nuc_processed', 'Snail5_EDTA_26_Nuc_processed',\n",
       "       'Snail5_Ice_14_Nuc_processed', 'Snail5_NoBact_7_Nuc_processed',\n",
       "       'Snail5_Phago_20_Nuc_processed'], dtype=object)"
      ]
     },
     "execution_count": 15,
     "metadata": {},
     "output_type": "execute_result"
    }
   ],
   "source": [
    "clusters['File Name'].unique()"
   ]
  },
  {
   "cell_type": "code",
   "execution_count": 16,
   "metadata": {},
   "outputs": [],
   "source": [
    "cdf = clusters[['ClusterID', 'File Name', 'Index in File']].copy()"
   ]
  },
  {
   "cell_type": "code",
   "execution_count": 17,
   "metadata": {},
   "outputs": [
    {
     "data": {
      "text/plain": [
       "5923     1002\n",
       "3308     1029\n",
       "8009     1037\n",
       "1217     1039\n",
       "1212      104\n",
       "11991    1051\n",
       "17987    1068\n",
       "10956    1079\n",
       "3309     1091\n",
       "16941    1098\n",
       "16019    1105\n",
       "5924     1114\n",
       "3948     1125\n",
       "8005      113\n",
       "4981     1131\n",
       "11992    1138\n",
       "15015    1160\n",
       "15016    1161\n",
       "3949     1162\n",
       "11993    1169\n",
       "10957    1170\n",
       "1218     1173\n",
       "15017    1185\n",
       "13958     120\n",
       "9022     1208\n",
       "8010     1230\n",
       "3021     1234\n",
       "3310     1252\n",
       "4982     1270\n",
       "2121     1275\n",
       "11994    1277\n",
       "16020    1289\n",
       "9023     1293\n",
       "5925     1305\n",
       "11995    1306\n",
       "7096     1308\n",
       "16942    1310\n",
       "5926     1315\n",
       "15000     132\n",
       "2119      136\n",
       "16943    1365\n",
       "8011     1369\n",
       "3950     1372\n",
       "3951     1373\n",
       "15018    1382\n",
       "9963     1384\n",
       "1219     1390\n",
       "16944    1403\n",
       "15019    1409\n",
       "16021    1415\n",
       "Name: Index in File, dtype: int64"
      ]
     },
     "execution_count": 17,
     "metadata": {},
     "output_type": "execute_result"
    }
   ],
   "source": [
    "def strindex(x):\n",
    "    return str(x)\n",
    "\n",
    "cdf.loc[:,'strindex'] = cdf['Index in File'].map(strindex)\n",
    "cdf[cdf[\"File Name\"] == 'Snail1_Phago_16_Nuc_processed'].sort_values('strindex')['Index in File'].head(50)"
   ]
  },
  {
   "cell_type": "code",
   "execution_count": 41,
   "metadata": {},
   "outputs": [],
   "source": [
    "#cdf.groupby('ClusterID').agg('count')"
   ]
  },
  {
   "cell_type": "code",
   "execution_count": 26,
   "metadata": {},
   "outputs": [
    {
     "data": {
      "text/plain": [
       "(8383, 64, 64, 3)"
      ]
     },
     "execution_count": 26,
     "metadata": {},
     "output_type": "execute_result"
    }
   ],
   "source": [
    "ammdict[list(ammdict.keys())[2]].shape"
   ]
  },
  {
   "cell_type": "code",
   "execution_count": null,
   "metadata": {},
   "outputs": [],
   "source": []
  },
  {
   "cell_type": "code",
   "execution_count": 20,
   "metadata": {},
   "outputs": [
    {
     "data": {
      "text/plain": [
       "(609, 128)"
      ]
     },
     "execution_count": 20,
     "metadata": {},
     "output_type": "execute_result"
    }
   ],
   "source": [
    "images = sess.graph.get_tensor_by_name('Placeholder:0')\n",
    "adflist = list()\n",
    "d2list = list()\n",
    "for k, v in ammdict.items():\n",
    "    d2, r2, p2 = sess.run([a, b, sm], feed_dict={images:v[:, 16:48, 16:48, :]})\n",
    "    d2list.append(d2)\n",
    "    p2x = np.argmax(p2, axis=-1)\n",
    "    s = k.split('_')\n",
    "    dataset = k #\"{} {} {}\".format(s[1], s[2], s[3][0])\n",
    "    xdf = pd.DataFrame({'sm':p2x, 'smmax':p2.max(axis=-1), 'dataset':dataset})\n",
    "    adflist.append(xdf)\n",
    "\n",
    "adf = pd.concat(adflist, axis=0)\n",
    "d2array = np.concatenate(d2list)\n",
    "d2array.shape"
   ]
  },
  {
   "cell_type": "code",
   "execution_count": 21,
   "metadata": {},
   "outputs": [
    {
     "data": {
      "text/html": [
       "<div>\n",
       "<style scoped>\n",
       "    .dataframe tbody tr th:only-of-type {\n",
       "        vertical-align: middle;\n",
       "    }\n",
       "\n",
       "    .dataframe tbody tr th {\n",
       "        vertical-align: top;\n",
       "    }\n",
       "\n",
       "    .dataframe thead th {\n",
       "        text-align: right;\n",
       "    }\n",
       "</style>\n",
       "<table border=\"1\" class=\"dataframe\">\n",
       "  <thead>\n",
       "    <tr style=\"text-align: right;\">\n",
       "      <th></th>\n",
       "      <th>sm</th>\n",
       "      <th>smmax</th>\n",
       "      <th>dataset</th>\n",
       "    </tr>\n",
       "  </thead>\n",
       "  <tbody>\n",
       "    <tr>\n",
       "      <th>0</th>\n",
       "      <td>0</td>\n",
       "      <td>0.988925</td>\n",
       "      <td>phago_only_PhagoOnly_R3.mm</td>\n",
       "    </tr>\n",
       "    <tr>\n",
       "      <th>1</th>\n",
       "      <td>4</td>\n",
       "      <td>0.547325</td>\n",
       "      <td>phago_only_PhagoOnly_R3.mm</td>\n",
       "    </tr>\n",
       "    <tr>\n",
       "      <th>2</th>\n",
       "      <td>4</td>\n",
       "      <td>0.542458</td>\n",
       "      <td>phago_only_PhagoOnly_R3.mm</td>\n",
       "    </tr>\n",
       "    <tr>\n",
       "      <th>3</th>\n",
       "      <td>0</td>\n",
       "      <td>0.994146</td>\n",
       "      <td>phago_only_PhagoOnly_R3.mm</td>\n",
       "    </tr>\n",
       "    <tr>\n",
       "      <th>4</th>\n",
       "      <td>0</td>\n",
       "      <td>0.658032</td>\n",
       "      <td>phago_only_PhagoOnly_R3.mm</td>\n",
       "    </tr>\n",
       "  </tbody>\n",
       "</table>\n",
       "</div>"
      ],
      "text/plain": [
       "   sm     smmax                     dataset\n",
       "0   0  0.988925  phago_only_PhagoOnly_R3.mm\n",
       "1   4  0.547325  phago_only_PhagoOnly_R3.mm\n",
       "2   4  0.542458  phago_only_PhagoOnly_R3.mm\n",
       "3   0  0.994146  phago_only_PhagoOnly_R3.mm\n",
       "4   0  0.658032  phago_only_PhagoOnly_R3.mm"
      ]
     },
     "execution_count": 21,
     "metadata": {},
     "output_type": "execute_result"
    }
   ],
   "source": [
    "adf.head()\n"
   ]
  },
  {
   "cell_type": "code",
   "execution_count": 22,
   "metadata": {},
   "outputs": [
    {
     "data": {
      "text/plain": [
       "(array([292,   1,   1,  11, 192,  77,  35]),\n",
       " array([0. , 0.5, 1.5, 2.5, 3.5, 4.5, 5.5, 6.5]))"
      ]
     },
     "execution_count": 22,
     "metadata": {},
     "output_type": "execute_result"
    }
   ],
   "source": [
    "np.histogram(adf['sm'], bins=[0,.5, 1.5, 2.5, 3.5, 4.5, 5.5, 6.5])"
   ]
  },
  {
   "cell_type": "code",
   "execution_count": 28,
   "metadata": {},
   "outputs": [],
   "source": [
    "radf = adf.reset_index()"
   ]
  },
  {
   "cell_type": "code",
   "execution_count": 29,
   "metadata": {},
   "outputs": [],
   "source": [
    "radf.to_pickle(\"phago_only_radf_pickle_2020.pkl\")"
   ]
  },
  {
   "cell_type": "code",
   "execution_count": 69,
   "metadata": {
    "tags": []
   },
   "outputs": [
    {
     "data": {
      "text/html": [
       "<div>\n",
       "<style scoped>\n",
       "    .dataframe tbody tr th:only-of-type {\n",
       "        vertical-align: middle;\n",
       "    }\n",
       "\n",
       "    .dataframe tbody tr th {\n",
       "        vertical-align: top;\n",
       "    }\n",
       "\n",
       "    .dataframe thead th {\n",
       "        text-align: right;\n",
       "    }\n",
       "</style>\n",
       "<table border=\"1\" class=\"dataframe\">\n",
       "  <thead>\n",
       "    <tr style=\"text-align: right;\">\n",
       "      <th></th>\n",
       "      <th>index</th>\n",
       "      <th>cell_id</th>\n",
       "      <th>directory</th>\n",
       "      <th>channel</th>\n",
       "    </tr>\n",
       "  </thead>\n",
       "  <tbody>\n",
       "    <tr>\n",
       "      <th>0</th>\n",
       "      <td>0</td>\n",
       "      <td>158</td>\n",
       "      <td>PhagoOnly_R4</td>\n",
       "      <td>1</td>\n",
       "    </tr>\n",
       "    <tr>\n",
       "      <th>1</th>\n",
       "      <td>1</td>\n",
       "      <td>413</td>\n",
       "      <td>PhagoOnly_R4</td>\n",
       "      <td>1</td>\n",
       "    </tr>\n",
       "    <tr>\n",
       "      <th>2</th>\n",
       "      <td>2</td>\n",
       "      <td>503</td>\n",
       "      <td>PhagoOnly_R4</td>\n",
       "      <td>1</td>\n",
       "    </tr>\n",
       "    <tr>\n",
       "      <th>3</th>\n",
       "      <td>3</td>\n",
       "      <td>553</td>\n",
       "      <td>PhagoOnly_R4</td>\n",
       "      <td>1</td>\n",
       "    </tr>\n",
       "    <tr>\n",
       "      <th>4</th>\n",
       "      <td>4</td>\n",
       "      <td>606</td>\n",
       "      <td>PhagoOnly_R4</td>\n",
       "      <td>1</td>\n",
       "    </tr>\n",
       "  </tbody>\n",
       "</table>\n",
       "</div>"
      ],
      "text/plain": [
       "   index  cell_id     directory  channel\n",
       "0      0      158  PhagoOnly_R4        1\n",
       "1      1      413  PhagoOnly_R4        1\n",
       "2      2      503  PhagoOnly_R4        1\n",
       "3      3      553  PhagoOnly_R4        1\n",
       "4      4      606  PhagoOnly_R4        1"
      ]
     },
     "execution_count": 69,
     "metadata": {},
     "output_type": "execute_result"
    }
   ],
   "source": [
    "rdir = \"/n/core/cyto/_Data/Rohner/ROP/Imagestream Assay Data/Deep Learning_Feature_Analysis/Snail/Data for Classifier Analysis/phago only\"\n",
    "dirs = os.listdir(rdir)\n",
    "\n",
    "glist = list()\n",
    "for d in dirs:\n",
    "    dd = rdir + '/' + d\n",
    "    files = glob.glob(dd + '/*Ch1.*.tif')\n",
    "    files = sorted(files, key=lambda x: int(os.path.basename(x).split(\"_\")[2]))\n",
    "    fdict = dict()\n",
    "    #print(files[0:5])\n",
    "    \n",
    "    for index, f in enumerate(files):\n",
    "        bf = os.path.basename(f)\n",
    "        _sp = bf.split(\"_\")\n",
    "        cid = int(_sp[2])\n",
    "        channel = int(_sp[3][2:].split(\".\")[0])\n",
    "        glist.append({'index':index, 'cell_id':cid, 'directory':d, 'channel':channel})\n",
    "\n",
    "gdf = pd.DataFrame(glist)\n",
    "\n",
    "gdf.head()\n",
    "\n",
    "    \n"
   ]
  },
  {
   "cell_type": "code",
   "execution_count": 75,
   "metadata": {},
   "outputs": [],
   "source": [
    "def mapdataset(x):\n",
    "    #phago_only_PhagoOnly_R3.mm\n",
    "    return \"_\".join(x.split(\"_\")[2:])[:-3]\n",
    "\n",
    "radf['directory'] = radf['dataset'].map(mapdataset)"
   ]
  },
  {
   "cell_type": "code",
   "execution_count": 78,
   "metadata": {},
   "outputs": [],
   "source": [
    "merge_df = radf.merge(gdf, on=[\"index\", \"directory\"])"
   ]
  },
  {
   "cell_type": "code",
   "execution_count": 81,
   "metadata": {},
   "outputs": [
    {
     "data": {
      "text/html": [
       "<div>\n",
       "<style scoped>\n",
       "    .dataframe tbody tr th:only-of-type {\n",
       "        vertical-align: middle;\n",
       "    }\n",
       "\n",
       "    .dataframe tbody tr th {\n",
       "        vertical-align: top;\n",
       "    }\n",
       "\n",
       "    .dataframe thead th {\n",
       "        text-align: right;\n",
       "    }\n",
       "</style>\n",
       "<table border=\"1\" class=\"dataframe\">\n",
       "  <thead>\n",
       "    <tr style=\"text-align: right;\">\n",
       "      <th></th>\n",
       "      <th>index</th>\n",
       "      <th>sm</th>\n",
       "      <th>smmax</th>\n",
       "      <th>dataset</th>\n",
       "      <th>directory</th>\n",
       "      <th>cell_id</th>\n",
       "      <th>channel</th>\n",
       "    </tr>\n",
       "  </thead>\n",
       "  <tbody>\n",
       "    <tr>\n",
       "      <th>72</th>\n",
       "      <td>0</td>\n",
       "      <td>0</td>\n",
       "      <td>0.402429</td>\n",
       "      <td>phago_only_PhagoOnly_R2.mm</td>\n",
       "      <td>PhagoOnly_R2</td>\n",
       "      <td>146</td>\n",
       "      <td>1</td>\n",
       "    </tr>\n",
       "    <tr>\n",
       "      <th>73</th>\n",
       "      <td>1</td>\n",
       "      <td>4</td>\n",
       "      <td>0.897734</td>\n",
       "      <td>phago_only_PhagoOnly_R2.mm</td>\n",
       "      <td>PhagoOnly_R2</td>\n",
       "      <td>320</td>\n",
       "      <td>1</td>\n",
       "    </tr>\n",
       "    <tr>\n",
       "      <th>74</th>\n",
       "      <td>2</td>\n",
       "      <td>0</td>\n",
       "      <td>0.377605</td>\n",
       "      <td>phago_only_PhagoOnly_R2.mm</td>\n",
       "      <td>PhagoOnly_R2</td>\n",
       "      <td>652</td>\n",
       "      <td>1</td>\n",
       "    </tr>\n",
       "    <tr>\n",
       "      <th>75</th>\n",
       "      <td>3</td>\n",
       "      <td>0</td>\n",
       "      <td>0.999063</td>\n",
       "      <td>phago_only_PhagoOnly_R2.mm</td>\n",
       "      <td>PhagoOnly_R2</td>\n",
       "      <td>724</td>\n",
       "      <td>1</td>\n",
       "    </tr>\n",
       "    <tr>\n",
       "      <th>76</th>\n",
       "      <td>4</td>\n",
       "      <td>0</td>\n",
       "      <td>0.904339</td>\n",
       "      <td>phago_only_PhagoOnly_R2.mm</td>\n",
       "      <td>PhagoOnly_R2</td>\n",
       "      <td>804</td>\n",
       "      <td>1</td>\n",
       "    </tr>\n",
       "    <tr>\n",
       "      <th>...</th>\n",
       "      <td>...</td>\n",
       "      <td>...</td>\n",
       "      <td>...</td>\n",
       "      <td>...</td>\n",
       "      <td>...</td>\n",
       "      <td>...</td>\n",
       "      <td>...</td>\n",
       "    </tr>\n",
       "    <tr>\n",
       "      <th>151</th>\n",
       "      <td>79</td>\n",
       "      <td>0</td>\n",
       "      <td>0.835413</td>\n",
       "      <td>phago_only_PhagoOnly_R2.mm</td>\n",
       "      <td>PhagoOnly_R2</td>\n",
       "      <td>9237</td>\n",
       "      <td>1</td>\n",
       "    </tr>\n",
       "    <tr>\n",
       "      <th>152</th>\n",
       "      <td>80</td>\n",
       "      <td>0</td>\n",
       "      <td>0.999468</td>\n",
       "      <td>phago_only_PhagoOnly_R2.mm</td>\n",
       "      <td>PhagoOnly_R2</td>\n",
       "      <td>9266</td>\n",
       "      <td>1</td>\n",
       "    </tr>\n",
       "    <tr>\n",
       "      <th>153</th>\n",
       "      <td>81</td>\n",
       "      <td>0</td>\n",
       "      <td>0.999452</td>\n",
       "      <td>phago_only_PhagoOnly_R2.mm</td>\n",
       "      <td>PhagoOnly_R2</td>\n",
       "      <td>9586</td>\n",
       "      <td>1</td>\n",
       "    </tr>\n",
       "    <tr>\n",
       "      <th>154</th>\n",
       "      <td>82</td>\n",
       "      <td>0</td>\n",
       "      <td>0.999712</td>\n",
       "      <td>phago_only_PhagoOnly_R2.mm</td>\n",
       "      <td>PhagoOnly_R2</td>\n",
       "      <td>9692</td>\n",
       "      <td>1</td>\n",
       "    </tr>\n",
       "    <tr>\n",
       "      <th>155</th>\n",
       "      <td>83</td>\n",
       "      <td>4</td>\n",
       "      <td>0.988199</td>\n",
       "      <td>phago_only_PhagoOnly_R2.mm</td>\n",
       "      <td>PhagoOnly_R2</td>\n",
       "      <td>9919</td>\n",
       "      <td>1</td>\n",
       "    </tr>\n",
       "  </tbody>\n",
       "</table>\n",
       "<p>84 rows × 7 columns</p>\n",
       "</div>"
      ],
      "text/plain": [
       "     index  sm     smmax                     dataset     directory  cell_id  \\\n",
       "72       0   0  0.402429  phago_only_PhagoOnly_R2.mm  PhagoOnly_R2      146   \n",
       "73       1   4  0.897734  phago_only_PhagoOnly_R2.mm  PhagoOnly_R2      320   \n",
       "74       2   0  0.377605  phago_only_PhagoOnly_R2.mm  PhagoOnly_R2      652   \n",
       "75       3   0  0.999063  phago_only_PhagoOnly_R2.mm  PhagoOnly_R2      724   \n",
       "76       4   0  0.904339  phago_only_PhagoOnly_R2.mm  PhagoOnly_R2      804   \n",
       "..     ...  ..       ...                         ...           ...      ...   \n",
       "151     79   0  0.835413  phago_only_PhagoOnly_R2.mm  PhagoOnly_R2     9237   \n",
       "152     80   0  0.999468  phago_only_PhagoOnly_R2.mm  PhagoOnly_R2     9266   \n",
       "153     81   0  0.999452  phago_only_PhagoOnly_R2.mm  PhagoOnly_R2     9586   \n",
       "154     82   0  0.999712  phago_only_PhagoOnly_R2.mm  PhagoOnly_R2     9692   \n",
       "155     83   4  0.988199  phago_only_PhagoOnly_R2.mm  PhagoOnly_R2     9919   \n",
       "\n",
       "     channel  \n",
       "72         1  \n",
       "73         1  \n",
       "74         1  \n",
       "75         1  \n",
       "76         1  \n",
       "..       ...  \n",
       "151        1  \n",
       "152        1  \n",
       "153        1  \n",
       "154        1  \n",
       "155        1  \n",
       "\n",
       "[84 rows x 7 columns]"
      ]
     },
     "execution_count": 81,
     "metadata": {},
     "output_type": "execute_result"
    }
   ],
   "source": [
    "merge_df[merge_df.directory == 'PhagoOnly_R2']"
   ]
  },
  {
   "cell_type": "code",
   "execution_count": 82,
   "metadata": {},
   "outputs": [],
   "source": [
    "merge_df.to_csv(\"snail_phago_classes.csv\")"
   ]
  },
  {
   "cell_type": "code",
   "execution_count": 83,
   "metadata": {},
   "outputs": [
    {
     "data": {
      "text/plain": [
       "'/home/cjw/Code/DeepLearning/classifier'"
      ]
     },
     "execution_count": 83,
     "metadata": {},
     "output_type": "execute_result"
    }
   ],
   "source": [
    "%pwd"
   ]
  },
  {
   "cell_type": "code",
   "execution_count": null,
   "metadata": {},
   "outputs": [],
   "source": []
  }
 ],
 "metadata": {
  "kernelspec": {
   "display_name": "Environment (conda_deep)",
   "language": "python",
   "name": "conda_deep"
  },
  "language_info": {
   "codemirror_mode": {
    "name": "ipython",
    "version": 3
   },
   "file_extension": ".py",
   "mimetype": "text/x-python",
   "name": "python",
   "nbconvert_exporter": "python",
   "pygments_lexer": "ipython3",
   "version": "3.6.8"
  }
 },
 "nbformat": 4,
 "nbformat_minor": 2
}
