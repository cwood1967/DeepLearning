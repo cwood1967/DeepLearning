{
 "cells": [
  {
   "cell_type": "code",
   "execution_count": 1,
   "metadata": {},
   "outputs": [],
   "source": [
    "import numpy as np\n",
    "import tensorflow as tf\n",
    "from matplotlib import pyplot as plt\n",
    "import pandas as pd\n",
    "import seaborn as sns"
   ]
  },
  {
   "cell_type": "code",
   "execution_count": 2,
   "metadata": {},
   "outputs": [
    {
     "output_type": "execute_result",
     "data": {
      "text/plain": "'1.15.0'"
     },
     "metadata": {},
     "execution_count": 2
    }
   ],
   "source": [
    "tf.__version__"
   ]
  },
  {
   "cell_type": "code",
   "execution_count": 3,
   "metadata": {},
   "outputs": [],
   "source": [
    "\n",
    "datadir = 'Data/phago_only/'"
   ]
  },
  {
   "cell_type": "code",
   "execution_count": 4,
   "metadata": {
    "tags": []
   },
   "outputs": [
    {
     "output_type": "stream",
     "name": "stdout",
     "text": "(72, 64, 64, 3)\n(84, 64, 64, 3)\n(170, 64, 64, 3)\n(142, 64, 64, 3)\n(141, 64, 64, 3)\n"
    }
   ],
   "source": [
    "import glob\n",
    "\n",
    "def read_mm(mfile):\n",
    "    hm=np.memmap(mfile, dtype=np.int32, shape=(4,))\n",
    "    shape = tuple(hm)\n",
    "    del hm\n",
    "\n",
    "    mm = np.memmap(mfile, dtype=np.float32, shape=shape)\n",
    "    mm.shape\n",
    "    #del mm\n",
    "    amm = mm[:,:,:,[2, 0, 4, 0, 1]]\n",
    "    amm = amm[:,:,:, [0,2,4]]\n",
    "    del mm\n",
    "    return amm\n",
    "\n",
    "def read_data(globpattern):\n",
    "    ifiles = glob.glob(globpattern) #'Data/AAI/tiffs_FSS_24h*.mm')\n",
    "    ammdict = dict()\n",
    "    for i in ifiles:\n",
    "        amm = read_mm(i)\n",
    "        amm_m = amm.mean(axis=(1,2), keepdims=True)\n",
    "        amm_std = amm.std(axis=(1,2), keepdims=True)\n",
    "        amm = (amm - amm_m)/amm_std\n",
    "        print(amm.shape)\n",
    "        ammdict[i.split('/')[-1]] = amm\n",
    "   \n",
    "    return ammdict\n",
    "\n",
    "ammdict = read_data('Data/phago_only/*.mm')"
   ]
  },
  {
   "cell_type": "code",
   "execution_count": null,
   "metadata": {},
   "outputs": [],
   "source": []
  },
  {
   "cell_type": "code",
   "execution_count": 5,
   "metadata": {},
   "outputs": [],
   "source": [
    "tf.reset_default_graph()\n",
    "#dud = tf.get_variable('v1', shape=[2])\n",
    "sess = tf.Session()\n"
   ]
  },
  {
   "cell_type": "code",
   "execution_count": 6,
   "metadata": {
    "tags": []
   },
   "outputs": [
    {
     "output_type": "stream",
     "name": "stdout",
     "text": "dict_keys(['phago_only_PhagoOnly_R3.mm', 'phago_only_PhagoOnly_R2.mm', 'phago_only_PhagoOnly_R5.mm', 'phago_only_PhagoOnly_R4.mm', 'phago_only_PhagoOnly_R1.mm'])\n"
    },
    {
     "output_type": "execute_result",
     "data": {
      "text/plain": "<matplotlib.image.AxesImage at 0x7fc63c142908>"
     },
     "metadata": {},
     "execution_count": 6
    },
    {
     "output_type": "display_data",
     "data": {
      "text/plain": "<Figure size 432x288 with 1 Axes>",
      "image/svg+xml": "<?xml version=\"1.0\" encoding=\"utf-8\" standalone=\"no\"?>\n<!DOCTYPE svg PUBLIC \"-//W3C//DTD SVG 1.1//EN\"\n  \"http://www.w3.org/Graphics/SVG/1.1/DTD/svg11.dtd\">\n<!-- Created with matplotlib (https://matplotlib.org/) -->\n<svg height=\"250.618594pt\" version=\"1.1\" viewBox=\"0 0 251.565 250.618594\" width=\"251.565pt\" xmlns=\"http://www.w3.org/2000/svg\" xmlns:xlink=\"http://www.w3.org/1999/xlink\">\n <defs>\n  <style type=\"text/css\">\n*{stroke-linecap:butt;stroke-linejoin:round;}\n  </style>\n </defs>\n <g id=\"figure_1\">\n  <g id=\"patch_1\">\n   <path d=\"M 0 250.618594 \nL 251.565 250.618594 \nL 251.565 0 \nL 0 0 \nz\n\" style=\"fill:none;\"/>\n  </g>\n  <g id=\"axes_1\">\n   <g id=\"patch_2\">\n    <path d=\"M 26.925 226.740469 \nL 244.365 226.740469 \nL 244.365 9.300469 \nL 26.925 9.300469 \nz\n\" style=\"fill:#ffffff;\"/>\n   </g>\n   <g clip-path=\"url(#p8345c22d94)\">\n    <image height=\"218\" id=\"image59b2b4f123\" transform=\"scale(1 -1)translate(0 -218)\" width=\"218\" x=\"26.925\" xlink:href=\"data:image/png;base64,\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\" y=\"-8.740469\"/>\n   </g>\n   <g id=\"matplotlib.axis_1\">\n    <g id=\"xtick_1\">\n     <g id=\"line2d_1\">\n      <defs>\n       <path d=\"M 0 0 \nL 0 3.5 \n\" id=\"m2565522a49\" style=\"stroke:#000000;stroke-width:0.8;\"/>\n      </defs>\n      <g>\n       <use style=\"stroke:#000000;stroke-width:0.8;\" x=\"28.62375\" xlink:href=\"#m2565522a49\" y=\"226.740469\"/>\n      </g>\n     </g>\n     <g id=\"text_1\">\n      <!-- 0 -->\n      <defs>\n       <path d=\"M 31.78125 66.40625 \nQ 24.171875 66.40625 20.328125 58.90625 \nQ 16.5 51.421875 16.5 36.375 \nQ 16.5 21.390625 20.328125 13.890625 \nQ 24.171875 6.390625 31.78125 6.390625 \nQ 39.453125 6.390625 43.28125 13.890625 \nQ 47.125 21.390625 47.125 36.375 \nQ 47.125 51.421875 43.28125 58.90625 \nQ 39.453125 66.40625 31.78125 66.40625 \nz\nM 31.78125 74.21875 \nQ 44.046875 74.21875 50.515625 64.515625 \nQ 56.984375 54.828125 56.984375 36.375 \nQ 56.984375 17.96875 50.515625 8.265625 \nQ 44.046875 -1.421875 31.78125 -1.421875 \nQ 19.53125 -1.421875 13.0625 8.265625 \nQ 6.59375 17.96875 6.59375 36.375 \nQ 6.59375 54.828125 13.0625 64.515625 \nQ 19.53125 74.21875 31.78125 74.21875 \nz\n\" id=\"DejaVuSans-48\"/>\n      </defs>\n      <g transform=\"translate(25.4425 241.338906)scale(0.1 -0.1)\">\n       <use xlink:href=\"#DejaVuSans-48\"/>\n      </g>\n     </g>\n    </g>\n    <g id=\"xtick_2\">\n     <g id=\"line2d_2\">\n      <g>\n       <use style=\"stroke:#000000;stroke-width:0.8;\" x=\"62.59875\" xlink:href=\"#m2565522a49\" y=\"226.740469\"/>\n      </g>\n     </g>\n     <g id=\"text_2\">\n      <!-- 10 -->\n      <defs>\n       <path d=\"M 12.40625 8.296875 \nL 28.515625 8.296875 \nL 28.515625 63.921875 \nL 10.984375 60.40625 \nL 10.984375 69.390625 \nL 28.421875 72.90625 \nL 38.28125 72.90625 \nL 38.28125 8.296875 \nL 54.390625 8.296875 \nL 54.390625 0 \nL 12.40625 0 \nz\n\" id=\"DejaVuSans-49\"/>\n      </defs>\n      <g transform=\"translate(56.23625 241.338906)scale(0.1 -0.1)\">\n       <use xlink:href=\"#DejaVuSans-49\"/>\n       <use x=\"63.623047\" xlink:href=\"#DejaVuSans-48\"/>\n      </g>\n     </g>\n    </g>\n    <g id=\"xtick_3\">\n     <g id=\"line2d_3\">\n      <g>\n       <use style=\"stroke:#000000;stroke-width:0.8;\" x=\"96.57375\" xlink:href=\"#m2565522a49\" y=\"226.740469\"/>\n      </g>\n     </g>\n     <g id=\"text_3\">\n      <!-- 20 -->\n      <defs>\n       <path d=\"M 19.1875 8.296875 \nL 53.609375 8.296875 \nL 53.609375 0 \nL 7.328125 0 \nL 7.328125 8.296875 \nQ 12.9375 14.109375 22.625 23.890625 \nQ 32.328125 33.6875 34.8125 36.53125 \nQ 39.546875 41.84375 41.421875 45.53125 \nQ 43.3125 49.21875 43.3125 52.78125 \nQ 43.3125 58.59375 39.234375 62.25 \nQ 35.15625 65.921875 28.609375 65.921875 \nQ 23.96875 65.921875 18.8125 64.3125 \nQ 13.671875 62.703125 7.8125 59.421875 \nL 7.8125 69.390625 \nQ 13.765625 71.78125 18.9375 73 \nQ 24.125 74.21875 28.421875 74.21875 \nQ 39.75 74.21875 46.484375 68.546875 \nQ 53.21875 62.890625 53.21875 53.421875 \nQ 53.21875 48.921875 51.53125 44.890625 \nQ 49.859375 40.875 45.40625 35.40625 \nQ 44.1875 33.984375 37.640625 27.21875 \nQ 31.109375 20.453125 19.1875 8.296875 \nz\n\" id=\"DejaVuSans-50\"/>\n      </defs>\n      <g transform=\"translate(90.21125 241.338906)scale(0.1 -0.1)\">\n       <use xlink:href=\"#DejaVuSans-50\"/>\n       <use x=\"63.623047\" xlink:href=\"#DejaVuSans-48\"/>\n      </g>\n     </g>\n    </g>\n    <g id=\"xtick_4\">\n     <g id=\"line2d_4\">\n      <g>\n       <use style=\"stroke:#000000;stroke-width:0.8;\" x=\"130.54875\" xlink:href=\"#m2565522a49\" y=\"226.740469\"/>\n      </g>\n     </g>\n     <g id=\"text_4\">\n      <!-- 30 -->\n      <defs>\n       <path d=\"M 40.578125 39.3125 \nQ 47.65625 37.796875 51.625 33 \nQ 55.609375 28.21875 55.609375 21.1875 \nQ 55.609375 10.40625 48.1875 4.484375 \nQ 40.765625 -1.421875 27.09375 -1.421875 \nQ 22.515625 -1.421875 17.65625 -0.515625 \nQ 12.796875 0.390625 7.625 2.203125 \nL 7.625 11.71875 \nQ 11.71875 9.328125 16.59375 8.109375 \nQ 21.484375 6.890625 26.8125 6.890625 \nQ 36.078125 6.890625 40.9375 10.546875 \nQ 45.796875 14.203125 45.796875 21.1875 \nQ 45.796875 27.640625 41.28125 31.265625 \nQ 36.765625 34.90625 28.71875 34.90625 \nL 20.21875 34.90625 \nL 20.21875 43.015625 \nL 29.109375 43.015625 \nQ 36.375 43.015625 40.234375 45.921875 \nQ 44.09375 48.828125 44.09375 54.296875 \nQ 44.09375 59.90625 40.109375 62.90625 \nQ 36.140625 65.921875 28.71875 65.921875 \nQ 24.65625 65.921875 20.015625 65.03125 \nQ 15.375 64.15625 9.8125 62.3125 \nL 9.8125 71.09375 \nQ 15.4375 72.65625 20.34375 73.4375 \nQ 25.25 74.21875 29.59375 74.21875 \nQ 40.828125 74.21875 47.359375 69.109375 \nQ 53.90625 64.015625 53.90625 55.328125 \nQ 53.90625 49.265625 50.4375 45.09375 \nQ 46.96875 40.921875 40.578125 39.3125 \nz\n\" id=\"DejaVuSans-51\"/>\n      </defs>\n      <g transform=\"translate(124.18625 241.338906)scale(0.1 -0.1)\">\n       <use xlink:href=\"#DejaVuSans-51\"/>\n       <use x=\"63.623047\" xlink:href=\"#DejaVuSans-48\"/>\n      </g>\n     </g>\n    </g>\n    <g id=\"xtick_5\">\n     <g id=\"line2d_5\">\n      <g>\n       <use style=\"stroke:#000000;stroke-width:0.8;\" x=\"164.52375\" xlink:href=\"#m2565522a49\" y=\"226.740469\"/>\n      </g>\n     </g>\n     <g id=\"text_5\">\n      <!-- 40 -->\n      <defs>\n       <path d=\"M 37.796875 64.3125 \nL 12.890625 25.390625 \nL 37.796875 25.390625 \nz\nM 35.203125 72.90625 \nL 47.609375 72.90625 \nL 47.609375 25.390625 \nL 58.015625 25.390625 \nL 58.015625 17.1875 \nL 47.609375 17.1875 \nL 47.609375 0 \nL 37.796875 0 \nL 37.796875 17.1875 \nL 4.890625 17.1875 \nL 4.890625 26.703125 \nz\n\" id=\"DejaVuSans-52\"/>\n      </defs>\n      <g transform=\"translate(158.16125 241.338906)scale(0.1 -0.1)\">\n       <use xlink:href=\"#DejaVuSans-52\"/>\n       <use x=\"63.623047\" xlink:href=\"#DejaVuSans-48\"/>\n      </g>\n     </g>\n    </g>\n    <g id=\"xtick_6\">\n     <g id=\"line2d_6\">\n      <g>\n       <use style=\"stroke:#000000;stroke-width:0.8;\" x=\"198.49875\" xlink:href=\"#m2565522a49\" y=\"226.740469\"/>\n      </g>\n     </g>\n     <g id=\"text_6\">\n      <!-- 50 -->\n      <defs>\n       <path d=\"M 10.796875 72.90625 \nL 49.515625 72.90625 \nL 49.515625 64.59375 \nL 19.828125 64.59375 \nL 19.828125 46.734375 \nQ 21.96875 47.46875 24.109375 47.828125 \nQ 26.265625 48.1875 28.421875 48.1875 \nQ 40.625 48.1875 47.75 41.5 \nQ 54.890625 34.8125 54.890625 23.390625 \nQ 54.890625 11.625 47.5625 5.09375 \nQ 40.234375 -1.421875 26.90625 -1.421875 \nQ 22.3125 -1.421875 17.546875 -0.640625 \nQ 12.796875 0.140625 7.71875 1.703125 \nL 7.71875 11.625 \nQ 12.109375 9.234375 16.796875 8.0625 \nQ 21.484375 6.890625 26.703125 6.890625 \nQ 35.15625 6.890625 40.078125 11.328125 \nQ 45.015625 15.765625 45.015625 23.390625 \nQ 45.015625 31 40.078125 35.4375 \nQ 35.15625 39.890625 26.703125 39.890625 \nQ 22.75 39.890625 18.8125 39.015625 \nQ 14.890625 38.140625 10.796875 36.28125 \nz\n\" id=\"DejaVuSans-53\"/>\n      </defs>\n      <g transform=\"translate(192.13625 241.338906)scale(0.1 -0.1)\">\n       <use xlink:href=\"#DejaVuSans-53\"/>\n       <use x=\"63.623047\" xlink:href=\"#DejaVuSans-48\"/>\n      </g>\n     </g>\n    </g>\n    <g id=\"xtick_7\">\n     <g id=\"line2d_7\">\n      <g>\n       <use style=\"stroke:#000000;stroke-width:0.8;\" x=\"232.47375\" xlink:href=\"#m2565522a49\" y=\"226.740469\"/>\n      </g>\n     </g>\n     <g id=\"text_7\">\n      <!-- 60 -->\n      <defs>\n       <path d=\"M 33.015625 40.375 \nQ 26.375 40.375 22.484375 35.828125 \nQ 18.609375 31.296875 18.609375 23.390625 \nQ 18.609375 15.53125 22.484375 10.953125 \nQ 26.375 6.390625 33.015625 6.390625 \nQ 39.65625 6.390625 43.53125 10.953125 \nQ 47.40625 15.53125 47.40625 23.390625 \nQ 47.40625 31.296875 43.53125 35.828125 \nQ 39.65625 40.375 33.015625 40.375 \nz\nM 52.59375 71.296875 \nL 52.59375 62.3125 \nQ 48.875 64.0625 45.09375 64.984375 \nQ 41.3125 65.921875 37.59375 65.921875 \nQ 27.828125 65.921875 22.671875 59.328125 \nQ 17.53125 52.734375 16.796875 39.40625 \nQ 19.671875 43.65625 24.015625 45.921875 \nQ 28.375 48.1875 33.59375 48.1875 \nQ 44.578125 48.1875 50.953125 41.515625 \nQ 57.328125 34.859375 57.328125 23.390625 \nQ 57.328125 12.15625 50.6875 5.359375 \nQ 44.046875 -1.421875 33.015625 -1.421875 \nQ 20.359375 -1.421875 13.671875 8.265625 \nQ 6.984375 17.96875 6.984375 36.375 \nQ 6.984375 53.65625 15.1875 63.9375 \nQ 23.390625 74.21875 37.203125 74.21875 \nQ 40.921875 74.21875 44.703125 73.484375 \nQ 48.484375 72.75 52.59375 71.296875 \nz\n\" id=\"DejaVuSans-54\"/>\n      </defs>\n      <g transform=\"translate(226.11125 241.338906)scale(0.1 -0.1)\">\n       <use xlink:href=\"#DejaVuSans-54\"/>\n       <use x=\"63.623047\" xlink:href=\"#DejaVuSans-48\"/>\n      </g>\n     </g>\n    </g>\n   </g>\n   <g id=\"matplotlib.axis_2\">\n    <g id=\"ytick_1\">\n     <g id=\"line2d_8\">\n      <defs>\n       <path d=\"M 0 0 \nL -3.5 0 \n\" id=\"md02a62914b\" style=\"stroke:#000000;stroke-width:0.8;\"/>\n      </defs>\n      <g>\n       <use style=\"stroke:#000000;stroke-width:0.8;\" x=\"26.925\" xlink:href=\"#md02a62914b\" y=\"10.999219\"/>\n      </g>\n     </g>\n     <g id=\"text_8\">\n      <!-- 0 -->\n      <g transform=\"translate(13.5625 14.798437)scale(0.1 -0.1)\">\n       <use xlink:href=\"#DejaVuSans-48\"/>\n      </g>\n     </g>\n    </g>\n    <g id=\"ytick_2\">\n     <g id=\"line2d_9\">\n      <g>\n       <use style=\"stroke:#000000;stroke-width:0.8;\" x=\"26.925\" xlink:href=\"#md02a62914b\" y=\"44.974219\"/>\n      </g>\n     </g>\n     <g id=\"text_9\">\n      <!-- 10 -->\n      <g transform=\"translate(7.2 48.773437)scale(0.1 -0.1)\">\n       <use xlink:href=\"#DejaVuSans-49\"/>\n       <use x=\"63.623047\" xlink:href=\"#DejaVuSans-48\"/>\n      </g>\n     </g>\n    </g>\n    <g id=\"ytick_3\">\n     <g id=\"line2d_10\">\n      <g>\n       <use style=\"stroke:#000000;stroke-width:0.8;\" x=\"26.925\" xlink:href=\"#md02a62914b\" y=\"78.949219\"/>\n      </g>\n     </g>\n     <g id=\"text_10\">\n      <!-- 20 -->\n      <g transform=\"translate(7.2 82.748437)scale(0.1 -0.1)\">\n       <use xlink:href=\"#DejaVuSans-50\"/>\n       <use x=\"63.623047\" xlink:href=\"#DejaVuSans-48\"/>\n      </g>\n     </g>\n    </g>\n    <g id=\"ytick_4\">\n     <g id=\"line2d_11\">\n      <g>\n       <use style=\"stroke:#000000;stroke-width:0.8;\" x=\"26.925\" xlink:href=\"#md02a62914b\" y=\"112.924219\"/>\n      </g>\n     </g>\n     <g id=\"text_11\">\n      <!-- 30 -->\n      <g transform=\"translate(7.2 116.723437)scale(0.1 -0.1)\">\n       <use xlink:href=\"#DejaVuSans-51\"/>\n       <use x=\"63.623047\" xlink:href=\"#DejaVuSans-48\"/>\n      </g>\n     </g>\n    </g>\n    <g id=\"ytick_5\">\n     <g id=\"line2d_12\">\n      <g>\n       <use style=\"stroke:#000000;stroke-width:0.8;\" x=\"26.925\" xlink:href=\"#md02a62914b\" y=\"146.899219\"/>\n      </g>\n     </g>\n     <g id=\"text_12\">\n      <!-- 40 -->\n      <g transform=\"translate(7.2 150.698437)scale(0.1 -0.1)\">\n       <use xlink:href=\"#DejaVuSans-52\"/>\n       <use x=\"63.623047\" xlink:href=\"#DejaVuSans-48\"/>\n      </g>\n     </g>\n    </g>\n    <g id=\"ytick_6\">\n     <g id=\"line2d_13\">\n      <g>\n       <use style=\"stroke:#000000;stroke-width:0.8;\" x=\"26.925\" xlink:href=\"#md02a62914b\" y=\"180.874219\"/>\n      </g>\n     </g>\n     <g id=\"text_13\">\n      <!-- 50 -->\n      <g transform=\"translate(7.2 184.673437)scale(0.1 -0.1)\">\n       <use xlink:href=\"#DejaVuSans-53\"/>\n       <use x=\"63.623047\" xlink:href=\"#DejaVuSans-48\"/>\n      </g>\n     </g>\n    </g>\n    <g id=\"ytick_7\">\n     <g id=\"line2d_14\">\n      <g>\n       <use style=\"stroke:#000000;stroke-width:0.8;\" x=\"26.925\" xlink:href=\"#md02a62914b\" y=\"214.849219\"/>\n      </g>\n     </g>\n     <g id=\"text_14\">\n      <!-- 60 -->\n      <g transform=\"translate(7.2 218.648437)scale(0.1 -0.1)\">\n       <use xlink:href=\"#DejaVuSans-54\"/>\n       <use x=\"63.623047\" xlink:href=\"#DejaVuSans-48\"/>\n      </g>\n     </g>\n    </g>\n   </g>\n   <g id=\"patch_3\">\n    <path d=\"M 26.925 226.740469 \nL 26.925 9.300469 \n\" style=\"fill:none;stroke:#000000;stroke-linecap:square;stroke-linejoin:miter;stroke-width:0.8;\"/>\n   </g>\n   <g id=\"patch_4\">\n    <path d=\"M 244.365 226.740469 \nL 244.365 9.300469 \n\" style=\"fill:none;stroke:#000000;stroke-linecap:square;stroke-linejoin:miter;stroke-width:0.8;\"/>\n   </g>\n   <g id=\"patch_5\">\n    <path d=\"M 26.925 226.740469 \nL 244.365 226.740469 \n\" style=\"fill:none;stroke:#000000;stroke-linecap:square;stroke-linejoin:miter;stroke-width:0.8;\"/>\n   </g>\n   <g id=\"patch_6\">\n    <path d=\"M 26.925 9.300469 \nL 244.365 9.300469 \n\" style=\"fill:none;stroke:#000000;stroke-linecap:square;stroke-linejoin:miter;stroke-width:0.8;\"/>\n   </g>\n  </g>\n </g>\n <defs>\n  <clipPath id=\"p8345c22d94\">\n   <rect height=\"217.44\" width=\"217.44\" x=\"26.925\" y=\"9.300469\"/>\n  </clipPath>\n </defs>\n</svg>\n",
      "image/png": "[encoded data removed]"
     },
     "metadata": {
      "needs_background": "light"
     }
    }
   ],
   "source": [
    "print(ammdict.keys())\n",
    "plt.imshow(ammdict['phago_only_PhagoOnly_R1.mm'][4,:,:,0], cmap='gray')"
   ]
  },
  {
   "cell_type": "code",
   "execution_count": 7,
   "metadata": {
    "tags": []
   },
   "outputs": [
    {
     "output_type": "stream",
     "name": "stderr",
     "text": "WARNING: Logging before flag parsing goes to stderr.\nW0825 10:53:17.384809 140492512778048 meta_graph.py:887] The saved meta_graph is possibly from an older release:\n'metric_variables' collection should be of type 'byte_list', but instead is of type 'node_list'.\n"
    }
   ],
   "source": [
    "cpdir = 'Checkpoints/Snail_Redo_for_metrics_7_classes/best-2019-08-16-10-46/'\n",
    "checkpoint = 'best-checkpoint-21300'\n",
    "if not cpdir.endswith('/'):\n",
    "    cpdir += '/'\n",
    "\n",
    "cpmeta = cpdir + checkpoint + '.meta'\n",
    "saver = tf.train.import_meta_graph(cpmeta)\n",
    "saver.restore(sess, cpdir + checkpoint)"
   ]
  },
  {
   "cell_type": "code",
   "execution_count": 8,
   "metadata": {
    "scrolled": true,
    "tags": []
   },
   "outputs": [
    {
     "output_type": "stream",
     "name": "stdout",
     "text": "dense_1/biasadd\ndense_1/BiasAdd [<tf.Tensor 'dense_1/BiasAdd:0' shape=(?, 128) dtype=float32>]\ngradients/dense_1/BiasAdd_grad/BiasAddGrad [<tf.Tensor 'gradients/dense_1/BiasAdd_grad/BiasAddGrad:0' shape=(128,) dtype=float32>]\ngradients/dense_1/BiasAdd_grad/tuple/group_deps []\ngradients/dense_1/BiasAdd_grad/tuple/control_dependency [<tf.Tensor 'gradients/dense_1/BiasAdd_grad/tuple/control_dependency:0' shape=(?, 128) dtype=float32>]\ngradients/dense_1/BiasAdd_grad/tuple/control_dependency_1 [<tf.Tensor 'gradients/dense_1/BiasAdd_grad/tuple/control_dependency_1:0' shape=(128,) dtype=float32>]\n"
    }
   ],
   "source": [
    "pq = 'dense_1/BiasAdd'.lower()\n",
    "print(pq)\n",
    "g = tf.get_default_graph()\n",
    "ops = g.get_operations()\n",
    "for op in ops:\n",
    "    if pq in op.name.lower():\n",
    "        print(op.name, op.outputs)"
   ]
  },
  {
   "cell_type": "code",
   "execution_count": 9,
   "metadata": {},
   "outputs": [],
   "source": [
    "a = sess.graph.get_tensor_by_name('dense_1/BiasAdd:0')\n",
    "b = sess.graph.get_tensor_by_name('LeakyRelu_13:0') #'dense_1/BiasAdd:0')\n",
    "sm = sess.graph.get_tensor_by_name('Softmax:0')\n",
    "\n",
    "softmax = sess.graph.get_tensor_by_name('Softmax:0')\n",
    "batch = sess.graph.get_tensor_by_name('Placeholder:0')"
   ]
  },
  {
   "cell_type": "code",
   "execution_count": 10,
   "metadata": {},
   "outputs": [
    {
     "output_type": "execute_result",
     "data": {
      "text/plain": "(<tf.Tensor 'dense_1/BiasAdd:0' shape=(?, 128) dtype=float32>,\n <tf.Tensor 'LeakyRelu_13:0' shape=(?, 128) dtype=float32>,\n <tf.Tensor 'Softmax:0' shape=(?, 7) dtype=float32>)"
     },
     "metadata": {},
     "execution_count": 10
    }
   ],
   "source": [
    "a, b, sm"
   ]
  },
  {
   "cell_type": "code",
   "execution_count": 11,
   "metadata": {},
   "outputs": [],
   "source": [
    "#data.max(axis=(0,1,2)), data.min(axis=(0,1,2))"
   ]
  },
  {
   "cell_type": "code",
   "execution_count": 12,
   "metadata": {},
   "outputs": [],
   "source": [
    "for k, v in ammdict.items():\n",
    "    #print(k, v.shape)\n",
    "    amm = ammdict[k]\n",
    "    mask = np.any(np.isnan(amm), axis=(1,2,3))\n",
    "    amm = amm[~mask]\n",
    "    ammdict[k] = amm"
   ]
  },
  {
   "cell_type": "code",
   "execution_count": 19,
   "metadata": {},
   "outputs": [
    {
     "output_type": "execute_result",
     "data": {
      "text/plain": "array([], shape=(0, 64, 64, 3), dtype=float32)"
     },
     "metadata": {},
     "execution_count": 19
    }
   ],
   "source": []
  },
  {
   "cell_type": "code",
   "execution_count": 14,
   "metadata": {},
   "outputs": [
    {
     "output_type": "execute_result",
     "data": {
      "text/plain": "(170, 64, 64, 3)"
     },
     "metadata": {},
     "execution_count": 14
    }
   ],
   "source": [
    "ammdict[list(ammdict.keys())[2]].shape"
   ]
  },
  {
   "cell_type": "code",
   "execution_count": 20,
   "metadata": {},
   "outputs": [
    {
     "output_type": "execute_result",
     "data": {
      "text/plain": "(609, 128)"
     },
     "metadata": {},
     "execution_count": 20
    }
   ],
   "source": [
    "images = sess.graph.get_tensor_by_name('Placeholder:0')\n",
    "adflist = list()\n",
    "d2list = list()\n",
    "for k, v in ammdict.items():\n",
    "    d2, r2, p2 = sess.run([a, b, sm], feed_dict={images:v[:, 16:48, 16:48, :]})\n",
    "    d2list.append(d2)\n",
    "    p2x = np.argmax(p2, axis=-1)\n",
    "    s = k.split('_')\n",
    "    dataset = k #\"{} {} {}\".format(s[1], s[2], s[3][0])\n",
    "    xdf = pd.DataFrame({'sm':p2x, 'smmax':p2.max(axis=-1), 'dataset':dataset})\n",
    "    adflist.append(xdf)\n",
    "\n",
    "adf = pd.concat(adflist, axis=0)\n",
    "d2array = np.concatenate(d2list)\n",
    "d2array.shape"
   ]
  },
  {
   "cell_type": "code",
   "execution_count": 21,
   "metadata": {},
   "outputs": [
    {
     "output_type": "execute_result",
     "data": {
      "text/plain": "   sm     smmax                     dataset\n0   0  0.988925  phago_only_PhagoOnly_R3.mm\n1   4  0.547325  phago_only_PhagoOnly_R3.mm\n2   4  0.542458  phago_only_PhagoOnly_R3.mm\n3   0  0.994146  phago_only_PhagoOnly_R3.mm\n4   0  0.658032  phago_only_PhagoOnly_R3.mm",
      "text/html": "<div>\n<style scoped>\n    .dataframe tbody tr th:only-of-type {\n        vertical-align: middle;\n    }\n\n    .dataframe tbody tr th {\n        vertical-align: top;\n    }\n\n    .dataframe thead th {\n        text-align: right;\n    }\n</style>\n<table border=\"1\" class=\"dataframe\">\n  <thead>\n    <tr style=\"text-align: right;\">\n      <th></th>\n      <th>sm</th>\n      <th>smmax</th>\n      <th>dataset</th>\n    </tr>\n  </thead>\n  <tbody>\n    <tr>\n      <th>0</th>\n      <td>0</td>\n      <td>0.988925</td>\n      <td>phago_only_PhagoOnly_R3.mm</td>\n    </tr>\n    <tr>\n      <th>1</th>\n      <td>4</td>\n      <td>0.547325</td>\n      <td>phago_only_PhagoOnly_R3.mm</td>\n    </tr>\n    <tr>\n      <th>2</th>\n      <td>4</td>\n      <td>0.542458</td>\n      <td>phago_only_PhagoOnly_R3.mm</td>\n    </tr>\n    <tr>\n      <th>3</th>\n      <td>0</td>\n      <td>0.994146</td>\n      <td>phago_only_PhagoOnly_R3.mm</td>\n    </tr>\n    <tr>\n      <th>4</th>\n      <td>0</td>\n      <td>0.658032</td>\n      <td>phago_only_PhagoOnly_R3.mm</td>\n    </tr>\n  </tbody>\n</table>\n</div>"
     },
     "metadata": {},
     "execution_count": 21
    }
   ],
   "source": [
    "adf.head()\n"
   ]
  },
  {
   "cell_type": "code",
   "execution_count": 22,
   "metadata": {},
   "outputs": [
    {
     "output_type": "execute_result",
     "data": {
      "text/plain": "(array([292,   1,   1,  11, 192,  77,  35]),\n array([0. , 0.5, 1.5, 2.5, 3.5, 4.5, 5.5, 6.5]))"
     },
     "metadata": {},
     "execution_count": 22
    }
   ],
   "source": [
    "np.histogram(adf['sm'], bins=[0,.5, 1.5, 2.5, 3.5, 4.5, 5.5, 6.5])"
   ]
  },
  {
   "cell_type": "code",
   "execution_count": 28,
   "metadata": {},
   "outputs": [],
   "source": [
    "radf = adf.reset_index()"
   ]
  },
  {
   "cell_type": "code",
   "execution_count": 29,
   "metadata": {},
   "outputs": [],
   "source": [
    "radf.to_pickle(\"phago_only_radf_pickle_2020.pkl\")"
   ]
  },
  {
   "cell_type": "code",
   "execution_count": 69,
   "metadata": {
    "tags": []
   },
   "outputs": [
    {
     "output_type": "execute_result",
     "data": {
      "text/plain": "   index  cell_id     directory  channel\n0      0      158  PhagoOnly_R4        1\n1      1      413  PhagoOnly_R4        1\n2      2      503  PhagoOnly_R4        1\n3      3      553  PhagoOnly_R4        1\n4      4      606  PhagoOnly_R4        1",
      "text/html": "<div>\n<style scoped>\n    .dataframe tbody tr th:only-of-type {\n        vertical-align: middle;\n    }\n\n    .dataframe tbody tr th {\n        vertical-align: top;\n    }\n\n    .dataframe thead th {\n        text-align: right;\n    }\n</style>\n<table border=\"1\" class=\"dataframe\">\n  <thead>\n    <tr style=\"text-align: right;\">\n      <th></th>\n      <th>index</th>\n      <th>cell_id</th>\n      <th>directory</th>\n      <th>channel</th>\n    </tr>\n  </thead>\n  <tbody>\n    <tr>\n      <th>0</th>\n      <td>0</td>\n      <td>158</td>\n      <td>PhagoOnly_R4</td>\n      <td>1</td>\n    </tr>\n    <tr>\n      <th>1</th>\n      <td>1</td>\n      <td>413</td>\n      <td>PhagoOnly_R4</td>\n      <td>1</td>\n    </tr>\n    <tr>\n      <th>2</th>\n      <td>2</td>\n      <td>503</td>\n      <td>PhagoOnly_R4</td>\n      <td>1</td>\n    </tr>\n    <tr>\n      <th>3</th>\n      <td>3</td>\n      <td>553</td>\n      <td>PhagoOnly_R4</td>\n      <td>1</td>\n    </tr>\n    <tr>\n      <th>4</th>\n      <td>4</td>\n      <td>606</td>\n      <td>PhagoOnly_R4</td>\n      <td>1</td>\n    </tr>\n  </tbody>\n</table>\n</div>"
     },
     "metadata": {},
     "execution_count": 69
    }
   ],
   "source": [
    "rdir = \"/n/core/cyto/_Data/Rohner/ROP/Imagestream Assay Data/Deep Learning_Feature_Analysis/Snail/Data for Classifier Analysis/phago only\"\n",
    "dirs = os.listdir(rdir)\n",
    "\n",
    "glist = list()\n",
    "for d in dirs:\n",
    "    dd = rdir + '/' + d\n",
    "    files = glob.glob(dd + '/*Ch1.*.tif')\n",
    "    files = sorted(files, key=lambda x: int(os.path.basename(x).split(\"_\")[2]))\n",
    "    fdict = dict()\n",
    "    #print(files[0:5])\n",
    "    \n",
    "    for index, f in enumerate(files):\n",
    "        bf = os.path.basename(f)\n",
    "        _sp = bf.split(\"_\")\n",
    "        cid = int(_sp[2])\n",
    "        channel = int(_sp[3][2:].split(\".\")[0])\n",
    "        glist.append({'index':index, 'cell_id':cid, 'directory':d, 'channel':channel})\n",
    "\n",
    "gdf = pd.DataFrame(glist)\n",
    "\n",
    "gdf.head()\n",
    "\n",
    "    \n"
   ]
  },
  {
   "cell_type": "code",
   "execution_count": 75,
   "metadata": {},
   "outputs": [],
   "source": [
    "def mapdataset(x):\n",
    "    #phago_only_PhagoOnly_R3.mm\n",
    "    return \"_\".join(x.split(\"_\")[2:])[:-3]\n",
    "\n",
    "radf['directory'] = radf['dataset'].map(mapdataset)"
   ]
  },
  {
   "cell_type": "code",
   "execution_count": 78,
   "metadata": {},
   "outputs": [],
   "source": [
    "merge_df = radf.merge(gdf, on=[\"index\", \"directory\"])"
   ]
  },
  {
   "cell_type": "code",
   "execution_count": 81,
   "metadata": {},
   "outputs": [
    {
     "output_type": "execute_result",
     "data": {
      "text/plain": "     index  sm     smmax                     dataset     directory  cell_id  \\\n72       0   0  0.402429  phago_only_PhagoOnly_R2.mm  PhagoOnly_R2      146   \n73       1   4  0.897734  phago_only_PhagoOnly_R2.mm  PhagoOnly_R2      320   \n74       2   0  0.377605  phago_only_PhagoOnly_R2.mm  PhagoOnly_R2      652   \n75       3   0  0.999063  phago_only_PhagoOnly_R2.mm  PhagoOnly_R2      724   \n76       4   0  0.904339  phago_only_PhagoOnly_R2.mm  PhagoOnly_R2      804   \n..     ...  ..       ...                         ...           ...      ...   \n151     79   0  0.835413  phago_only_PhagoOnly_R2.mm  PhagoOnly_R2     9237   \n152     80   0  0.999468  phago_only_PhagoOnly_R2.mm  PhagoOnly_R2     9266   \n153     81   0  0.999452  phago_only_PhagoOnly_R2.mm  PhagoOnly_R2     9586   \n154     82   0  0.999712  phago_only_PhagoOnly_R2.mm  PhagoOnly_R2     9692   \n155     83   4  0.988199  phago_only_PhagoOnly_R2.mm  PhagoOnly_R2     9919   \n\n     channel  \n72         1  \n73         1  \n74         1  \n75         1  \n76         1  \n..       ...  \n151        1  \n152        1  \n153        1  \n154        1  \n155        1  \n\n[84 rows x 7 columns]",
      "text/html": "<div>\n<style scoped>\n    .dataframe tbody tr th:only-of-type {\n        vertical-align: middle;\n    }\n\n    .dataframe tbody tr th {\n        vertical-align: top;\n    }\n\n    .dataframe thead th {\n        text-align: right;\n    }\n</style>\n<table border=\"1\" class=\"dataframe\">\n  <thead>\n    <tr style=\"text-align: right;\">\n      <th></th>\n      <th>index</th>\n      <th>sm</th>\n      <th>smmax</th>\n      <th>dataset</th>\n      <th>directory</th>\n      <th>cell_id</th>\n      <th>channel</th>\n    </tr>\n  </thead>\n  <tbody>\n    <tr>\n      <th>72</th>\n      <td>0</td>\n      <td>0</td>\n      <td>0.402429</td>\n      <td>phago_only_PhagoOnly_R2.mm</td>\n      <td>PhagoOnly_R2</td>\n      <td>146</td>\n      <td>1</td>\n    </tr>\n    <tr>\n      <th>73</th>\n      <td>1</td>\n      <td>4</td>\n      <td>0.897734</td>\n      <td>phago_only_PhagoOnly_R2.mm</td>\n      <td>PhagoOnly_R2</td>\n      <td>320</td>\n      <td>1</td>\n    </tr>\n    <tr>\n      <th>74</th>\n      <td>2</td>\n      <td>0</td>\n      <td>0.377605</td>\n      <td>phago_only_PhagoOnly_R2.mm</td>\n      <td>PhagoOnly_R2</td>\n      <td>652</td>\n      <td>1</td>\n    </tr>\n    <tr>\n      <th>75</th>\n      <td>3</td>\n      <td>0</td>\n      <td>0.999063</td>\n      <td>phago_only_PhagoOnly_R2.mm</td>\n      <td>PhagoOnly_R2</td>\n      <td>724</td>\n      <td>1</td>\n    </tr>\n    <tr>\n      <th>76</th>\n      <td>4</td>\n      <td>0</td>\n      <td>0.904339</td>\n      <td>phago_only_PhagoOnly_R2.mm</td>\n      <td>PhagoOnly_R2</td>\n      <td>804</td>\n      <td>1</td>\n    </tr>\n    <tr>\n      <th>...</th>\n      <td>...</td>\n      <td>...</td>\n      <td>...</td>\n      <td>...</td>\n      <td>...</td>\n      <td>...</td>\n      <td>...</td>\n    </tr>\n    <tr>\n      <th>151</th>\n      <td>79</td>\n      <td>0</td>\n      <td>0.835413</td>\n      <td>phago_only_PhagoOnly_R2.mm</td>\n      <td>PhagoOnly_R2</td>\n      <td>9237</td>\n      <td>1</td>\n    </tr>\n    <tr>\n      <th>152</th>\n      <td>80</td>\n      <td>0</td>\n      <td>0.999468</td>\n      <td>phago_only_PhagoOnly_R2.mm</td>\n      <td>PhagoOnly_R2</td>\n      <td>9266</td>\n      <td>1</td>\n    </tr>\n    <tr>\n      <th>153</th>\n      <td>81</td>\n      <td>0</td>\n      <td>0.999452</td>\n      <td>phago_only_PhagoOnly_R2.mm</td>\n      <td>PhagoOnly_R2</td>\n      <td>9586</td>\n      <td>1</td>\n    </tr>\n    <tr>\n      <th>154</th>\n      <td>82</td>\n      <td>0</td>\n      <td>0.999712</td>\n      <td>phago_only_PhagoOnly_R2.mm</td>\n      <td>PhagoOnly_R2</td>\n      <td>9692</td>\n      <td>1</td>\n    </tr>\n    <tr>\n      <th>155</th>\n      <td>83</td>\n      <td>4</td>\n      <td>0.988199</td>\n      <td>phago_only_PhagoOnly_R2.mm</td>\n      <td>PhagoOnly_R2</td>\n      <td>9919</td>\n      <td>1</td>\n    </tr>\n  </tbody>\n</table>\n<p>84 rows × 7 columns</p>\n</div>"
     },
     "metadata": {},
     "execution_count": 81
    }
   ],
   "source": [
    "merge_df[merge_df.directory == 'PhagoOnly_R2']"
   ]
  },
  {
   "cell_type": "code",
   "execution_count": 82,
   "metadata": {},
   "outputs": [],
   "source": [
    "merge_df.to_csv(\"snail_phago_classes.csv\")"
   ]
  },
  {
   "cell_type": "code",
   "execution_count": 83,
   "metadata": {},
   "outputs": [
    {
     "output_type": "execute_result",
     "data": {
      "text/plain": "'/home/cjw/Code/DeepLearning/classifier'"
     },
     "metadata": {},
     "execution_count": 83
    }
   ],
   "source": [
    "%pwd"
   ]
  },
  {
   "cell_type": "code",
   "execution_count": null,
   "metadata": {},
   "outputs": [],
   "source": []
  }
 ],
 "metadata": {
  "kernelspec": {
   "display_name": "Python 3.6.8 64-bit ('deep': conda)",
   "language": "python",
   "name": "python_defaultSpec_1598370730804"
  },
  "language_info": {
   "codemirror_mode": {
    "name": "ipython",
    "version": 3
   },
   "file_extension": ".py",
   "mimetype": "text/x-python",
   "name": "python",
   "nbconvert_exporter": "python",
   "pygments_lexer": "ipython3",
   "version": "3.6.8-final"
  }
 },
 "nbformat": 4,
 "nbformat_minor": 2
}