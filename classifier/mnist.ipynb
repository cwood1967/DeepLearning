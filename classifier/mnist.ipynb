{
 "cells": [
  {
   "cell_type": "code",
   "execution_count": 1,
   "metadata": {},
   "outputs": [
    {
     "name": "stderr",
     "output_type": "stream",
     "text": [
      "/home/cjw/anaconda3/envs/deep/lib/python3.6/site-packages/h5py/__init__.py:36: FutureWarning: Conversion of the second argument of issubdtype from `float` to `np.floating` is deprecated. In future, it will be treated as `np.float64 == np.dtype(float).type`.\n",
      "  from ._conv import register_converters as _register_converters\n"
     ]
    }
   ],
   "source": [
    "import os\n",
    "import shutil\n",
    "import sys\n",
    "\n",
    "import network\n",
    "\n",
    "import numpy as np\n",
    "from matplotlib import pyplot as plt\n",
    "import sklearn.metrics as metrics\n"
   ]
  },
  {
   "cell_type": "code",
   "execution_count": 2,
   "metadata": {},
   "outputs": [],
   "source": [
    "datafile = 'Data/MNIST/mnist.mm'\n",
    "labelsfile = 'Data/MNIST/labels.mm'"
   ]
  },
  {
   "cell_type": "code",
   "execution_count": 3,
   "metadata": {},
   "outputs": [
    {
     "name": "stdout",
     "output_type": "stream",
     "text": [
      "reducing classes\n"
     ]
    }
   ],
   "source": [
    "#cc = [0,1,7]\n",
    "cc = [0,1,2,3,4,5,6,7,8,9]\n",
    "c = network.get_classifier(datafile, labelsfile, 28, 1, cc, offset=128, ow=28,\n",
    "                           channels=-1, dtype=np.float32, label_offset=0)"
   ]
  },
  {
   "cell_type": "code",
   "execution_count": 4,
   "metadata": {},
   "outputs": [],
   "source": [
    "!rm -rf logs"
   ]
  },
  {
   "cell_type": "code",
   "execution_count": 5,
   "metadata": {},
   "outputs": [],
   "source": [
    "# print(c.images.shape, c.labels.shape)\n",
    "# plt.imshow(c.images[100,:,:,0])\n",
    "# print(c.labels[100])\n",
    "# c.label_nums"
   ]
  },
  {
   "cell_type": "code",
   "execution_count": null,
   "metadata": {},
   "outputs": [],
   "source": []
  },
  {
   "cell_type": "code",
   "execution_count": 6,
   "metadata": {},
   "outputs": [
    {
     "name": "stdout",
     "output_type": "stream",
     "text": [
      "\n",
      "WARNING: The TensorFlow contrib module will not be included in TensorFlow 2.0.\n",
      "For more information, please see:\n",
      "  * https://github.com/tensorflow/community/blob/master/rfcs/20180907-contrib-sunset.md\n",
      "  * https://github.com/tensorflow/addons\n",
      "If you depend on functionality not listed there, please file an issue.\n",
      "\n",
      "WARNING:tensorflow:From /home/cjw/Code/cjwdeeplearning/classifier/network.py:196: conv2d (from tensorflow.python.layers.convolutional) is deprecated and will be removed in a future version.\n",
      "Instructions for updating:\n",
      "Use keras.layers.conv2d instead.\n",
      "WARNING:tensorflow:From /home/cjw/anaconda3/envs/deep/lib/python3.6/site-packages/tensorflow/python/framework/op_def_library.py:263: colocate_with (from tensorflow.python.framework.ops) is deprecated and will be removed in a future version.\n",
      "Instructions for updating:\n",
      "Colocations handled automatically by placer.\n",
      "WARNING:tensorflow:From /home/cjw/Code/cjwdeeplearning/classifier/network.py:200: dropout (from tensorflow.python.layers.core) is deprecated and will be removed in a future version.\n",
      "Instructions for updating:\n",
      "Use keras.layers.dropout instead.\n",
      "WARNING:tensorflow:From /home/cjw/Code/cjwdeeplearning/classifier/network.py:248: flatten (from tensorflow.python.layers.core) is deprecated and will be removed in a future version.\n",
      "Instructions for updating:\n",
      "Use keras.layers.flatten instead.\n",
      "WARNING:tensorflow:From /home/cjw/Code/cjwdeeplearning/classifier/network.py:249: dense (from tensorflow.python.layers.core) is deprecated and will be removed in a future version.\n",
      "Instructions for updating:\n",
      "Use keras.layers.dense instead.\n",
      "WARNING:tensorflow:From /home/cjw/anaconda3/envs/deep/lib/python3.6/site-packages/tensorflow/python/ops/metrics_impl.py:455: to_float (from tensorflow.python.ops.math_ops) is deprecated and will be removed in a future version.\n",
      "Instructions for updating:\n",
      "Use tf.cast instead.\n",
      "WARNING:tensorflow:From /home/cjw/anaconda3/envs/deep/lib/python3.6/site-packages/tensorflow/python/ops/metrics_impl.py:2002: div (from tensorflow.python.ops.math_ops) is deprecated and will be removed in a future version.\n",
      "Instructions for updating:\n",
      "Deprecated in favor of operator or tf.math.divide.\n",
      "WARNING:tensorflow:From /home/cjw/anaconda3/envs/deep/lib/python3.6/site-packages/tensorflow/python/ops/confusion_matrix.py:193: to_int64 (from tensorflow.python.ops.math_ops) is deprecated and will be removed in a future version.\n",
      "Instructions for updating:\n",
      "Use tf.cast instead.\n",
      "WARNING:tensorflow:From /home/cjw/anaconda3/envs/deep/lib/python3.6/site-packages/tensorflow/python/ops/confusion_matrix.py:194: to_int32 (from tensorflow.python.ops.math_ops) is deprecated and will be removed in a future version.\n",
      "Instructions for updating:\n",
      "Use tf.cast instead.\n",
      "***********************\n",
      "0 2.3099015 2.198505\n",
      "1000 0.0014540444 0.07709567\n",
      "2000 0.04296183 0.044859476\n",
      "3000 0.007594242 0.11281702\n",
      "4000 0.014065797 0.09950398\n",
      "5000 0.0033875997 0.011499321\n",
      "6000 0.0106947385 0.024874864\n",
      "7000 0.00064682926 0.002086557\n",
      "8000 0.0010219625 0.012769677\n",
      "9000 0.0010061791 0.10754328\n",
      "10000 7.174108e-05 0.074231274\n",
      "11000 0.0010113545 0.04553132\n",
      "12000 0.0006587744 0.0007797271\n",
      "13000 0.00020101362 0.002057451\n",
      "14000 0.03887506 0.05538468\n",
      "15000 0.00024991512 0.18807451\n",
      "16000 7.435562e-05 0.0052152453\n",
      "17000 0.00015162987 0.00040024205\n",
      "18000 3.8870636e-05 0.021316133\n",
      "19000 1.3112817e-06 0.063019\n",
      "[[108   0   0   0   0   0   1   0   0   0]\n",
      " [  1 110   1   0   0   0   1   0   0   0]\n",
      " [  0   0 106   1   0   0   0   0   0   0]\n",
      " [  0   0   0 108   0   0   0   0   0   0]\n",
      " [  0   0   0   0  97   0   0   0   1   0]\n",
      " [  0   0   0   0   1  81   0   0   0   0]\n",
      " [  0   0   0   0   0   0  98   0   0   0]\n",
      " [  0   1   0   1   0   0   0 107   0   0]\n",
      " [  0   0   0   1   0   0   0   0  97   1]\n",
      " [  0   0   0   0   0   0   0   0   0 101]]\n"
     ]
    }
   ],
   "source": [
    "c.train(n_iter=20000, learning_rate=0.0008)"
   ]
  },
  {
   "cell_type": "code",
   "execution_count": 7,
   "metadata": {},
   "outputs": [],
   "source": [
    "tb, tl = c.get_balanced_batch(c.val_images,\n",
    "                              c.val_labels,\n",
    "                              c.class_where_val,\n",
    "                              800)\n",
    "\n",
    "vl, vsm, vlb, vcm = c.sess.run([c.loss, c.softmax, c.label_batch, c.confmat],\n",
    "                      feed_dict={c.image_batch:tb,\n",
    "                                 c.label_batch:tl,\n",
    "                                 c.is_training:False})\n"
   ]
  },
  {
   "cell_type": "code",
   "execution_count": 8,
   "metadata": {},
   "outputs": [],
   "source": [
    "tl.shape, np.argmax(vsm, axis=-1).shape\n",
    "tls = np.argmax(tl, axis=-1)\n",
    "vsms = np.argmax(vsm, axis=-1)"
   ]
  },
  {
   "cell_type": "code",
   "execution_count": 9,
   "metadata": {},
   "outputs": [
    {
     "name": "stdout",
     "output_type": "stream",
     "text": [
      "             precision    recall  f1-score   support\n",
      "\n",
      "          0       1.00      1.00      1.00        80\n",
      "          1       1.00      1.00      1.00        80\n",
      "          2       0.99      0.97      0.98        80\n",
      "          3       0.94      1.00      0.97        80\n",
      "          4       0.98      1.00      0.99        80\n",
      "          5       0.99      0.99      0.99        80\n",
      "          6       1.00      0.99      0.99        80\n",
      "          7       1.00      0.97      0.99        80\n",
      "          8       0.99      0.97      0.98        80\n",
      "          9       0.99      0.96      0.97        80\n",
      "\n",
      "avg / total       0.99      0.99      0.99       800\n",
      "\n",
      "0.98625\n"
     ]
    }
   ],
   "source": [
    "print(metrics.classification_report(tls, vsms))\n",
    "print(metrics.accuracy_score(tls, vsms))"
   ]
  },
  {
   "cell_type": "code",
   "execution_count": 22,
   "metadata": {},
   "outputs": [
    {
     "data": {
      "image/png": "[encoded data removed]",
      "text/plain": [
       "<Figure size 432x288 with 1 Axes>"
      ]
     },
     "metadata": {
      "needs_background": "light"
     },
     "output_type": "display_data"
    }
   ],
   "source": [
    "_ = plt.hist(np.min(vsm, axis=1), bins=25)\n",
    "_ = plt.hist(np.max(vsm, axis=1), bins=25)\n",
    "plt.show()"
   ]
  },
  {
   "cell_type": "code",
   "execution_count": 11,
   "metadata": {},
   "outputs": [],
   "source": []
  },
  {
   "cell_type": "code",
   "execution_count": 27,
   "metadata": {},
   "outputs": [],
   "source": [
    "cm = metrics.confusion_matrix(tls, vsms)\n",
    "cm = cm/cm.sum(axis=1)\n",
    "import pandas as pd\n",
    "cmdf = pd.DataFrame(cm)"
   ]
  },
  {
   "cell_type": "code",
   "execution_count": 28,
   "metadata": {},
   "outputs": [
    {
     "data": {
      "text/html": [
       "<div>\n",
       "<style scoped>\n",
       "    .dataframe tbody tr th:only-of-type {\n",
       "        vertical-align: middle;\n",
       "    }\n",
       "\n",
       "    .dataframe tbody tr th {\n",
       "        vertical-align: top;\n",
       "    }\n",
       "\n",
       "    .dataframe thead th {\n",
       "        text-align: right;\n",
       "    }\n",
       "</style>\n",
       "<table border=\"1\" class=\"dataframe\">\n",
       "  <thead>\n",
       "    <tr style=\"text-align: right;\">\n",
       "      <th></th>\n",
       "      <th>0</th>\n",
       "      <th>1</th>\n",
       "      <th>2</th>\n",
       "      <th>3</th>\n",
       "      <th>4</th>\n",
       "      <th>5</th>\n",
       "      <th>6</th>\n",
       "      <th>7</th>\n",
       "      <th>8</th>\n",
       "      <th>9</th>\n",
       "    </tr>\n",
       "  </thead>\n",
       "  <tbody>\n",
       "    <tr>\n",
       "      <th>0</th>\n",
       "      <td>1.0</td>\n",
       "      <td>0.0</td>\n",
       "      <td>0.0000</td>\n",
       "      <td>0.0000</td>\n",
       "      <td>0.000</td>\n",
       "      <td>0.0000</td>\n",
       "      <td>0.0000</td>\n",
       "      <td>0.000</td>\n",
       "      <td>0.0000</td>\n",
       "      <td>0.0000</td>\n",
       "    </tr>\n",
       "    <tr>\n",
       "      <th>1</th>\n",
       "      <td>0.0</td>\n",
       "      <td>1.0</td>\n",
       "      <td>0.0000</td>\n",
       "      <td>0.0000</td>\n",
       "      <td>0.000</td>\n",
       "      <td>0.0000</td>\n",
       "      <td>0.0000</td>\n",
       "      <td>0.000</td>\n",
       "      <td>0.0000</td>\n",
       "      <td>0.0000</td>\n",
       "    </tr>\n",
       "    <tr>\n",
       "      <th>2</th>\n",
       "      <td>0.0</td>\n",
       "      <td>0.0</td>\n",
       "      <td>0.9750</td>\n",
       "      <td>0.0250</td>\n",
       "      <td>0.000</td>\n",
       "      <td>0.0000</td>\n",
       "      <td>0.0000</td>\n",
       "      <td>0.000</td>\n",
       "      <td>0.0000</td>\n",
       "      <td>0.0000</td>\n",
       "    </tr>\n",
       "    <tr>\n",
       "      <th>3</th>\n",
       "      <td>0.0</td>\n",
       "      <td>0.0</td>\n",
       "      <td>0.0000</td>\n",
       "      <td>1.0000</td>\n",
       "      <td>0.000</td>\n",
       "      <td>0.0000</td>\n",
       "      <td>0.0000</td>\n",
       "      <td>0.000</td>\n",
       "      <td>0.0000</td>\n",
       "      <td>0.0000</td>\n",
       "    </tr>\n",
       "    <tr>\n",
       "      <th>4</th>\n",
       "      <td>0.0</td>\n",
       "      <td>0.0</td>\n",
       "      <td>0.0000</td>\n",
       "      <td>0.0000</td>\n",
       "      <td>1.000</td>\n",
       "      <td>0.0000</td>\n",
       "      <td>0.0000</td>\n",
       "      <td>0.000</td>\n",
       "      <td>0.0000</td>\n",
       "      <td>0.0000</td>\n",
       "    </tr>\n",
       "    <tr>\n",
       "      <th>5</th>\n",
       "      <td>0.0</td>\n",
       "      <td>0.0</td>\n",
       "      <td>0.0000</td>\n",
       "      <td>0.0125</td>\n",
       "      <td>0.000</td>\n",
       "      <td>0.9875</td>\n",
       "      <td>0.0000</td>\n",
       "      <td>0.000</td>\n",
       "      <td>0.0000</td>\n",
       "      <td>0.0000</td>\n",
       "    </tr>\n",
       "    <tr>\n",
       "      <th>6</th>\n",
       "      <td>0.0</td>\n",
       "      <td>0.0</td>\n",
       "      <td>0.0000</td>\n",
       "      <td>0.0000</td>\n",
       "      <td>0.000</td>\n",
       "      <td>0.0125</td>\n",
       "      <td>0.9875</td>\n",
       "      <td>0.000</td>\n",
       "      <td>0.0000</td>\n",
       "      <td>0.0000</td>\n",
       "    </tr>\n",
       "    <tr>\n",
       "      <th>7</th>\n",
       "      <td>0.0</td>\n",
       "      <td>0.0</td>\n",
       "      <td>0.0000</td>\n",
       "      <td>0.0250</td>\n",
       "      <td>0.000</td>\n",
       "      <td>0.0000</td>\n",
       "      <td>0.0000</td>\n",
       "      <td>0.975</td>\n",
       "      <td>0.0000</td>\n",
       "      <td>0.0000</td>\n",
       "    </tr>\n",
       "    <tr>\n",
       "      <th>8</th>\n",
       "      <td>0.0</td>\n",
       "      <td>0.0</td>\n",
       "      <td>0.0125</td>\n",
       "      <td>0.0000</td>\n",
       "      <td>0.000</td>\n",
       "      <td>0.0000</td>\n",
       "      <td>0.0000</td>\n",
       "      <td>0.000</td>\n",
       "      <td>0.9750</td>\n",
       "      <td>0.0125</td>\n",
       "    </tr>\n",
       "    <tr>\n",
       "      <th>9</th>\n",
       "      <td>0.0</td>\n",
       "      <td>0.0</td>\n",
       "      <td>0.0000</td>\n",
       "      <td>0.0000</td>\n",
       "      <td>0.025</td>\n",
       "      <td>0.0000</td>\n",
       "      <td>0.0000</td>\n",
       "      <td>0.000</td>\n",
       "      <td>0.0125</td>\n",
       "      <td>0.9625</td>\n",
       "    </tr>\n",
       "  </tbody>\n",
       "</table>\n",
       "</div>"
      ],
      "text/plain": [
       "     0    1       2       3      4       5       6      7       8       9\n",
       "0  1.0  0.0  0.0000  0.0000  0.000  0.0000  0.0000  0.000  0.0000  0.0000\n",
       "1  0.0  1.0  0.0000  0.0000  0.000  0.0000  0.0000  0.000  0.0000  0.0000\n",
       "2  0.0  0.0  0.9750  0.0250  0.000  0.0000  0.0000  0.000  0.0000  0.0000\n",
       "3  0.0  0.0  0.0000  1.0000  0.000  0.0000  0.0000  0.000  0.0000  0.0000\n",
       "4  0.0  0.0  0.0000  0.0000  1.000  0.0000  0.0000  0.000  0.0000  0.0000\n",
       "5  0.0  0.0  0.0000  0.0125  0.000  0.9875  0.0000  0.000  0.0000  0.0000\n",
       "6  0.0  0.0  0.0000  0.0000  0.000  0.0125  0.9875  0.000  0.0000  0.0000\n",
       "7  0.0  0.0  0.0000  0.0250  0.000  0.0000  0.0000  0.975  0.0000  0.0000\n",
       "8  0.0  0.0  0.0125  0.0000  0.000  0.0000  0.0000  0.000  0.9750  0.0125\n",
       "9  0.0  0.0  0.0000  0.0000  0.025  0.0000  0.0000  0.000  0.0125  0.9625"
      ]
     },
     "execution_count": 28,
     "metadata": {},
     "output_type": "execute_result"
    }
   ],
   "source": [
    "cmdf"
   ]
  },
  {
   "cell_type": "code",
   "execution_count": 14,
   "metadata": {},
   "outputs": [
    {
     "data": {
      "text/plain": [
       "<matplotlib.axes._subplots.AxesSubplot at 0x7f859c1a8470>"
      ]
     },
     "execution_count": 14,
     "metadata": {},
     "output_type": "execute_result"
    },
    {
     "data": {
      "image/png": "[encoded data removed]",
      "text/plain": [
       "<Figure size 432x288 with 2 Axes>"
      ]
     },
     "metadata": {
      "needs_background": "light"
     },
     "output_type": "display_data"
    }
   ],
   "source": [
    "import seaborn as sns\n",
    "sns.heatmap(cm)"
   ]
  },
  {
   "cell_type": "code",
   "execution_count": 15,
   "metadata": {},
   "outputs": [],
   "source": [
    "plt.show()"
   ]
  },
  {
   "cell_type": "code",
   "execution_count": 26,
   "metadata": {},
   "outputs": [
    {
     "name": "stdout",
     "output_type": "stream",
     "text": [
      "[[1.     0.     0.     0.     0.     0.     0.     0.     0.     0.    ]\n",
      " [0.     1.     0.     0.     0.     0.     0.     0.     0.     0.    ]\n",
      " [0.     0.     0.975  0.025  0.     0.     0.     0.     0.     0.    ]\n",
      " [0.     0.     0.     1.     0.     0.     0.     0.     0.     0.    ]\n",
      " [0.     0.     0.     0.     1.     0.     0.     0.     0.     0.    ]\n",
      " [0.     0.     0.     0.0125 0.     0.9875 0.     0.     0.     0.    ]\n",
      " [0.     0.     0.     0.     0.     0.0125 0.9875 0.     0.     0.    ]\n",
      " [0.     0.     0.     0.025  0.     0.     0.     0.975  0.     0.    ]\n",
      " [0.     0.     0.0125 0.     0.     0.     0.     0.     0.975  0.0125]\n",
      " [0.     0.     0.     0.     0.025  0.     0.     0.     0.0125 0.9625]]\n"
     ]
    }
   ],
   "source": [
    "print(cm)"
   ]
  },
  {
   "cell_type": "code",
   "execution_count": null,
   "metadata": {},
   "outputs": [],
   "source": []
  },
  {
   "cell_type": "code",
   "execution_count": null,
   "metadata": {},
   "outputs": [],
   "source": []
  }
 ],
 "metadata": {
  "kernelspec": {
   "display_name": "Python 3",
   "language": "python",
   "name": "python3"
  },
  "language_info": {
   "codemirror_mode": {
    "name": "ipython",
    "version": 3
   },
   "file_extension": ".py",
   "mimetype": "text/x-python",
   "name": "python",
   "nbconvert_exporter": "python",
   "pygments_lexer": "ipython3",
   "version": "3.6.8"
  }
 },
 "nbformat": 4,
 "nbformat_minor": 2
}
