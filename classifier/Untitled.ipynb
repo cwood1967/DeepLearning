{
 "cells": [
  {
   "cell_type": "code",
   "execution_count": 1,
   "metadata": {},
   "outputs": [
    {
     "name": "stderr",
     "output_type": "stream",
     "text": [
      "/home/cjw/anaconda3/envs/deep/lib/python3.6/site-packages/h5py/__init__.py:36: FutureWarning: Conversion of the second argument of issubdtype from `float` to `np.floating` is deprecated. In future, it will be treated as `np.float64 == np.dtype(float).type`.\n",
      "  from ._conv import register_converters as _register_converters\n"
     ]
    }
   ],
   "source": [
    "import os\n",
    "import shutil\n",
    "import sys\n",
    "import time\n",
    "import network\n",
    "\n",
    "import numpy as np\n",
    "from matplotlib import pyplot as plt\n",
    "import sklearn.metrics as metrics\n"
   ]
  },
  {
   "cell_type": "code",
   "execution_count": 28,
   "metadata": {},
   "outputs": [],
   "source": [
    "datafile = 'Data/cc_images.mm'\n",
    "labelsfile = 'Data/labels.mm'"
   ]
  },
  {
   "cell_type": "code",
   "execution_count": 65,
   "metadata": {},
   "outputs": [
    {
     "name": "stdout",
     "output_type": "stream",
     "text": [
      "reducing classes\n"
     ]
    }
   ],
   "source": [
    "cc = [0,3,7]\n",
    "#cc = [0, 1, 2, 3, 4, 5, 6, 7, 8]\n",
    "c = network.get_classifier(datafile, labelsfile, 32, 5, cc, channels=[0,1,3,4], ow=64)"
   ]
  },
  {
   "cell_type": "code",
   "execution_count": 66,
   "metadata": {},
   "outputs": [],
   "source": [
    "\n",
    "try:\n",
    "    shutil.rmtree('logs')\n",
    "except:\n",
    "    \"couldn't delete\"\n",
    "    \n",
    "time.sleep(1)\n",
    "while os.path.exists('logs'):\n",
    "    time.sleep(.1)"
   ]
  },
  {
   "cell_type": "code",
   "execution_count": 67,
   "metadata": {},
   "outputs": [
    {
     "name": "stdout",
     "output_type": "stream",
     "text": [
      "Tensor(\"LeakyRelu_8:0\", shape=(?, 4, 4, 32), dtype=float32)\n",
      "***********************\n",
      "0 2.0235343 2.0153482\n",
      "1000 0.6938411 0.7592983\n",
      "2000 0.6841973 0.77060926\n",
      "3000 0.78761685 0.69918734\n",
      "4000 0.5395788 0.7151935\n",
      "5000 0.64032984 0.69013464\n",
      "6000 0.6082583 0.60087323\n",
      "7000 0.58773845 0.59775877\n",
      "8000 0.47623393 0.54872674\n",
      "9000 0.5405578 0.61980873\n",
      "10000 0.5174978 0.58731073\n",
      "11000 0.47432026 0.59115714\n",
      "12000 0.48969463 0.425744\n",
      "13000 0.41001067 0.45138803\n",
      "14000 0.53493774 0.4828312\n",
      "15000 0.39771312 0.43697014\n",
      "16000 0.40700722 0.42817926\n",
      "17000 0.3839471 0.44164896\n",
      "18000 0.35225314 0.46873102\n",
      "19000 0.45361412 0.54071176\n",
      "[[466  28  16]\n",
      " [ 18 217   2]\n",
      " [  6   0  25]]\n"
     ]
    }
   ],
   "source": [
    "c.train(n_iter=20000, learning_rate=0.0003, droprate=0, l2f=.01)"
   ]
  },
  {
   "cell_type": "code",
   "execution_count": 53,
   "metadata": {},
   "outputs": [],
   "source": [
    "tb, tl = c.get_balanced_batch(c.val_images,\n",
    "                              c.val_labels,\n",
    "                              c.class_where_val,\n",
    "                              800)\n",
    "\n",
    "vl, vsm, vlb, vcm = c.sess.run([c.loss, c.softmax, c.label_batch, c.confmat],\n",
    "                      feed_dict={c.image_batch:c.val_images,\n",
    "                                 c.label_batch:c.val_labels,\n",
    "                                 c.is_training:False})\n"
   ]
  },
  {
   "cell_type": "code",
   "execution_count": 54,
   "metadata": {},
   "outputs": [],
   "source": [
    "tl.shape, np.argmax(vsm, axis=-1).shape\n",
    "tls = np.argmax(c.val_labels, axis=-1)\n",
    "vsms = np.argmax(vsm, axis=-1)"
   ]
  },
  {
   "cell_type": "code",
   "execution_count": 55,
   "metadata": {},
   "outputs": [
    {
     "name": "stdout",
     "output_type": "stream",
     "text": [
      "             precision    recall  f1-score   support\n",
      "\n",
      "          0       0.94      0.92      0.93      1098\n",
      "          1       0.94      0.83      0.89       490\n",
      "          2       0.44      0.84      0.58        83\n",
      "\n",
      "avg / total       0.92      0.89      0.90      1671\n",
      "\n",
      "0.8934769599042489\n"
     ]
    }
   ],
   "source": [
    "print(metrics.classification_report(tls, vsms))\n",
    "print(metrics.accuracy_score(tls, vsms))"
   ]
  },
  {
   "cell_type": "code",
   "execution_count": 56,
   "metadata": {},
   "outputs": [
    {
     "data": {
      "image/png": "[encoded data removed]",
      "text/plain": [
       "<Figure size 432x288 with 1 Axes>"
      ]
     },
     "metadata": {
      "needs_background": "light"
     },
     "output_type": "display_data"
    }
   ],
   "source": [
    "_ = plt.hist(np.max(vsm, axis=1), bins=25)\n",
    "_ = plt.hist(np.min(vsm, axis=1), bins=25)"
   ]
  },
  {
   "cell_type": "code",
   "execution_count": 57,
   "metadata": {},
   "outputs": [
    {
     "data": {
      "image/png": "[encoded data removed]",
      "text/plain": [
       "<Figure size 432x288 with 1 Axes>"
      ]
     },
     "metadata": {
      "needs_background": "light"
     },
     "output_type": "display_data"
    }
   ],
   "source": [
    "_ = plt.hist(np.resize(vsm, (-1)), bins=50)"
   ]
  },
  {
   "cell_type": "code",
   "execution_count": 58,
   "metadata": {},
   "outputs": [
    {
     "name": "stdout",
     "output_type": "stream",
     "text": [
      "[[1014   24   60]\n",
      " [  51  409   30]\n",
      " [  13    0   70]]\n",
      "[[1078  433  160]]\n",
      "[[1098]\n",
      " [ 490]\n",
      " [  83]]\n",
      "1671\n",
      "1671\n",
      "1671\n",
      "\n",
      "[[1014   24   60]\n",
      " [  51  409   30]\n",
      " [  13    0   70]]\n"
     ]
    }
   ],
   "source": [
    "cm = metrics.confusion_matrix(tls, vsms)\n",
    "#cm = cm/cm.sum(axis=1)\n",
    "#import pandas as pd\n",
    "#cmdf = pd.DataFrame(cm)\n",
    "np.set_printoptions(precision=3)\n",
    "print(cm)\n",
    "print(cm.sum(axis=0, keepdims=True))\n",
    "print(cm.sum(axis=1, keepdims=True))\n",
    "print(cm.sum(axis=0).sum())\n",
    "print(cm.sum(axis=1).sum())\n",
    "print(cm.sum())\n",
    "print()\n",
    "print(metrics.confusion_matrix(tls, vsms))"
   ]
  },
  {
   "cell_type": "code",
   "execution_count": 59,
   "metadata": {},
   "outputs": [
    {
     "data": {
      "text/plain": [
       "(1098, 1078)"
      ]
     },
     "execution_count": 59,
     "metadata": {},
     "output_type": "execute_result"
    }
   ],
   "source": [
    "np.count_nonzero(tls == 0), np.count_nonzero(vsms == 0)"
   ]
  },
  {
   "cell_type": "code",
   "execution_count": 60,
   "metadata": {},
   "outputs": [
    {
     "data": {
      "text/plain": [
       "<matplotlib.image.AxesImage at 0x7fa00034ca90>"
      ]
     },
     "execution_count": 60,
     "metadata": {},
     "output_type": "execute_result"
    },
    {
     "data": {
      "image/png": "[encoded data removed]",
      "text/plain": [
       "<Figure size 432x288 with 1 Axes>"
      ]
     },
     "metadata": {
      "needs_background": "light"
     },
     "output_type": "display_data"
    }
   ],
   "source": [
    "plt.imshow(cm, interpolation='nearest')"
   ]
  },
  {
   "cell_type": "code",
   "execution_count": 61,
   "metadata": {},
   "outputs": [
    {
     "data": {
      "text/plain": [
       "<matplotlib.axes._subplots.AxesSubplot at 0x7f9bd40fccf8>"
      ]
     },
     "execution_count": 61,
     "metadata": {},
     "output_type": "execute_result"
    },
    {
     "data": {
      "image/png": "[encoded data removed]",
      "text/plain": [
       "<Figure size 432x288 with 2 Axes>"
      ]
     },
     "metadata": {
      "needs_background": "light"
     },
     "output_type": "display_data"
    }
   ],
   "source": [
    "import seaborn as sns\n",
    "sns.heatmap(cm)"
   ]
  },
  {
   "cell_type": "code",
   "execution_count": 18,
   "metadata": {},
   "outputs": [
    {
     "data": {
      "text/plain": [
       "((35469, 32, 32, 4), (35469, 9))"
      ]
     },
     "execution_count": 18,
     "metadata": {},
     "output_type": "execute_result"
    }
   ],
   "source": [
    "c.images.shape, c.labels.shape"
   ]
  },
  {
   "cell_type": "code",
   "execution_count": 19,
   "metadata": {},
   "outputs": [],
   "source": [
    "all_loss, all_sm, _, _ = c.sess.run([c.loss, c.softmax, c.label_batch, c.confmat],\n",
    "                      feed_dict={c.image_batch:c.images,\n",
    "                                 c.label_batch:c.labels,\n",
    "                                 c.is_training:False})\n"
   ]
  },
  {
   "cell_type": "code",
   "execution_count": 25,
   "metadata": {},
   "outputs": [
    {
     "data": {
      "text/plain": [
       "(35469, 9)"
      ]
     },
     "execution_count": 25,
     "metadata": {},
     "output_type": "execute_result"
    }
   ],
   "source": [
    "np.save('Data/all_pickle.pkl', all_sm)"
   ]
  },
  {
   "cell_type": "code",
   "execution_count": null,
   "metadata": {},
   "outputs": [],
   "source": []
  }
 ],
 "metadata": {
  "kernelspec": {
   "display_name": "Python 3",
   "language": "python",
   "name": "python3"
  },
  "language_info": {
   "codemirror_mode": {
    "name": "ipython",
    "version": 3
   },
   "file_extension": ".py",
   "mimetype": "text/x-python",
   "name": "python",
   "nbconvert_exporter": "python",
   "pygments_lexer": "ipython3",
   "version": "3.6.8"
  }
 },
 "nbformat": 4,
 "nbformat_minor": 2
}
