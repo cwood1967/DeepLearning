{
 "cells": [
  {
   "cell_type": "code",
   "execution_count": 1,
   "metadata": {},
   "outputs": [
    {
     "name": "stderr",
     "output_type": "stream",
     "text": [
      "/home/cjw/anaconda3/envs/deep/lib/python3.6/site-packages/h5py/__init__.py:36: FutureWarning: Conversion of the second argument of issubdtype from `float` to `np.floating` is deprecated. In future, it will be treated as `np.float64 == np.dtype(float).type`.\n",
      "  from ._conv import register_converters as _register_converters\n"
     ]
    }
   ],
   "source": [
    "import os\n",
    "import shutil\n",
    "import sys\n",
    "\n",
    "import network\n",
    "\n",
    "import numpy as np\n",
    "from matplotlib import pyplot as plt\n",
    "import sklearn.metrics as metrics\n"
   ]
  },
  {
   "cell_type": "code",
   "execution_count": 42,
   "metadata": {},
   "outputs": [],
   "source": [
    "datafile = 'Data/cc_images.mm'\n",
    "labelsfile = 'Data/labels.mm'"
   ]
  },
  {
   "cell_type": "code",
   "execution_count": 43,
   "metadata": {},
   "outputs": [
    {
     "name": "stdout",
     "output_type": "stream",
     "text": [
      "reducing classes\n"
     ]
    }
   ],
   "source": [
    "#cc = [0,1,7]\n",
    "cc = [0,1,2,3,4,5,6,7]\n",
    "c = network.get_classifier(datafile, labelsfile, 32, 5, cc)"
   ]
  },
  {
   "cell_type": "code",
   "execution_count": 44,
   "metadata": {},
   "outputs": [],
   "source": [
    "!rm -rf logs"
   ]
  },
  {
   "cell_type": "code",
   "execution_count": 45,
   "metadata": {},
   "outputs": [
    {
     "name": "stdout",
     "output_type": "stream",
     "text": [
      "***********************\n",
      "[[11  1  0  3  0  0  1  0]\n",
      " [13  2  0  0  0  0  0  1]\n",
      " [ 7  2  1  4  1  1  0  0]\n",
      " [ 9  7  0  0  0  0  0  0]\n",
      " [12  2  0  1  0  0  0  1]\n",
      " [ 4  3  0  5  0  0  0  4]\n",
      " [ 5  4  0  7  0  0  0  0]\n",
      " [ 6  2  0  4  1  0  0  3]]\n",
      "0 1258.873 1238.4296\n",
      "1000 198.7122 1238.4296\n",
      "[[ 3  1  1  2  0  7  2  0]\n",
      " [ 0  6  4  1  2  1  0  2]\n",
      " [ 1  4  9  1  0  0  0  1]\n",
      " [ 1  2  0 11  0  0  2  0]\n",
      " [ 0  0  0  0  7  2  2  5]\n",
      " [ 0  0  0  0  1  9  0  6]\n",
      " [ 1  0  0  2  4  1  4  4]\n",
      " [ 0  0  0  0  4  3  0  9]]\n",
      "2000 197.67186 205.71974\n",
      "3000 184.76709 205.71974\n",
      "[[ 0  2  0  2  3  4  3  2]\n",
      " [ 2  8  3  0  0  1  2  0]\n",
      " [ 0  9  5  0  0  0  0  2]\n",
      " [ 1  0  0 14  0  0  0  1]\n",
      " [ 0  0  0  0 12  1  1  2]\n",
      " [ 3  0  0  2  2  6  0  3]\n",
      " [ 4  1  0  2  7  1  1  0]\n",
      " [ 1  1  0  0  3  3  0  8]]\n",
      "4000 186.85233 201.39514\n",
      "5000 194.51321 201.39514\n",
      "[[ 3  2  0  1  1  3  3  3]\n",
      " [ 0  5  2  6  0  1  1  1]\n",
      " [ 0  3 12  0  0  0  1  0]\n",
      " [ 1  1  0 13  0  0  0  1]\n",
      " [ 0  0  0  0  4  1  5  6]\n",
      " [ 3  1  1  0  1  5  0  5]\n",
      " [ 1  0  0  5  1  2  5  2]\n",
      " [ 0  1  0  0  2  4  1  8]]\n",
      "6000 170.46606 200.84889\n",
      "7000 190.26091 200.84889\n",
      "[[ 7  1  0  0  1  3  1  3]\n",
      " [ 1 12  1  0  0  2  0  0]\n",
      " [ 0  8  8  0  0  0  0  0]\n",
      " [ 1  3  1  9  0  0  1  1]\n",
      " [ 0  0  0  0  7  3  1  5]\n",
      " [ 3  2  0  0  0  7  1  3]\n",
      " [ 2  1  0  0  5  0  8  0]\n",
      " [ 2  1  0  0  1  4  0  8]]\n",
      "8000 169.01122 210.04832\n",
      "9000 168.68945 210.04832\n",
      "[[ 6  0  2  1  1  2  0  4]\n",
      " [ 0  3  6  2  2  2  1  0]\n",
      " [ 0  6  8  1  0  0  0  1]\n",
      " [ 1  1  0 12  0  1  1  0]\n",
      " [ 2  0  0  0  4  2  4  4]\n",
      " [ 3  2  0  0  0  7  0  4]\n",
      " [ 5  0  0  1  1  2  5  2]\n",
      " [ 1  0  0  0  0  2  2 11]]\n",
      "10000 181.60196 240.12428\n",
      "11000 164.50082 240.12428\n",
      "[[ 2  0  2  3  1  5  2  1]\n",
      " [ 0  9  5  1  0  1  0  0]\n",
      " [ 0  4 10  0  0  1  0  1]\n",
      " [ 0  2  0 11  0  0  2  1]\n",
      " [ 0  1  0  0  7  2  2  4]\n",
      " [ 0  1  0  2  0  6  2  5]\n",
      " [ 1  1  0  2  1  2  5  4]\n",
      " [ 0  1  0  0  2  7  1  5]]\n",
      "12000 158.40831 236.13759\n",
      "13000 161.21463 236.13759\n",
      "[[ 3  0  1  2  0  9  0  1]\n",
      " [ 0 11  1  1  0  1  1  1]\n",
      " [ 0  4 10  0  0  1  0  1]\n",
      " [ 0  5  0 11  0  0  0  0]\n",
      " [ 0  0  0  0  7  3  5  1]\n",
      " [ 2  1  0  1  0  7  1  4]\n",
      " [ 3  0  1  3  1  3  5  0]\n",
      " [ 1  1  0  0  0  5  2  7]]\n",
      "14000 142.97505 243.5054\n",
      "15000 152.5982 243.5054\n",
      "[[ 3  0  1  3  0  5  1  3]\n",
      " [ 0  4  5  1  0  5  1  0]\n",
      " [ 2  3  9  0  0  2  0  0]\n",
      " [ 1  2  0 13  0  0  0  0]\n",
      " [ 3  0  0  0  3  3  4  3]\n",
      " [ 4  2  0  0  0  7  2  1]\n",
      " [ 0  1  0  3  0  2  8  2]\n",
      " [ 1  1  0  0  1  5  0  8]]\n",
      "16000 145.58559 252.96088\n",
      "17000 147.33685 252.96088\n",
      "[[ 1  2  1  0  3  8  0  1]\n",
      " [ 0  5  5  2  0  4  0  0]\n",
      " [ 0  7  9  0  0  0  0  0]\n",
      " [ 0  3  0 12  0  0  1  0]\n",
      " [ 1  0  0  0  4  2  5  4]\n",
      " [ 4  0  1  2  0  5  0  4]\n",
      " [ 2  1  1  3  1  0  5  3]\n",
      " [ 1  0  1  1  0  6  1  6]]\n",
      "18000 154.04535 265.69806\n",
      "19000 165.9035 265.69806\n",
      "[[113  15  11  17  11 110  60  29]\n",
      " [  0  25   6   8   0   4   4   2]\n",
      " [  1  24  28   4   1   7   1   2]\n",
      " [  8   6   0 131   1   5  12   3]\n",
      " [  1   0   0   0   2   0   3   3]\n",
      " [ 17   4   3   1   0  36   7  20]\n",
      " [ 11   6   1   9   9  10  44   6]\n",
      " [  3   1   0   0   3   6   4  16]]\n"
     ]
    }
   ],
   "source": [
    "c.train(n_iter=20000, learning_rate=0.0008)"
   ]
  },
  {
   "cell_type": "code",
   "execution_count": 48,
   "metadata": {},
   "outputs": [],
   "source": [
    "tb, tl = c.get_balanced_batch(c.val_images,\n",
    "                              c.val_labels,\n",
    "                              c.class_where_val,\n",
    "                              800)\n",
    "\n",
    "vl, vsm, vlb, vcm = c.sess.run([c.loss, c.softmax, c.label_batch, c.confmat],\n",
    "                      feed_dict={c.image_batch:tb,\n",
    "                                 c.label_batch:tl,\n",
    "                                 c.is_training:False})\n"
   ]
  },
  {
   "cell_type": "code",
   "execution_count": 49,
   "metadata": {},
   "outputs": [],
   "source": [
    "tl.shape, np.argmax(vsm, axis=-1).shape\n",
    "tls = np.argmax(tl, axis=-1)\n",
    "vsms = np.argmax(vsm, axis=-1)"
   ]
  },
  {
   "cell_type": "code",
   "execution_count": 50,
   "metadata": {},
   "outputs": [
    {
     "name": "stdout",
     "output_type": "stream",
     "text": [
      "             precision    recall  f1-score   support\n",
      "\n",
      "          0       0.42      0.31      0.36       100\n",
      "          1       0.47      0.51      0.49       100\n",
      "          2       0.66      0.39      0.49       100\n",
      "          3       0.67      0.80      0.73       100\n",
      "          4       0.09      0.10      0.10        31\n",
      "          5       0.36      0.48      0.41       100\n",
      "          6       0.44      0.44      0.44       100\n",
      "          7       0.49      0.52      0.50        89\n",
      "\n",
      "avg / total       0.48      0.47      0.47       720\n",
      "\n",
      "0.475\n"
     ]
    }
   ],
   "source": [
    "print(metrics.classification_report(tls, vsms))\n",
    "print(metrics.accuracy_score(tls, vsms))"
   ]
  },
  {
   "cell_type": "code",
   "execution_count": 51,
   "metadata": {},
   "outputs": [],
   "source": [
    "_ = plt.hist(np.max(vsm, axis=1), bins=25)\n",
    "_ = plt.hist(np.min(vsm, axis=1), bins=25)"
   ]
  },
  {
   "cell_type": "code",
   "execution_count": 52,
   "metadata": {},
   "outputs": [
    {
     "data": {
      "image/png": "[encoded data removed]",
      "text/plain": [
       "<Figure size 432x288 with 1 Axes>"
      ]
     },
     "metadata": {},
     "output_type": "display_data"
    }
   ],
   "source": [
    "plt.show()"
   ]
  },
  {
   "cell_type": "code",
   "execution_count": 53,
   "metadata": {},
   "outputs": [],
   "source": [
    "cm = metrics.confusion_matrix(tls, vsms)\n",
    "cm = cm/cm.sum(axis=1)\n",
    "import pandas as pd\n",
    "cmdf = pd.DataFrame(cm)"
   ]
  },
  {
   "cell_type": "code",
   "execution_count": 54,
   "metadata": {},
   "outputs": [
    {
     "data": {
      "text/html": [
       "<div>\n",
       "<style scoped>\n",
       "    .dataframe tbody tr th:only-of-type {\n",
       "        vertical-align: middle;\n",
       "    }\n",
       "\n",
       "    .dataframe tbody tr th {\n",
       "        vertical-align: top;\n",
       "    }\n",
       "\n",
       "    .dataframe thead th {\n",
       "        text-align: right;\n",
       "    }\n",
       "</style>\n",
       "<table border=\"1\" class=\"dataframe\">\n",
       "  <thead>\n",
       "    <tr style=\"text-align: right;\">\n",
       "      <th></th>\n",
       "      <th>0</th>\n",
       "      <th>1</th>\n",
       "      <th>2</th>\n",
       "      <th>3</th>\n",
       "      <th>4</th>\n",
       "      <th>5</th>\n",
       "      <th>6</th>\n",
       "      <th>7</th>\n",
       "    </tr>\n",
       "  </thead>\n",
       "  <tbody>\n",
       "    <tr>\n",
       "      <th>0</th>\n",
       "      <td>0.31</td>\n",
       "      <td>0.03</td>\n",
       "      <td>0.03</td>\n",
       "      <td>0.05</td>\n",
       "      <td>0.193548</td>\n",
       "      <td>0.29</td>\n",
       "      <td>0.09</td>\n",
       "      <td>0.157303</td>\n",
       "    </tr>\n",
       "    <tr>\n",
       "      <th>1</th>\n",
       "      <td>0.01</td>\n",
       "      <td>0.51</td>\n",
       "      <td>0.14</td>\n",
       "      <td>0.14</td>\n",
       "      <td>0.000000</td>\n",
       "      <td>0.07</td>\n",
       "      <td>0.12</td>\n",
       "      <td>0.011236</td>\n",
       "    </tr>\n",
       "    <tr>\n",
       "      <th>2</th>\n",
       "      <td>0.01</td>\n",
       "      <td>0.34</td>\n",
       "      <td>0.39</td>\n",
       "      <td>0.07</td>\n",
       "      <td>0.064516</td>\n",
       "      <td>0.09</td>\n",
       "      <td>0.05</td>\n",
       "      <td>0.033708</td>\n",
       "    </tr>\n",
       "    <tr>\n",
       "      <th>3</th>\n",
       "      <td>0.04</td>\n",
       "      <td>0.06</td>\n",
       "      <td>0.01</td>\n",
       "      <td>0.80</td>\n",
       "      <td>0.000000</td>\n",
       "      <td>0.02</td>\n",
       "      <td>0.06</td>\n",
       "      <td>0.011236</td>\n",
       "    </tr>\n",
       "    <tr>\n",
       "      <th>4</th>\n",
       "      <td>0.03</td>\n",
       "      <td>0.00</td>\n",
       "      <td>0.00</td>\n",
       "      <td>0.02</td>\n",
       "      <td>0.096774</td>\n",
       "      <td>0.05</td>\n",
       "      <td>0.12</td>\n",
       "      <td>0.067416</td>\n",
       "    </tr>\n",
       "    <tr>\n",
       "      <th>5</th>\n",
       "      <td>0.17</td>\n",
       "      <td>0.06</td>\n",
       "      <td>0.01</td>\n",
       "      <td>0.02</td>\n",
       "      <td>0.129032</td>\n",
       "      <td>0.48</td>\n",
       "      <td>0.05</td>\n",
       "      <td>0.191011</td>\n",
       "    </tr>\n",
       "    <tr>\n",
       "      <th>6</th>\n",
       "      <td>0.15</td>\n",
       "      <td>0.04</td>\n",
       "      <td>0.01</td>\n",
       "      <td>0.10</td>\n",
       "      <td>0.322581</td>\n",
       "      <td>0.10</td>\n",
       "      <td>0.44</td>\n",
       "      <td>0.067416</td>\n",
       "    </tr>\n",
       "    <tr>\n",
       "      <th>7</th>\n",
       "      <td>0.02</td>\n",
       "      <td>0.04</td>\n",
       "      <td>0.00</td>\n",
       "      <td>0.00</td>\n",
       "      <td>0.225806</td>\n",
       "      <td>0.24</td>\n",
       "      <td>0.06</td>\n",
       "      <td>0.516854</td>\n",
       "    </tr>\n",
       "  </tbody>\n",
       "</table>\n",
       "</div>"
      ],
      "text/plain": [
       "      0     1     2     3         4     5     6         7\n",
       "0  0.31  0.03  0.03  0.05  0.193548  0.29  0.09  0.157303\n",
       "1  0.01  0.51  0.14  0.14  0.000000  0.07  0.12  0.011236\n",
       "2  0.01  0.34  0.39  0.07  0.064516  0.09  0.05  0.033708\n",
       "3  0.04  0.06  0.01  0.80  0.000000  0.02  0.06  0.011236\n",
       "4  0.03  0.00  0.00  0.02  0.096774  0.05  0.12  0.067416\n",
       "5  0.17  0.06  0.01  0.02  0.129032  0.48  0.05  0.191011\n",
       "6  0.15  0.04  0.01  0.10  0.322581  0.10  0.44  0.067416\n",
       "7  0.02  0.04  0.00  0.00  0.225806  0.24  0.06  0.516854"
      ]
     },
     "execution_count": 54,
     "metadata": {},
     "output_type": "execute_result"
    }
   ],
   "source": [
    "cmdf"
   ]
  },
  {
   "cell_type": "code",
   "execution_count": 55,
   "metadata": {},
   "outputs": [
    {
     "data": {
      "text/plain": [
       "<matplotlib.axes._subplots.AxesSubplot at 0x7f183bfa97f0>"
      ]
     },
     "execution_count": 55,
     "metadata": {},
     "output_type": "execute_result"
    }
   ],
   "source": [
    "import seaborn as sns\n",
    "sns.heatmap(cm)"
   ]
  },
  {
   "cell_type": "code",
   "execution_count": 56,
   "metadata": {},
   "outputs": [
    {
     "data": {
      "image/png": "[encoded data removed]",
      "text/plain": [
       "<Figure size 432x288 with 2 Axes>"
      ]
     },
     "metadata": {},
     "output_type": "display_data"
    }
   ],
   "source": [
    "plt.show()"
   ]
  },
  {
   "cell_type": "code",
   "execution_count": null,
   "metadata": {},
   "outputs": [],
   "source": []
  },
  {
   "cell_type": "code",
   "execution_count": null,
   "metadata": {},
   "outputs": [],
   "source": []
  },
  {
   "cell_type": "code",
   "execution_count": null,
   "metadata": {},
   "outputs": [],
   "source": []
  }
 ],
 "metadata": {
  "kernelspec": {
   "display_name": "Environment (conda_deep)",
   "language": "python",
   "name": "conda_deep"
  },
  "language_info": {
   "codemirror_mode": {
    "name": "ipython",
    "version": 3
   },
   "file_extension": ".py",
   "mimetype": "text/x-python",
   "name": "python",
   "nbconvert_exporter": "python",
   "pygments_lexer": "ipython3",
   "version": "3.6.5"
  }
 },
 "nbformat": 4,
 "nbformat_minor": 2
}
