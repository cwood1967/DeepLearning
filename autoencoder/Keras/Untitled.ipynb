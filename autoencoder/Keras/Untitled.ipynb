{
 "cells": [
  {
   "cell_type": "code",
   "execution_count": 1,
   "metadata": {},
   "outputs": [
    {
     "name": "stderr",
     "output_type": "stream",
     "text": [
      "/home/cjw/anaconda3/lib/python3.6/site-packages/h5py/__init__.py:36: FutureWarning: Conversion of the second argument of issubdtype from `float` to `np.floating` is deprecated. In future, it will be treated as `np.float64 == np.dtype(float).type`.\n",
      "  from ._conv import register_converters as _register_converters\n",
      "Using TensorFlow backend.\n"
     ]
    }
   ],
   "source": [
    "import os\n",
    "\n",
    "import numpy as np\n",
    "from matplotlib import pyplot as plt\n",
    "import keras"
   ]
  },
  {
   "cell_type": "code",
   "execution_count": 2,
   "metadata": {},
   "outputs": [],
   "source": [
    "datadir = '/media/cjw/Data/cyto/mmCompensatedTifs/'"
   ]
  },
  {
   "cell_type": "code",
   "execution_count": 3,
   "metadata": {},
   "outputs": [
    {
     "data": {
      "text/plain": [
       "['Fish4_Untreated.mm',\n",
       " 'Fish3_CCB.mm',\n",
       " 'Fish4_CCB.mm',\n",
       " 'Fish1_Untreated.mm',\n",
       " 'Fish2_ICE.mm',\n",
       " 'Fish2_CCB.mm',\n",
       " 'Fish5_CCB.mm',\n",
       " 'Fish1_Ice.mm',\n",
       " 'Fish6_CCB.mm',\n",
       " 'Fish3_Untreated.mm',\n",
       " 'Fish4_ICE.mm',\n",
       " 'Fish6_ICE.mm',\n",
       " 'Fish3_ICE.mm',\n",
       " 'Fish6_Untreated.mm',\n",
       " 'Fish2_Untreated.mm',\n",
       " 'Fish5_Untreated.mm',\n",
       " 'Fish1_CCB.mm',\n",
       " 'Fish5_ICE.mm']"
      ]
     },
     "execution_count": 3,
     "metadata": {},
     "output_type": "execute_result"
    }
   ],
   "source": [
    "mms = os.listdir(datadir)\n",
    "mms = [x for x in mms if x.endswith(\".mm\")]\n",
    "mms"
   ]
  },
  {
   "cell_type": "code",
   "execution_count": 4,
   "metadata": {},
   "outputs": [
    {
     "name": "stdout",
     "output_type": "stream",
     "text": [
      "(60000, 10) (60000,)\n"
     ]
    }
   ],
   "source": [
    "label_file ='/media/cjw/Data/MNIST/train-labels-idx1-ubyte'\n",
    "labmm = np.memmap(label_file, dtype=np.uint8, mode='r', offset=8, shape=(60000))\n",
    "labels = np.zeros((60000))\n",
    "labels[:] = labmm\n",
    "\n",
    "y = np.zeros((len(labels), 10), dtype=np.float32)\n",
    "print(y.shape, labels.shape)\n",
    "for i, b in enumerate(labels):\n",
    "#     print(i,b)\n",
    "    y[i, int(b)] = 1\n",
    "    \n"
   ]
  },
  {
   "cell_type": "code",
   "execution_count": 5,
   "metadata": {},
   "outputs": [
    {
     "data": {
      "text/plain": [
       "memmap([10000,    64,    64,     5], dtype=int32)"
      ]
     },
     "execution_count": 5,
     "metadata": {},
     "output_type": "execute_result"
    }
   ],
   "source": [
    "header = np.memmap(datadir + mms[0][0:128], dtype=np.int32, shape=(4,))\n",
    "header"
   ]
  },
  {
   "cell_type": "code",
   "execution_count": 6,
   "metadata": {},
   "outputs": [],
   "source": [
    "del header"
   ]
  },
  {
   "cell_type": "code",
   "execution_count": 7,
   "metadata": {},
   "outputs": [],
   "source": [
    "images = np.memmap(datadir + mms[0], offset=128, dtype=np.float32, shape=(10000, 64,64, 5))\n",
    "train = images[:10000,16:48,16:48,[0,1,3,4]]\n",
    "yt = y[0:40000]"
   ]
  },
  {
   "cell_type": "code",
   "execution_count": 8,
   "metadata": {},
   "outputs": [
    {
     "data": {
      "text/plain": [
       "(10000, 32, 32, 4)"
      ]
     },
     "execution_count": 8,
     "metadata": {},
     "output_type": "execute_result"
    }
   ],
   "source": [
    "datagen = keras.preprocessing.image.ImageDataGenerator(data_format='channels_last')\n",
    "datagen.fit(train)\n",
    "train.shape"
   ]
  },
  {
   "cell_type": "code",
   "execution_count": 9,
   "metadata": {},
   "outputs": [
    {
     "name": "stdout",
     "output_type": "stream",
     "text": [
      "(32, 32, 4) (32, 32, 32, 4)\n",
      "0.92719555\n"
     ]
    },
    {
     "data": {
      "image/png": "[encoded data removed]",
      "text/plain": [
       "<matplotlib.figure.Figure at 0x7f46db5bd3c8>"
      ]
     },
     "metadata": {},
     "output_type": "display_data"
    }
   ],
   "source": [
    "for x in datagen.flow(train, batch_size=32):\n",
    "    print(x[0].shape, x.shape)\n",
    "    print(np.max(x))\n",
    "    plt.imshow(x[0,:,:,0])\n",
    "    break;"
   ]
  },
  {
   "cell_type": "code",
   "execution_count": 51,
   "metadata": {},
   "outputs": [
    {
     "name": "stdout",
     "output_type": "stream",
     "text": [
      "Epoch 1/40\n",
      "400/400 [==============================] - 39s 98ms/step - loss: 0.0091 - acc: 0.5037\n",
      "Epoch 2/40\n",
      "400/400 [==============================] - 35s 88ms/step - loss: 0.0023 - acc: 0.5284\n",
      "Epoch 3/40\n",
      "400/400 [==============================] - 35s 88ms/step - loss: 0.0013 - acc: 0.5624\n",
      "Epoch 4/40\n",
      "400/400 [==============================] - 35s 88ms/step - loss: 9.8474e-04 - acc: 0.5746\n",
      "Epoch 5/40\n",
      "400/400 [==============================] - 35s 88ms/step - loss: 8.5712e-04 - acc: 0.5786\n",
      "Epoch 6/40\n",
      "400/400 [==============================] - 35s 88ms/step - loss: 7.9108e-04 - acc: 0.5814\n",
      "Epoch 7/40\n",
      "400/400 [==============================] - 35s 88ms/step - loss: 7.3576e-04 - acc: 0.5848\n",
      "Epoch 8/40\n",
      "400/400 [==============================] - 35s 88ms/step - loss: 6.9635e-04 - acc: 0.5891\n",
      "Epoch 9/40\n",
      "400/400 [==============================] - 35s 88ms/step - loss: 6.6510e-04 - acc: 0.5936\n",
      "Epoch 10/40\n",
      "400/400 [==============================] - 35s 88ms/step - loss: 6.2674e-04 - acc: 0.5989\n",
      "Epoch 11/40\n",
      "400/400 [==============================] - 35s 88ms/step - loss: 5.9753e-04 - acc: 0.6020\n",
      "Epoch 12/40\n",
      "400/400 [==============================] - 35s 88ms/step - loss: 5.7460e-04 - acc: 0.6053\n",
      "Epoch 13/40\n",
      "400/400 [==============================] - 35s 88ms/step - loss: 5.4265e-04 - acc: 0.6080\n",
      "Epoch 14/40\n",
      "400/400 [==============================] - 35s 88ms/step - loss: 5.3011e-04 - acc: 0.6107\n",
      "Epoch 15/40\n",
      "400/400 [==============================] - 35s 88ms/step - loss: 5.1204e-04 - acc: 0.6134\n",
      "Epoch 16/40\n",
      "400/400 [==============================] - 35s 88ms/step - loss: 4.9447e-04 - acc: 0.6162\n",
      "Epoch 17/40\n",
      "400/400 [==============================] - 35s 88ms/step - loss: 4.8421e-04 - acc: 0.6185\n",
      "Epoch 18/40\n",
      "400/400 [==============================] - 35s 88ms/step - loss: 4.6782e-04 - acc: 0.6212\n",
      "Epoch 19/40\n",
      "400/400 [==============================] - 35s 88ms/step - loss: 4.5700e-04 - acc: 0.6240\n",
      "Epoch 20/40\n",
      "400/400 [==============================] - 35s 88ms/step - loss: 4.4320e-04 - acc: 0.6266\n",
      "Epoch 21/40\n",
      "400/400 [==============================] - 35s 88ms/step - loss: 4.3647e-04 - acc: 0.6290\n",
      "Epoch 22/40\n",
      "400/400 [==============================] - 35s 88ms/step - loss: 4.1769e-04 - acc: 0.6329\n",
      "Epoch 23/40\n",
      "400/400 [==============================] - 35s 88ms/step - loss: 4.0797e-04 - acc: 0.6358\n",
      "Epoch 24/40\n",
      "400/400 [==============================] - 35s 88ms/step - loss: 3.9899e-04 - acc: 0.6388\n",
      "Epoch 25/40\n",
      "400/400 [==============================] - 35s 88ms/step - loss: 3.8605e-04 - acc: 0.6418\n",
      "Epoch 26/40\n",
      "400/400 [==============================] - 35s 88ms/step - loss: 3.7978e-04 - acc: 0.6440\n",
      "Epoch 27/40\n",
      "400/400 [==============================] - 35s 88ms/step - loss: 3.7388e-04 - acc: 0.6472\n",
      "Epoch 28/40\n",
      "400/400 [==============================] - 35s 88ms/step - loss: 3.6337e-04 - acc: 0.6502\n",
      "Epoch 29/40\n",
      "400/400 [==============================] - 35s 88ms/step - loss: 3.5703e-04 - acc: 0.6521\n",
      "Epoch 30/40\n",
      "400/400 [==============================] - 35s 88ms/step - loss: 3.4568e-04 - acc: 0.6551\n",
      "Epoch 31/40\n",
      "400/400 [==============================] - 35s 88ms/step - loss: 3.4100e-04 - acc: 0.6565\n",
      "Epoch 32/40\n",
      "400/400 [==============================] - 35s 88ms/step - loss: 3.3652e-04 - acc: 0.6587\n",
      "Epoch 33/40\n",
      "400/400 [==============================] - 35s 87ms/step - loss: 3.3117e-04 - acc: 0.6601\n",
      "Epoch 34/40\n",
      "400/400 [==============================] - 35s 88ms/step - loss: 3.2618e-04 - acc: 0.6616\n",
      "Epoch 35/40\n",
      "400/400 [==============================] - 35s 87ms/step - loss: 3.2043e-04 - acc: 0.6629\n",
      "Epoch 36/40\n",
      "400/400 [==============================] - 35s 87ms/step - loss: 3.1150e-04 - acc: 0.6653\n",
      "Epoch 37/40\n",
      "400/400 [==============================] - 35s 87ms/step - loss: 3.0977e-04 - acc: 0.6655\n",
      "Epoch 38/40\n",
      "400/400 [==============================] - 35s 88ms/step - loss: 3.0555e-04 - acc: 0.6674\n",
      "Epoch 39/40\n",
      "400/400 [==============================] - 35s 88ms/step - loss: 3.0372e-04 - acc: 0.6683\n",
      "Epoch 40/40\n",
      "400/400 [==============================] - 35s 87ms/step - loss: 2.9419e-04 - acc: 0.6693\n"
     ]
    },
    {
     "data": {
      "text/plain": [
       "(<keras.callbacks.History at 0x7f460ef50710>,)"
      ]
     },
     "execution_count": 51,
     "metadata": {},
     "output_type": "execute_result"
    }
   ],
   "source": [
    "from keras.models import Sequential, Model\n",
    "from keras.layers import Dense, Conv2D, Conv2DTranspose, Activation, Flatten, Reshape\n",
    "\n",
    "model = Sequential()\n",
    "model.add(Conv2D(32, 7, strides=2, padding='SAME', input_shape=(32, 32, 4)))\n",
    "model.add(Activation('relu'))\n",
    "model.add(Conv2D(32, 3, strides=1, padding='SAME'))\n",
    "model.add(Activation('relu'))\n",
    "model.add(Conv2D(32, 3, strides=1, padding='SAME'))\n",
    "model.add(Activation('relu'))\n",
    "# model.add(Conv2D(32, 3, strides=1, padding='SAME'))\n",
    "# model.add(Activation('relu'))\n",
    "model.add(Conv2D(64, 5, strides=2, padding='SAME'))\n",
    "model.add(Activation('relu'))\n",
    "model.add(Conv2D(64, 3, strides=1, padding='SAME'))\n",
    "model.add(Activation('relu'))\n",
    "model.add(Conv2D(64, 3, strides=1, padding='SAME'))\n",
    "model.add(Activation('relu'))\n",
    "# model.add(Conv2D(64, 3, strides=1, padding='SAME'))\n",
    "# model.add(Activation('relu'))\n",
    "model.add(Conv2D(128, 3, strides=2, padding='SAME'))\n",
    "model.add(Activation('relu'))\n",
    "model.add(Conv2D(128, 3, strides=1, padding='SAME'))\n",
    "model.add(Activation('relu'))\n",
    "model.add(Conv2D(128, 3, strides=1, padding='SAME'))\n",
    "model.add(Activation('relu'))\n",
    "# model.add(Conv2D(128, 3, strides=1, padding='SAME'))\n",
    "# model.add(Activation('relu'))\n",
    "\n",
    "model.add(Flatten())\n",
    "model.add(Dense(256))\n",
    "#model.add(Dense(10, activation='softmax'))\n",
    "model.add(Dense(128*4*4))\n",
    "model.add(Activation('relu'))\n",
    "model.add(Reshape((4,4,128)))\n",
    "#model.add(Activation('relu'))\n",
    "model.add(Conv2DTranspose(128, 3, strides=1, padding='SAME'))\n",
    "model.add(Activation('relu'))\n",
    "model.add(Conv2DTranspose(128, 3, strides=1, padding='SAME'))\n",
    "model.add(Activation('relu'))\n",
    "# model.add(Conv2DTranspose(128, 3, strides=1, padding='SAME'))\n",
    "# model.add(Activation('relu'))\n",
    "\n",
    "model.add(Conv2DTranspose(64, 3, strides=2, padding='same'))\n",
    "model.add(Activation('relu'))\n",
    "model.add(Conv2DTranspose(64, 3, strides=1, padding='SAME'))\n",
    "model.add(Activation('relu'))\n",
    "model.add(Conv2DTranspose(64, 3, strides=1, padding='SAME'))\n",
    "model.add(Activation('relu'))\n",
    "# model.add(Conv2DTranspose(64, 3, strides=1, padding='SAME'))\n",
    "# model.add(Activation('relu'))\n",
    "\n",
    "model.add(Conv2DTranspose(32, 5, strides=2, padding='same'))\n",
    "model.add(Activation('relu'))\n",
    "model.add(Conv2DTranspose(32, 3, strides=1, padding='SAME'))\n",
    "model.add(Activation('relu'))\n",
    "model.add(Conv2DTranspose(32, 3, strides=1, padding='SAME'))\n",
    "model.add(Activation('relu'))\n",
    "# model.add(Conv2DTranspose(32, 3, strides=1, padding='SAME'))\n",
    "# model.add(Activation('relu'))\n",
    "\n",
    "model.add(Conv2DTranspose(4, 7, strides=2, padding='same'))\n",
    "model.add(Activation('tanh'))\n",
    "#print(model.summary())\n",
    "adam=keras.optimizers.Adam(lr=0.001, decay=0.000)\n",
    "model.compile(optimizer=adam, loss='mean_squared_error',\n",
    "             metrics=['accuracy'])\n",
    "\n",
    "model.fit_generator(datagen.flow(train, train, batch_size=256),\n",
    "                    steps_per_epoch=400, epochs=40),\n",
    "                   #validation_data=(images[40000:50000], #images[40000:50000]),\n",
    "                    #validation_steps=10000/128)\n",
    "\n",
    "\n",
    "\n"
   ]
  },
  {
   "cell_type": "code",
   "execution_count": 52,
   "metadata": {},
   "outputs": [],
   "source": [
    "n=52000"
   ]
  },
  {
   "cell_type": "code",
   "execution_count": 53,
   "metadata": {},
   "outputs": [
    {
     "data": {
      "text/plain": [
       "10000"
      ]
     },
     "execution_count": 53,
     "metadata": {},
     "output_type": "execute_result"
    }
   ],
   "source": [
    "n += 1\n",
    "#v = np.expand_dims(images[n], axis=0)\n",
    "#print(v.shape)\n",
    "g = model.predict(train[0:30])\n",
    "# gm = np.argmax(g, axis=1)\n",
    "# vl = labels[50000:]\n",
    "\n",
    "b = train # images[50000:]#[vl != gm]\n",
    "\n",
    "len(b)"
   ]
  },
  {
   "cell_type": "code",
   "execution_count": 59,
   "metadata": {},
   "outputs": [
    {
     "data": {
      "text/plain": [
       "<matplotlib.image.AxesImage at 0x7f460d2d0a20>"
      ]
     },
     "execution_count": 59,
     "metadata": {},
     "output_type": "execute_result"
    },
    {
     "data": {
      "image/png": "[encoded data removed]",
      "text/plain": [
       "<matplotlib.figure.Figure at 0x7f460d5f2cf8>"
      ]
     },
     "metadata": {},
     "output_type": "display_data"
    }
   ],
   "source": [
    "k = 19\n",
    "plt.subplot(2,4,1)\n",
    "plt.imshow(b[k,:,:,0])\n",
    "plt.subplot(2,4,2)\n",
    "plt.imshow(b[k,:,:,1])\n",
    "plt.subplot(2,4,3)\n",
    "plt.imshow(b[k,:,:,2])\n",
    "plt.subplot(2,4,4)\n",
    "plt.imshow(b[k,:,:,3])\n",
    "\n",
    "plt.subplot(2,4,5)\n",
    "plt.imshow(g[k,:,:,0])\n",
    "plt.subplot(2,4,6)\n",
    "plt.imshow(g[k,:,:,1])\n",
    "plt.subplot(2,4,7)\n",
    "plt.imshow(g[k,:,:,2])\n",
    "plt.subplot(2,4,8)\n",
    "plt.imshow(g[k,:,:,3])"
   ]
  },
  {
   "cell_type": "code",
   "execution_count": null,
   "metadata": {},
   "outputs": [],
   "source": []
  }
 ],
 "metadata": {
  "kernelspec": {
   "display_name": "Python 3",
   "language": "python",
   "name": "python3"
  },
  "language_info": {
   "codemirror_mode": {
    "name": "ipython",
    "version": 3
   },
   "file_extension": ".py",
   "mimetype": "text/x-python",
   "name": "python",
   "nbconvert_exporter": "python",
   "pygments_lexer": "ipython3",
   "version": "3.6.4"
  }
 },
 "nbformat": 4,
 "nbformat_minor": 2
}
