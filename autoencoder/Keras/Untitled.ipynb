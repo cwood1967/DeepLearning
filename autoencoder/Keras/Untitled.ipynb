{
 "cells": [
  {
   "cell_type": "code",
   "execution_count": 1,
   "metadata": {},
   "outputs": [
    {
     "name": "stderr",
     "output_type": "stream",
     "text": [
      "/home/cjw/anaconda3/lib/python3.6/site-packages/h5py/__init__.py:36: FutureWarning: Conversion of the second argument of issubdtype from `float` to `np.floating` is deprecated. In future, it will be treated as `np.float64 == np.dtype(float).type`.\n",
      "  from ._conv import register_converters as _register_converters\n",
      "Using TensorFlow backend.\n"
     ]
    }
   ],
   "source": [
    "import os\n",
    "\n",
    "import numpy as np\n",
    "from matplotlib import pyplot as plt\n",
    "import keras"
   ]
  },
  {
   "cell_type": "code",
   "execution_count": 2,
   "metadata": {},
   "outputs": [],
   "source": [
    "datadir = '/media/cjw/Data/MNIST/'"
   ]
  },
  {
   "cell_type": "code",
   "execution_count": 3,
   "metadata": {},
   "outputs": [
    {
     "data": {
      "text/plain": [
       "['mnist.mm']"
      ]
     },
     "execution_count": 3,
     "metadata": {},
     "output_type": "execute_result"
    }
   ],
   "source": [
    "mms = os.listdir(datadir)\n",
    "mms = [x for x in mms if x.endswith(\".mm\")]\n",
    "mms"
   ]
  },
  {
   "cell_type": "code",
   "execution_count": 4,
   "metadata": {},
   "outputs": [
    {
     "name": "stdout",
     "output_type": "stream",
     "text": [
      "(60000, 10) (60000,)\n"
     ]
    }
   ],
   "source": [
    "label_file ='/media/cjw/Data/MNIST/train-labels-idx1-ubyte'\n",
    "labmm = np.memmap(label_file, dtype=np.uint8, mode='r', offset=8, shape=(60000))\n",
    "labels = np.zeros((60000))\n",
    "labels[:] = labmm\n",
    "\n",
    "y = np.zeros((len(labels), 10), dtype=np.float32)\n",
    "print(y.shape, labels.shape)\n",
    "for i, b in enumerate(labels):\n",
    "#     print(i,b)\n",
    "    y[i, int(b)] = 1\n",
    "    \n"
   ]
  },
  {
   "cell_type": "code",
   "execution_count": 5,
   "metadata": {},
   "outputs": [
    {
     "data": {
      "text/plain": [
       "memmap([60000,    28,    28,     1], dtype=int32)"
      ]
     },
     "execution_count": 5,
     "metadata": {},
     "output_type": "execute_result"
    }
   ],
   "source": [
    "header = np.memmap(datadir + mms[0][0:128], dtype=np.int32, shape=(4,))\n",
    "header"
   ]
  },
  {
   "cell_type": "code",
   "execution_count": 6,
   "metadata": {},
   "outputs": [],
   "source": [
    "del header"
   ]
  },
  {
   "cell_type": "code",
   "execution_count": 33,
   "metadata": {},
   "outputs": [],
   "source": [
    "images = np.memmap(datadir + mms[0], offset=128, dtype=np.float32, shape=(60000, 28,28, 1))\n",
    "train = images[:40000]\n",
    "yt = y[0:40000]"
   ]
  },
  {
   "cell_type": "code",
   "execution_count": 34,
   "metadata": {},
   "outputs": [],
   "source": [
    "datagen = keras.preprocessing.image.ImageDataGenerator(data_format='channels_last')\n",
    "datagen.fit(train)"
   ]
  },
  {
   "cell_type": "code",
   "execution_count": 35,
   "metadata": {},
   "outputs": [
    {
     "name": "stdout",
     "output_type": "stream",
     "text": [
      "(28, 28, 1) (32, 28, 28, 1)\n",
      "1.0\n"
     ]
    },
    {
     "data": {
      "image/png": "[encoded data removed]",
      "text/plain": [
       "<matplotlib.figure.Figure at 0x7faae5a69780>"
      ]
     },
     "metadata": {},
     "output_type": "display_data"
    }
   ],
   "source": [
    "for x in datagen.flow(train, batch_size=32):\n",
    "    print(x[0].shape, x.shape)\n",
    "    print(np.max(x))\n",
    "    plt.imshow(x[0,:,:,0])\n",
    "    break;"
   ]
  },
  {
   "cell_type": "code",
   "execution_count": 36,
   "metadata": {},
   "outputs": [
    {
     "name": "stdout",
     "output_type": "stream",
     "text": [
      "Epoch 1/10\n",
      "313/312 [==============================] - 3s 10ms/step - loss: 0.2766 - acc: 0.9189 - val_loss: 0.1169 - val_acc: 0.9617\n",
      "Epoch 2/10\n",
      "313/312 [==============================] - 3s 8ms/step - loss: 0.0821 - acc: 0.9757 - val_loss: 0.0887 - val_acc: 0.9722\n",
      "Epoch 3/10\n",
      "313/312 [==============================] - 3s 8ms/step - loss: 0.0591 - acc: 0.9820 - val_loss: 0.0773 - val_acc: 0.9752\n",
      "Epoch 4/10\n",
      "313/312 [==============================] - 3s 8ms/step - loss: 0.0459 - acc: 0.9856 - val_loss: 0.0748 - val_acc: 0.9767\n",
      "Epoch 5/10\n",
      "313/312 [==============================] - 3s 8ms/step - loss: 0.0369 - acc: 0.9884 - val_loss: 0.0719 - val_acc: 0.9792\n",
      "Epoch 6/10\n",
      "313/312 [==============================] - 3s 8ms/step - loss: 0.0306 - acc: 0.9902 - val_loss: 0.0703 - val_acc: 0.9795\n",
      "Epoch 7/10\n",
      "313/312 [==============================] - 3s 8ms/step - loss: 0.0264 - acc: 0.9911 - val_loss: 0.0747 - val_acc: 0.9776\n",
      "Epoch 8/10\n",
      "313/312 [==============================] - 3s 8ms/step - loss: 0.0223 - acc: 0.9925 - val_loss: 0.0755 - val_acc: 0.9798\n",
      "Epoch 9/10\n",
      "313/312 [==============================] - 3s 8ms/step - loss: 0.0197 - acc: 0.9933 - val_loss: 0.0802 - val_acc: 0.9780\n",
      "Epoch 10/10\n",
      "313/312 [==============================] - 3s 8ms/step - loss: 0.0164 - acc: 0.9942 - val_loss: 0.0981 - val_acc: 0.9758\n"
     ]
    },
    {
     "data": {
      "text/plain": [
       "<keras.callbacks.History at 0x7faae5955b00>"
      ]
     },
     "execution_count": 36,
     "metadata": {},
     "output_type": "execute_result"
    }
   ],
   "source": [
    "from keras.models import Sequential, Model\n",
    "from keras.layers import Dense, Conv2D, Conv2DTranspose, Activation, Flatten\n",
    "\n",
    "model = Sequential()\n",
    "model.add(Conv2D(16, 3, strides=2, padding='SAME', input_shape=(28, 28, 1)))\n",
    "model.add(Activation('relu'))\n",
    "model.add(Conv2D(32, 3, strides=2, padding='SAME'))\n",
    "model.add(Activation('relu'))\n",
    "model.add(Conv2D(64, 1, strides=1, padding='SAME'))\n",
    "model.add(Activation('relu'))\n",
    "model.add(Flatten())\n",
    "model.add(Dense(256))\n",
    "model.add(Dense(10, activation='softmax'))\n",
    "\n",
    "model.compile(optimizer='adam', loss='categorical_crossentropy',\n",
    "             metrics=['accuracy'])\n",
    "\n",
    "model.fit_generator(datagen.flow(train, yt, batch_size=128),\n",
    "                    steps_per_epoch=40000/128, epochs=10,\n",
    "                   validation_data=(images[40000:50000], y[40000:50000]),\n",
    "                    validation_steps=10000/128)\n",
    "\n",
    "\n",
    "\n"
   ]
  },
  {
   "cell_type": "code",
   "execution_count": 136,
   "metadata": {},
   "outputs": [
    {
     "name": "stdout",
     "output_type": "stream",
     "text": [
      "(1, 28, 28, 1)\n"
     ]
    },
    {
     "data": {
      "text/plain": [
       "(0.99390256, 1, 1)"
      ]
     },
     "execution_count": 136,
     "metadata": {},
     "output_type": "execute_result"
    },
    {
     "data": {
      "image/png": "[encoded data removed]",
      "text/plain": [
       "<matplotlib.figure.Figure at 0x7faae3fedda0>"
      ]
     },
     "metadata": {},
     "output_type": "display_data"
    }
   ],
   "source": [
    "n += 1\n",
    "v = np.expand_dims(images[n], axis=0)\n",
    "print(v.shape)\n",
    "g = model.predict(v)\n",
    "plt.imshow(images[n,:,:,0])\n",
    "np.max(g), np.argmax(g), np.argmax(y[n])\n"
   ]
  },
  {
   "cell_type": "code",
   "execution_count": 128,
   "metadata": {},
   "outputs": [
    {
     "name": "stdout",
     "output_type": "stream",
     "text": [
      "[[4.3746414e-07 4.5686069e-01 4.6503875e-01 2.3336004e-07 3.0365724e-11\n",
      "  3.9287217e-05 7.7974118e-02 2.0790188e-10 8.6496730e-05 5.0593606e-16]]\n"
     ]
    }
   ],
   "source": [
    "print(g)"
   ]
  },
  {
   "cell_type": "code",
   "execution_count": null,
   "metadata": {},
   "outputs": [],
   "source": []
  }
 ],
 "metadata": {
  "kernelspec": {
   "display_name": "Python 3",
   "language": "python",
   "name": "python3"
  },
  "language_info": {
   "codemirror_mode": {
    "name": "ipython",
    "version": 3
   },
   "file_extension": ".py",
   "mimetype": "text/x-python",
   "name": "python",
   "nbconvert_exporter": "python",
   "pygments_lexer": "ipython3",
   "version": "3.6.4"
  }
 },
 "nbformat": 4,
 "nbformat_minor": 2
}
