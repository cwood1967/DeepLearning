{
 "cells": [
  {
   "cell_type": "markdown",
   "metadata": {
    "collapsed": true
   },
   "source": [
    "This is for using 4 channels, one brightfield and 3 fluorescent in the autoencoder.\n",
    "\n",
    "- Data directory: '/media/cjw/Data/cyto/mmFromTifs3/'\n",
    "- Checkpoint directory;: \"/media/cjw/Data/cyto/Checkpoints/2018-04-17-Chs-0-1-2-4_32_mmFromTifs3/checkpoint-2018-04-17-10-18-24/\"\n",
    "- Checkpoint file: 'autoencoder-256x-13980.meta'"
   ]
  },
  {
   "cell_type": "code",
   "execution_count": 1,
   "metadata": {},
   "outputs": [
    {
     "data": {
      "text/plain": [
       "'/media/cjw/PythonLib/cjwdeeplearning/autoencoder/Channels_0_1_3_4'"
      ]
     },
     "execution_count": 1,
     "metadata": {},
     "output_type": "execute_result"
    }
   ],
   "source": [
    "'''\n",
    "Import the modules that will be used\n",
    "'''\n",
    "\n",
    "import sys\n",
    "import warnings\n",
    "from distutils.version import LooseVersion\n",
    "import os\n",
    "\n",
    "import numpy as np\n",
    "import tensorflow as tf\n",
    "import pandas as pd\n",
    "from matplotlib import pyplot as plt\n",
    "import seaborn as sns\n",
    "\n",
    "from autoencoder import network\n",
    "from autoencoder import utils\n",
    "\n",
    "%matplotlib inline\n",
    "%pwd"
   ]
  },
  {
   "cell_type": "code",
   "execution_count": 2,
   "metadata": {},
   "outputs": [
    {
     "name": "stdout",
     "output_type": "stream",
     "text": [
      "meta 1 exists OK\n",
      "meta 2 exists OK\n"
     ]
    }
   ],
   "source": [
    "datadir1 = '/media/cjw/Data/cyto/mmFromTifs3/'\n",
    "datadir2 = '/media/cjw/Data/cyto/mmNoComp/'\n",
    "#datadir =  '/media/cjw/Data/cyto/ChannelOne/'\n",
    "\n",
    "#cp_dir = '/home/cjw/disk2cjw/PythonLib/cjwdeeplearning/autoencoder/checkpoint-2018-03-19-11-19-18/'\n",
    "\n",
    "cp_dir1 = \"/media/cjw/Data/cyto/Checkpoints/2018-04-18-Chs-0-1-3-4_32_mmFromTifs3/checkpoint-2018-04-18-16-56-46/\"\n",
    "aemeta1 = 'autoencoder-256x-27960.meta'\n",
    "\n",
    "cp_dir2 = '/media/cjw/Data/FromAWS/cyto/Checkpoints/2018-04-20-Chs-0-1-3-4_32_mmNoComp/checkpoint-2018-04-20-14-51-35/'\n",
    "aemeta2 = 'autoencoder-256x-27960.meta'\n",
    "    \n",
    "cpmeta1 = cp_dir1 + aemeta1\n",
    "cpmeta2 = cp_dir2 + aemeta2\n",
    "\n",
    "if os.path.exists(cpmeta1):\n",
    "    print(\"meta 1 exists OK\")\n",
    "if os.path.exists(cpmeta2):\n",
    "    print(\"meta 2 exists OK\")"
   ]
  },
  {
   "cell_type": "code",
   "execution_count": 3,
   "metadata": {
    "collapsed": true
   },
   "outputs": [],
   "source": [
    "'''\n",
    "Define the neural network that was used and define hyper-parameters.\n",
    "These are needed to infer from the saved network checkpoint\n",
    "'''\n",
    "\n",
    "tf.reset_default_graph()\n",
    "                  \n",
    "p_width = 32\n",
    "p_height = 32\n",
    "p_nchannels = 4\n",
    "p_channels = [0,1,3,4]\n",
    "p_nepochs = 120\n",
    "p_batchsize = 128\n",
    "p_learning_rate = 0.0002  #.00005\n",
    "p_restore = False\n",
    "p_latent_size = 256\n",
    "p_droprate = 0.95\n",
    "p_stdev = .04\n",
    "\n",
    "enc_sizes = [(128, 3), (256, 3), (512, 3)] \n",
    "#enc_sizes = [(128, 3), (256, 3), (512,3), (1024,3)] #, (64, 3), (128,3)] #, (32, 3), (64, 3)]\n",
    "dec_sizes = list(reversed(enc_sizes))\n",
    "# enc_sizes = [(64, 5), (128, 3), (256,3), (512,3)]\n",
    "# dec_sizes = list(reversed(enc_sizes))\n",
    "\n",
    "params = dict()\n",
    "\n",
    "params['width'] = p_width\n",
    "params['height'] = p_height\n",
    "params['nchannels'] = p_nchannels\n",
    "params['channels'] = p_channels\n",
    "params['nepochs'] = p_nepochs\n",
    "params['batchsize'] = p_batchsize\n",
    "params['learning_rate'] = p_learning_rate\n",
    "params['restore'] = p_restore\n",
    "params['latent_size'] = p_latent_size\n",
    "params['droprate'] = p_droprate\n",
    "params['stdev'] = p_stdev\n",
    "\n",
    "params['enc_sizes'] = enc_sizes\n",
    "params['dec_sizes'] = dec_sizes\n"
   ]
  },
  {
   "cell_type": "code",
   "execution_count": 4,
   "metadata": {},
   "outputs": [
    {
     "name": "stdout",
     "output_type": "stream",
     "text": [
      "Encoder False\n",
      "[<tf.Tensor 'Placeholder:0' shape=(?, 32, 32, 4) dtype=float32>, <tf.Tensor 'Maximum:0' shape=(?, 16, 16, 128) dtype=float32>, <tf.Tensor 'Maximum_1:0' shape=(?, 8, 8, 256) dtype=float32>, <tf.Tensor 'Maximum_2:0' shape=(?, 4, 4, 512) dtype=float32>] Tensor(\"latent_space/BiasAdd:0\", shape=(?, 256), dtype=float32)\n",
      "isize:  4 32\n",
      "dh0 (?, 32, 32, 4)\n",
      "[<tf.Tensor 'Maximum_3:0' shape=(?, 8192) dtype=float32>, <tf.Tensor 'Reshape:0' shape=(?, 4, 4, 512) dtype=float32>, <tf.Tensor 'Maximum_4:0' shape=(?, 8, 8, 256) dtype=float32>, <tf.Tensor 'Maximum_5:0' shape=(?, 16, 16, 128) dtype=float32>] Tensor(\"Minimum:0\", shape=(?, 32, 32, 4), dtype=float32)\n",
      "Tensor(\"Mean_1:0\", shape=(), dtype=float32) Tensor(\"Mean_2:0\", shape=(), dtype=float32) Tensor(\"add_5:0\", shape=(), dtype=float32)\n",
      "INFO:tensorflow:Restoring parameters from /media/cjw/Data/cyto/Checkpoints/2018-04-18-Chs-0-1-3-4_32_mmFromTifs3/checkpoint-2018-04-18-16-56-46/autoencoder-256x-27960\n"
     ]
    }
   ],
   "source": [
    "\n",
    "def create_network(params, cp_dir, cpmeta,sess):\n",
    "    images = tf.placeholder(tf.float32, (None, p_height, p_width, p_nchannels))\n",
    "    z = tf.placeholder(tf.float32, (None, p_latent_size))\n",
    "\n",
    "    enc = network.encoder(images, p_latent_size, droprate=p_droprate, is_train=False,\n",
    "                          nfilters=enc_sizes)\n",
    "    sdd = network.decoder(enc, nchannels=p_nchannels, width=p_width, droprate=p_droprate,\n",
    "                          is_train=False, nfilters=dec_sizes)\n",
    "\n",
    "    loss, _, _ = network.ae_loss(images, sdd)\n",
    "\n",
    "    opt = network.model_opt(loss, p_learning_rate)\n",
    "\n",
    "    saver = tf.train.Saver()\n",
    "\n",
    "    sess.run(tf.global_variables_initializer())\n",
    "    saver = tf.train.import_meta_graph(cpmeta)\n",
    "    saver.restore(sess, tf.train.latest_checkpoint(cp_dir + ''))\n",
    "    return images, z, enc, sdd, loss, saver\n",
    " \n",
    "tf.reset_default_graph()\n",
    "sess = tf.Session()\n",
    "\n",
    "images, z, enc, sdd, loss, saver = create_network(params, cp_dir1,cpmeta1, sess)\n",
    "\n"
   ]
  },
  {
   "cell_type": "code",
   "execution_count": 5,
   "metadata": {},
   "outputs": [
    {
     "name": "stdout",
     "output_type": "stream",
     "text": [
      "['/media/cjw/Data/cyto/mmFromTifs3/Fish6_Untreated.mm', '/media/cjw/Data/cyto/mmFromTifs3/Fish6_ICE.mm', '/media/cjw/Data/cyto/mmFromTifs3/Fish6_CCB.mm']\n",
      "(4,) [10000    64    64     5]\n",
      "(4,) [10000    64    64     5]\n",
      "(4,) [10000    64    64     5]\n",
      "30000\n",
      "dict_keys(['Fish6_Untreated.mm', 'Fish6_ICE.mm', 'Fish6_CCB.mm'])\n",
      "['/media/cjw/Data/cyto/mmNoComp/Fish6_ICE.mm', '/media/cjw/Data/cyto/mmNoComp/Fish6_CCB.mm', '/media/cjw/Data/cyto/mmNoComp/Fish6_untreated.mm']\n",
      "(4,) [10000    64    64     5]\n",
      "(4,) [10000    64    64     5]\n",
      "(4,) [10000    64    64     5]\n",
      "30000\n",
      "dict_keys(['Fish6_ICE.mm', 'Fish6_CCB.mm', 'Fish6_untreated.mm'])\n"
     ]
    }
   ],
   "source": [
    "#datadir = \"/media/cjw/Data/cyto/mmFromTifs/\"\n",
    "#datadir = \"/home/cjw/disk2cjw/Data/yeast/\"\n",
    "\n",
    "def create_mmdict(datadir):\n",
    "    mmfiles = utils.list_mmfiles(datadir)\n",
    "    print(mmfiles)\n",
    "    mmdict = dict()\n",
    "    n_all_images = 0\n",
    "    for mmfilename in mmfiles:\n",
    "        mmheader = np.memmap(mmfilename, dtype=\"int32\", mode='r',\n",
    "                        shape=(4,))\n",
    "\n",
    "        header_shape = mmheader.shape\n",
    "        print(header_shape, mmheader)\n",
    "        xshape = [mmheader[0], mmheader[1], mmheader[2], mmheader[3]]\n",
    "        xshape = tuple(xshape)\n",
    "        del mmheader\n",
    "        n_all_images += xshape[0]\n",
    "\n",
    "        m3 = np.memmap(mmfilename, dtype='float32', offset=128,\n",
    "                  mode='r', shape=xshape)\n",
    "        key = mmfilename.split(\"/\")[-1]\n",
    "        mmdict[key] = m3\n",
    "\n",
    "    print(n_all_images)\n",
    "    print(mmdict.keys())\n",
    "    return mmdict\n",
    "    \n",
    "mmdict1 = create_mmdict(datadir1)\n",
    "mmdict2 = create_mmdict(datadir2)\n"
   ]
  },
  {
   "cell_type": "code",
   "execution_count": 29,
   "metadata": {},
   "outputs": [
    {
     "data": {
      "text/plain": [
       "30000"
      ]
     },
     "execution_count": 29,
     "metadata": {},
     "output_type": "execute_result"
    }
   ],
   "source": [
    "mmdict = mmdict2\n",
    "xshapes= [mmdict[x].shape for x in mmdict.keys()]\n",
    "n_all_images = np.sum(np.array(xshapes).T[0])\n",
    "n_all_images"
   ]
  },
  {
   "cell_type": "code",
   "execution_count": 30,
   "metadata": {},
   "outputs": [
    {
     "name": "stdout",
     "output_type": "stream",
     "text": [
      "Fish6_CCB.mm 10000\n",
      "Fish6_ICE.mm 10000\n",
      "Fish6_untreated.mm 10000\n",
      "30000\n"
     ]
    },
    {
     "data": {
      "text/html": [
       "<div>\n",
       "<table border=\"1\" class=\"dataframe\">\n",
       "  <thead>\n",
       "    <tr style=\"text-align: right;\">\n",
       "      <th></th>\n",
       "      <th>index</th>\n",
       "      <th>column</th>\n",
       "      <th>fid</th>\n",
       "      <th>field</th>\n",
       "      <th>file</th>\n",
       "      <th>id</th>\n",
       "      <th>mmfile</th>\n",
       "      <th>plate</th>\n",
       "      <th>row</th>\n",
       "      <th>well</th>\n",
       "      <th>xc</th>\n",
       "      <th>yc</th>\n",
       "      <th>treatment</th>\n",
       "      <th>run</th>\n",
       "    </tr>\n",
       "  </thead>\n",
       "  <tbody>\n",
       "    <tr>\n",
       "      <th>29995</th>\n",
       "      <td>29995</td>\n",
       "      <td>0</td>\n",
       "      <td>9995</td>\n",
       "      <td>0</td>\n",
       "      <td>Fish6_untreated</td>\n",
       "      <td>29995</td>\n",
       "      <td>Fish6_untreated.mm</td>\n",
       "      <td>0</td>\n",
       "      <td>0</td>\n",
       "      <td>0</td>\n",
       "      <td>32</td>\n",
       "      <td>32</td>\n",
       "      <td>untreated</td>\n",
       "      <td>Fish6</td>\n",
       "    </tr>\n",
       "    <tr>\n",
       "      <th>29996</th>\n",
       "      <td>29996</td>\n",
       "      <td>0</td>\n",
       "      <td>9996</td>\n",
       "      <td>0</td>\n",
       "      <td>Fish6_untreated</td>\n",
       "      <td>29996</td>\n",
       "      <td>Fish6_untreated.mm</td>\n",
       "      <td>0</td>\n",
       "      <td>0</td>\n",
       "      <td>0</td>\n",
       "      <td>32</td>\n",
       "      <td>32</td>\n",
       "      <td>untreated</td>\n",
       "      <td>Fish6</td>\n",
       "    </tr>\n",
       "    <tr>\n",
       "      <th>29997</th>\n",
       "      <td>29997</td>\n",
       "      <td>0</td>\n",
       "      <td>9997</td>\n",
       "      <td>0</td>\n",
       "      <td>Fish6_untreated</td>\n",
       "      <td>29997</td>\n",
       "      <td>Fish6_untreated.mm</td>\n",
       "      <td>0</td>\n",
       "      <td>0</td>\n",
       "      <td>0</td>\n",
       "      <td>32</td>\n",
       "      <td>32</td>\n",
       "      <td>untreated</td>\n",
       "      <td>Fish6</td>\n",
       "    </tr>\n",
       "    <tr>\n",
       "      <th>29998</th>\n",
       "      <td>29998</td>\n",
       "      <td>0</td>\n",
       "      <td>9998</td>\n",
       "      <td>0</td>\n",
       "      <td>Fish6_untreated</td>\n",
       "      <td>29998</td>\n",
       "      <td>Fish6_untreated.mm</td>\n",
       "      <td>0</td>\n",
       "      <td>0</td>\n",
       "      <td>0</td>\n",
       "      <td>32</td>\n",
       "      <td>32</td>\n",
       "      <td>untreated</td>\n",
       "      <td>Fish6</td>\n",
       "    </tr>\n",
       "    <tr>\n",
       "      <th>29999</th>\n",
       "      <td>29999</td>\n",
       "      <td>0</td>\n",
       "      <td>9999</td>\n",
       "      <td>0</td>\n",
       "      <td>Fish6_untreated</td>\n",
       "      <td>29999</td>\n",
       "      <td>Fish6_untreated.mm</td>\n",
       "      <td>0</td>\n",
       "      <td>0</td>\n",
       "      <td>0</td>\n",
       "      <td>32</td>\n",
       "      <td>32</td>\n",
       "      <td>untreated</td>\n",
       "      <td>Fish6</td>\n",
       "    </tr>\n",
       "  </tbody>\n",
       "</table>\n",
       "</div>"
      ],
      "text/plain": [
       "       index  column   fid  field             file     id              mmfile  \\\n",
       "29995  29995       0  9995      0  Fish6_untreated  29995  Fish6_untreated.mm   \n",
       "29996  29996       0  9996      0  Fish6_untreated  29996  Fish6_untreated.mm   \n",
       "29997  29997       0  9997      0  Fish6_untreated  29997  Fish6_untreated.mm   \n",
       "29998  29998       0  9998      0  Fish6_untreated  29998  Fish6_untreated.mm   \n",
       "29999  29999       0  9999      0  Fish6_untreated  29999  Fish6_untreated.mm   \n",
       "\n",
       "       plate  row  well  xc  yc  treatment    run  \n",
       "29995      0    0     0  32  32  untreated  Fish6  \n",
       "29996      0    0     0  32  32  untreated  Fish6  \n",
       "29997      0    0     0  32  32  untreated  Fish6  \n",
       "29998      0    0     0  32  32  untreated  Fish6  \n",
       "29999      0    0     0  32  32  untreated  Fish6  "
      ]
     },
     "execution_count": 30,
     "metadata": {},
     "output_type": "execute_result"
    }
   ],
   "source": [
    "\"\"\" Create the dataframe to go with the images\"\"\"\n",
    "\n",
    "\n",
    "#n = xshape[0]\n",
    "all_ids =  range(n_all_images)\n",
    "idx = 0\n",
    "dataframes = list()\n",
    "keys = sorted(list(mmdict.keys()))\n",
    "for key in keys:\n",
    "    mm = mmdict[key]\n",
    "    n = mm.shape[0]\n",
    "    print(key, n)\n",
    "    file = n*[key[0:-3]]\n",
    "    fid = range(n)\n",
    "    mmfile = n*[key]\n",
    "    plate = n*[0]\n",
    "    row = n*[0]\n",
    "    column = n*[0]\n",
    "    field = n*[0]\n",
    "    yc = n*[32]\n",
    "    xc = n*[32]\n",
    "    well = n*[0]\n",
    "    ids = all_ids[idx:idx + n]\n",
    "    idx += n\n",
    "    xdf = pd.DataFrame({'id':ids, 'fid':fid, 'file':file, 'mmfile':mmfile, 'plate':plate,\n",
    "                     'row':row, 'column':column, 'field':field,\n",
    "                      'yc':yc, 'xc':xc, 'well':well})\n",
    "\n",
    "    dataframes.append(xdf)\n",
    "    \n",
    "alldf = pd.concat(dataframes, ignore_index=True)\n",
    "trts = list()\n",
    "runs = list()\n",
    "\n",
    "for row in range(len(alldf)):\n",
    "    file = alldf.iloc[row]['file']\n",
    "    if '_ice' in file.lower():\n",
    "        treatment = 'ice'\n",
    "    elif '_ccb'in file.lower():\n",
    "        treatment = 'ccb'\n",
    "    else:\n",
    "        treatment = \"untreated\"\n",
    "    trts.append(treatment)\n",
    "    runs.append(file[0:5])\n",
    "\n",
    "alldf['treatment'] = trts\n",
    "alldf['run'] = runs\n",
    "df = alldf\n",
    "df = df.reset_index()\n",
    "print(len(df))\n",
    "df.tail()"
   ]
  },
  {
   "cell_type": "code",
   "execution_count": 31,
   "metadata": {
    "collapsed": true
   },
   "outputs": [],
   "source": [
    "sns.set_style(\"whitegrid\", {'axes.grid' : False})"
   ]
  },
  {
   "cell_type": "code",
   "execution_count": null,
   "metadata": {
    "collapsed": true
   },
   "outputs": [],
   "source": []
  },
  {
   "cell_type": "code",
   "execution_count": null,
   "metadata": {
    "collapsed": true
   },
   "outputs": [],
   "source": []
  },
  {
   "cell_type": "code",
   "execution_count": 32,
   "metadata": {},
   "outputs": [
    {
     "data": {
      "text/plain": [
       "<matplotlib.image.AxesImage at 0x7fa9fbd0ba20>"
      ]
     },
     "execution_count": 32,
     "metadata": {},
     "output_type": "execute_result"
    },
    {
     "data": {
      "image/png": "[encoded data removed]",
      "text/plain": [
       "<matplotlib.figure.Figure at 0x7faa02d7ad68>"
      ]
     },
     "metadata": {},
     "output_type": "display_data"
    }
   ],
   "source": [
    "'''Read the images, display image, encode and show latent space, show decoded'''\n",
    "\n",
    "vv = utils.getWell(mmdict,\n",
    "                    df, p_width, 0, 0, p_nchannels, channels=p_channels)\n",
    "\n",
    "nvv = len(vv)\n",
    "offloc = 0\n",
    "offstep = 1000\n",
    "offnext = offloc + offstep\n",
    "xhe = np.zeros((nvv, p_latent_size))\n",
    "xdd = np.zeros((nvv, p_width, p_height, p_nchannels))\n",
    "while offloc < nvv:\n",
    "    #print(offloc, offnext)\n",
    "    xhe[offloc:offnext] = sess.run(enc, feed_dict={images:vv[offloc:offnext]})\n",
    "    xdd[offloc:offnext] = sess.run(sdd, feed_dict={enc:xhe[offloc:offnext]})\n",
    "    offloc = offnext\n",
    "    offnext += offstep\n",
    "    if offnext > nvv:\n",
    "        offnext = nvv\n",
    "        \n",
    "plt.imshow(xdd[123,:,:,1])"
   ]
  },
  {
   "cell_type": "code",
   "execution_count": 33,
   "metadata": {},
   "outputs": [
    {
     "data": {
      "text/plain": [
       "<matplotlib.image.AxesImage at 0x7fa9fbc8fe80>"
      ]
     },
     "execution_count": 33,
     "metadata": {},
     "output_type": "execute_result"
    },
    {
     "data": {
      "image/png": "[encoded data removed]",
      "text/plain": [
       "<matplotlib.figure.Figure at 0x7fa9fbf796a0>"
      ]
     },
     "metadata": {},
     "output_type": "display_data"
    }
   ],
   "source": [
    "\n",
    "ix = mmdict[keys[0]]\n",
    "plt.imshow(ix[123,:,:,1])"
   ]
  },
  {
   "cell_type": "code",
   "execution_count": 34,
   "metadata": {},
   "outputs": [
    {
     "name": "stdout",
     "output_type": "stream",
     "text": [
      "whoops\n"
     ]
    }
   ],
   "source": [
    "try:\n",
    "    os.makedirs('/media/cjw/Data/cyto/decodedImages/')\n",
    "except:\n",
    "    print(\"whoops\")\n",
    "outfile = '/media/cjw/Data/cyto/decodedImages/set2.mm'\n",
    "mxdd = np.memmap(outfile, dtype=np.float32, offset=0,\n",
    "                   mode='w+', shape=(30000, 32, 32, 4))\n",
    "\n",
    "mxdd[:, :, :, :] = xdd\n",
    "mxdd.flush\n",
    "del mxdd"
   ]
  },
  {
   "cell_type": "code",
   "execution_count": 8,
   "metadata": {},
   "outputs": [
    {
     "data": {
      "image/png": "[encoded data removed]",
      "text/plain": [
       "<matplotlib.figure.Figure at 0x7f747eb7e470>"
      ]
     },
     "metadata": {},
     "output_type": "display_data"
    }
   ],
   "source": [
    "def one_imshow(image, r, c, ic, cmap):\n",
    "    plt.subplot(16, 8, ic)\n",
    "    plt.imshow(image, cmap=cmap)\n",
    "    plt.axis('off')\n",
    "\n",
    "ic = 1\n",
    "\n",
    "nrows = 6\n",
    "plt.figure(figsize=(16,4*nrows))\n",
    "\n",
    "for i in range(nrows):\n",
    "    ix = np.random.randint(0, len(vv))\n",
    "    one_imshow(vv[ix,:,:,0], nrows, 8, ic, 'gray')\n",
    "    ic += 1\n",
    "    \n",
    "    one_imshow(vv[ix,:,:,1], nrows, 8, ic, 'viridis')\n",
    "    ic += 1\n",
    "    \n",
    "    one_imshow(vv[ix,:,:,2], nrows, 8, ic, 'plasma')\n",
    "    ic += 1\n",
    "    \n",
    "    one_imshow(vv[ix,:,:,3], nrows, 8, ic, 'afmhot')\n",
    "    ic += 1\n",
    "    \n",
    "    one_imshow(xdd[ix,:,:,0], nrows, 8, ic, 'gray')\n",
    "    ic += 1\n",
    "    \n",
    "    one_imshow(xdd[ix,:,:,1], nrows, 8, ic, 'viridis')\n",
    "    ic += 1\n",
    "    \n",
    "    one_imshow(xdd[ix,:,:,2], nrows, 8, ic, 'plasma')\n",
    "    ic += 1\n",
    "    \n",
    "    one_imshow(xdd[ix,:,:,3], nrows, 8, ic, 'afmhot')\n",
    "    ic += 1\n",
    "\n",
    "plt.savefig('/media/cjw/Data/cyto/output/decoded.png')"
   ]
  },
  {
   "cell_type": "code",
   "execution_count": 9,
   "metadata": {},
   "outputs": [
    {
     "name": "stdout",
     "output_type": "stream",
     "text": [
      "0 0\n",
      "3000\n",
      "hek (3000, 256)\n",
      "0 0 (3000, 256) (3000, 256)\n"
     ]
    },
    {
     "data": {
      "text/plain": [
       "(3000, 256)"
      ]
     },
     "execution_count": 9,
     "metadata": {},
     "output_type": "execute_result"
    }
   ],
   "source": [
    "'''Encode the images with the trained network and store the latent spaces in an array'''\n",
    "\n",
    "dv = {0:(0,0)}\n",
    "dimages = dict()\n",
    "counter = 0\n",
    "one = 0\n",
    "for k in dv.keys():\n",
    "    i, j = dv[k]\n",
    "    print(i, j)\n",
    "    r = i + 1\n",
    "    cm = j + 1\n",
    "    try:\n",
    "        k = vv #utils.getWell(mmdict,df, width, 0, 0, nchannels, channels=[0])\n",
    "        print(len(k))\n",
    "    except:\n",
    "        print(\"Oh no!!\")\n",
    "        continue\n",
    "    hek = xhe #sess.run(enc, feed_dict={images:k})\n",
    "    print('hek', hek.shape)\n",
    "    dimages[counter] = k\n",
    "    if one == 0:\n",
    "        one = 1\n",
    "        g = hek\n",
    "        colors = np.zeros(k.shape[0])\n",
    "        counter += 1\n",
    "        print(i, j, g.shape, hek.shape)\n",
    "    else:\n",
    "        print(i, j, g.shape, hek.shape)\n",
    "        g = np.concatenate((g,hek))\n",
    "        colors = np.concatenate((colors, counter + np.zeros(k.shape[0])))\n",
    "        counter += 1\n",
    "\n",
    "g_all = g\n",
    "g_all.shape"
   ]
  },
  {
   "cell_type": "code",
   "execution_count": 10,
   "metadata": {},
   "outputs": [
    {
     "name": "stdout",
     "output_type": "stream",
     "text": [
      "[  0.   1.   2.   3.   4.   5.   6.   7.   8.   9.  10.] 10\n"
     ]
    }
   ],
   "source": [
    "''' Create some colors for display later on'''\n",
    "\n",
    "from matplotlib.colors import LinearSegmentedColormap\n",
    "import matplotlib as mpl\n",
    "clist = [(.2,.2,.2),\n",
    "         (172/255,25/255,210/255),\n",
    "         (255/255, 165./255, 0),\n",
    "         (44/255,25/255,210/255),\n",
    "         (134/255, 165./255, 56/255),\n",
    "         (26/255,188/255,255/255),\n",
    "         (188/255,255/255, 26/255),\n",
    "         (1, 0,0), (0,1,0), (0,0,1)]\n",
    "\n",
    "mycmap = LinearSegmentedColormap.from_list(\n",
    "        'mycmap', clist, N=len(clist))\n",
    "\n",
    "bounds = np.linspace(0, len(clist), len(clist) + 1)\n",
    "norm = mpl.colors.BoundaryNorm(bounds, mycmap.N)\n",
    "print(bounds, mycmap.N)"
   ]
  },
  {
   "cell_type": "code",
   "execution_count": null,
   "metadata": {
    "collapsed": true
   },
   "outputs": [],
   "source": []
  },
  {
   "cell_type": "code",
   "execution_count": null,
   "metadata": {
    "collapsed": true
   },
   "outputs": [],
   "source": []
  },
  {
   "cell_type": "markdown",
   "metadata": {},
   "source": []
  },
  {
   "cell_type": "code",
   "execution_count": null,
   "metadata": {
    "collapsed": true
   },
   "outputs": [],
   "source": []
  },
  {
   "cell_type": "code",
   "execution_count": null,
   "metadata": {
    "collapsed": true,
    "scrolled": false
   },
   "outputs": [],
   "source": []
  },
  {
   "cell_type": "markdown",
   "metadata": {},
   "source": []
  },
  {
   "cell_type": "code",
   "execution_count": null,
   "metadata": {
    "collapsed": true
   },
   "outputs": [],
   "source": []
  },
  {
   "cell_type": "code",
   "execution_count": null,
   "metadata": {
    "collapsed": true,
    "scrolled": false
   },
   "outputs": [],
   "source": []
  },
  {
   "cell_type": "markdown",
   "metadata": {},
   "source": [
    "-------------------------------------------------------------------------"
   ]
  },
  {
   "cell_type": "code",
   "execution_count": null,
   "metadata": {
    "collapsed": true
   },
   "outputs": [],
   "source": []
  },
  {
   "cell_type": "code",
   "execution_count": null,
   "metadata": {
    "collapsed": true
   },
   "outputs": [],
   "source": []
  },
  {
   "cell_type": "code",
   "execution_count": null,
   "metadata": {
    "collapsed": true
   },
   "outputs": [],
   "source": []
  },
  {
   "cell_type": "code",
   "execution_count": null,
   "metadata": {
    "collapsed": true
   },
   "outputs": [],
   "source": []
  },
  {
   "cell_type": "code",
   "execution_count": null,
   "metadata": {
    "collapsed": true
   },
   "outputs": [],
   "source": []
  },
  {
   "cell_type": "code",
   "execution_count": null,
   "metadata": {
    "collapsed": true,
    "scrolled": false
   },
   "outputs": [],
   "source": []
  },
  {
   "cell_type": "code",
   "execution_count": null,
   "metadata": {
    "collapsed": true
   },
   "outputs": [],
   "source": []
  },
  {
   "cell_type": "code",
   "execution_count": null,
   "metadata": {
    "collapsed": true
   },
   "outputs": [],
   "source": [
    "\n"
   ]
  },
  {
   "cell_type": "code",
   "execution_count": null,
   "metadata": {
    "collapsed": true
   },
   "outputs": [],
   "source": []
  },
  {
   "cell_type": "code",
   "execution_count": null,
   "metadata": {
    "collapsed": true
   },
   "outputs": [],
   "source": []
  },
  {
   "cell_type": "code",
   "execution_count": null,
   "metadata": {
    "collapsed": true
   },
   "outputs": [],
   "source": []
  },
  {
   "cell_type": "code",
   "execution_count": null,
   "metadata": {
    "collapsed": true
   },
   "outputs": [],
   "source": []
  },
  {
   "cell_type": "code",
   "execution_count": null,
   "metadata": {
    "collapsed": true
   },
   "outputs": [],
   "source": []
  },
  {
   "cell_type": "code",
   "execution_count": null,
   "metadata": {
    "collapsed": true
   },
   "outputs": [],
   "source": []
  },
  {
   "cell_type": "code",
   "execution_count": null,
   "metadata": {
    "collapsed": true
   },
   "outputs": [],
   "source": []
  },
  {
   "cell_type": "code",
   "execution_count": null,
   "metadata": {
    "collapsed": true
   },
   "outputs": [],
   "source": [
    "\n"
   ]
  },
  {
   "cell_type": "code",
   "execution_count": null,
   "metadata": {
    "collapsed": true
   },
   "outputs": [],
   "source": []
  },
  {
   "cell_type": "code",
   "execution_count": null,
   "metadata": {
    "collapsed": true
   },
   "outputs": [],
   "source": []
  }
 ],
 "metadata": {
  "kernelspec": {
   "display_name": "Python 3",
   "language": "python",
   "name": "python3"
  },
  "language_info": {
   "codemirror_mode": {
    "name": "ipython",
    "version": 3
   },
   "file_extension": ".py",
   "mimetype": "text/x-python",
   "name": "python",
   "nbconvert_exporter": "python",
   "pygments_lexer": "ipython3",
   "version": "3.6.5"
  }
 },
 "nbformat": 4,
 "nbformat_minor": 2
}
