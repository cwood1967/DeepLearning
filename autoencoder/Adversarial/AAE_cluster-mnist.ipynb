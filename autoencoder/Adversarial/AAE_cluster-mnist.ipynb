{
 "cells": [
  {
   "cell_type": "code",
   "execution_count": 1,
   "metadata": {},
   "outputs": [
    {
     "name": "stderr",
     "output_type": "stream",
     "text": [
      "/home/cjw/anaconda3/envs/deep/lib/python3.6/site-packages/h5py/__init__.py:36: FutureWarning: Conversion of the second argument of issubdtype from `float` to `np.floating` is deprecated. In future, it will be treated as `np.float64 == np.dtype(float).type`.\n",
      "  from ._conv import register_converters as _register_converters\n"
     ]
    }
   ],
   "source": [
    "import sys\n",
    "\n",
    "\n",
    "import autoencoder.adversarial_cluster as aaec\n",
    "import autoencoder.adversarial as aae\n",
    "from matplotlib import pyplot as plt\n",
    "\n",
    "\n",
    "%matplotlib inline"
   ]
  },
  {
   "cell_type": "code",
   "execution_count": 8,
   "metadata": {
    "collapsed": true
   },
   "outputs": [],
   "source": [
    "def setup():\n",
    "    esize = [(64,3), (128, 3)] #, (512,3)]\n",
    "    dsize = list(reversed(esize))\n",
    "\n",
    "    params =dict()\n",
    "    \n",
    "    params['nclusters'] = 20\n",
    "    params['width'] = 28\n",
    "    params['height'] = 28\n",
    "    params['nchannels'] = 1\n",
    "    params['channels'] = [0]\n",
    "    params['nepochs'] = 20\n",
    "    params['batchsize'] = 256\n",
    "    params['learning_rate'] = 0.001\n",
    "    params['restore'] = False\n",
    "    params['latent_size'] = 16\n",
    "    params['enc_sizes'] = esize \n",
    "    params['dec_sizes'] = dsize\n",
    "    params['droprate'] = 0.85\n",
    "    params['stdev'] = 0.04\n",
    "    params['denoise'] = False\n",
    "    params['slam'] = 0\n",
    "\n",
    "    return params"
   ]
  },
  {
   "cell_type": "code",
   "execution_count": 9,
   "metadata": {
    "collapsed": true
   },
   "outputs": [],
   "source": [
    "datadir = \"/media/cjw/Data/MNIST/\"\n",
    "# aae.train(132001, params=setup(), datadir=datadir, display=True, display_int=1000, report_int=100,\n",
    "#           title=\"Adver_mouse_256\")"
   ]
  },
  {
   "cell_type": "code",
   "execution_count": 10,
   "metadata": {
    "scrolled": false
   },
   "outputs": [
    {
     "name": "stdout",
     "output_type": "stream",
     "text": [
      "Using data from: /media/cjw/Data/MNIST/\n",
      "Saving checkpoints to: /media/cjw/Data/cyto/Checkpoints/2018-08-23-09-19-12_Adver_cluser-MNIST/checkpoint-2018-08-23-09-19-12/autoencoder-16x\n",
      "60000\n",
      "['mnist.mm']\n",
      "   fid   file  id    mmfile  xc  yc\n",
      "0    0  mnist   0  mnist.mm  14  14\n",
      "1    1  mnist   1  mnist.mm  14  14\n",
      "2    2  mnist   2  mnist.mm  14  14\n",
      "3    3  mnist   3  mnist.mm  14  14\n",
      "4    4  mnist   4  mnist.mm  14  14\n",
      "Encoder True\n",
      "Tensor(\"Placeholder:0\", shape=(?, 28, 28, 1), dtype=float32) (?, 28, 28, 1)\n",
      "0 3.456057 0.5126272 [179.61484] 3.465417 0.77844465 0.7143503\n",
      "0 3.399831 0.5123794 [180.37509] 0.77840364 0.71427655\n",
      "0 [1. 1. 1. 1. 1. 1. 1. 1. 1. 1. 1. 1. 1. 1. 1. 1. 1. 1. 1. 1.]\n",
      "0 [12. 14. 12. 12. 14. 14. 12. 13. 11. 13. 14. 14. 12. 13. 11. 13. 12. 13.\n",
      " 14. 14.]\n",
      "[1 1 1 1 1 1 4 1 1 1 5 1 5 1 5 1]\n",
      "[1 1 1 1 1 4 4 1 1 1 1 1 1 1 1 4]\n"
     ]
    },
    {
     "data": {
      "image/png": "[encoded data removed]",
      "text/plain": [
       "<Figure size 576x144 with 2 Axes>"
      ]
     },
     "metadata": {},
     "output_type": "display_data"
    },
    {
     "name": "stdout",
     "output_type": "stream",
     "text": [
      "500 1.1617016 0.9919464 [14.268088] 16.05104 1.014568 2.7364392\n",
      "500 1.2014629 0.97253275 [12.18425] 1.260463 2.7010574\n",
      "500 [0. 1. 1. 0. 0. 1. 3. 2. 0. 0. 1. 0. 2. 0. 1. 0. 1. 0. 1. 1.]\n",
      "500 [ 9. 13. 19. 14. 18. 13.  4. 13. 13. 14. 11. 13.  7. 19.  8. 12. 12. 19.\n",
      "  7. 19.]\n",
      "[12  7  6 16  2 19  1 18 14  6  7 12  5 14 10  6]\n",
      "[19 13  6  9  3  5  1 14 12  4 10 11  3 19  9  1]\n"
     ]
    },
    {
     "data": {
      "image/png": "[encoded data removed]",
      "text/plain": [
       "<Figure size 576x144 with 2 Axes>"
      ]
     },
     "metadata": {},
     "output_type": "display_data"
    },
    {
     "name": "stdout",
     "output_type": "stream",
     "text": [
      "1000 1.081027 1.2447525 [12.384705] 13.219675 1.1309582 2.2829206\n",
      "1000 1.0651884 1.160016 [12.236887] 0.99181676 3.029109\n",
      "1000 [0. 1. 1. 0. 0. 1. 3. 2. 0. 0. 1. 1. 1. 0. 1. 1. 1. 0. 0. 1.]\n",
      "1000 [13. 12. 17. 15.  9. 17. 10. 14. 10. 16. 13. 16. 20. 11. 18. 11.  6.  8.\n",
      "  7. 13.]\n",
      "[12  7  6 16  2 19  1 11 14  6  7 15  5 14 10  6]\n",
      "[19 13  6  9 11  5  1  9 12 11  4  2  4 19  9  1]\n"
     ]
    },
    {
     "data": {
      "image/png": "[encoded data removed]",
      "text/plain": [
       "<Figure size 576x144 with 2 Axes>"
      ]
     },
     "metadata": {},
     "output_type": "display_data"
    },
    {
     "name": "stdout",
     "output_type": "stream",
     "text": [
      "1500 1.0033102 1.3679178 [10.614376] 18.081543 1.1414194 1.9627454\n",
      "1500 1.0026135 1.3428607 [10.169866] 1.2009636 1.4330533\n",
      "1500 [1. 1. 1. 0. 0. 2. 2. 1. 0. 0. 1. 2. 2. 0. 1. 0. 0. 1. 0. 1.]\n",
      "1500 [17. 21. 10. 14. 11. 18. 10. 14.  3. 16. 11. 11. 21.  6. 15.  9. 12. 14.\n",
      "  8. 15.]\n",
      "[12  0  6 11  2 19  1 11 17  5  7 12  5 14 10  6]\n",
      "[19 17  6  9  3  5  1  9 12  3 10 11  4 19  9  1]\n"
     ]
    },
    {
     "data": {
      "image/png": "[encoded data removed]",
      "text/plain": [
       "<Figure size 576x144 with 2 Axes>"
      ]
     },
     "metadata": {},
     "output_type": "display_data"
    },
    {
     "name": "stdout",
     "output_type": "stream",
     "text": [
      "2000 1.0391817 1.381704 [9.572813] 15.6334305 1.2002275 1.4351035\n",
      "2000 1.050991 1.4720836 [8.750772] 1.319685 1.3454542\n",
      "2000 [0. 1. 1. 1. 0. 2. 2. 2. 0. 0. 1. 1. 2. 0. 1. 0. 0. 1. 0. 1.]\n",
      "2000 [ 9. 14. 13. 12. 11. 18. 19. 13. 19. 19. 14.  4. 10. 11. 13.  2. 17.  8.\n",
      " 11. 18.]\n",
      "[12  7  6  3  2 19  1 11 17  5  7 12  5 14 10  6]\n",
      "[19 13  6  9 11  5  1  9 12  3 10  9  4 19  9  1]\n"
     ]
    },
    {
     "data": {
      "image/png": "[encoded data removed]",
      "text/plain": [
       "<Figure size 576x144 with 2 Axes>"
      ]
     },
     "metadata": {},
     "output_type": "display_data"
    },
    {
     "name": "stdout",
     "output_type": "stream",
     "text": [
      "2500 1.0017326 1.32209 [8.175491] 19.350529 1.2160323 1.72423\n",
      "2500 1.0015671 1.3239763 [7.925502] 1.1923947 1.1349258\n",
      "2500 [0. 1. 2. 1. 0. 2. 2. 2. 1. 0. 0. 0. 2. 0. 1. 1. 0. 0. 0. 1.]\n",
      "2500 [12.  5. 20. 12. 12. 11. 10.  8. 13. 15. 14.  3. 20.  8. 12. 17. 27. 11.\n",
      " 14. 12.]\n",
      "[12  7  6  3  2 19  1  2 15  5  7 12  5 14  8  6]\n",
      "[ 7 16  6  9 11  5  1  9 12  3 10  9  4 19  9 19]\n"
     ]
    },
    {
     "data": {
      "image/png": "[encoded data removed]",
      "text/plain": [
       "<Figure size 576x144 with 2 Axes>"
      ]
     },
     "metadata": {},
     "output_type": "display_data"
    },
    {
     "name": "stdout",
     "output_type": "stream",
     "text": [
      "3000 1.0012918 1.3427923 [7.9024477] 12.530607 1.1635278 1.7740717\n",
      "3000 1.001235 1.344796 [8.177254] 1.1223047 1.5825642\n",
      "3000 [0. 1. 2. 1. 0. 2. 2. 2. 0. 0. 0. 1. 2. 1. 1. 0. 0. 0. 0. 1.]\n",
      "3000 [15. 16. 12. 12. 10.  7. 10. 14. 11. 16. 16.  9. 16. 14. 17. 17.  9. 15.\n",
      " 13.  8.]\n",
      "[12  7  6  3  2 19  1 11 13  5  7 12  5 14  2  6]\n",
      "[ 7 13  6  3 18  5 17  9 12  9 15 11  4  1  9  1]\n"
     ]
    },
    {
     "data": {
      "image/png": "[encoded data removed]",
      "text/plain": [
       "<Figure size 576x144 with 2 Axes>"
      ]
     },
     "metadata": {},
     "output_type": "display_data"
    },
    {
     "name": "stdout",
     "output_type": "stream",
     "text": [
      "3500 1.0013089 1.3064554 [8.017418] 13.636545 1.1775479 1.5008173\n",
      "3500 1.0012088 1.3103868 [8.120306] 1.2420167 0.5811956\n",
      "3500 [0. 1. 2. 0. 0. 2. 2. 2. 0. 1. 0. 2. 2. 0. 1. 0. 0. 0. 0. 0.]\n",
      "3500 [15. 17. 17. 18. 11. 15. 13. 11. 12. 19. 16.  9.  9. 10. 18. 13. 10.  7.\n",
      " 10.  9.]\n",
      "[12  7  6  9  2  7  1 11 11  5  7 12  5 14  2  6]\n",
      "[ 7  7  6  9  9  5  1  9 12  9 10  9 14  1  9  1]\n"
     ]
    },
    {
     "data": {
      "image/png": "[encoded data removed]",
      "text/plain": [
       "<Figure size 576x144 with 2 Axes>"
      ]
     },
     "metadata": {},
     "output_type": "display_data"
    },
    {
     "name": "stdout",
     "output_type": "stream",
     "text": [
      "4000 1.0022852 1.3056766 [7.8619537] 20.334726 1.193513 1.5202482\n",
      "4000 1.0019711 1.29219 [7.847291] 1.1933913 1.9015081\n",
      "4000 [0. 1. 3. 1. 0. 2. 2. 1. 0. 0. 0. 1. 2. 0. 1. 0. 0. 1. 0. 1.]\n",
      "4000 [ 6.  4. 15.  6.  8. 27.  6. 21. 11. 18. 20. 16. 17.  9.  8. 10. 16. 10.\n",
      " 13. 14.]\n",
      "[12  2  6  3  2 19  1 11 17  5  7 12  5 14  2  6]\n",
      "[19 13  3  9 11  5  1  9 12  3 10  9 14 19  9  1]\n"
     ]
    },
    {
     "data": {
      "image/png": "[encoded data removed]",
      "text/plain": [
       "<Figure size 576x144 with 2 Axes>"
      ]
     },
     "metadata": {},
     "output_type": "display_data"
    },
    {
     "name": "stdout",
     "output_type": "stream",
     "text": [
      "4500 1.2955732 1.2644637 [10.023101] 14.131137 1.0568526 3.2176995\n",
      "4500 1.3629365 1.2176311 [8.755741] 1.0570006 1.0091113\n",
      "4500 [0. 1. 2. 0. 0. 1. 2. 2. 1. 0. 0. 1. 2. 1. 1. 0. 0. 1. 0. 0.]\n",
      "4500 [ 9. 11. 20. 11. 11.  9. 22. 19. 14. 15.  9.  7. 17. 10. 18. 11.  8. 13.\n",
      " 13.  8.]\n",
      "[12  2  6  8  2  7  1 11 17  5  7 12 13 14  8  6]\n",
      "[19 16  6  9 14  5  1  9 12 11  8  9  4  1  9  1]\n"
     ]
    },
    {
     "data": {
      "image/png": "[encoded data removed]",
      "text/plain": [
       "<Figure size 576x144 with 2 Axes>"
      ]
     },
     "metadata": {},
     "output_type": "display_data"
    },
    {
     "name": "stdout",
     "output_type": "stream",
     "text": [
      "5000 1.0029498 1.3169794 [8.228862] 7.698947 1.139061 2.9403815\n",
      "5000 1.0031636 1.3329165 [7.839967] 1.1276257 1.8666885\n",
      "5000 [0. 1. 1. 0. 0. 2. 2. 2. 1. 1. 0. 1. 2. 0. 1. 0. 0. 1. 0. 1.]\n",
      "5000 [ 7. 15. 12.  8. 15.  9. 13. 13. 12. 13. 14. 17. 14. 13. 10. 19. 14. 12.\n",
      "  9. 16.]\n",
      "[12  7  6  9  2 19  1 11 17  5  7 12  5 14  8  6]\n",
      "[19 13  6  9 11  5  1  9 12 11 10  4  4 19  9  1]\n"
     ]
    },
    {
     "data": {
      "image/png": "[encoded data removed]",
      "text/plain": [
       "<Figure size 576x144 with 2 Axes>"
      ]
     },
     "metadata": {},
     "output_type": "display_data"
    },
    {
     "name": "stdout",
     "output_type": "stream",
     "text": [
      "5500 1.003082 1.3437948 [7.8303075] 12.766132 1.2359207 2.1902885\n",
      "5500 1.0018175 1.3475909 [7.3116612] 1.2675321 0.604891\n",
      "5500 [0. 1. 1. 0. 0. 2. 2. 2. 1. 0. 0. 2. 2. 0. 1. 0. 0. 1. 0. 1.]\n",
      "5500 [14.  6. 16. 19. 12. 13. 21. 12. 11. 14.  8.  9. 11. 11. 11. 15. 15. 15.\n",
      " 10. 11.]\n",
      "[12  7  6 11  2 19  1 11 17  5  7 12  5 14  8  6]\n",
      "[ 7 13  6  9 13 10  1  9 12 11  8 16 14  1  9  1]\n"
     ]
    },
    {
     "data": {
      "image/png": "[encoded data removed]",
      "text/plain": [
       "<Figure size 576x144 with 2 Axes>"
      ]
     },
     "metadata": {},
     "output_type": "display_data"
    },
    {
     "name": "stdout",
     "output_type": "stream",
     "text": [
      "6000 1.0011646 1.3354542 [7.681219] 12.374651 1.2165122 2.1854928\n",
      "6000 1.0010667 1.3286349 [7.215336] 1.1415557 1.1161945\n",
      "6000 [0. 1. 0. 1. 0. 2. 2. 2. 1. 0. 0. 2. 2. 0. 1. 0. 0. 0. 0. 1.]\n",
      "6000 [ 9. 18. 24. 13. 10. 14. 13.  5. 19. 15. 13. 11. 13. 10. 18. 12.  6.  8.\n",
      "  9. 16.]\n",
      "[12  7  6  3 11 19  1 11 11  5  7 12  5 14  8  6]\n",
      "[19 13  6  9 13  5  1  3 12  9  8 11  4 19  9  2]\n"
     ]
    },
    {
     "data": {
      "image/png": "[encoded data removed]",
      "text/plain": [
       "<Figure size 576x144 with 2 Axes>"
      ]
     },
     "metadata": {},
     "output_type": "display_data"
    },
    {
     "name": "stdout",
     "output_type": "stream",
     "text": [
      "6500 1.0012839 1.3333716 [7.19363] 9.197323 1.2182181 2.2964418\n",
      "6500 1.0010896 1.3382958 [7.3669453] 1.2252636 2.4967532\n",
      "6500 [0. 1. 1. 0. 0. 3. 1. 1. 1. 0. 0. 1. 2. 0. 2. 0. 1. 1. 0. 1.]\n",
      "6500 [13. 12. 10. 12. 13. 15. 17. 12. 15. 11.  6. 14. 11. 17. 11. 10. 13. 19.\n",
      " 12. 13.]\n",
      "[12  7  6 14  2 19  1 11 17  5 16 12  5 14  8  5]\n",
      "[19 13  6  9 11  5  1  3 12  3  8  9  4  1  9  2]\n"
     ]
    },
    {
     "data": {
      "image/png": "[encoded data removed]",
      "text/plain": [
       "<Figure size 576x144 with 2 Axes>"
      ]
     },
     "metadata": {},
     "output_type": "display_data"
    },
    {
     "name": "stdout",
     "output_type": "stream",
     "text": [
      "7000 1.0009252 1.3362224 [6.9571543] 16.200348 1.1757295 2.395316\n",
      "7000 1.0008975 1.3365878 [6.918532] 1.0637076 3.87921\n",
      "7000 [0. 1. 1. 1. 0. 1. 2. 1. 1. 1. 0. 0. 2. 1. 1. 0. 1. 1. 0. 1.]\n",
      "7000 [12.  9. 17.  9.  5. 20. 23. 13. 15. 16. 11. 10. 10. 12. 14. 10. 17.  8.\n",
      "  8. 13.]\n",
      "[12  7  6  3  2 19  1  9 17  5 16 12 13 14  8  6]\n",
      "[19 13  6  9 13 10  1 16 12  3 13  9  4  1  9  2]\n"
     ]
    },
    {
     "data": {
      "image/png": "[encoded data removed]",
      "text/plain": [
       "<Figure size 576x144 with 2 Axes>"
      ]
     },
     "metadata": {},
     "output_type": "display_data"
    },
    {
     "name": "stdout",
     "output_type": "stream",
     "text": [
      "7500 1.0042573 1.2632254 [7.224167] 16.064995 1.1637405 2.8970401\n",
      "7500 1.0030257 1.2567736 [6.887397] 1.2689987 3.31527\n",
      "7500 [0. 1. 1. 0. 0. 2. 2. 1. 1. 0. 0. 1. 2. 0. 2. 0. 0. 1. 0. 2.]\n",
      "7500 [15.  9.  8. 13. 12. 11. 17. 10. 12. 14.  2.  8. 16. 22. 10. 13. 15. 18.\n",
      " 13. 19.]\n",
      "[12 19  6 14  2 19  1 11 17  5  7 12  5 14  8  6]\n",
      "[19 13  6  9 11  5  1  9 12  3 18 11  4 19  9  2]\n"
     ]
    },
    {
     "data": {
      "image/png": "[encoded data removed]",
      "text/plain": [
       "<Figure size 576x144 with 2 Axes>"
      ]
     },
     "metadata": {},
     "output_type": "display_data"
    },
    {
     "name": "stdout",
     "output_type": "stream",
     "text": [
      "8000 1.0017548 1.3326651 [6.9026527] 14.7775345 1.228123 2.6805513\n",
      "8000 1.0021093 1.3042965 [7.0592594] 1.2568837 4.3849306\n",
      "8000 [0. 1. 2. 0. 0. 3. 1. 0. 1. 0. 0. 1. 2. 0. 2. 0. 1. 1. 0. 1.]\n",
      "8000 [15. 16. 12. 10. 16. 14. 12. 13. 11.  7. 14.  6. 11. 19. 11. 15. 18.  9.\n",
      "  8. 18.]\n",
      "[12  2  6 14  2 19  1 11 17  5 16 12  5 14  8  5]\n",
      "[ 7 13  6  9 11  5  1  3 12 11 13 11  4  1  9  2]\n"
     ]
    },
    {
     "data": {
      "image/png": "[encoded data removed]",
      "text/plain": [
       "<Figure size 576x144 with 2 Axes>"
      ]
     },
     "metadata": {},
     "output_type": "display_data"
    },
    {
     "name": "stdout",
     "output_type": "stream",
     "text": [
      "8500 1.0082598 1.2741227 [7.100014] 11.540134 1.1644974 2.7481968\n",
      "8500 1.0064366 1.2982563 [7.19177] 1.0647004 2.3587606\n",
      "8500 [0. 1. 1. 0. 0. 2. 1. 1. 1. 1. 0. 0. 2. 1. 2. 0. 1. 2. 0. 0.]\n",
      "8500 [11. 16.  8. 10. 10. 10. 11. 24. 12. 17. 14. 16. 14. 14. 11.  7. 15. 15.\n",
      " 14.  8.]\n",
      "[12  7  6 14  2 17  1  9 17  5 16 12 13 14  8  5]\n",
      "[ 7 13  6  9  9 10  1  9 12  3 18  4  4  1  9  2]\n"
     ]
    },
    {
     "data": {
      "image/png": "[encoded data removed]",
      "text/plain": [
       "<Figure size 576x144 with 2 Axes>"
      ]
     },
     "metadata": {},
     "output_type": "display_data"
    },
    {
     "name": "stdout",
     "output_type": "stream",
     "text": [
      "9000 1.0008934 1.3333828 [6.7616386] 12.23914 1.1730459 3.3954492\n",
      "9000 1.0008972 1.3374841 [6.4382515] 1.1171539 0.7259934\n",
      "9000 [0. 0. 1. 1. 0. 1. 2. 1. 1. 1. 0. 1. 2. 1. 1. 0. 1. 2. 0. 0.]\n",
      "9000 [14. 14. 14. 17.  7. 11. 13. 11. 15. 16. 10. 12. 18. 11. 11. 11. 14. 14.\n",
      " 16.  6.]\n",
      "[12  7  6  3  2 17 11  9 17  5 16 12 13 14  8  6]\n",
      "[ 1 13  6  9 11 10  1  3 12  3 18  4 11  1  9  2]\n"
     ]
    },
    {
     "data": {
      "image/png": "[encoded data removed]",
      "text/plain": [
       "<Figure size 576x144 with 2 Axes>"
      ]
     },
     "metadata": {},
     "output_type": "display_data"
    },
    {
     "name": "stdout",
     "output_type": "stream",
     "text": [
      "9500 1.000895 1.3329885 [6.570973] 10.751593 1.1788096 3.4472785\n",
      "9500 1.0008307 1.3333042 [6.6266885] 1.1902065 3.4189491\n",
      "9500 [0. 1. 1. 1. 0. 3. 1. 1. 1. 1. 0. 1. 2. 0. 1. 0. 1. 1. 0. 0.]\n",
      "9500 [10. 10. 10. 16. 13. 13. 11. 15. 11. 12. 13. 12. 15.  9. 18. 14. 19. 16.\n",
      "  7. 11.]\n",
      "[12  7  6  3  2  1 11  9 17  5 16 12  5 14  8  5]\n",
      "[19 13  6  9 11 10  1  9 12  3 13  9  4  1  9  0]\n"
     ]
    },
    {
     "data": {
      "image/png": "[encoded data removed]",
      "text/plain": [
       "<Figure size 576x144 with 2 Axes>"
      ]
     },
     "metadata": {},
     "output_type": "display_data"
    },
    {
     "name": "stdout",
     "output_type": "stream",
     "text": [
      "10000 1.0015805 1.3582621 [7.0237975] 15.805165 1.1614687 2.9264762\n",
      "10000 1.0017223 1.3465042 [6.7573028] 1.2726586 3.2790408\n",
      "10000 [0. 1. 1. 0. 0. 3. 1. 1. 1. 0. 0. 1. 2. 0. 2. 0. 1. 2. 0. 0.]\n",
      "10000 [13. 14. 14. 17. 11.  8. 15. 10. 23. 13. 10. 13.  9. 12. 14.  8. 17. 15.\n",
      "  5. 14.]\n",
      "[12  7  6 14  2 17  1 11 17  5 16 12  5 14  8  5]\n",
      "[19 13  6  9  9  5  1  9 12  3 13  4  4 19  9  2]\n"
     ]
    },
    {
     "data": {
      "image/png": "[encoded data removed]",
      "text/plain": [
       "<Figure size 576x144 with 2 Axes>"
      ]
     },
     "metadata": {},
     "output_type": "display_data"
    },
    {
     "name": "stdout",
     "output_type": "stream",
     "text": [
      "10500 1.0008321 1.3351312 [6.5276327] 12.785585 1.1474187 3.6523302\n",
      "10500 1.0008302 1.3366867 [6.9942503] 1.1601477 3.151472\n",
      "10500 [0. 2. 1. 0. 0. 1. 2. 1. 1. 1. 0. 0. 2. 1. 2. 0. 1. 1. 0. 0.]\n",
      "10500 [17. 11. 10. 12. 11.  7. 14. 18. 17. 12. 14.  5. 15. 14. 14.  7. 15. 13.\n",
      " 17. 13.]\n",
      "[12  7  6 14  2  1  1  9 17  5 16 12 13 14  8  6]\n",
      "[17 13  6  9  9 10  1  9 12  3 13 11  4  1  9  2]\n"
     ]
    },
    {
     "data": {
      "image/png": "[encoded data removed]",
      "text/plain": [
       "<Figure size 576x144 with 2 Axes>"
      ]
     },
     "metadata": {},
     "output_type": "display_data"
    },
    {
     "name": "stdout",
     "output_type": "stream",
     "text": [
      "11000 1.0028212 1.4021072 [7.067214] 13.370486 1.1254584 3.6241007\n",
      "11000 1.0034322 1.410484 [6.7775536] 1.0618364 3.320313\n",
      "11000 [0. 1. 1. 0. 0. 1. 2. 1. 1. 1. 0. 1. 2. 1. 2. 0. 1. 1. 0. 0.]\n",
      "11000 [12. 20. 15. 12. 12. 14.  6.  6.  7. 13. 14. 16. 17. 17. 14. 14. 13. 12.\n",
      " 12.  9.]\n",
      "[12  7  6 14  2  1 11  9 17  5 16 12 13 14  8  6]\n",
      "[ 7 13  6  9  9 10  1  9 12  3 13 11  4  1  9  2]\n"
     ]
    },
    {
     "data": {
      "image/png": "[encoded data removed]",
      "text/plain": [
       "<Figure size 576x144 with 2 Axes>"
      ]
     },
     "metadata": {},
     "output_type": "display_data"
    },
    {
     "name": "stdout",
     "output_type": "stream",
     "text": [
      "11500 1.000898 1.3357228 [6.6857553] 13.24968 1.1952832 3.7474945\n",
      "11500 1.0008492 1.335144 [6.6860437] 1.1886656 7.1742067\n",
      "11500 [0. 2. 2. 0. 0. 3. 1. 0. 1. 1. 0. 0. 2. 0. 2. 0. 1. 1. 0. 0.]\n",
      "11500 [12. 13. 13. 18. 11.  6. 11. 22.  9. 12.  9. 17. 13. 17. 11.  8. 11. 18.\n",
      " 13. 14.]\n",
      "[12  2  6 14  2  1  1  9 17  5 16 12  5 14  8  5]\n",
      "[19 13  6  9 13 10  1  3 12  3 13 11  4  1  9  2]\n"
     ]
    },
    {
     "data": {
      "image/png": "[encoded data removed]",
      "text/plain": [
       "<Figure size 576x144 with 2 Axes>"
      ]
     },
     "metadata": {},
     "output_type": "display_data"
    },
    {
     "name": "stdout",
     "output_type": "stream",
     "text": [
      "12000 1.0009053 1.3323679 [7.024277] 12.041882 1.2117271 3.2073066\n",
      "12000 1.0008605 1.3380622 [7.1986284] 1.1509929 4.1527457\n",
      "12000 [0. 2. 1. 0. 0. 1. 2. 1. 1. 1. 0. 0. 2. 1. 2. 0. 1. 1. 0. 0.]\n",
      "12000 [17. 14. 14. 12. 10.  7. 15.  6. 17. 11. 12. 14. 12. 13. 14. 14. 16.  9.\n",
      " 17. 12.]\n",
      "[12  7  6 14  2  1  1  9 17  5 16 12 13 14  8  6]\n",
      "[ 1 13  6  9  9 10  1  9 12  3 13 11  4  1  9  2]\n"
     ]
    },
    {
     "data": {
      "image/png": "[encoded data removed]",
      "text/plain": [
       "<Figure size 576x144 with 2 Axes>"
      ]
     },
     "metadata": {},
     "output_type": "display_data"
    },
    {
     "name": "stdout",
     "output_type": "stream",
     "text": [
      "12500 1.0011221 1.3532938 [6.7025585] 11.3711405 1.1725585 4.5268283\n",
      "12500 1.0011897 1.3480583 [6.765168] 1.2896336 5.31429\n",
      "12500 [0. 1. 2. 0. 0. 2. 1. 1. 1. 1. 0. 0. 2. 1. 2. 0. 1. 0. 1. 0.]\n",
      "12500 [17. 12. 18. 10. 12. 13. 17. 13. 13. 14.  9.  9.  8. 18. 11. 11. 11. 11.\n",
      " 17. 11.]\n",
      "[12  7  6 14  2  1  2  9 18  5 16 12 13 14  8  5]\n",
      "[ 7 13  6 16  9 10  1 16 12  3 13  4 16  1  9  2]\n"
     ]
    },
    {
     "data": {
      "image/png": "[encoded data removed]",
      "text/plain": [
       "<Figure size 576x144 with 2 Axes>"
      ]
     },
     "metadata": {},
     "output_type": "display_data"
    },
    {
     "name": "stdout",
     "output_type": "stream",
     "text": [
      "13000 1.0009074 1.3213022 [6.6324763] 25.08436 1.1995977 3.9714608\n",
      "13000 1.0008779 1.3275944 [6.7719917] 1.0796002 3.617809\n",
      "13000 [0. 0. 1. 1. 0. 1. 2. 1. 1. 0. 0. 2. 2. 2. 1. 0. 1. 1. 0. 0.]\n",
      "13000 [11.  9.  6. 11.  5. 14. 16. 16. 13. 28. 14. 11. 10. 11. 17. 16. 12.  6.\n",
      " 17. 11.]\n",
      "[12  7  6  3  2 13 11 11 17  5 16 12 13 14  8  6]\n",
      "[ 7 11  6  9  9 10  1  9 12  3 13  9 16  1  9  2]\n"
     ]
    },
    {
     "data": {
      "image/png": "[encoded data removed]",
      "text/plain": [
       "<Figure size 576x144 with 2 Axes>"
      ]
     },
     "metadata": {},
     "output_type": "display_data"
    },
    {
     "name": "stdout",
     "output_type": "stream",
     "text": [
      "13500 1.0008552 1.3271599 [6.4051623] 11.881376 1.1856176 3.6443157\n",
      "13500 1.0008533 1.3249936 [6.9234633] 1.2255747 3.366531\n",
      "13500 [0. 1. 1. 0. 0. 1. 2. 1. 1. 1. 0. 0. 2. 1. 1. 0. 1. 2. 0. 1.]\n",
      "13500 [15. 13. 11. 10. 11.  6. 12. 18. 20. 13. 17. 17. 18.  9.  6. 16. 11. 11.\n",
      " 11. 12.]\n",
      "[12  7  6 19  2 17  1  9 17  5 16 12 13 14  8  6]\n",
      "[ 1 11  6  9 11 10  1  9 12  3 18  4  4  1  9  2]\n"
     ]
    },
    {
     "data": {
      "image/png": "[encoded data removed]",
      "text/plain": [
       "<Figure size 576x144 with 2 Axes>"
      ]
     },
     "metadata": {},
     "output_type": "display_data"
    },
    {
     "name": "stdout",
     "output_type": "stream",
     "text": [
      "14000 1.0009445 1.3323971 [7.0809026] 11.42673 1.1915516 3.912788\n",
      "14000 1.0009358 1.3297576 [7.270591] 1.0953324 2.8456628\n",
      "14000 [0. 1. 1. 1. 0. 2. 2. 1. 1. 1. 0. 0. 2. 1. 1. 0. 1. 1. 0. 0.]\n",
      "14000 [15. 16. 17. 12. 11. 10.  8. 15. 11. 17. 16. 18. 17.  9. 10. 13. 11. 10.\n",
      " 11.  5.]\n",
      "[12  7  6  3  2 13  1  9 17  5 16 12 13 14  8  6]\n",
      "[ 1 11  6  9 13 10  1  3 12  3 13 11 16  1  9  2]\n"
     ]
    },
    {
     "data": {
      "image/png": "[encoded data removed]",
      "text/plain": [
       "<Figure size 576x144 with 2 Axes>"
      ]
     },
     "metadata": {},
     "output_type": "display_data"
    },
    {
     "name": "stdout",
     "output_type": "stream",
     "text": [
      "14500 1.0010176 1.336219 [6.8036633] 13.853079 1.2216024 3.4800029\n",
      "14500 1.0010263 1.3266126 [6.984576] 1.0517201 2.2601247\n",
      "14500 [0. 1. 2. 0. 0. 2. 1. 1. 0. 1. 0. 0. 2. 1. 2. 0. 1. 1. 0. 0.]\n",
      "14500 [10.  9. 16. 16. 10. 10. 14. 11. 13. 10.  8. 16. 13. 18. 19.  6. 15. 16.\n",
      " 13. 12.]\n",
      "[12  7  6 14  2  1  1  9 17  5 16 12 13 14  2  5]\n",
      "[17 11  6  9  9 10  1 16 12  3 13  4  4  1  9  2]\n"
     ]
    },
    {
     "data": {
      "image/png": "[encoded data removed]",
      "text/plain": [
       "<Figure size 576x144 with 2 Axes>"
      ]
     },
     "metadata": {},
     "output_type": "display_data"
    },
    {
     "name": "stdout",
     "output_type": "stream",
     "text": [
      "15000 1.0010777 1.3508081 [6.6276474] 8.582127 1.209768 4.138583\n",
      "15000 1.0009497 1.3386638 [6.634121] 1.136385 4.4373245\n",
      "15000 [0. 1. 1. 1. 0. 2. 2. 1. 1. 1. 0. 0. 1. 0. 1. 1. 1. 1. 1. 0.]\n",
      "15000 [10. 13. 14. 16. 13. 12. 15. 11. 17. 10. 10. 17. 14. 10. 13.  9. 12. 14.\n",
      " 12. 15.]\n",
      "[12  7  6  3  2 17  1  9 15  5 16 18  5 14  8  6]\n",
      "[ 1 11  6  9 13 10 16 16 12  3 13 15  4  1  9  2]\n"
     ]
    },
    {
     "data": {
      "image/png": "[encoded data removed]",
      "text/plain": [
       "<Figure size 576x144 with 2 Axes>"
      ]
     },
     "metadata": {},
     "output_type": "display_data"
    },
    {
     "name": "stdout",
     "output_type": "stream",
     "text": [
      "15500 1.0008774 1.3305147 [6.751624] 10.374919 1.1762525 3.9751196\n",
      "15500 1.0008752 1.3348684 [6.579952] 1.1884836 4.396106\n",
      "15500 [0. 1. 1. 1. 0. 1. 2. 0. 1. 0. 0. 1. 2. 1. 1. 0. 1. 2. 0. 0.]\n",
      "15500 [14. 12. 18. 10.  7.  8. 11. 17. 15.  9. 14. 10. 16. 14.  7. 20. 18. 10.\n",
      " 12. 15.]\n",
      "[12  2  6  3  2 17  1 11 17  5 16 12 13 14  8  6]\n",
      "[ 1 13  6  9 13 10  1 16 12  3 13  4 16  1  9  0]\n"
     ]
    },
    {
     "data": {
      "image/png": "[encoded data removed]",
      "text/plain": [
       "<Figure size 576x144 with 2 Axes>"
      ]
     },
     "metadata": {},
     "output_type": "display_data"
    },
    {
     "name": "stdout",
     "output_type": "stream",
     "text": [
      "16000 1.0008456 1.3320606 [7.0718975] 9.273166 1.1485043 4.16579\n",
      "16000 1.000836 1.3340328 [6.3974323] 1.2334285 3.8603\n",
      "16000 [1. 1. 1. 1. 0. 1. 2. 0. 1. 0. 0. 1. 2. 2. 1. 0. 1. 1. 0. 0.]\n",
      "16000 [16. 10. 12. 21. 10.  9. 18. 11. 10. 10. 18. 10. 13. 15. 10.  9. 17. 18.\n",
      "  8. 11.]\n",
      "[12  0  6  3  2  1 13 11 17  5 16 12 13 14  8  6]\n",
      "[ 1 13  6  9  9 10  1 16 12  3 13 11 11  1  9  2]\n"
     ]
    },
    {
     "data": {
      "image/png": "[encoded data removed]",
      "text/plain": [
       "<Figure size 576x144 with 2 Axes>"
      ]
     },
     "metadata": {},
     "output_type": "display_data"
    },
    {
     "name": "stdout",
     "output_type": "stream",
     "text": [
      "16500 1.0008392 1.3366569 [7.0278854] 9.574888 1.1468918 4.9578433\n",
      "16500 1.0008385 1.3344642 [6.8512616] 1.1760138 3.6104946\n",
      "16500 [0. 2. 1. 0. 0. 2. 1. 1. 1. 1. 0. 0. 2. 1. 1. 0. 1. 1. 0. 1.]\n",
      "16500 [14. 12. 12. 15. 10. 12. 13. 10. 15. 10. 18. 16. 15. 14. 11. 13. 11.  9.\n",
      " 15. 12.]\n",
      "[12  7  6 19  2  1  1  9 17  5 16 12 13 14  8  5]\n",
      "[ 0 11  6  9  9 10 16 16 12  3 13 11 16  1  9  0]\n"
     ]
    },
    {
     "data": {
      "image/png": "[encoded data removed]",
      "text/plain": [
       "<Figure size 576x144 with 2 Axes>"
      ]
     },
     "metadata": {},
     "output_type": "display_data"
    },
    {
     "name": "stdout",
     "output_type": "stream",
     "text": [
      "17000 1.00094 1.3432858 [6.895714] 17.035004 1.1545808 3.8106577\n",
      "17000 1.0009136 1.3378993 [6.6200438] 1.2974422 3.2136192\n",
      "17000 [0. 2. 1. 1. 0. 1. 2. 1. 1. 0. 0. 1. 2. 1. 1. 0. 1. 1. 0. 0.]\n",
      "17000 [12. 19. 10. 18. 11. 14. 15. 13. 18.  8. 14. 14. 11. 18. 19.  8. 12.  8.\n",
      "  4. 11.]\n",
      "[12  7  6  3  2  1  1  3 17  5 16 12 13 14  8  6]\n",
      "[ 1 13  6  9 13 10  1  3 12  3 13 11  8  1  9  2]\n"
     ]
    },
    {
     "data": {
      "image/png": "[encoded data removed]",
      "text/plain": [
       "<Figure size 576x144 with 2 Axes>"
      ]
     },
     "metadata": {},
     "output_type": "display_data"
    },
    {
     "name": "stdout",
     "output_type": "stream",
     "text": [
      "17500 1.0011778 1.3658388 [6.54694] 16.786945 1.1680675 5.108026\n",
      "17500 1.0011237 1.3609254 [6.9008408] 1.1259055 1.4578385\n",
      "17500 [0. 2. 1. 0. 0. 2. 1. 0. 1. 1. 0. 0. 2. 1. 1. 0. 1. 1. 0. 2.]\n",
      "17500 [12. 13. 13.  5.  8. 15.  7. 15. 16. 13. 11.  8. 24. 14. 14. 22.  9. 17.\n",
      " 13.  8.]\n",
      "[12 19  6 19  2  1  1  9 17  5 16 12 13 14  8  5]\n",
      "[ 1 11  6  9  9 10  1 16 12  3 13 11  4  1  9  2]\n"
     ]
    },
    {
     "data": {
      "image/png": "[encoded data removed]",
      "text/plain": [
       "<Figure size 576x144 with 2 Axes>"
      ]
     },
     "metadata": {},
     "output_type": "display_data"
    },
    {
     "name": "stdout",
     "output_type": "stream",
     "text": [
      "18000 1.0010045 1.3259536 [6.7420936] 19.28949 1.1992426 4.930599\n",
      "18000 1.0010383 1.3294275 [6.279668] 1.2758834 1.0524333\n",
      "18000 [0. 2. 1. 0. 0. 2. 1. 1. 1. 1. 0. 0. 1. 1. 2. 0. 1. 1. 1. 0.]\n",
      "18000 [10. 14. 11. 16. 14. 10. 19. 16.  7.  5. 13.  9. 20. 15. 24. 20. 13.  8.\n",
      "  7.  6.]\n",
      "[12  7  6 14  2  1  1  9 17  5 16 18 13 14  8  5]\n",
      "[ 7 13  6  9 13 10 16 16 12  3 13 11  4 19  9  2]\n"
     ]
    },
    {
     "data": {
      "image/png": "[encoded data removed]",
      "text/plain": [
       "<Figure size 576x144 with 2 Axes>"
      ]
     },
     "metadata": {},
     "output_type": "display_data"
    },
    {
     "name": "stdout",
     "output_type": "stream",
     "text": [
      "18500 1.0008395 1.3394253 [6.5724483] 14.303024 1.219214 4.4800286\n",
      "18500 1.0008456 1.3378766 [7.0106683] 1.1760387 3.0843766\n",
      "18500 [0. 1. 2. 0. 0. 2. 1. 2. 1. 1. 0. 0. 2. 1. 2. 0. 1. 0. 0. 0.]\n",
      "18500 [12.  9. 15. 18. 10. 13. 12.  9. 12. 14. 11. 17. 16.  9. 14. 16. 12. 13.\n",
      " 14. 10.]\n",
      "[12  7  6 14  2  1  2  9  7  5 16 12 13 14  8  5]\n",
      "[ 1 13  6  9 13 10 16 16 12  3 13 15 11  1  9  2]\n"
     ]
    },
    {
     "data": {
      "image/png": "[encoded data removed]",
      "text/plain": [
       "<Figure size 576x144 with 2 Axes>"
      ]
     },
     "metadata": {},
     "output_type": "display_data"
    },
    {
     "name": "stdout",
     "output_type": "stream",
     "text": [
      "19000 1.0010449 1.3572551 [6.780069] 12.095095 1.2021791 4.7473254\n",
      "19000 1.0010304 1.3561738 [6.620596] 1.1387844 6.1820316\n",
      "19000 [0. 1. 1. 1. 0. 2. 2. 1. 1. 0. 0. 1. 2. 0. 2. 0. 1. 1. 0. 0.]\n",
      "19000 [14. 12.  7. 14. 22.  7. 12. 12. 21. 16. 10. 10. 19. 15.  7.  8. 11. 18.\n",
      " 10. 10.]\n",
      "[12  7  6 14  2  1 11  3 17  5 16 12  5 14  8  6]\n",
      "[ 1 11  6  9  9 10  1 16 12  3 13 15  4  1  9  2]\n"
     ]
    },
    {
     "data": {
      "image/png": "[encoded data removed]",
      "text/plain": [
       "<Figure size 576x144 with 2 Axes>"
      ]
     },
     "metadata": {},
     "output_type": "display_data"
    },
    {
     "name": "stdout",
     "output_type": "stream",
     "text": [
      "19500 1.0017524 1.3193805 [6.517848] 10.11034 1.1827114 4.970909\n",
      "19500 1.001941 1.3326082 [6.6185923] 1.3734939 4.9931726\n",
      "19500 [0. 2. 0. 1. 0. 1. 2. 2. 1. 0. 0. 2. 2. 1. 1. 0. 1. 0. 0. 0.]\n",
      "19500 [13. 13. 10. 12. 11.  9. 16. 13. 15. 11. 15. 15.  9. 14. 18.  8. 12. 10.\n",
      " 15. 15.]\n",
      "[12  7  6  3  1  1 11 11  7  5 16 12 13 14  8  6]\n",
      "[ 1 11  6  9 11 10  1  9 12  3 13  7  4  1  9  2]\n"
     ]
    },
    {
     "data": {
      "image/png": "[encoded data removed]",
      "text/plain": [
       "<Figure size 576x144 with 2 Axes>"
      ]
     },
     "metadata": {},
     "output_type": "display_data"
    },
    {
     "name": "stdout",
     "output_type": "stream",
     "text": [
      "20000 1.0008305 1.3326278 [6.573735] 15.908176 1.1091721 6.3091\n",
      "20000 1.0008307 1.334054 [6.3636274] 1.0800042 5.8740654\n",
      "20000 [0. 1. 1. 0. 0. 1. 2. 1. 1. 1. 0. 0. 2. 2. 1. 0. 1. 1. 0. 1.]\n",
      "20000 [21. 17. 18.  6. 13. 11.  9.  8.  9. 21. 14. 16. 10. 14.  8. 13.  9. 12.\n",
      " 14. 15.]\n",
      "[12  7  6 19  2  1 13  9 17  5 16 12 13 14  8  6]\n",
      "[ 1 11  6  9 13 10  1 16 12  3 13  4  4  1  9  2]\n"
     ]
    },
    {
     "data": {
      "image/png": "[encoded data removed]",
      "text/plain": [
       "<Figure size 576x144 with 2 Axes>"
      ]
     },
     "metadata": {},
     "output_type": "display_data"
    },
    {
     "name": "stdout",
     "output_type": "stream",
     "text": [
      "20500 1.0008999 1.3357202 [6.9173737] 8.588018 1.1309633 6.3330975\n",
      "20500 1.0008918 1.3389218 [6.970521] 1.178852 3.7490568\n",
      "20500 [0. 2. 0. 1. 0. 1. 1. 1. 0. 1. 0. 0. 2. 1. 1. 0. 2. 2. 0. 1.]\n",
      "20500 [13. 14. 10. 11. 17. 12. 10. 14. 13. 15. 12. 13.  7. 14. 15. 14. 13. 14.\n",
      " 11. 12.]\n",
      "[12  7  6 19  1  1 17  9 17  5 16 12 13 14 16  3]\n",
      "[19 13  6  9 13  5  1  3 12  3 13 15  4  1  9  0]\n"
     ]
    },
    {
     "data": {
      "image/png": "[encoded data removed]",
      "text/plain": [
       "<Figure size 576x144 with 2 Axes>"
      ]
     },
     "metadata": {},
     "output_type": "display_data"
    },
    {
     "name": "stdout",
     "output_type": "stream",
     "text": [
      "21000 1.0009193 1.3306786 [6.6425657] 9.455087 1.1391456 5.4517665\n",
      "21000 1.0009366 1.3347542 [6.3468876] 1.1967169 2.500844\n",
      "21000 [0. 2. 2. 0. 0. 2. 1. 1. 0. 1. 0. 0. 2. 1. 1. 0. 1. 1. 0. 1.]\n",
      "21000 [11. 10. 17. 13. 15. 12. 13.  6.  7. 18. 10.  9. 13. 14. 12. 12. 15. 23.\n",
      " 11. 15.]\n",
      "[12  7  6 19  2  1  1  9 17  5 16 12 13 14  2  5]\n",
      "[17 11  6  9 13 10 16  9 12  3 13 15 16 17  9  2]\n"
     ]
    },
    {
     "data": {
      "image/png": "[encoded data removed]",
      "text/plain": [
       "<Figure size 576x144 with 2 Axes>"
      ]
     },
     "metadata": {},
     "output_type": "display_data"
    },
    {
     "name": "stdout",
     "output_type": "stream",
     "text": [
      "21500 1.1013169 1.0053579 [8.722912] 13.081345 1.1841305 5.5872517\n",
      "21500 1.0715883 1.0390695 [8.889944] 1.2537616 3.4748182\n",
      "21500 [0. 0. 2. 1. 0. 1. 1. 1. 1. 1. 0. 0. 2. 1. 2. 1. 1. 1. 0. 0.]\n",
      "21500 [17. 11.  8. 15. 12. 10. 19. 12. 18. 16. 11. 11. 12.  9. 13. 10. 10. 14.\n",
      " 17. 11.]\n",
      "[12  7  6 14  2 17  2  9 15  5 16 12 13 14  8  3]\n",
      "[19 13  6  9  9 10 16 16 12  3 13 16  4 17  9  2]\n"
     ]
    },
    {
     "data": {
      "image/png": "[encoded data removed]",
      "text/plain": [
       "<Figure size 576x144 with 2 Axes>"
      ]
     },
     "metadata": {},
     "output_type": "display_data"
    },
    {
     "name": "stdout",
     "output_type": "stream",
     "text": [
      "22000 1.000858 1.3362774 [6.5820746] 12.471212 1.2057686 3.1496778\n",
      "22000 1.0008569 1.3377264 [6.8019996] 1.1386256 2.1180987\n",
      "22000 [0. 2. 1. 1. 0. 1. 2. 1. 1. 0. 0. 0. 2. 1. 1. 0. 1. 1. 0. 1.]\n",
      "22000 [18. 10. 13. 13. 12.  7. 18. 15. 19. 10.  7. 13. 11. 13. 16.  9. 17. 13.\n",
      " 11. 12.]\n",
      "[12  7  6 19  2  1  1  3 17  5 16 12 13 14  8  6]\n",
      "[ 7 11  6  9 13 10  1  9 12  3 13  9 14  1  9  2]\n"
     ]
    },
    {
     "data": {
      "image/png": "[encoded data removed]",
      "text/plain": [
       "<Figure size 576x144 with 2 Axes>"
      ]
     },
     "metadata": {},
     "output_type": "display_data"
    },
    {
     "name": "stdout",
     "output_type": "stream",
     "text": [
      "22500 1.0008299 1.3301373 [6.431984] 17.442757 1.1917453 4.6859927\n",
      "22500 1.0008287 1.3303099 [6.456375] 1.1730089 2.464795\n",
      "22500 [0. 1. 1. 1. 0. 2. 1. 2. 1. 0. 0. 1. 2. 2. 1. 0. 1. 0. 0. 0.]\n",
      "22500 [14. 15. 15. 10.  8. 16. 12.  8. 12. 10.  9. 10. 21. 22. 19. 14. 13.  5.\n",
      "  5. 18.]\n",
      "[12  7  6  3  2 13  1 11  7  5 16 12 13 14  8  5]\n",
      "[ 1 13  6  9 13 10  1 16 12  3 13 15  8  1  9  0]\n"
     ]
    },
    {
     "data": {
      "image/png": "[encoded data removed]",
      "text/plain": [
       "<Figure size 576x144 with 2 Axes>"
      ]
     },
     "metadata": {},
     "output_type": "display_data"
    },
    {
     "name": "stdout",
     "output_type": "stream",
     "text": [
      "23000 1.0008242 1.3352783 [6.471878] 10.10712 1.1912566 4.2296276\n",
      "23000 1.0008261 1.3360543 [6.642445] 1.2198076 1.2281346\n",
      "23000 [0. 1. 2. 1. 0. 2. 1. 1. 1. 0. 0. 1. 2. 1. 1. 0. 1. 1. 0. 1.]\n",
      "23000 [15. 11. 11. 14.  8. 11.  9. 10. 17. 13. 14. 15.  9. 11. 16. 13. 18. 15.\n",
      " 17.  9.]\n",
      "[12  7  6 19  2 11  2  3 17  5 16 12 13 14  8  5]\n",
      "[19 11  6  9 13 10  1 16 12  3 18 15  4  1  9  1]\n"
     ]
    },
    {
     "data": {
      "image/png": "[encoded data removed]",
      "text/plain": [
       "<Figure size 576x144 with 2 Axes>"
      ]
     },
     "metadata": {},
     "output_type": "display_data"
    },
    {
     "name": "stdout",
     "output_type": "stream",
     "text": [
      "23500 1.0008601 1.3221326 [6.628488] 13.851466 1.1953897 4.4582915\n",
      "23500 1.0008426 1.3250879 [6.625626] 1.2024839 6.228876\n",
      "23500 [1. 2. 1. 0. 0. 2. 1. 0. 1. 1. 0. 0. 2. 1. 1. 0. 1. 1. 0. 1.]\n",
      "23500 [16. 15. 13. 22.  8.  9. 15. 21. 16.  7. 10. 14. 16.  9. 11. 11. 11.  7.\n",
      "  9. 16.]\n",
      "[12  0  6 19  2  1  1  9 17  5 16 12 13 14  8  5]\n",
      "[ 1 11  6  9  9 10 16  9 12  3 18 15 14  1  9  2]\n"
     ]
    },
    {
     "data": {
      "image/png": "[encoded data removed]",
      "text/plain": [
       "<Figure size 576x144 with 2 Axes>"
      ]
     },
     "metadata": {},
     "output_type": "display_data"
    },
    {
     "name": "stdout",
     "output_type": "stream",
     "text": [
      "24000 1.0008147 1.3320787 [6.4329476] 11.2927 1.2024739 4.5346646\n",
      "24000 1.0008137 1.3318522 [6.015067] 1.0804936 1.2531862\n",
      "24000 [0. 2. 0. 0. 0. 1. 2. 2. 1. 0. 0. 1. 2. 2. 1. 0. 1. 0. 0. 1.]\n",
      "24000 [ 5. 18. 15. 13. 15. 12. 14. 14. 13. 13. 13. 10. 15.  9. 19. 14.  7. 14.\n",
      " 13. 10.]\n",
      "[12  7  6 19  1 13  1 11  7  5 16 12 13 14  8  6]\n",
      "[ 1 11  6  9 11 10 16 16 12  3 13 11 14  1  9  2]\n"
     ]
    },
    {
     "data": {
      "image/png": "[encoded data removed]",
      "text/plain": [
       "<Figure size 576x144 with 2 Axes>"
      ]
     },
     "metadata": {},
     "output_type": "display_data"
    },
    {
     "name": "stdout",
     "output_type": "stream",
     "text": [
      "24500 1.0008371 1.3320572 [6.6675496] 11.981837 1.1837931 5.112051\n",
      "24500 1.0008204 1.3306631 [6.3111773] 1.1251009 3.9984334\n",
      "24500 [0. 2. 0. 0. 0. 2. 1. 2. 1. 1. 0. 0. 2. 1. 1. 0. 0. 2. 0. 1.]\n",
      "24500 [16. 15. 15. 12. 17. 18.  9. 13. 15. 16.  9. 14.  9. 10. 11. 10. 12. 10.\n",
      "  8. 17.]\n",
      "[12  7  6 19  1 17  1  9 17  5  7 12 13 14  8  5]\n",
      "[ 1 11  6  9  9 10 16  9 12  3 13 15  4  7  9  2]\n"
     ]
    },
    {
     "data": {
      "image/png": "[encoded data removed]",
      "text/plain": [
       "<Figure size 576x144 with 2 Axes>"
      ]
     },
     "metadata": {},
     "output_type": "display_data"
    },
    {
     "name": "stdout",
     "output_type": "stream",
     "text": [
      "25000 1.0008156 1.3308526 [6.55395] 12.908392 1.1798637 4.0417027\n",
      "25000 1.0008161 1.3330679 [6.4598956] 0.97664785 6.924926\n",
      "25000 [0. 2. 2. 2. 0. 2. 1. 1. 0. 0. 0. 1. 2. 1. 1. 0. 1. 0. 0. 0.]\n",
      "25000 [13. 11. 17.  8. 11. 19. 12. 17.  8. 10. 11. 16. 20. 14. 12.  8. 16. 12.\n",
      "  7. 15.]\n",
      "[12  7  6  3  2  1  1  3 11  5 16 12 13 14  2  5]\n",
      "[ 7 11  6  9  9 10  1 16 12  3 13  7 14  1  9  2]\n"
     ]
    },
    {
     "data": {
      "image/png": "[encoded data removed]",
      "text/plain": [
       "<Figure size 576x144 with 2 Axes>"
      ]
     },
     "metadata": {},
     "output_type": "display_data"
    },
    {
     "name": "stdout",
     "output_type": "stream",
     "text": [
      "25500 1.0009477 1.3465455 [6.5027094] 11.786978 1.1475255 4.4786515\n",
      "25500 1.0009246 1.3427238 [6.3838153] 1.2060511 2.9456947\n",
      "25500 [0. 2. 1. 1. 0. 1. 2. 1. 1. 0. 0. 1. 2. 1. 1. 0. 1. 0. 0. 1.]\n",
      "25500 [16. 12. 10. 15. 14. 13. 14. 12.  9. 18. 13. 14. 15. 16. 17. 10.  7. 10.\n",
      " 11.  9.]\n",
      "[12  7  6 19  2  1  1  3 11  5 16 12 13 14  8  6]\n",
      "[19 11  6  9 11 10 16  3 12  3 13 11  4  1  9  2]\n"
     ]
    },
    {
     "data": {
      "image/png": "[encoded data removed]",
      "text/plain": [
       "<Figure size 576x144 with 2 Axes>"
      ]
     },
     "metadata": {},
     "output_type": "display_data"
    },
    {
     "name": "stdout",
     "output_type": "stream",
     "text": [
      "26000 1.0008535 1.3232906 [6.4025354] 12.86475 1.1718943 6.75315\n",
      "26000 1.0008414 1.3291228 [6.3338103] 1.0483859 4.4864373\n",
      "26000 [0. 1. 1. 0. 0. 2. 1. 2. 1. 1. 0. 0. 2. 1. 1. 0. 1. 1. 0. 1.]\n",
      "26000 [10. 18. 12.  9. 10. 12. 13. 15. 14. 10. 10. 14.  9. 17. 13.  9. 18. 16.\n",
      " 13. 16.]\n",
      "[12  7  6 19  1 17  2  9  7  5 16 12 13 14  8  5]\n",
      "[ 1 11  6  9  1 10 16 16 12  3 13 15  4  1  9  2]\n"
     ]
    },
    {
     "data": {
      "image/png": "[encoded data removed]",
      "text/plain": [
       "<Figure size 576x144 with 2 Axes>"
      ]
     },
     "metadata": {},
     "output_type": "display_data"
    },
    {
     "name": "stdout",
     "output_type": "stream",
     "text": [
      "26500 1.000987 1.3452549 [6.4747095] 16.39803 1.217226 4.651678\n",
      "26500 1.000967 1.345712 [6.4310913] 1.1952139 1.5253607\n",
      "26500 [0. 0. 2. 0. 0. 1. 2. 1. 1. 1. 0. 1. 2. 1. 1. 0. 1. 0. 0. 1.]\n",
      "26500 [ 9. 15. 11. 12. 17. 10. 16. 10. 17. 10.  6. 18. 25.  7. 10. 13. 12. 10.\n",
      " 12. 18.]\n",
      "[12  7  6 19  2 17  2  9 11  5 16 12 13 14  8  6]\n",
      "[ 0 11  6  9  9 10  1  9 12  3 13 15  4  7  9  2]\n"
     ]
    },
    {
     "data": {
      "image/png": "[encoded data removed]",
      "text/plain": [
       "<Figure size 576x144 with 2 Axes>"
      ]
     },
     "metadata": {},
     "output_type": "display_data"
    },
    {
     "name": "stdout",
     "output_type": "stream",
     "text": [
      "27000 1.0008657 1.3330998 [6.27729] 12.4851265 1.1916988 5.358763\n",
      "27000 1.0008687 1.3337345 [6.2809343] 1.2737415 3.0080192\n",
      "27000 [0. 1. 1. 0. 0. 1. 2. 1. 1. 0. 0. 1. 2. 2. 1. 1. 1. 0. 0. 1.]\n",
      "27000 [11. 12.  5. 15. 15. 12. 10. 13. 16. 12. 17. 13. 15. 15. 21. 12. 15. 10.\n",
      " 12.  5.]\n",
      "[12  7  6 19  2 13  1 11 15  5 16 12 13 14  8  6]\n",
      "[ 7 11  6  9  9 10  1 16 12  3 13 11  4  1  9  2]\n"
     ]
    },
    {
     "data": {
      "image/png": "[encoded data removed]",
      "text/plain": [
       "<Figure size 576x144 with 2 Axes>"
      ]
     },
     "metadata": {},
     "output_type": "display_data"
    },
    {
     "name": "stdout",
     "output_type": "stream",
     "text": [
      "27500 1.0010983 1.3218367 [7.2106843] 15.415472 1.2183273 3.5696526\n",
      "27500 1.0011016 1.3200088 [6.8355856] 1.3386862 5.3702106\n",
      "27500 [0. 1. 1. 0. 0. 2. 1. 1. 0. 0. 0. 2. 2. 1. 1. 0. 2. 1. 0. 1.]\n",
      "27500 [13. 11.  8.  9. 11. 21. 17. 11. 12. 19. 15. 10. 17. 10. 17.  9. 21.  9.\n",
      "  9.  7.]\n",
      "[12  7  6 19  2 17  1 11 11  5 16 12 13 14 16  5]\n",
      "[ 7 11  6  9  1 10  1 16 12  3 13 15  4  1  9  2]\n"
     ]
    },
    {
     "data": {
      "image/png": "[encoded data removed]",
      "text/plain": [
       "<Figure size 576x144 with 2 Axes>"
      ]
     },
     "metadata": {},
     "output_type": "display_data"
    },
    {
     "name": "stdout",
     "output_type": "stream",
     "text": [
      "28000 1.0008591 1.3351598 [6.501561] 18.441633 1.2442758 3.7229648\n",
      "28000 1.00085 1.3320534 [6.1106544] 1.2580532 1.9901271\n",
      "28000 [0. 2. 1. 1. 0. 2. 1. 1. 1. 0. 0. 0. 2. 1. 1. 0. 1. 1. 0. 1.]\n",
      "28000 [17.  7. 18. 11. 13. 19. 22.  7. 12. 14. 17.  6. 10. 14. 12. 14. 13. 13.\n",
      "  6. 11.]\n",
      "[12  7  6 19  2  1  1  3 17  5 16 12 13 14  8  5]\n",
      "[ 7 11  6  9  1 10 16  3 12  3 13  4  4  1  9  2]\n"
     ]
    },
    {
     "data": {
      "image/png": "[encoded data removed]",
      "text/plain": [
       "<Figure size 576x144 with 2 Axes>"
      ]
     },
     "metadata": {},
     "output_type": "display_data"
    },
    {
     "name": "stdout",
     "output_type": "stream",
     "text": [
      "28500 1.0008607 1.334716 [6.6109123] 13.568696 1.2474091 2.868981\n",
      "28500 1.0008597 1.3347217 [6.4251385] 1.115859 4.136093\n",
      "28500 [0. 1. 1. 2. 0. 2. 1. 1. 1. 0. 0. 0. 2. 1. 1. 0. 1. 2. 0. 0.]\n",
      "28500 [11.  7. 20. 15. 10. 12. 18. 13. 13. 15. 14. 10. 14.  9. 10. 11. 14. 16.\n",
      " 10. 14.]\n",
      "[12  7  6  3  2 17  1  3 17  5 16 12 13 14  8  5]\n",
      "[ 1 11  6  9  9 10 16  9 12  3 13 15  4  1  9  2]\n"
     ]
    },
    {
     "data": {
      "image/png": "[encoded data removed]",
      "text/plain": [
       "<Figure size 576x144 with 2 Axes>"
      ]
     },
     "metadata": {},
     "output_type": "display_data"
    },
    {
     "name": "stdout",
     "output_type": "stream",
     "text": [
      "29000 1.0008719 1.32135 [6.6596203] 16.470257 1.2416116 4.5601544\n",
      "29000 1.0008628 1.3205705 [6.214341] 1.1603649 6.2554436\n",
      "29000 [0. 0. 1. 0. 0. 2. 1. 1. 0. 1. 0. 1. 2. 1. 1. 0. 2. 2. 0. 1.]\n",
      "29000 [ 9. 12. 11. 13.  7. 14. 15. 12. 10. 18. 11. 19. 13. 10. 10. 13. 19. 15.\n",
      " 14. 11.]\n",
      "[12  7  6 19  2 17 11  9 17  5 16 12 13 14 16  5]\n",
      "[ 1 11  6  9 11 10 16 16 12  3 13  4  4  1  9  2]\n"
     ]
    },
    {
     "data": {
      "image/png": "[encoded data removed]",
      "text/plain": [
       "<Figure size 576x144 with 2 Axes>"
      ]
     },
     "metadata": {},
     "output_type": "display_data"
    },
    {
     "name": "stdout",
     "output_type": "stream",
     "text": [
      "29500 1.0008874 1.3461802 [6.3515253] 9.249868 1.2062296 4.6767755\n",
      "29500 1.0008944 1.3459347 [6.523445] 1.1775256 0.59957093\n",
      "29500 [0. 1. 1. 0. 0. 2. 1. 1. 1. 0. 0. 1. 2. 2. 1. 0. 1. 1. 0. 1.]\n",
      "29500 [11. 11. 14. 16.  9. 14.  9. 14. 11. 14. 14. 10. 18.  9. 10. 14. 14. 14.\n",
      " 18. 11.]\n",
      "[12  7  6 19  2 13  1 11 17  5 16 12 13 14  8  5]\n",
      "[ 0 11  6  9  9 10 16 16 12  3 13 15  4  1  9  0]\n"
     ]
    },
    {
     "data": {
      "image/png": "[encoded data removed]",
      "text/plain": [
       "<Figure size 576x144 with 2 Axes>"
      ]
     },
     "metadata": {},
     "output_type": "display_data"
    },
    {
     "name": "stdout",
     "output_type": "stream",
     "text": [
      "30000 1.0008396 1.3379288 [5.9629617] 19.387554 1.2129557 5.072521\n",
      "30000 1.000834 1.3376778 [6.2478056] 1.255134 4.297019\n",
      "30000 [0. 1. 2. 1. 0. 1. 2. 1. 1. 0. 0. 0. 2. 1. 2. 0. 1. 1. 0. 0.]\n",
      "30000 [16. 16. 13. 12. 11. 11. 23. 12. 16. 13. 10. 18.  5.  9. 20.  8. 11. 14.\n",
      "  6. 11.]\n",
      "[12  7  6 14  2  1  2  3 17  5 16 12 13 14  8  6]\n",
      "[ 1 11  6  9 11 10  5  3 12  3 13 15  4  1  9  0]\n"
     ]
    },
    {
     "data": {
      "image/png": "[encoded data removed]",
      "text/plain": [
       "<Figure size 576x144 with 2 Axes>"
      ]
     },
     "metadata": {},
     "output_type": "display_data"
    },
    {
     "name": "stdout",
     "output_type": "stream",
     "text": [
      "30500 1.0010115 1.3422235 [6.8793125] 11.119868 1.1522634 4.6333814\n",
      "30500 1.001011 1.346571 [6.6385026] 1.1466358 4.7706447\n",
      "30500 [0. 1. 1. 0. 0. 2. 1. 2. 0. 1. 0. 0. 2. 1. 2. 0. 2. 1. 0. 0.]\n",
      "30500 [18. 11. 15. 13.  6.  9. 17.  9.  8.  9. 13. 19. 10. 15. 16. 11. 18. 10.\n",
      " 15. 15.]\n",
      "[12  7  6 14  2 17  1  9  7  5 16 12 13 14 16  5]\n",
      "[ 1 11  6  9 11 10 16 16 12  3 13 15  4  7  9  2]\n"
     ]
    },
    {
     "data": {
      "image/png": "[encoded data removed]",
      "text/plain": [
       "<Figure size 576x144 with 2 Axes>"
      ]
     },
     "metadata": {},
     "output_type": "display_data"
    },
    {
     "name": "stdout",
     "output_type": "stream",
     "text": [
      "31000 1.0008957 1.3160982 [6.5389647] 13.692381 1.1867316 6.8716598\n",
      "31000 1.0008765 1.317411 [6.64028] 1.1314784 4.977661\n",
      "31000 [0. 0. 1. 0. 1. 1. 2. 1. 2. 0. 0. 1. 2. 2. 1. 0. 1. 0. 0. 1.]\n",
      "31000 [ 9. 12.  8. 13.  9. 17. 15. 14. 22. 16.  7. 18. 16. 17.  8.  9.  9.  9.\n",
      " 14. 13.]\n",
      "[12  4  6 19  2 13  8 11  7  5 16 12 13 14  8  6]\n",
      "[ 1 11  6  9  9 10 16  3 12  3 13 15  4  1  9  2]\n"
     ]
    },
    {
     "data": {
      "image/png": "[encoded data removed]",
      "text/plain": [
       "<Figure size 576x144 with 2 Axes>"
      ]
     },
     "metadata": {},
     "output_type": "display_data"
    },
    {
     "name": "stdout",
     "output_type": "stream",
     "text": [
      "31500 1.0008185 1.3281896 [6.488588] 11.368755 1.1615231 6.3684716\n",
      "31500 1.0008136 1.331063 [6.1340466] 1.2800883 2.1405735\n",
      "31500 [0. 3. 0. 1. 1. 1. 2. 0. 1. 0. 0. 1. 2. 1. 1. 0. 1. 1. 0. 0.]\n",
      "31500 [12. 21. 14. 14.  9. 10. 18. 12.  7. 14. 18. 15. 10. 13.  6.  6. 13. 15.\n",
      " 19.  7.]\n",
      "[12  4  6  3  1  1  1 11 17  5 16 12 13 14  8  6]\n",
      "[ 7 11  6  9 11 10 16  9 12  3 13 15  4  1  9  0]\n"
     ]
    },
    {
     "data": {
      "image/png": "[encoded data removed]",
      "text/plain": [
       "<Figure size 576x144 with 2 Axes>"
      ]
     },
     "metadata": {},
     "output_type": "display_data"
    },
    {
     "name": "stdout",
     "output_type": "stream",
     "text": [
      "32000 1.0008628 1.340333 [6.317698] 12.207549 1.1606829 4.1386538\n",
      "32000 1.0008595 1.3429012 [6.389895] 1.2222334 7.9308558\n",
      "32000 [0. 1. 1. 0. 0. 1. 2. 2. 1. 1. 0. 0. 2. 2. 1. 0. 1. 0. 0. 1.]\n",
      "32000 [17. 10.  8. 17. 13.  9. 16. 11. 11. 17. 11. 13.  8. 19. 10. 15. 13. 12.\n",
      " 15. 11.]\n",
      "[12  7  6 19  2 13  1  9  7  5 16 12 13 14  8  6]\n",
      "[ 0 11  6  9  1 10  1 16 12  3 13 15  4  1  9  0]\n"
     ]
    },
    {
     "data": {
      "image/png": "[encoded data removed]",
      "text/plain": [
       "<Figure size 576x144 with 2 Axes>"
      ]
     },
     "metadata": {},
     "output_type": "display_data"
    },
    {
     "name": "stdout",
     "output_type": "stream",
     "text": [
      "32500 1.0008262 1.3327321 [6.503492] 14.139739 1.1843941 5.4570727\n",
      "32500 1.0008314 1.3348529 [6.5902066] 1.0963236 6.540911\n",
      "32500 [0. 0. 2. 0. 0. 1. 2. 1. 1. 1. 0. 1. 2. 1. 1. 0. 1. 1. 0. 1.]\n",
      "32500 [15. 14.  6. 14. 10. 17. 18. 10. 14. 10.  9.  8. 18. 12. 11. 14.  9. 18.\n",
      " 12. 16.]\n",
      "[12  7  6 19  2 11  2  9 17  5 16 12 13 14  8  6]\n",
      "[ 7 11  6  9 11 10 16 16 12  3 13 15  4  1  9  2]\n"
     ]
    },
    {
     "data": {
      "image/png": "[encoded data removed]",
      "text/plain": [
       "<Figure size 576x144 with 2 Axes>"
      ]
     },
     "metadata": {},
     "output_type": "display_data"
    },
    {
     "name": "stdout",
     "output_type": "stream",
     "text": [
      "33000 1.0008454 1.340837 [6.777571] 11.248333 1.2209094 4.9793234\n",
      "33000 1.0008441 1.3384011 [5.9815197] 1.1516268 5.960919\n",
      "33000 [0. 1. 1. 0. 0. 2. 1. 1. 1. 1. 0. 2. 2. 1. 2. 0. 1. 0. 0. 0.]\n",
      "33000 [15. 13. 13.  7.  7. 10. 17. 15. 10.  9. 22. 15. 11. 13.  7. 15. 15. 17.\n",
      "  8. 16.]\n",
      "[12  7  6 14  2 11  1  9 11  5 16 12 13 14  8  5]\n",
      "[ 7 11  6  9  9 10 16  3 12  3 13 15  4  1  9  2]\n"
     ]
    },
    {
     "data": {
      "image/png": "[encoded data removed]",
      "text/plain": [
       "<Figure size 576x144 with 2 Axes>"
      ]
     },
     "metadata": {},
     "output_type": "display_data"
    },
    {
     "name": "stdout",
     "output_type": "stream",
     "text": [
      "33500 1.0009733 1.31238 [6.3166018] 13.875288 1.2114952 4.356265\n",
      "33500 1.0009553 1.3163239 [6.1955037] 1.2612878 8.888249\n",
      "33500 [0. 1. 1. 0. 0. 1. 2. 2. 1. 1. 0. 0. 2. 1. 1. 0. 1. 1. 0. 1.]\n",
      "33500 [12. 12. 13. 13.  4.  9. 19. 16. 15. 11. 10.  8. 12.  7. 16. 17. 16. 15.\n",
      " 11. 19.]\n",
      "[12  7  6 19  2 17 17  9  7  5 16 12 13 14  8  6]\n",
      "[ 0 11  6  9  9 10 16 16 12  3 13 15  4 17  9  2]\n"
     ]
    },
    {
     "data": {
      "image/png": "[encoded data removed]",
      "text/plain": [
       "<Figure size 576x144 with 2 Axes>"
      ]
     },
     "metadata": {},
     "output_type": "display_data"
    },
    {
     "name": "stdout",
     "output_type": "stream",
     "text": [
      "34000 1.000896 1.3427004 [6.661909] 12.617417 1.2077575 3.9968238\n",
      "34000 1.0009105 1.3449364 [6.759913] 1.1688635 6.1050014\n",
      "34000 [0. 1. 1. 1. 0. 2. 1. 1. 1. 0. 0. 1. 2. 1. 1. 0. 1. 1. 0. 1.]\n",
      "34000 [10. 17. 18. 15. 12. 18. 11. 10. 15. 13. 10. 22. 14.  8. 11. 11. 11.  9.\n",
      "  9. 13.]\n",
      "[12  7  6 19  2 17  1  3 11  5 16 12 13 14  8  5]\n",
      "[ 0 11  6  9  9 10 16 16 12  3 13 15  4  1  9  2]\n"
     ]
    },
    {
     "data": {
      "image/png": "[encoded data removed]",
      "text/plain": [
       "<Figure size 576x144 with 2 Axes>"
      ]
     },
     "metadata": {},
     "output_type": "display_data"
    },
    {
     "name": "stdout",
     "output_type": "stream",
     "text": [
      "34500 1.0011213 1.3237147 [6.5747004] 14.471266 1.2629144 3.3744256\n",
      "34500 1.0010691 1.327004 [6.4118366] 1.223172 0.68116\n",
      "34500 [0. 2. 1. 0. 0. 1. 2. 2. 1. 1. 0. 0. 2. 1. 1. 0. 1. 0. 0. 1.]\n",
      "34500 [14. 11. 13. 10. 13. 17. 17. 10. 13. 11.  3. 17. 19. 12. 16.  8. 14. 12.\n",
      " 10. 17.]\n",
      "[12  7  6 19  2  1  1  9  7  5 16 12 13 14  8  6]\n",
      "[ 1 11  6  9 11 10 16  3 12  3 13 11  4  1  9  2]\n"
     ]
    },
    {
     "data": {
      "image/png": "[encoded data removed]",
      "text/plain": [
       "<Figure size 576x144 with 2 Axes>"
      ]
     },
     "metadata": {},
     "output_type": "display_data"
    },
    {
     "name": "stdout",
     "output_type": "stream",
     "text": [
      "35000 1.0008715 1.3388221 [6.9433146] 14.724093 1.2495027 3.0467036\n",
      "35000 1.0008988 1.3450439 [6.260508] 1.2808626 2.454732\n",
      "35000 [0. 1. 1. 0. 0. 2. 1. 1. 1. 1. 0. 0. 2. 2. 1. 0. 1. 1. 0. 1.]\n",
      "35000 [16. 16. 15. 15. 13.  7. 18. 21. 12.  7.  9. 17. 10.  8. 12. 14. 20. 10.\n",
      " 11.  7.]\n",
      "[12  7  6 19  2 13  1  9 17  5 16 12 13 14  8  5]\n",
      "[ 0 11  6  9  9 10 16 16 12  3 13 15  4  1  9  0]\n"
     ]
    },
    {
     "data": {
      "image/png": "[encoded data removed]",
      "text/plain": [
       "<Figure size 576x144 with 2 Axes>"
      ]
     },
     "metadata": {},
     "output_type": "display_data"
    },
    {
     "name": "stdout",
     "output_type": "stream",
     "text": [
      "35500 1.000827 1.333311 [6.389638] 10.982374 1.2446728 3.931945\n",
      "35500 1.0008315 1.3343687 [6.01151] 1.2885103 2.976664\n",
      "35500 [0. 1. 1. 0. 0. 1. 2. 1. 1. 1. 0. 0. 2. 2. 1. 1. 1. 1. 0. 0.]\n",
      "35500 [13.  8. 13.  8. 12. 15. 12.  6. 11. 17.  9. 14. 13.  9. 15. 15. 19. 16.\n",
      " 16. 15.]\n",
      "[12  7  6 15  2 13  1  9 17  5 16 12 13 14  8  6]\n",
      "[ 1 11  6  9 11 10 16 16 12  3 13  4  8  1  9  2]\n"
     ]
    },
    {
     "data": {
      "image/png": "[encoded data removed]",
      "text/plain": [
       "<Figure size 576x144 with 2 Axes>"
      ]
     },
     "metadata": {},
     "output_type": "display_data"
    },
    {
     "name": "stdout",
     "output_type": "stream",
     "text": [
      "36000 1.0008187 1.3348626 [6.3498907] 14.241728 1.2127352 3.533476\n",
      "36000 1.0008185 1.3357599 [5.978097] 1.185675 1.9234543\n",
      "36000 [0. 1. 1. 1. 0. 1. 2. 1. 1. 0. 0. 0. 2. 2. 1. 0. 1. 1. 0. 1.]\n",
      "36000 [10. 17. 13. 18. 12. 13. 16. 10. 12. 10. 15.  5. 20. 18.  9.  6. 17.  9.\n",
      " 13. 11.]\n",
      "[12  7  6 19  2 13  1  3 17  5 16 12 13 14  8  6]\n",
      "[ 0 11  6  9  9 10 16 16 12  3 13 15  8  1  9  2]\n"
     ]
    },
    {
     "data": {
      "image/png": "[encoded data removed]",
      "text/plain": [
       "<Figure size 576x144 with 2 Axes>"
      ]
     },
     "metadata": {},
     "output_type": "display_data"
    },
    {
     "name": "stdout",
     "output_type": "stream",
     "text": [
      "36500 1.0008351 1.3387388 [6.8556027] 12.323026 1.1961062 4.412287\n",
      "36500 1.0008303 1.336836 [6.0041633] 1.1141336 4.4147587\n",
      "36500 [0. 0. 2. 0. 0. 1. 2. 2. 1. 1. 0. 1. 2. 1. 1. 0. 1. 0. 0. 1.]\n",
      "36500 [18. 14. 13. 11. 13. 12. 10.  7. 18. 12. 16.  9. 14. 17. 14. 13.  9. 15.\n",
      "  7. 13.]\n",
      "[12  7  6 19  2 11  2  9  7  5 16 12 13 14  8  6]\n",
      "[ 1 11  6  9  9 10 16 16 12  3 13 15 15  1  9  2]\n"
     ]
    },
    {
     "data": {
      "image/png": "[encoded data removed]",
      "text/plain": [
       "<Figure size 576x144 with 2 Axes>"
      ]
     },
     "metadata": {},
     "output_type": "display_data"
    },
    {
     "name": "stdout",
     "output_type": "stream",
     "text": [
      "37000 1.0008135 1.3339823 [6.6755824] 10.343338 1.1902032 4.856346\n",
      "37000 1.0008159 1.3348534 [6.0734234] 1.2689167 2.7874403\n",
      "37000 [0. 1. 2. 0. 0. 1. 2. 2. 1. 1. 0. 0. 2. 2. 1. 0. 1. 0. 0. 1.]\n",
      "37000 [10. 14. 11.  9. 10. 14. 19. 12. 15. 13. 12.  9. 13. 17.  7. 16. 14. 16.\n",
      " 10. 14.]\n",
      "[12  7  6 19  2 13  1  9  7  5 16 12 13 14  8  6]\n",
      "[ 0 11  6  9  9  8 16  3 12  3 13  4  4  1  9  2]\n"
     ]
    },
    {
     "data": {
      "image/png": "[encoded data removed]",
      "text/plain": [
       "<Figure size 576x144 with 2 Axes>"
      ]
     },
     "metadata": {},
     "output_type": "display_data"
    },
    {
     "name": "stdout",
     "output_type": "stream",
     "text": [
      "37500 1.0008577 1.3219279 [6.360394] 12.557031 1.1939752 5.4701123\n",
      "37500 1.0008471 1.3236148 [6.261855] 1.1715431 3.8126028\n",
      "37500 [0. 1. 1. 0. 0. 2. 1. 2. 1. 1. 0. 1. 2. 1. 1. 0. 1. 0. 0. 1.]\n",
      "37500 [12. 17.  8. 12.  8. 11. 20. 10. 14. 17. 16. 13. 12. 12. 13.  8. 11. 13.\n",
      " 16. 13.]\n",
      "[12  7  6 19  2  1 11  9  7  5 16 12 13 14  8  5]\n",
      "[ 1 11  6  9 13 10 16 16 12  3 13 15  8  1  9  0]\n"
     ]
    },
    {
     "data": {
      "image/png": "[encoded data removed]",
      "text/plain": [
       "<Figure size 576x144 with 2 Axes>"
      ]
     },
     "metadata": {},
     "output_type": "display_data"
    },
    {
     "name": "stdout",
     "output_type": "stream",
     "text": [
      "38000 1.0008175 1.3324993 [6.196982] 11.850014 1.2101789 4.987782\n",
      "38000 1.0008199 1.3314533 [6.516473] 1.2234359 4.2404227\n",
      "38000 [0. 1. 2. 0. 0. 2. 1. 1. 0. 1. 0. 2. 2. 1. 1. 0. 1. 0. 0. 1.]\n",
      "38000 [11. 15. 11. 17.  8. 12. 14. 18. 19. 15. 12. 18. 13.  7. 12.  7. 12. 19.\n",
      "  9.  9.]\n",
      "[12  7  6 19  2 11  1  9 11  5 16 12 13 14  2  5]\n",
      "[ 7 13  6  9 13 10 16  3 12  3 13  4  4 17  9  2]\n"
     ]
    },
    {
     "data": {
      "image/png": "[encoded data removed]",
      "text/plain": [
       "<Figure size 576x144 with 2 Axes>"
      ]
     },
     "metadata": {},
     "output_type": "display_data"
    },
    {
     "name": "stdout",
     "output_type": "stream",
     "text": [
      "38500 1.0009596 1.332686 [6.0061007] 10.657156 1.1221701 5.4372168\n",
      "38500 1.0008316 1.3339028 [6.610791] 1.2542503 4.8889675\n",
      "38500 [0. 0. 1. 0. 0. 2. 1. 1. 1. 0. 0. 2. 2. 1. 1. 1. 1. 1. 0. 1.]\n",
      "38500 [ 9. 20.  8.  9. 14.  9. 16. 17. 11. 11. 12. 10. 17. 12. 14. 14. 16. 11.\n",
      " 12. 12.]\n",
      "[12  7  6 19  2 17 11 11 15  5 16 12 13 14  8  5]\n",
      "[ 1 11  6  9 13 10 16 16 12  3 13  4  4  7  9  2]\n"
     ]
    },
    {
     "data": {
      "image/png": "[encoded data removed]",
      "text/plain": [
       "<Figure size 576x144 with 2 Axes>"
      ]
     },
     "metadata": {},
     "output_type": "display_data"
    },
    {
     "name": "stdout",
     "output_type": "stream",
     "text": [
      "39000 1.0008125 1.331512 [6.3490963] 15.713846 1.2267694 5.781048\n",
      "39000 1.0008134 1.3325436 [6.5450964] 1.1398094 4.278562\n",
      "39000 [0. 1. 1. 1. 0. 1. 2. 1. 1. 0. 0. 1. 2. 1. 1. 0. 1. 0. 0. 1.]\n",
      "39000 [14. 10. 12. 15. 15. 10. 13.  9. 14. 12. 10.  6. 11. 10. 18. 11. 19. 17.\n",
      " 19. 11.]\n",
      "[12  7  6 19  2  1  1  3 11  5 16 12 13 14  8  6]\n",
      "[ 8 11  6  9  1 10 16 16 12  3 13  4  4  1  9  2]\n"
     ]
    },
    {
     "data": {
      "image/png": "[encoded data removed]",
      "text/plain": [
       "<Figure size 576x144 with 2 Axes>"
      ]
     },
     "metadata": {},
     "output_type": "display_data"
    },
    {
     "name": "stdout",
     "output_type": "stream",
     "text": [
      "39500 1.0010757 1.3403131 [6.2609034] 11.164232 1.1939137 6.125377\n",
      "39500 1.0011325 1.3322849 [6.3198967] 1.2270508 3.0941787\n",
      "39500 [0. 1. 1. 1. 0. 1. 2. 1. 1. 0. 0. 0. 2. 1. 1. 0. 1. 2. 0. 1.]\n",
      "39500 [17.  8. 13.  6. 16. 12. 12. 14.  7. 13. 11. 16. 13. 11. 19.  9. 12. 18.\n",
      " 12. 15.]\n",
      "[12  7  6 19  2 17  1  3 17  5 16 12 13 14  8  6]\n",
      "[ 7 11  6  9  9 10 16 16 12  3 13 15 14  1  9  2]\n"
     ]
    },
    {
     "data": {
      "image/png": "[encoded data removed]",
      "text/plain": [
       "<Figure size 576x144 with 2 Axes>"
      ]
     },
     "metadata": {},
     "output_type": "display_data"
    },
    {
     "name": "stdout",
     "output_type": "stream",
     "text": [
      "40000 1.0056157 1.2725475 [8.348278] 14.958013 1.196548 5.2847\n",
      "40000 1.0034816 1.2679398 [7.163272] 1.1720165 2.1409125\n",
      "40000 [0. 0. 2. 1. 0. 2. 1. 1. 1. 0. 0. 2. 2. 1. 1. 0. 1. 0. 0. 1.]\n",
      "40000 [13. 13.  8. 15. 12. 13. 13. 12. 18. 12. 10. 10. 23.  9. 12.  9. 18. 11.\n",
      "  7. 17.]\n",
      "[12  7  6 19  2 11  2  3 11  5 16 12 13 14  8  5]\n",
      "[ 7 11  6  9  1 10 16 16 12  3 13 15  4  1  9  2]\n"
     ]
    },
    {
     "data": {
      "image/png": "[encoded data removed]",
      "text/plain": [
       "<Figure size 576x144 with 2 Axes>"
      ]
     },
     "metadata": {},
     "output_type": "display_data"
    },
    {
     "name": "stdout",
     "output_type": "stream",
     "text": [
      "40500 1.0008192 1.330255 [6.366194] 14.497347 1.2610614 3.6987014\n",
      "40500 1.0008215 1.3306932 [6.354729] 1.3239069 2.7430522\n",
      "40500 [0. 2. 1. 0. 0. 1. 2. 2. 0. 0. 0. 2. 2. 1. 1. 0. 1. 0. 0. 1.]\n",
      "40500 [12.  9. 16.  8. 12. 12. 12. 10. 15.  9. 12. 13. 21. 13. 18. 17. 16.  9.\n",
      "  9. 12.]\n",
      "[12  7  6 19  2 11  1 11  7  5 16 12 13 14  1  6]\n",
      "[ 7 11  6  9  1 10 16  3 12  3 13 15  4  1  9  2]\n"
     ]
    },
    {
     "data": {
      "image/png": "[encoded data removed]",
      "text/plain": [
       "<Figure size 576x144 with 2 Axes>"
      ]
     },
     "metadata": {},
     "output_type": "display_data"
    },
    {
     "name": "stdout",
     "output_type": "stream",
     "text": [
      "41000 1.0008159 1.3289806 [6.3144627] 16.104397 1.2167783 3.516545\n",
      "41000 1.0008147 1.328417 [6.3596706] 1.1964905 4.1333594\n",
      "41000 [0. 2. 1. 0. 0. 2. 1. 2. 1. 1. 0. 0. 2. 1. 1. 0. 1. 1. 0. 1.]\n",
      "41000 [10. 23.  9. 18. 10. 13. 14. 14. 11.  8. 16.  8. 18. 14. 14.  4. 15. 13.\n",
      "  9. 15.]\n",
      "[12  7  6 19  2  1  1  9  7  5 16 12 13 14  8  5]\n",
      "[ 7 11  6  9 13 10 16 16 12  3 13 15  8  1  9  2]\n"
     ]
    },
    {
     "data": {
      "image/png": "[encoded data removed]",
      "text/plain": [
       "<Figure size 576x144 with 2 Axes>"
      ]
     },
     "metadata": {},
     "output_type": "display_data"
    },
    {
     "name": "stdout",
     "output_type": "stream",
     "text": [
      "41500 1.0008926 1.3340126 [6.4475527] 21.045921 1.2488122 4.496935\n",
      "41500 1.0008929 1.3340799 [6.465603] 1.1921542 2.532672\n",
      "41500 [0. 1. 1. 0. 0. 2. 1. 1. 1. 1. 0. 1. 2. 1. 1. 0. 1. 1. 0. 1.]\n",
      "41500 [14.  4.  7. 22. 16. 11. 16. 12. 19. 15.  7. 12. 11. 12. 19.  8. 15. 10.\n",
      " 13. 11.]\n",
      "[12  7  6 19  2 17  1  9 11  5 16 12 13 14  8  5]\n",
      "[ 0 11  6  9 13 10 16 16 12  3 13 15  4  1  9  2]\n"
     ]
    },
    {
     "data": {
      "image/png": "[encoded data removed]",
      "text/plain": [
       "<Figure size 576x144 with 2 Axes>"
      ]
     },
     "metadata": {},
     "output_type": "display_data"
    },
    {
     "name": "stdout",
     "output_type": "stream",
     "text": [
      "42000 1.0012407 1.3310951 [6.593628] 16.02658 1.2159231 5.4290066\n",
      "42000 1.0012181 1.3332095 [6.791177] 1.2095551 1.8315439\n",
      "42000 [0. 2. 1. 0. 0. 2. 1. 1. 1. 0. 0. 1. 2. 1. 1. 0. 1. 0. 0. 1.]\n",
      "42000 [17. 12. 12. 14.  8. 10. 10.  5. 21. 12. 10. 13. 17. 11. 19. 13. 18. 10.\n",
      "  9. 13.]\n",
      "[12  7  6 19  2  1  1 11 11  5 16 12 13 14  8  5]\n",
      "[ 7 11  6  9  9 10 16 16 12  3 13 15  4  1  9  2]\n"
     ]
    },
    {
     "data": {
      "image/png": "[encoded data removed]",
      "text/plain": [
       "<Figure size 576x144 with 2 Axes>"
      ]
     },
     "metadata": {},
     "output_type": "display_data"
    },
    {
     "name": "stdout",
     "output_type": "stream",
     "text": [
      "42500 1.0010228 1.348767 [7.067909] 19.631948 1.255795 3.2707105\n",
      "42500 1.0010381 1.3516729 [7.067566] 1.2593613 2.440892\n",
      "42500 [0. 1. 2. 0. 0. 2. 1. 2. 0. 1. 0. 0. 2. 1. 1. 0. 1. 1. 0. 1.]\n",
      "42500 [ 7. 18. 17. 12. 12. 12. 23.  8. 19.  8. 13. 11. 16.  8.  5. 10. 20. 12.\n",
      " 12. 12.]\n",
      "[12  7  6 19  2 17  2  9  7  5 16 12 13 14  1  5]\n",
      "[ 1 13  6  9 13 10 16 16 12  3 13  4  4  1  9  2]\n"
     ]
    },
    {
     "data": {
      "image/png": "[encoded data removed]",
      "text/plain": [
       "<Figure size 576x144 with 2 Axes>"
      ]
     },
     "metadata": {},
     "output_type": "display_data"
    },
    {
     "name": "stdout",
     "output_type": "stream",
     "text": [
      "43000 1.0008342 1.3295248 [6.6239805] 13.542633 1.2563295 3.474361\n",
      "43000 1.0008337 1.3299224 [6.54362] 1.2147665 6.7235928\n",
      "43000 [0. 1. 1. 1. 0. 1. 2. 1. 1. 0. 0. 2. 2. 1. 1. 0. 1. 0. 0. 1.]\n",
      "43000 [16. 15. 13. 12. 19. 15. 12. 15. 13. 10. 11. 12. 10.  7.  7. 10. 18. 14.\n",
      " 16. 11.]\n",
      "[12  7  6 19  2 11  1  3 11  5 16 12 13 14  8  6]\n",
      "[ 1 11  6  9  9 10 16 16 12  3 13 11  4  1  9  0]\n"
     ]
    },
    {
     "data": {
      "image/png": "[encoded data removed]",
      "text/plain": [
       "<Figure size 576x144 with 2 Axes>"
      ]
     },
     "metadata": {},
     "output_type": "display_data"
    },
    {
     "name": "stdout",
     "output_type": "stream",
     "text": [
      "43500 1.0008273 1.3370874 [6.122814] 19.958477 1.2372651 3.5805027\n",
      "43500 1.0008229 1.3356376 [6.3085775] 1.1253963 0.6080487\n",
      "43500 [0. 1. 1. 1. 0. 2. 1. 1. 1. 0. 0. 0. 2. 2. 1. 1. 1. 0. 0. 1.]\n",
      "43500 [11. 11.  9. 27. 11. 12. 17. 11.  6. 14. 11. 10. 14. 19. 14. 13. 20.  8.\n",
      "  9.  9.]\n",
      "[12  7  6 19  2 13  1  3 15  5 16 12 13 14  8  5]\n",
      "[ 7 11  6  9  9 10 16 16 12  3 13  4  4  1  9  2]\n"
     ]
    },
    {
     "data": {
      "image/png": "[encoded data removed]",
      "text/plain": [
       "<Figure size 576x144 with 2 Axes>"
      ]
     },
     "metadata": {},
     "output_type": "display_data"
    },
    {
     "name": "stdout",
     "output_type": "stream",
     "text": [
      "44000 1.0008098 1.3315845 [6.4611464] 11.706542 1.2230358 3.349566\n",
      "44000 1.00081 1.3319114 [6.5245547] 1.2422829 8.258745\n",
      "44000 [0. 1. 1. 0. 0. 1. 2. 1. 1. 1. 0. 2. 2. 1. 1. 0. 1. 0. 0. 1.]\n",
      "44000 [15. 18.  9. 14. 14. 17. 12.  6. 18. 14.  7. 18. 18. 11.  8. 12. 11.  9.\n",
      " 12. 13.]\n",
      "[12  7  6 19  2 11  1  9 11  5 16 12 13 14  8  6]\n",
      "[ 7 11  6  9 11 10 16 16 12  3 13  4  4  1  9  2]\n"
     ]
    },
    {
     "data": {
      "image/png": "[encoded data removed]",
      "text/plain": [
       "<Figure size 576x144 with 2 Axes>"
      ]
     },
     "metadata": {},
     "output_type": "display_data"
    },
    {
     "name": "stdout",
     "output_type": "stream",
     "text": [
      "44500 1.0008147 1.3329725 [6.559285] 15.968245 1.2063439 3.7799065\n",
      "44500 1.0008149 1.3330741 [6.2765827] 1.283767 3.4801698\n",
      "44500 [0. 1. 1. 1. 0. 2. 1. 1. 1. 0. 0. 1. 2. 2. 1. 0. 1. 0. 0. 1.]\n",
      "44500 [16. 18. 13. 16. 11. 11. 12.  9. 17. 14.  7. 15. 14. 18. 10.  7. 13. 10.\n",
      " 16. 11.]\n",
      "[12  7  6 19  2 13  1  3 11  5 16 12 13 14  8  5]\n",
      "[ 0 11  6  9 11 10 16 16 12  3 13  4  4  1  9  2]\n"
     ]
    },
    {
     "data": {
      "image/png": "[encoded data removed]",
      "text/plain": [
       "<Figure size 576x144 with 2 Axes>"
      ]
     },
     "metadata": {},
     "output_type": "display_data"
    },
    {
     "name": "stdout",
     "output_type": "stream",
     "text": [
      "45000 1.0008343 1.3267593 [6.0568805] 11.799659 1.2263577 3.7695842\n",
      "45000 1.0008311 1.3254583 [6.4537163] 1.304454 4.719884\n",
      "45000 [0. 0. 2. 1. 0. 1. 2. 1. 1. 0. 0. 0. 2. 1. 1. 0. 1. 2. 0. 1.]\n",
      "45000 [16. 13. 13. 12. 17. 15. 14. 12. 12.  8. 15. 15. 16. 10.  9. 14. 14. 14.\n",
      "  8.  8.]\n",
      "[12  7  6 19  2 17  2  3 17  5 16 12 13 14  8  6]\n",
      "[ 1 11  6  9  9 10  1  3 12  3 13 11  4  1  9  2]\n"
     ]
    },
    {
     "data": {
      "image/png": "[encoded data removed]",
      "text/plain": [
       "<Figure size 576x144 with 2 Axes>"
      ]
     },
     "metadata": {},
     "output_type": "display_data"
    },
    {
     "name": "stdout",
     "output_type": "stream",
     "text": [
      "45500 1.0011472 1.3550985 [6.6107306] 16.651386 1.1484712 5.2216043\n",
      "45500 1.0011985 1.3565089 [6.2924576] 1.1519383 6.331593\n",
      "45500 [0. 1. 1. 0. 0. 1. 2. 1. 1. 1. 0. 0. 2. 1. 1. 0. 1. 1. 0. 1.]\n",
      "45500 [11. 10. 10. 13. 18.  8.  8. 11. 14. 14. 11. 15. 10. 11. 15. 20. 11. 17.\n",
      " 11. 19.]\n",
      "[12  7  6 19  2  1  1  9 17  5 16 12 13 14  8  6]\n",
      "[ 0 11  6  9  9 10 16 16 12  3 13 11  4  1  9  2]\n"
     ]
    },
    {
     "data": {
      "image/png": "[encoded data removed]",
      "text/plain": [
       "<Figure size 576x144 with 2 Axes>"
      ]
     },
     "metadata": {},
     "output_type": "display_data"
    },
    {
     "name": "stdout",
     "output_type": "stream",
     "text": [
      "46000 1.0008531 1.3279192 [6.4002357] 12.654555 1.1879644 5.4332504\n",
      "46000 1.0008482 1.3284456 [6.3237042] 1.2292774 4.525289\n",
      "46000 [0. 1. 1. 0. 0. 2. 1. 1. 1. 0. 0. 1. 2. 2. 1. 0. 1. 0. 0. 1.]\n",
      "46000 [14. 16. 13.  7. 10. 13. 14. 14. 17.  9.  8. 17. 13. 11. 14.  6. 19. 12.\n",
      " 14. 15.]\n",
      "[12  7  6 19  2 13  1 11 11  5 16 12 13 14  8  5]\n",
      "[ 7 11  6  3 11 10 16  3 12  3 13 15  4  7  9  2]\n"
     ]
    },
    {
     "data": {
      "image/png": "[encoded data removed]",
      "text/plain": [
       "<Figure size 576x144 with 2 Axes>"
      ]
     },
     "metadata": {},
     "output_type": "display_data"
    },
    {
     "name": "stdout",
     "output_type": "stream",
     "text": [
      "46500 1.0008938 1.33989 [6.1786685] 11.791145 1.202059 5.822488\n",
      "46500 1.0008881 1.3400356 [5.973467] 1.1174691 9.500744\n",
      "46500 [0. 1. 1. 1. 0. 2. 1. 1. 1. 0. 0. 1. 2. 2. 1. 0. 1. 0. 0. 1.]\n",
      "46500 [13. 13. 11. 11. 10. 15. 18. 12. 15. 15. 11. 12. 17. 11. 14. 13.  9. 15.\n",
      "  7. 15.]\n",
      "[12  7  6 19  2 13  1  3 11  5 16 12 13 14  8  5]\n",
      "[ 7 11  6  9  9 10  1 16 12  3 13 11  4  7  9  2]\n"
     ]
    },
    {
     "data": {
      "image/png": "[encoded data removed]",
      "text/plain": [
       "<Figure size 576x144 with 2 Axes>"
      ]
     },
     "metadata": {},
     "output_type": "display_data"
    },
    {
     "name": "stdout",
     "output_type": "stream",
     "text": [
      "47000 1.000829 1.3348908 [6.577505] 13.093956 1.2070383 5.271134\n",
      "47000 1.0008397 1.3317037 [6.218284] 1.1932511 4.7699203\n",
      "47000 [1. 1. 1. 0. 0. 1. 2. 1. 1. 1. 0. 0. 2. 1. 1. 0. 1. 0. 0. 1.]\n",
      "47000 [ 9. 13. 12.  8. 18.  7. 20. 14. 15. 16. 17. 12. 12. 12. 14.  8. 16. 16.\n",
      "  4. 11.]\n",
      "[12  7  6 19  2 13  1  9  0  5 16 12 13 14  8  6]\n",
      "[ 7 11  6  9  9 10 16 16 12  3 13 15  4  1  9  2]\n"
     ]
    },
    {
     "data": {
      "image/png": "[encoded data removed]",
      "text/plain": [
       "<Figure size 576x144 with 2 Axes>"
      ]
     },
     "metadata": {},
     "output_type": "display_data"
    },
    {
     "name": "stdout",
     "output_type": "stream",
     "text": [
      "47500 1.0016612 1.3235118 [6.705587] 12.66397 1.2343953 5.1486387\n",
      "47500 1.0009696 1.3309422 [6.8668313] 1.2747533 4.590955\n",
      "47500 [0. 1. 1. 0. 0. 1. 2. 1. 1. 1. 0. 1. 2. 2. 1. 0. 1. 0. 0. 1.]\n",
      "47500 [12.  7. 16. 10. 13. 12. 17. 14.  9. 16. 20.  8. 14. 14.  7. 16. 13. 10.\n",
      "  8. 20.]\n",
      "[12  7  6 19  2 13  1  9 11  5 16 12 13 14  8  6]\n",
      "[ 0 11  6  9  1 10 16  9 12  3 13 15  4  1  9  0]\n"
     ]
    },
    {
     "data": {
      "image/png": "[encoded data removed]",
      "text/plain": [
       "<Figure size 576x144 with 2 Axes>"
      ]
     },
     "metadata": {},
     "output_type": "display_data"
    },
    {
     "name": "stdout",
     "output_type": "stream",
     "text": [
      "48000 1.0008337 1.3308245 [6.267168] 13.387641 1.2560444 4.7904167\n",
      "48000 1.0008279 1.3330669 [7.1006174] 1.3172069 7.214221\n",
      "48000 [0. 0. 2. 1. 1. 2. 1. 0. 1. 0. 0. 1. 2. 2. 1. 0. 1. 0. 0. 1.]\n",
      "48000 [19. 12. 11. 15. 10. 17. 18.  9.  8. 13. 11. 15. 20.  9. 11. 10. 12. 11.\n",
      " 11. 13.]\n",
      "[12  4  6 19  2 13  2  3 11  5 16 12 13 14  8  5]\n",
      "[ 7 11  6  9  9 10 16 16 12  3 13 15  4  1  9  2]\n"
     ]
    },
    {
     "data": {
      "image/png": "[encoded data removed]",
      "text/plain": [
       "<Figure size 576x144 with 2 Axes>"
      ]
     },
     "metadata": {},
     "output_type": "display_data"
    },
    {
     "name": "stdout",
     "output_type": "stream",
     "text": [
      "48500 1.0008123 1.3335948 [6.8004093] 13.975449 1.2463961 3.9216695\n",
      "48500 1.0008149 1.3351879 [6.34952] 1.2811879 3.9276395\n",
      "48500 [0. 1. 1. 1. 0. 2. 1. 1. 1. 1. 0. 1. 2. 1. 1. 0. 1. 1. 0. 0.]\n",
      "48500 [14. 13. 10. 18. 18. 13. 17.  9. 14. 17. 21. 10. 12. 14. 10.  6.  7.  5.\n",
      " 16. 11.]\n",
      "[12  7  6  3  2 17  1  9 11  5 16 12 13 14  8  5]\n",
      "[ 7 11  6  9  9 10 16 16 12  3 13 15  4  7  9  2]\n"
     ]
    },
    {
     "data": {
      "image/png": "[encoded data removed]",
      "text/plain": [
       "<Figure size 576x144 with 2 Axes>"
      ]
     },
     "metadata": {},
     "output_type": "display_data"
    },
    {
     "name": "stdout",
     "output_type": "stream",
     "text": [
      "49000 1.0008105 1.3314718 [6.2576017] 16.118332 1.2301491 4.8299093\n",
      "49000 1.0008097 1.3333462 [6.285878] 1.2983274 3.5743136\n",
      "49000 [0. 1. 1. 0. 0. 1. 2. 1. 1. 1. 0. 1. 2. 2. 1. 0. 1. 0. 0. 1.]\n",
      "49000 [ 9. 15. 16. 18. 20. 14. 15. 10.  9. 14. 13. 11. 16.  9. 11.  6. 18.  9.\n",
      " 12. 12.]\n",
      "[12  7  6 19  2 13  1  9 11  5 16 12 13 14  8  6]\n",
      "[ 7 11  6  9  9 10 16 16 12  3 13 15  4  7  9  2]\n"
     ]
    },
    {
     "data": {
      "image/png": "[encoded data removed]",
      "text/plain": [
       "<Figure size 576x144 with 2 Axes>"
      ]
     },
     "metadata": {},
     "output_type": "display_data"
    },
    {
     "name": "stdout",
     "output_type": "stream",
     "text": [
      "49500 1.0008652 1.3373852 [6.5017953] 14.911758 1.209075 4.1418266\n",
      "49500 1.0008646 1.3384016 [6.255023] 1.3658872 3.2711396\n",
      "49500 [0. 2. 0. 0. 0. 2. 1. 1. 1. 0. 0. 2. 2. 1. 1. 0. 1. 1. 0. 1.]\n",
      "49500 [12. 10.  7. 13. 13. 13. 16. 11. 10. 16. 16. 16. 18. 10. 18. 12. 14. 10.\n",
      " 13. 10.]\n",
      "[12  7  6 19  1 17  1 11 11  5 16 12 13 14  8  5]\n",
      "[ 1 11  6  9  9 10 16 16 12  3 18 15  4  1  9  2]\n"
     ]
    },
    {
     "data": {
      "image/png": "[encoded data removed]",
      "text/plain": [
       "<Figure size 576x144 with 2 Axes>"
      ]
     },
     "metadata": {},
     "output_type": "display_data"
    },
    {
     "name": "stdout",
     "output_type": "stream",
     "text": [
      "50000 1.000833 1.3252525 [6.2044864] 11.338143 1.2008269 4.8645597\n",
      "50000 1.000827 1.3273642 [6.1786766] 1.1958917 12.409032\n",
      "50000 [0. 2. 1. 0. 1. 1. 2. 0. 0. 1. 0. 1. 2. 1. 1. 0. 2. 0. 0. 1.]\n",
      "50000 [10. 11.  7. 11. 17. 14. 20. 18. 18. 12.  8. 11. 16. 19.  6. 10. 15.  9.\n",
      " 11. 13.]\n",
      "[12  4  6 19  2  1  1  9 11  5 16 12 13 14 16  6]\n",
      "[ 7 11  6  9  9 10 16 16 12  3 13 15  4  1  9  2]\n"
     ]
    },
    {
     "data": {
      "image/png": "[encoded data removed]",
      "text/plain": [
       "<Figure size 576x144 with 2 Axes>"
      ]
     },
     "metadata": {},
     "output_type": "display_data"
    },
    {
     "name": "stdout",
     "output_type": "stream",
     "text": [
      "Done\n"
     ]
    }
   ],
   "source": [
    "aaec.cluster(50001, datadir=datadir, params=setup(),\n",
    "             display=True, display_int=500, report_int=500,title=\"Adver_cluser-MNIST\")"
   ]
  },
  {
   "cell_type": "raw",
   "metadata": {},
   "source": []
  },
  {
   "cell_type": "code",
   "execution_count": null,
   "metadata": {
    "collapsed": true
   },
   "outputs": [],
   "source": []
  },
  {
   "cell_type": "code",
   "execution_count": null,
   "metadata": {
    "collapsed": true
   },
   "outputs": [],
   "source": []
  }
 ],
 "metadata": {
  "kernelspec": {
   "display_name": "Python 3",
   "language": "python",
   "name": "python3"
  },
  "language_info": {
   "codemirror_mode": {
    "name": "ipython",
    "version": 3
   },
   "file_extension": ".py",
   "mimetype": "text/x-python",
   "name": "python",
   "nbconvert_exporter": "python",
   "pygments_lexer": "ipython3",
   "version": "3.6.5"
  }
 },
 "nbformat": 4,
 "nbformat_minor": 2
}
