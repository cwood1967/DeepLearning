{
 "cells": [
  {
   "cell_type": "code",
   "execution_count": 1,
   "metadata": {},
   "outputs": [
    {
     "name": "stderr",
     "output_type": "stream",
     "text": [
      "/home/cjw/anaconda3/envs/deep/lib/python3.6/site-packages/h5py/__init__.py:36: FutureWarning: Conversion of the second argument of issubdtype from `float` to `np.floating` is deprecated. In future, it will be treated as `np.float64 == np.dtype(float).type`.\n",
      "  from ._conv import register_converters as _register_converters\n"
     ]
    }
   ],
   "source": [
    "import autoencoder.adversarial as aae\n",
    "import autoencoder.utils as utils \n",
    "import autoencoder.cluster_layer as clay\n",
    "\n",
    "import tensorflow as tf\n",
    "import numpy as np\n",
    "from matplotlib import pyplot as plt\n",
    "\n",
    "%matplotlib inline\n"
   ]
  },
  {
   "cell_type": "code",
   "execution_count": 2,
   "metadata": {
    "collapsed": true
   },
   "outputs": [],
   "source": [
    "esize = [(64,3), (128, 3), (256,3)]\n",
    "dsize = list(reversed(esize))\n",
    "\n",
    "params =dict()\n",
    "\n",
    "params['nclusters'] = 20\n",
    "params['width'] = 32\n",
    "params['height'] = 32\n",
    "params['nchannels'] = 4\n",
    "params['channels'] = [0,1,3,4]\n",
    "params['nepochs'] = 20\n",
    "params['batchsize'] = 256\n",
    "params['learning_rate'] = 0.0005\n",
    "params['restore'] = False\n",
    "params['latent_size'] = 256\n",
    "params['enc_sizes'] = esize \n",
    "params['dec_sizes'] = dsize\n",
    "params['droprate'] = 0.85\n",
    "params['stdev'] = 0.04\n",
    "params['denoise'] = False\n",
    "params['slam'] = 0\n",
    "\n",
    "datadir = \"/media/cjw/Data/cyto/mmCompensatedTifs/\"\n",
    "cpf = \"/media/cjw/Data/cyto/Checkpoints/2018-09-05-10-58-21_idec_try_3/\"\n",
    "cpf += \"checkpoint-2018-09-05-10-58-21/autoencoder-256x-20000\"\n",
    "cpd = \"\""
   ]
  },
  {
   "cell_type": "code",
   "execution_count": 3,
   "metadata": {},
   "outputs": [],
   "source": [
    "rl = aae.aae_loader(params, datadir, cpf, cpd)"
   ]
  },
  {
   "cell_type": "code",
   "execution_count": 4,
   "metadata": {},
   "outputs": [
    {
     "name": "stdout",
     "output_type": "stream",
     "text": [
      "Encoder True\n",
      "Tensor(\"Placeholder:0\", shape=(?, 32, 32, 4), dtype=float32) (?, 32, 32, 4)\n",
      "isize:  4 32\n",
      "dh0 (?, 32, 32, 4)\n",
      "[<tf.Variable 'encoder/filter_00/kernel:0' shape=(3, 3, 4, 64) dtype=float32_ref>, <tf.Variable 'encoder/filter_00/bias:0' shape=(64,) dtype=float32_ref>, <tf.Variable 'encoder/filter_01/kernel:0' shape=(3, 3, 64, 128) dtype=float32_ref>, <tf.Variable 'encoder/filter_01/bias:0' shape=(128,) dtype=float32_ref>, <tf.Variable 'encoder/filter_02/kernel:0' shape=(3, 3, 128, 256) dtype=float32_ref>, <tf.Variable 'encoder/filter_02/bias:0' shape=(256,) dtype=float32_ref>, <tf.Variable 'encoder/latent_space/kernel:0' shape=(4096, 256) dtype=float32_ref>, <tf.Variable 'encoder/latent_space/bias:0' shape=(256,) dtype=float32_ref>, <tf.Variable 'decoder/dense/kernel:0' shape=(256, 4096) dtype=float32_ref>, <tf.Variable 'decoder/dense/bias:0' shape=(4096,) dtype=float32_ref>, <tf.Variable 'decoder/conv2d_transpose/kernel:0' shape=(3, 3, 128, 256) dtype=float32_ref>, <tf.Variable 'decoder/conv2d_transpose/bias:0' shape=(128,) dtype=float32_ref>, <tf.Variable 'decoder/conv2d_transpose_1/kernel:0' shape=(3, 3, 64, 128) dtype=float32_ref>, <tf.Variable 'decoder/conv2d_transpose_1/bias:0' shape=(64,) dtype=float32_ref>, <tf.Variable 'decoder/decoder_out/kernel:0' shape=(5, 5, 4, 64) dtype=float32_ref>, <tf.Variable 'decoder/decoder_out/bias:0' shape=(4,) dtype=float32_ref>]\n",
      "INFO:tensorflow:Restoring parameters from /media/cjw/Data/cyto/Checkpoints/2018-09-05-10-58-21_idec_try_3/checkpoint-2018-09-05-10-58-21/autoencoder-256x-20000\n"
     ]
    }
   ],
   "source": [
    "rl.load()\n"
   ]
  },
  {
   "cell_type": "code",
   "execution_count": 5,
   "metadata": {
    "scrolled": false
   },
   "outputs": [
    {
     "name": "stdout",
     "output_type": "stream",
     "text": [
      "(4000, 32, 32, 4)\n",
      "building cluster layer (?, 256)\n",
      "after input_spec\n",
      "20 256 <class 'int'> float32\n",
      "(20, 256)\n",
      "(20, 256)\n",
      "done building\n",
      "0 1415.7946 1.3768127\n",
      "100 1412.8295 1.7052356\n",
      "200 1412.1886 2.3258111\n",
      "300 1411.2231 2.0541077\n",
      "400 1410.9896 2.263179\n",
      "500 1410.5039 2.2168188\n",
      "600 1410.2458 2.217803\n",
      "700 1410.0549 2.140171\n",
      "800 1410.0614 2.1662374\n",
      "900 1409.8353 2.226112\n",
      "1000 1409.786 2.198842\n",
      "1100 1409.6594 2.1104105\n",
      "1200 1409.6052 2.1038177\n",
      "1300 1409.4843 1.9840837\n",
      "1400 1409.526 2.0398664\n",
      "1500 1409.5529 2.046447\n",
      "1600 1409.388 1.9915384\n",
      "1700 1409.3176 1.9665546\n",
      "1800 1409.3898 2.0278938\n",
      "1900 1409.2821 1.898514\n",
      "2000 1409.2397 1.8769851\n",
      "2100 1409.2825 1.9457538\n",
      "2200 1409.0968 1.8802918\n",
      "2300 1409.1553 1.8733156\n",
      "2400 1409.1836 1.8743949\n",
      "2500 1409.0728 1.7996422\n",
      "2600 1409.1361 1.8135763\n",
      "2700 1408.9608 1.7531171\n",
      "2800 1408.9818 1.6921957\n",
      "2900 1408.9326 1.7310069\n",
      "3000 1408.887 1.6895746\n",
      "3100 1408.928 1.6991307\n",
      "3200 1408.9019 1.6659092\n",
      "3300 1408.8901 1.6691699\n",
      "3400 1408.8489 1.668073\n",
      "3500 1408.8298 1.6601349\n",
      "3600 1408.8541 1.6061894\n",
      "3700 1408.8821 1.6554997\n",
      "3800 1408.8092 1.5709705\n",
      "3900 1408.9022 1.7089081\n",
      "4000 1408.8744 1.6554627\n",
      "4100 1408.8807 1.6691715\n",
      "4200 1408.8414 1.6427444\n",
      "4300 1408.8271 1.6584982\n",
      "4400 1408.821 1.6103892\n",
      "4500 1408.7133 1.5813237\n",
      "4600 1408.8611 1.7271675\n",
      "4700 1408.7817 1.6083999\n",
      "4800 1408.6964 1.5663342\n",
      "4900 1408.7391 1.6126504\n",
      "5000 1408.8557 1.6562301\n",
      "5100 1408.746 1.5931702\n",
      "5200 1408.7253 1.5610832\n",
      "5300 1408.7908 1.6145644\n",
      "5400 1408.6481 1.5066706\n",
      "5500 1408.7456 1.5625505\n",
      "5600 1408.7332 1.5098172\n",
      "5700 1408.7924 1.6196463\n",
      "5800 1408.7231 1.5534157\n",
      "5900 1408.6654 1.5183995\n",
      "6000 1408.7037 1.57567\n",
      "6100 1408.7311 1.543354\n",
      "6200 1408.7223 1.5643101\n",
      "6300 1408.693 1.5609486\n",
      "6400 1408.634 1.5426623\n",
      "6500 1408.7383 1.6285251\n",
      "6600 1408.692 1.5826292\n",
      "6700 1408.7559 1.6260793\n",
      "6800 1408.7151 1.5786296\n",
      "6900 1408.5708 1.4618915\n",
      "7000 1408.6357 1.4914559\n",
      "7100 1408.6876 1.5745281\n",
      "7200 1408.7235 1.5734155\n",
      "7300 1408.6711 1.5416179\n",
      "7400 1408.6792 1.5146077\n",
      "7500 1408.6802 1.5834934\n",
      "7600 1408.7728 1.6454881\n",
      "7700 1408.7075 1.5566813\n",
      "7800 1408.6079 1.499633\n",
      "7900 1408.6168 1.4735701\n",
      "8000 1408.5858 1.4728274\n",
      "8100 1408.624 1.53303\n",
      "8200 1408.5863 1.4722399\n",
      "8300 1408.6367 1.5224705\n",
      "8400 1408.644 1.547857\n",
      "8500 1408.7065 1.5483055\n",
      "8600 1408.6388 1.5369468\n",
      "8700 1408.6853 1.5854363\n",
      "8800 1408.729 1.6024668\n",
      "8900 1408.732 1.6125315\n",
      "9000 1408.7139 1.6085272\n",
      "9100 1408.5507 1.4584233\n",
      "9200 1408.6206 1.5242068\n",
      "9300 1408.621 1.5177683\n",
      "9400 1408.5853 1.4906255\n",
      "9500 1408.6117 1.5140712\n",
      "9600 1408.6477 1.5369242\n",
      "9700 1408.6318 1.5270959\n",
      "9800 1408.6292 1.5362984\n",
      "9900 1408.5771 1.4629217\n",
      "[[0.00017329 0.0001752  0.00017784 ... 0.0001735  0.00017438 0.00017245]\n",
      " [0.00018266 0.00019025 0.00018831 ... 0.00018509 0.00018437 0.00018834]\n",
      " [0.00019789 0.00019701 0.0002012  ... 0.00019751 0.00019754 0.00019729]\n",
      " ...\n",
      " [0.00019634 0.00019711 0.00020245 ... 0.00019401 0.00019929 0.00019872]\n",
      " [0.00019555 0.00019489 0.00019679 ... 0.00019649 0.00019452 0.00019466]\n",
      " [0.00019599 0.00019945 0.00020219 ... 0.00019807 0.00019828 0.00019446]] (256, 20)\n"
     ]
    }
   ],
   "source": [
    "cluster = clay.cluster_train(rl)"
   ]
  },
  {
   "cell_type": "code",
   "execution_count": null,
   "metadata": {
    "collapsed": true
   },
   "outputs": [],
   "source": []
  },
  {
   "cell_type": "code",
   "execution_count": 6,
   "metadata": {},
   "outputs": [],
   "source": [
    "b = utils.get_sample(rl.mmdict, rl.df, 64, 32, 4, [0,1,3,4])"
   ]
  },
  {
   "cell_type": "code",
   "execution_count": 7,
   "metadata": {},
   "outputs": [
    {
     "data": {
      "text/plain": [
       "<matplotlib.image.AxesImage at 0x7f1939cf0c18>"
      ]
     },
     "execution_count": 7,
     "metadata": {},
     "output_type": "execute_result"
    },
    {
     "data": {
      "image/png": "[encoded data removed]",
      "text/plain": [
       "<Figure size 432x288 with 4 Axes>"
      ]
     },
     "metadata": {},
     "output_type": "display_data"
    }
   ],
   "source": [
    "z = rl.encoder.eval({rl.images:b}, session=rl.sess)\n",
    "dc = rl.decoder.eval({rl.encoder:z}, session=rl.sess)\n",
    "\n",
    "index = 16\n",
    "c = 0\n",
    "dr = np.squeeze(dc[index,:,:,c])\n",
    "plt.subplot(2,2,1)\n",
    "plt.imshow(b[index,:,:,c])\n",
    "plt.subplot(2,2,2)\n",
    "plt.imshow(dr)\n",
    "\n",
    "dr = np.squeeze(dc[index + 1,:,:,c])\n",
    "plt.subplot(2,2,3)\n",
    "plt.imshow(b[index + 1,:,:,c])\n",
    "plt.subplot(2,2,4)\n",
    "plt.imshow(dr)"
   ]
  },
  {
   "cell_type": "code",
   "execution_count": 8,
   "metadata": {},
   "outputs": [
    {
     "data": {
      "text/plain": [
       "array([2.967824 , 3.2823722, 2.8142111, 3.2619913, 3.0659008, 3.3312962,\n",
       "       3.3513598, 3.042171 , 3.268912 , 3.2614596, 3.2625282, 2.9046826,\n",
       "       3.292423 , 3.3397822, 3.270161 , 3.4035847, 3.2622504, 3.359957 ,\n",
       "       3.3703692, 2.8867612], dtype=float32)"
      ]
     },
     "execution_count": 8,
     "metadata": {},
     "output_type": "execute_result"
    }
   ],
   "source": [
    "q = cluster.call(rl.encoder)\n",
    "qv = q.eval({rl.encoder:z}, session=rl.sess)\n",
    "p = clay.cluster_target(qv)\n",
    "np.sum(p, axis=0)"
   ]
  },
  {
   "cell_type": "code",
   "execution_count": 11,
   "metadata": {},
   "outputs": [
    {
     "data": {
      "text/plain": [
       "(array([0.0316568 , 0.02044343, 0.02339109, 0.02514954, 0.02638595,\n",
       "        0.01727927, 0.03709933, 0.02605809, 0.01771378], dtype=float32),\n",
       " <tf.Tensor 'truediv_1:0' shape=(?, 20) dtype=float32>)"
      ]
     },
     "execution_count": 11,
     "metadata": {},
     "output_type": "execute_result"
    }
   ],
   "source": [
    "tf.norm(q, axis=1).eval({rl.encoder:z[3:12,:]}, session=rl.sess), q"
   ]
  },
  {
   "cell_type": "code",
   "execution_count": 12,
   "metadata": {},
   "outputs": [
    {
     "data": {
      "text/plain": [
       "3.7416573867739413"
      ]
     },
     "execution_count": 12,
     "metadata": {},
     "output_type": "execute_result"
    }
   ],
   "source": [
    "np.linalg.norm(np.array([1,2,-3]), ord=2, axis=0)\n",
    "#qv"
   ]
  },
  {
   "cell_type": "code",
   "execution_count": 16,
   "metadata": {},
   "outputs": [
    {
     "name": "stdout",
     "output_type": "stream",
     "text": [
      "19.001009\n",
      "11.914553\n",
      "16.337908\n",
      "14.090536\n",
      "16.87099\n",
      "16.261274\n",
      "15.716951\n",
      "15.21926\n",
      "19.328566\n",
      "12.628974\n",
      "15.6603155\n",
      "18.667034\n",
      "16.189457\n",
      "18.20206\n",
      "12.420375\n",
      "15.186619\n",
      "19.009365\n",
      "15.099071\n",
      "16.971\n",
      "16.294735\n",
      "15.866109\n",
      "16.918253\n",
      "16.053848\n",
      "18.387241\n",
      "14.63199\n",
      "15.5549345\n",
      "13.599409\n",
      "18.308218\n",
      "16.581219\n",
      "16.001543\n",
      "15.476675\n",
      "14.521224\n",
      "15.873012\n",
      "19.787348\n",
      "14.028216\n",
      "16.361898\n",
      "17.116663\n",
      "14.079108\n",
      "14.015634\n",
      "14.0414095\n",
      "14.652005\n",
      "15.092773\n",
      "14.25707\n",
      "16.335745\n",
      "17.185486\n",
      "16.724457\n",
      "13.777287\n",
      "14.480114\n",
      "16.445581\n",
      "15.483241\n",
      "14.339938\n",
      "16.076242\n",
      "10.990418\n",
      "16.229929\n",
      "14.79871\n",
      "16.435984\n",
      "16.995317\n",
      "15.013858\n",
      "16.888195\n",
      "16.243765\n",
      "15.186875\n",
      "14.470603\n",
      "15.377631\n",
      "14.630332\n"
     ]
    }
   ],
   "source": [
    "from scipy.spatial.distance import euclidean\n",
    "wgh = rl.sess.run(cluster.weights)\n",
    "wgh = wgh[0]\n",
    "\n",
    "for p in z:\n",
    "    print(np.linalg.norm(wgh[16] - p, ord=2))\n"
   ]
  },
  {
   "cell_type": "code",
   "execution_count": 304,
   "metadata": {},
   "outputs": [
    {
     "data": {
      "text/plain": [
       "(1, 256)"
      ]
     },
     "execution_count": 304,
     "metadata": {},
     "output_type": "execute_result"
    },
    {
     "data": {
      "image/png": "[encoded data removed]",
      "text/plain": [
       "<Figure size 432x288 with 1 Axes>"
      ]
     },
     "metadata": {},
     "output_type": "display_data"
    }
   ],
   "source": [
    "from scipy.signal import convolve\n",
    "\n",
    "zi = np.copy(z[index:index+2])\n",
    "#zi = np.expand_dims(zi, 0)\n",
    "zi = -zi[0]# + zi[1]\n",
    "#zi = convolve(zi, np.array([1])/1, mode='same')\n",
    "#zi[np.abs(zi) < .5] *= 0\n",
    "rx = np.random.randint(0, 256, 10)\n",
    "#zi[rx] = 10\n",
    "#zi = np.sum(zi, axis=0)/2\n",
    "zi = np.expand_dims(zi, 0)\n",
    "plt.plot(zi[0])\n",
    "zi.shape"
   ]
  },
  {
   "cell_type": "code",
   "execution_count": 305,
   "metadata": {},
   "outputs": [
    {
     "data": {
      "text/plain": [
       "<matplotlib.image.AxesImage at 0x7fca9e2ef550>"
      ]
     },
     "execution_count": 305,
     "metadata": {},
     "output_type": "execute_result"
    },
    {
     "data": {
      "image/png": "[encoded data removed]",
      "text/plain": [
       "<Figure size 432x288 with 1 Axes>"
      ]
     },
     "metadata": {},
     "output_type": "display_data"
    }
   ],
   "source": [
    "di = rl.decoder.eval({rl.encoder:zi}, session=rl.sess)\n",
    "plt.imshow(np.squeeze(di[0,:,:,0]))"
   ]
  },
  {
   "cell_type": "code",
   "execution_count": null,
   "metadata": {
    "collapsed": true
   },
   "outputs": [],
   "source": []
  }
 ],
 "metadata": {
  "kernelspec": {
   "display_name": "Environment (conda_deep)",
   "language": "python",
   "name": "conda_deep"
  },
  "language_info": {
   "codemirror_mode": {
    "name": "ipython",
    "version": 3
   },
   "file_extension": ".py",
   "mimetype": "text/x-python",
   "name": "python",
   "nbconvert_exporter": "python",
   "pygments_lexer": "ipython3",
   "version": "3.6.5"
  }
 },
 "nbformat": 4,
 "nbformat_minor": 2
}
