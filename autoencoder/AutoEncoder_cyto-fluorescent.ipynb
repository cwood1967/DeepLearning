{
 "cells": [
  {
   "cell_type": "code",
   "execution_count": 1,
   "metadata": {},
   "outputs": [
    {
     "name": "stderr",
     "output_type": "stream",
     "text": [
      "/home/cjw/anaconda3/lib/python3.6/site-packages/h5py/__init__.py:36: FutureWarning: Conversion of the second argument of issubdtype from `float` to `np.floating` is deprecated. In future, it will be treated as `np.float64 == np.dtype(float).type`.\n",
      "  from ._conv import register_converters as _register_converters\n"
     ]
    }
   ],
   "source": [
    "import os\n",
    "\n",
    "import tensorflow as tf\n",
    "import numpy as np\n",
    "import pandas as pd\n",
    "\n",
    "import autoencoder_train\n",
    "import network\n",
    "import utils"
   ]
  },
  {
   "cell_type": "code",
   "execution_count": null,
   "metadata": {},
   "outputs": [],
   "source": []
  },
  {
   "cell_type": "code",
   "execution_count": 4,
   "metadata": {},
   "outputs": [
    {
     "name": "stdout",
     "output_type": "stream",
     "text": [
      "['/v/Data/cyto/mmFromTifs/Fish6_CCB.mm', '/v/Data/cyto/mmFromTifs/Fish6_ICE.mm', '/v/Data/cyto/mmFromTifs/Fish6_Untreated.mm']\n",
      "(4,) [10000    64    64     5]\n",
      "(4,) [10000    64    64     5]\n",
      "(4,) [10000    64    64     5]\n",
      "30000\n"
     ]
    },
    {
     "data": {
      "text/plain": [
       "dict_keys(['Fish6_CCB.mm', 'Fish6_ICE.mm', 'Fish6_Untreated.mm'])"
      ]
     },
     "execution_count": 4,
     "metadata": {},
     "output_type": "execute_result"
    }
   ],
   "source": [
    "datadir = \"/v/Data/cyto/mmFromTifs/\"\n",
    "# datadir = \"/home/cjw/disk2cjw/Data/cyto/mmFromTifs\"\n",
    "\n",
    "mmfiles = utils.list_mmfiles(datadir)\n",
    "print(mmfiles)\n",
    "\n",
    "mmdict = dict()\n",
    "\n",
    "n_all_images = 0\n",
    "for mmfilename in mmfiles:\n",
    "#mmfilename = datadir + \"Fish6_15_cjw_mean_zero.mm\"\n",
    "#mmfilename = datadir + \"mmplate15-1.mm\"\n",
    "    mmheader = np.memmap(mmfilename, dtype=\"int32\", mode='r',\n",
    "                    shape=(4,))\n",
    "\n",
    "    header_shape = mmheader.shape\n",
    "    print(header_shape, mmheader)\n",
    "    xshape = [mmheader[0], mmheader[1], mmheader[2], mmheader[3]]\n",
    "    xshape = tuple(xshape)\n",
    "    del mmheader\n",
    "    n_all_images += xshape[0]\n",
    "    \n",
    "    m3 = np.memmap(mmfilename, dtype='float32', offset=128,\n",
    "              mode='r', shape=xshape)\n",
    "    key = mmfilename.split(\"/\")[-1]\n",
    "    mmdict[key] = m3\n",
    "\n",
    "print(n_all_images)\n",
    "mmdict.keys()"
   ]
  },
  {
   "cell_type": "code",
   "execution_count": 5,
   "metadata": {},
   "outputs": [
    {
     "name": "stdout",
     "output_type": "stream",
     "text": [
      "10000\n",
      "10000\n",
      "10000\n"
     ]
    }
   ],
   "source": [
    "n = xshape[0]\n",
    "all_ids =  range(n_all_images)\n",
    "idx = 0\n",
    "dataframes = list()\n",
    "for key in mmdict.keys():\n",
    "    mm = mmdict[key]\n",
    "    n = mm.shape[0]\n",
    "    print(n)\n",
    "    file = n*[key[0:-3]]\n",
    "    fid = range(n)\n",
    "    mmfile = n*[key]\n",
    "    plate = n*[0]\n",
    "    row = n*[0]\n",
    "    column = n*[0]\n",
    "    field = n*[0]\n",
    "    yc = n*[32]\n",
    "    xc = n*[32]\n",
    "    well = n*[0]\n",
    "    ids = all_ids[idx:idx + n]\n",
    "    idx += n\n",
    "    df = pd.DataFrame({'id':ids, 'fid':fid, 'file':file, 'mmfile':mmfile, 'plate':plate,\n",
    "                     'row':row, 'column':column, 'field':field,\n",
    "                      'yc':yc, 'xc':xc, 'well':well})\n",
    "\n",
    "    dataframes.append(df)\n",
    "    \n",
    "p_df = pd.concat(dataframes, ignore_index=True)"
   ]
  },
  {
   "cell_type": "code",
   "execution_count": null,
   "metadata": {
    "collapsed": true
   },
   "outputs": [],
   "source": []
  },
  {
   "cell_type": "code",
   "execution_count": null,
   "metadata": {
    "scrolled": true
   },
   "outputs": [],
   "source": [
    "\n",
    "p_mmdict = mmdict #{\"Fish6_15_cjw_64.tif.mm\": m3}\n",
    "#             \"plate04_all.mm\": m4}\n",
    "\n",
    "p_width = 64\n",
    "p_height = 64\n",
    "p_nchannels = 1\n",
    "p_channels = [0]\n",
    "p_nepochs = 60\n",
    "p_batchsize = 64\n",
    "p_learning_rate = 0.0002  #.00005\n",
    "p_restore = False\n",
    "p_latent_size = 32 #128 + 64\n",
    "p_droprate = 0.95\n",
    "p_stdev = .04\n",
    "\n",
    "enc_sizes = [(64, 3), (128, 3), (256, 3)]  #128, 3)]\n",
    "######enc_sizes = [(64, 3), (128, 3), (256,3), (512,3)] #, (64, 3), (128,3)] #, (32, 3), (64, 3)]\n",
    "#enc_sizes = [(16, 5), (32, 3), (64,3), (128,3)] #, (64, 3), (128,3)] #, (32, 3), (64, 3)]\n",
    "dec_sizes = list(reversed(enc_sizes))\n",
    "#dec_sizes.append((p_nchannels,7))\n",
    "\n",
    "params = dict()\n",
    "\n",
    "params['width'] = p_width\n",
    "params['height'] = p_height\n",
    "params['nchannels'] = p_nchannels\n",
    "params['channels'] = p_channels\n",
    "params['nepochs'] = p_nepochs\n",
    "params['batchsize'] = p_batchsize\n",
    "params['learning_rate'] = p_learning_rate\n",
    "params['restore'] = p_restore\n",
    "params['latent_size'] = p_latent_size\n",
    "params['droprate'] = p_droprate\n",
    "params['stdev'] = p_stdev\n",
    "\n",
    "params['enc_sizes'] = enc_sizes\n",
    "params['dec_sizes'] = dec_sizes\n",
    "\n",
    "cpdir = \"/home/cjw/disk2cjw/Data/cyto/Checkpoints/2018-04-12-Channel-2\"\n",
    "if not os.path.exists(cpdir):\n",
    "    os.makedirs(cpdir)\n",
    "autoencoder_train.train(p_mmdict, p_df, params, 500, cpdir)"
   ]
  },
  {
   "cell_type": "code",
   "execution_count": 7,
   "metadata": {},
   "outputs": [
    {
     "data": {
      "text/plain": [
       "4"
      ]
     },
     "execution_count": 7,
     "metadata": {},
     "output_type": "execute_result"
    }
   ],
   "source": [
    "x = 4\n",
    "x"
   ]
  },
  {
   "cell_type": "code",
   "execution_count": null,
   "metadata": {
    "collapsed": true
   },
   "outputs": [],
   "source": []
  }
 ],
 "metadata": {
  "kernelspec": {
   "display_name": "Python 3",
   "language": "python",
   "name": "python3"
  },
  "language_info": {
   "codemirror_mode": {
    "name": "ipython",
    "version": 3
   },
   "file_extension": ".py",
   "mimetype": "text/x-python",
   "name": "python",
   "nbconvert_exporter": "python",
   "pygments_lexer": "ipython3",
   "version": "3.6.4"
  }
 },
 "nbformat": 4,
 "nbformat_minor": 2
}
